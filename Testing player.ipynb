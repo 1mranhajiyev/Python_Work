{
 "cells": [
  {
   "cell_type": "code",
   "execution_count": 4,
   "id": "2677b827",
   "metadata": {},
   "outputs": [
    {
     "name": "stdout",
     "output_type": "stream",
     "text": [
      "Students quantity:1\n",
      "Enter student name : Alma\n",
      "Enter student surname : Armud\n",
      "Enter student score : 45\n",
      "{'Student_1': {'Name': 'Alma', 'Surname': 'Armud', 'Score': 45}}\n"
     ]
    }
   ],
   "source": [
    "students = {}\n",
    "n=int(input(\"Students quantity:\"))\n",
    "for i in range(n):\n",
    "    s = 'Student_' + str(i+1)\n",
    "    name = input('Enter student name : ')\n",
    "    surname = input('Enter student surname : ')\n",
    "    score = int(input('Enter student score : '))\n",
    "    students[s] = {'Name':name, 'Surname': surname,'Score': score}\n",
    "    with open(\"text.txt\",\"w\") as f:\n",
    "        content = str(students)[1:-1].replace(', ', '\\n')\n",
    "        f.write(f'Student_{1}\\n')\n",
    "        f.write(f'Name: {name}\\n')\n",
    "        f.write(f'Surname: {surname}\\n')\n",
    "        f.write(f'Score: {score}')\n",
    "print(students)\n",
    "\n",
    "\n",
    "    "
   ]
  },
  {
   "cell_type": "code",
   "execution_count": 20,
   "id": "00ec1096",
   "metadata": {},
   "outputs": [
    {
     "name": "stdout",
     "output_type": "stream",
     "text": [
      "23153616213632\n",
      "True\n"
     ]
    }
   ],
   "source": [
    "x=int(input())\n",
    "if str(x)[0] == str(x)[-1]:\n",
    "    print(True)\n",
    "else: print(False)"
   ]
  },
  {
   "cell_type": "code",
   "execution_count": 36,
   "id": "d9e3f4f6",
   "metadata": {},
   "outputs": [
    {
     "data": {
      "text/plain": [
       "str"
      ]
     },
     "execution_count": 36,
     "metadata": {},
     "output_type": "execute_result"
    }
   ],
   "source": [
    "type(\"asnns\"[::-1])"
   ]
  },
  {
   "cell_type": "code",
   "execution_count": null,
   "id": "5edb0ea2",
   "metadata": {},
   "outputs": [],
   "source": [
    "Coffee=input(\"What would you like?\")\n",
    "class Coffee_Machine:\n",
    "    def choose coffee(self):\n",
    "        coffee=input(\"What would you like? (espresso/latte/cappuccino/):\")\n",
    "        if coffe\n",
    "        \n",
    "    \n",
    "    "
   ]
  },
  {
   "cell_type": "code",
   "execution_count": 43,
   "id": "7b4dd739",
   "metadata": {},
   "outputs": [
    {
     "name": "stdout",
     "output_type": "stream",
     "text": [
      "I am a cube,my name is: hey my color is: Green\n"
     ]
    }
   ],
   "source": [
    "import random\n",
    "class Cube:\n",
    "    def __init__(self,name):\n",
    "        self.name=name\n",
    "        \n",
    "    def query(self):\n",
    "        return  f\"I am a cube,my name is: {self.name}\"\n",
    "    \n",
    "    def draft(self):\n",
    "        print('Draft')\n",
    "        \n",
    "        \n",
    "        \n",
    "class ColorCube(Cube):\n",
    "    def __init__(self,name):\n",
    "        self.color = random.choice(['Blue','Red','Green'])\n",
    "        super().__init__(name)\n",
    "        \n",
    "    def query(self):\n",
    "        return super().query() + (' my color is: '+ self.color)\n",
    "\n",
    "Head1=ColorCube(\"hey\")\n",
    "print(Head1.query())\n"
   ]
  },
  {
   "cell_type": "code",
   "execution_count": null,
   "id": "e98694dd",
   "metadata": {},
   "outputs": [],
   "source": []
  },
  {
   "cell_type": "code",
   "execution_count": null,
   "id": "44b536d9",
   "metadata": {},
   "outputs": [],
   "source": []
  }
 ],
 "metadata": {
  "kernelspec": {
   "display_name": "Python 3 (ipykernel)",
   "language": "python",
   "name": "python3"
  },
  "language_info": {
   "codemirror_mode": {
    "name": "ipython",
    "version": 3
   },
   "file_extension": ".py",
   "mimetype": "text/x-python",
   "name": "python",
   "nbconvert_exporter": "python",
   "pygments_lexer": "ipython3",
   "version": "3.9.12"
  }
 },
 "nbformat": 4,
 "nbformat_minor": 5
}
