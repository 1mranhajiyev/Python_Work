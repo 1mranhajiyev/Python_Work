{
 "cells": [
  {
   "cell_type": "markdown",
   "metadata": {
    "id": "i20cy-qUrBia"
   },
   "source": [
    "<h1>Regexes in Python and Their Uses</h1>\n",
    "\n",
    "Təsəvvür edin ki, bir stringin daxilində `123` olub olmadığını yoxlamaq istəyirsiniz. Bunu bir neçə üsulla yoxlamaq olar, məsələn `in` operatoru vasitəsi ilə:\n",
    "\n"
   ]
  },
  {
   "cell_type": "code",
   "execution_count": null,
   "metadata": {
    "colab": {
     "base_uri": "https://localhost:8080/"
    },
    "id": "6p4IFyYxrBib",
    "outputId": "a90d8319-eb4d-411d-90e7-cac31a55923c"
   },
   "outputs": [],
   "source": [
    "s = 'foo123bar'\n",
    "print('123' in s)"
   ]
  },
  {
   "cell_type": "markdown",
   "metadata": {
    "id": "sTbfbF9ErBic"
   },
   "source": [
    "Əgər təkcə var olub olmadığını yox, həm də harada olduğunu müəyyənləşdirmək istəyiriksə bunu `.find()` və ya `.index()` vasitəsi ilə edə bilərik."
   ]
  },
  {
   "cell_type": "code",
   "execution_count": 2,
   "metadata": {
    "colab": {
     "base_uri": "https://localhost:8080/"
    },
    "id": "bLOjdPlDrBid",
    "outputId": "adebd827-9871-4c75-bfac-56a42505fc8e"
   },
   "outputs": [
    {
     "name": "stdout",
     "output_type": "stream",
     "text": [
      "3\n",
      "3\n"
     ]
    }
   ],
   "source": [
    "s = 'foo123bar'\n",
    "print(s.find('123b'))\n",
    "print(s.index('123'))"
   ]
  },
  {
   "cell_type": "markdown",
   "metadata": {},
   "source": [
    "## String vs Raw-String"
   ]
  },
  {
   "cell_type": "markdown",
   "metadata": {},
   "source": [
    "Stringdən fərqli olaraq raw-string `\\` - backslashi simvol olaraq qəbul edir"
   ]
  },
  {
   "cell_type": "code",
   "execution_count": null,
   "metadata": {},
   "outputs": [],
   "source": [
    "s = 'Hi\\noHello' \n",
    "print(s)"
   ]
  },
  {
   "cell_type": "code",
   "execution_count": 5,
   "metadata": {},
   "outputs": [
    {
     "name": "stdout",
     "output_type": "stream",
     "text": [
      "Hi\boHello\n"
     ]
    }
   ],
   "source": [
    "s = 'Hi\\boHello' \n",
    "print(s)"
   ]
  },
  {
   "cell_type": "code",
   "execution_count": 4,
   "metadata": {},
   "outputs": [
    {
     "name": "stdout",
     "output_type": "stream",
     "text": [
      "Hi\\xHello\n"
     ]
    }
   ],
   "source": [
    "s = r'Hi\\xHello'\n",
    "print(s)"
   ]
  },
  {
   "cell_type": "markdown",
   "metadata": {
    "id": "KxUT2DjXrBie"
   },
   "source": [
    "<h1>The re Module</h1>\n",
    "\n",
    "RegEx və ya Regular Expression"
   ]
  },
  {
   "cell_type": "markdown",
   "metadata": {
    "id": "OdtIQ1eCrBid"
   },
   "source": [
    "Stringlər üzərində müqayisə simvol-simvol aparılır. Bəzən isə daha qarışıq və kompleks məsələlərdə biz çətinliklərlə üzləşə bilərik.\n",
    "\n",
    "Məsələn, bayaqkı nümunədə olduğu kimi tək `123` yox hər hansısa 3 rəqəmli ədədləri stringdən əldə etmək istədikdə 'foo123bar', 'foo456bar', '234baz', və 'qux678' bu cür yanaşma vaxt aparan və qəliz ola bilər"
   ]
  },
  {
   "cell_type": "markdown",
   "metadata": {
    "id": "5Bp_LhqqrBim"
   },
   "source": [
    "## Regular Expressions\n",
    "     - Regular expressions - uyğunluq qaydasını təyin edən nümunələrdir\n",
    "     - Mətn və xüsusi simvolların qarışığından ibarət ola bilər\n",
    "     - Patternin uyğunlaşdırılması və dəyişdirilməsini təmin edir\n",
    "     \n",
    "     **Regular expression pattern rules**\n",
    "        text    -Match literal text\n",
    "        .       -Match any character except newline\n",
    "        ^       -Match the start of a string(^ kerat-sign)\n",
    "        $       -Match the end of a string\n",
    "        *       -Match 0 or more repetitions\n",
    "        +       -Match 1 or more repetitions\n",
    "        ?       -Match 0 or 1 repetitions\n",
    "        *?      -Match 0 or more, few as possible\n",
    "        +?      -Match 1 or more, few as possible\n",
    "        {m,n}   -Match m to n repetitions\n",
    "        {m,n}?  -Match m to n repetitions, few as possible\n",
    "        [...]   -Match a set of characters(range or \"variance\",[A-Z])\n",
    "        [^...]  -Match characters not in set\n",
    "        A | B   -Match A or B( | bar)\n",
    "        (...)   -Match regex in parenthesis as a group\n",
    "      ## Special characters ## (Identifiers:)\n",
    "      \\number   -Matches text matched by previous group\n",
    "      \\A        -Matches start of string\n",
    "      \\b        -Matches empty string at beginning or end of word\n",
    "      \\B        -Matches empty string not at begin or end of word\n",
    "      \\d        -Matches any decimal digit\n",
    "      \\D        -Matches any non-digit\n",
    "      \\s        -Matches any whitespace\n",
    "      \\S        -Matches any non-whitespace\n",
    "      \\w        -Matches any alphanumeric character\n",
    "      \\W        -Matches characters not in \\w\n",
    "      \\Z        -Match at end of string.\n",
    "      \\\\        -Literal backslash\n",
    "      ## White Space characters: ##\n",
    "      \\n        -new line\n",
    "      \\s        -space\n",
    "      \\t        -tab\n",
    "      \\e        -escape\n",
    "      \\f        -form feed\n",
    "      \\r        -return\n",
    "      ## Regular Expressions Objects ##\n",
    "        re.search('patten','string')                 # Search for a match\n",
    "        re.match(s [,pos [,endpos]])                 # Check string for match\n",
    "        re.split(s)                                  # Split on a regex match\n",
    "        re.findall(s)                                # Find all matches\n",
    "        re.sub(repl,s)                               # Replace all matches with repl\n",
    "        \n",
    "## What we need\n",
    "- import re\n",
    "\n",
    "- re.findall( r' here match ', string)             # findall method take two arg(patten,string)"
   ]
  },
  {
   "cell_type": "code",
   "execution_count": 7,
   "metadata": {
    "id": "tHkrcMUMrBif"
   },
   "outputs": [],
   "source": [
    "import re "
   ]
  },
  {
   "cell_type": "markdown",
   "metadata": {
    "id": "xoshHpVNrBii"
   },
   "source": [
    "<h1>RegEx Functions</h1>"
   ]
  },
  {
   "cell_type": "markdown",
   "metadata": {
    "id": "rck5hO3YrBij"
   },
   "source": [
    "## findall\n",
    "\n",
    "Soldan sağa doğru axtarır və uyğun gələn bütün halları **list** - in daxilində qaytarır. Case sensitive-dir"
   ]
  },
  {
   "cell_type": "markdown",
   "metadata": {
    "id": "qUjhXg3NrBij"
   },
   "source": [
    "re.findall(regex, string) "
   ]
  },
  {
   "cell_type": "code",
   "execution_count": 8,
   "metadata": {
    "colab": {
     "base_uri": "https://localhost:8080/"
    },
    "id": "kYh1yqKOrBif",
    "outputId": "180ba5c0-0c17-4cba-8d52-d7c6db3af12d"
   },
   "outputs": [
    {
     "name": "stdout",
     "output_type": "stream",
     "text": [
      "['Bir', 'Bir']\n",
      "YES! We have a match!\n"
     ]
    }
   ],
   "source": [
    "txt = \"Bir Gecə, Bir Gündüz.\"\n",
    "x = re.findall(\"Bir\", txt)\n",
    "\n",
    "print(x)\n",
    "\n",
    "if x is not None:\n",
    "    print(\"YES! We have a match!\")\n",
    "else:\n",
    "    print(\"No match\")"
   ]
  },
  {
   "cell_type": "code",
   "execution_count": 9,
   "metadata": {
    "colab": {
     "base_uri": "https://localhost:8080/"
    },
    "id": "i1iisBm8rBik",
    "outputId": "86f718cc-5085-45fc-f1a6-782b03009b0b"
   },
   "outputs": [
    {
     "name": "stdout",
     "output_type": "stream",
     "text": [
      "['Ba']\n"
     ]
    }
   ],
   "source": [
    "# text-də mövcud olan pattern\n",
    "txt = \"Əli Hüseynoğlu bugün Bakıya gəlir, bax\"\n",
    "x = re.findall(\"Ba\", txt)\n",
    "print(x)"
   ]
  },
  {
   "cell_type": "code",
   "execution_count": 10,
   "metadata": {
    "colab": {
     "base_uri": "https://localhost:8080/"
    },
    "id": "H6RrGJrbrBik",
    "outputId": "f8a1d92e-a3cf-401f-d42c-c8b58b223725"
   },
   "outputs": [
    {
     "name": "stdout",
     "output_type": "stream",
     "text": [
      "[]\n"
     ]
    }
   ],
   "source": [
    "# text-də mövcud olmayan pattern\n",
    "txt = \"Əli Hüseynoğlu bugün Bakıya gəlir\"\n",
    "x = re.findall(\"Portugal\", txt)\n",
    "print(x)"
   ]
  },
  {
   "cell_type": "code",
   "execution_count": 16,
   "metadata": {
    "colab": {
     "base_uri": "https://localhost:8080/"
    },
    "id": "p1LDNGPxrBil",
    "outputId": "f19de22b-f74c-436e-a477-3e3a6dc3d017"
   },
   "outputs": [
    {
     "name": "stdout",
     "output_type": "stream",
     "text": [
      "['4', '7', '4', '8', '9']\n",
      "['4', '7', '4', '8', '9']\n"
     ]
    }
   ],
   "source": [
    "# \\d = [0-9]\n",
    "# {min, max} - özündən əvvəlki patternin neçə dəfə təkrarlana biləcəyini müəyyənləşdirir, min=0 - boşluqları da nəzərə alır\n",
    "string = 'Əli Hüseynoğlu bugün Bakıya 474 nömrəli avtobusla gəlir 89'\n",
    "work = re.findall('\\d{1}',string) \n",
    "print(work) \n",
    "\n",
    "work = re.findall('[0-9]{1}',string) \n",
    "print(work) "
   ]
  },
  {
   "cell_type": "code",
   "execution_count": 19,
   "metadata": {
    "colab": {
     "base_uri": "https://localhost:8080/"
    },
    "id": "QT6lRkQmze1d",
    "outputId": "26ad7636-8987-4ed5-fcaa-6351b11f46c5"
   },
   "outputs": [
    {
     "name": "stdout",
     "output_type": "stream",
     "text": [
      "['4747', '45', '2']\n"
     ]
    }
   ],
   "source": [
    "string = 'Əli Hüseynoğlu bugün Bakıya 4747 45 nömrəli avtobusla gəlir 2'\n",
    "work = re.findall('\\d{1,4}',string) \n",
    "print(work)"
   ]
  },
  {
   "cell_type": "code",
   "execution_count": 20,
   "metadata": {
    "colab": {
     "base_uri": "https://localhost:8080/"
    },
    "id": "bfvJZjFCzUTo",
    "outputId": "b9fba626-65e8-4c16-cefc-bb292da4dee9"
   },
   "outputs": [
    {
     "name": "stdout",
     "output_type": "stream",
     "text": [
      "['', 'li', '', '', '', 'seyno', '', 'lu', '', 'bug', '', 'n', '', '', 'ak', '', 'ya', '', '', '', '', '', '', '', '', '', 'n', '', 'mr', '', 'li', '', 'avtobusla', '', 'g', '', 'lir', '', 'dfghjkllkjhgfd', '']\n"
     ]
    }
   ],
   "source": [
    "# * - özündən əvvəlki patternin 0-dan sonsuzluğa qədər uzanan kombinasiyalarını müəyyənləşdirir\n",
    "string = 'Əli Hüseynoğlu bugün Bakıya 4747 45 nömrəli avtobusla gəlir dfghjkllkjhgfd'\n",
    "name = re.findall(r'[a-z]*',string) \n",
    "print(name)                      "
   ]
  },
  {
   "cell_type": "code",
   "execution_count": 23,
   "metadata": {
    "colab": {
     "base_uri": "https://localhost:8080/"
    },
    "id": "gTGVqofJzvIY",
    "outputId": "d2673da5-2dbd-4d4f-d769-cc3516428fb0"
   },
   "outputs": [
    {
     "name": "stdout",
     "output_type": "stream",
     "text": [
      "['Əli', '', 'Hüseynoğlu', '', 'bugün', '', 'Bakıya', '', '', '', '', 'nömrəli', '', 'avtobusla', '', 'gəlir', '']\n"
     ]
    }
   ],
   "source": [
    "string = \"Əli Hüseynoğlu bugün Bakıya 45 nömrəli avtobusla gəlir\"\n",
    "name = re.findall(r'[AaBbCcÇçDdEeƏəFfGgĞğHhXxIıİiJjKkQqLlMmNnOoÖöPpRrSsŞşTtUuÜüVvYyZz]*',string)\n",
    "print(name)"
   ]
  },
  {
   "cell_type": "code",
   "execution_count": 24,
   "metadata": {
    "colab": {
     "base_uri": "https://localhost:8080/"
    },
    "id": "6cHYPOwCrBil",
    "outputId": "4b07f21c-7f88-4edd-e764-2863c8aba009",
    "scrolled": true
   },
   "outputs": [
    {
     "data": {
      "text/plain": [
       "['Əli',\n",
       " 'Hüseynoğlu',\n",
       " 'bugün',\n",
       " 'Bakıya',\n",
       " '47',\n",
       " 'nömrəli',\n",
       " 'avtobusla',\n",
       " 'gəlir',\n",
       " 's9t',\n",
       " 's_t',\n",
       " '__']"
      ]
     },
     "execution_count": 24,
     "metadata": {},
     "output_type": "execute_result"
    }
   ],
   "source": [
    "# \\w - daxilində [a-zA-Z0-9_] olan istənilən simvol\n",
    "# + - özündən əvvəlki patternin 0-dan sonsuzluğa qədər uzunluqdakı kombinasiyası\n",
    "s = 'Əli Hüseynoğlu bugün Bakıya 47 nömrəli avtobusla gəlir s9t s_t __'\n",
    "re.findall('\\w+', s ) "
   ]
  },
  {
   "cell_type": "markdown",
   "metadata": {},
   "source": [
    "## compile"
   ]
  },
  {
   "cell_type": "code",
   "execution_count": 28,
   "metadata": {
    "colab": {
     "base_uri": "https://localhost:8080/"
    },
    "id": "LAw548ZBrBim",
    "outputId": "9004ab1e-2dab-438c-a3eb-51eff284faf7"
   },
   "outputs": [
    {
     "name": "stdout",
     "output_type": "stream",
     "text": [
      "['Salam', 'Necəsən', 's4']\n"
     ]
    }
   ],
   "source": [
    "# look for every word in a string\n",
    "# no need to analyze the pattern\n",
    "pattern = re.compile(\"\\w+\")\n",
    "result = pattern.findall(\"Salam, Necəsən s4\")\n",
    "print(result)"
   ]
  },
  {
   "cell_type": "code",
   "execution_count": 30,
   "metadata": {
    "colab": {
     "base_uri": "https://localhost:8080/"
    },
    "id": "4nTe_W1b_IGN",
    "outputId": "138faa5f-0d4a-4d79-d5ce-b94fc1271198"
   },
   "outputs": [
    {
     "name": "stdout",
     "output_type": "stream",
     "text": [
      "re.compile('[Salam]*Necəsən')\n",
      "['SalamSalamSalamNecəsən', 'SalamNecəsən', 'alamNecəsən', 'aNecəsən', 'SNecəsən']\n"
     ]
    }
   ],
   "source": [
    "# [abc] - mötərizənin daxilində olan istənilən simvol\n",
    "patt = re.compile(r\"[Salam]*Necəsən\")\n",
    "print(patt)\n",
    "res = patt.findall(\"SalamSalamSalamNecəsən SalamNecəsən Salam salamNecəsən aNecəsən SNecəsən SalamSalamnecəsən\")\n",
    "print (res)"
   ]
  },
  {
   "cell_type": "markdown",
   "metadata": {},
   "source": [
    "## finditer"
   ]
  },
  {
   "cell_type": "markdown",
   "metadata": {
    "id": "Blob4PTDrBin"
   },
   "source": [
    "re.finditer(regex, string, flags=0)\n",
    "\n",
    "Soldan sağa doğru axtarır və iterable bir object qaytarır"
   ]
  },
  {
   "cell_type": "code",
   "execution_count": null,
   "metadata": {
    "id": "P_BMY8dsrBin",
    "outputId": "b0716279-1888-4197-96f3-273fd271c8b4"
   },
   "outputs": [],
   "source": [
    "it = re.finditer(r'\\w+', '...foo,,,,bar:%$baz//|')\n",
    "print(it)\n",
    "print(next(it))\n",
    "print(next(it))\n",
    "print(next(it))"
   ]
  },
  {
   "cell_type": "code",
   "execution_count": null,
   "metadata": {
    "id": "zanIY592rBiq",
    "outputId": "31ac9361-dd72-4920-90f9-053713ea868a",
    "scrolled": true
   },
   "outputs": [],
   "source": [
    "for i in re.finditer(r'\\w+', '...foo,,,,bar:%$baz//|'):\n",
    "    print(i)"
   ]
  },
  {
   "cell_type": "markdown",
   "metadata": {},
   "source": [
    "## findall vs finditer"
   ]
  },
  {
   "cell_type": "markdown",
   "metadata": {
    "id": "Oihos8PSrBiq"
   },
   "source": [
    "re.findall() and re.finditer() are very similar, but they differ in two respects:\n",
    "\n",
    "- re.findall()  list qaytarır\n",
    "- re.finditer() iterator qaytarır\n",
    "\n",
    "\n",
    "- re.findall() uyğun gələnləri listin daxilində qaytarır\n",
    "- re.finditer() uyğun gələnlərin pozisiyalarını özündə saxlayan obyekt qaytarır"
   ]
  },
  {
   "cell_type": "markdown",
   "metadata": {},
   "source": [
    "## search"
   ]
  },
  {
   "cell_type": "markdown",
   "metadata": {
    "id": "GtYN00PBrBiq"
   },
   "source": [
    "re.search(regex, string)\n",
    "\n",
    "Stringi yoxlayır və ilk uyğun gələnin pozisiyasını obyektin daxilində qaytarır, əks halda None verir."
   ]
  },
  {
   "cell_type": "markdown",
   "metadata": {
    "id": "CaeF9Xc9rBir"
   },
   "source": [
    "The search() function searches the string for a match, and returns a Match object if there is a match.\n",
    "\n",
    "If there is more than one match, only the first occurrence of the match will be returned:"
   ]
  },
  {
   "cell_type": "code",
   "execution_count": 31,
   "metadata": {
    "colab": {
     "base_uri": "https://localhost:8080/"
    },
    "id": "kFqqHrHJrBir",
    "outputId": "a09aa878-bc3e-4d17-c13f-a5fefa642ca7"
   },
   "outputs": [
    {
     "name": "stdout",
     "output_type": "stream",
     "text": [
      "<re.Match object; span=(2, 3), match=' '>\n",
      "The first white-space character is located in position: 2\n"
     ]
    }
   ],
   "source": [
    "# \\s - boşluqları müəyyən edir\n",
    "\n",
    "txt = \"Bu gün hava istidir\"\n",
    "x = re.search(\"\\s\", txt)\n",
    "print(x)\n",
    "print(\"The first white-space character is located in position:\", x.start())"
   ]
  },
  {
   "cell_type": "code",
   "execution_count": 32,
   "metadata": {
    "colab": {
     "base_uri": "https://localhost:8080/"
    },
    "id": "tvNrUHmkrBir",
    "outputId": "c51c70bc-1974-4ba9-939c-c10cdbfa3141"
   },
   "outputs": [
    {
     "name": "stdout",
     "output_type": "stream",
     "text": [
      " \n"
     ]
    }
   ],
   "source": [
    "print(txt[2:3])"
   ]
  },
  {
   "cell_type": "code",
   "execution_count": 33,
   "metadata": {
    "colab": {
     "base_uri": "https://localhost:8080/"
    },
    "id": "qxdiEFmLBZq0",
    "outputId": "12487eca-db47-4b30-c72f-f988973dbf4e"
   },
   "outputs": [
    {
     "name": "stdout",
     "output_type": "stream",
     "text": [
      "2 3\n"
     ]
    }
   ],
   "source": [
    "print(x.start(),x.end())"
   ]
  },
  {
   "cell_type": "code",
   "execution_count": 34,
   "metadata": {
    "colab": {
     "base_uri": "https://localhost:8080/"
    },
    "id": "Rxfqys97BRX2",
    "outputId": "0acdff36-5d39-42bd-970a-69ac220df207"
   },
   "outputs": [
    {
     "name": "stdout",
     "output_type": "stream",
     "text": [
      " \n"
     ]
    }
   ],
   "source": [
    "print(txt[x.start():x.end()])"
   ]
  },
  {
   "cell_type": "code",
   "execution_count": 35,
   "metadata": {
    "colab": {
     "base_uri": "https://localhost:8080/"
    },
    "id": "7VbCODmjBlYO",
    "outputId": "2670f77e-8f88-4bc9-e52c-2155b0353cad"
   },
   "outputs": [
    {
     "name": "stdout",
     "output_type": "stream",
     "text": [
      "<re.Match object; span=(2, 3), match=' '>\n",
      "\\s\n",
      "Bu gün hava istidir\n",
      "(2, 3)\n",
      "2\n",
      "3\n"
     ]
    }
   ],
   "source": [
    "print(x)\n",
    "print(x.re.pattern)\n",
    "print(x.string)\n",
    "print(x.span())\n",
    "print(x.start())\n",
    "print(x.end())"
   ]
  },
  {
   "cell_type": "code",
   "execution_count": null,
   "metadata": {
    "colab": {
     "base_uri": "https://localhost:8080/"
    },
    "id": "tVOzGIPmrBis",
    "outputId": "1f007351-536c-471c-f378-e5b4898dc3b7"
   },
   "outputs": [],
   "source": [
    "txt = \"Bu gün hava istidir\"\n",
    "x = re.search(\"soyuq\", txt)\n",
    "print(x)"
   ]
  },
  {
   "cell_type": "markdown",
   "metadata": {
    "id": "qycJJ32brBis"
   },
   "source": [
    "Qaytarılan obyekt - True olaraq müəyyənləşdirildiyi üçün, siz onu şərti ifadə də istifadə edə bilərsiniz"
   ]
  },
  {
   "cell_type": "code",
   "execution_count": 36,
   "metadata": {
    "colab": {
     "base_uri": "https://localhost:8080/"
    },
    "id": "COCCWPwSrBis",
    "outputId": "95c54b11-9dc3-43c7-8c60-9786d9bb2dec"
   },
   "outputs": [
    {
     "name": "stdout",
     "output_type": "stream",
     "text": [
      "No match.\n"
     ]
    }
   ],
   "source": [
    "if re.search('123', txt):\n",
    "    print('Found a match.')\n",
    "else:\n",
    "    print('No match.')"
   ]
  },
  {
   "cell_type": "markdown",
   "metadata": {
    "id": "2vLnuvuqrBit"
   },
   "source": [
    "## Metacharacters\n",
    "\n",
    "Hansı simvolları axtardığımızı müəyyən edir"
   ]
  },
  {
   "cell_type": "markdown",
   "metadata": {
    "id": "9gpiHNvsrBi6"
   },
   "source": [
    "## \\ - backslash\n",
    "\n",
    "Xüsusi simvolu adi somvola çevirir"
   ]
  },
  {
   "cell_type": "code",
   "execution_count": 42,
   "metadata": {
    "colab": {
     "base_uri": "https://localhost:8080/"
    },
    "id": "Jn74vllmrBi6",
    "outputId": "6380a9f5-a846-4c20-9b8f-9084442c99a6"
   },
   "outputs": [
    {
     "name": "stdout",
     "output_type": "stream",
     "text": [
      "['f', 'o', 'o', '.', 'b', 'a', 'r']\n",
      "['.']\n",
      "['foo.bar', '']\n"
     ]
    }
   ],
   "source": [
    "print(re.findall('.', 'foo.bar'))\n",
    "print(re.findall('\\.', 'foo.bar'))\n",
    "# equivalent\n",
    "print(re.findall(r'.', 'foo.bar'))"
   ]
  },
  {
   "cell_type": "code",
   "execution_count": null,
   "metadata": {
    "colab": {
     "base_uri": "https://localhost:8080/"
    },
    "id": "nVjCsvoBrBit",
    "outputId": "cb1783fb-0362-4647-e592-1c738ca9ceb4"
   },
   "outputs": [],
   "source": [
    "s = 'Bu gün hava 23 ya 234 derecedi :D'\n",
    "search = re.search('[0-9][0-9][0-9]', s)\n",
    "\n",
    "print(search)"
   ]
  },
  {
   "cell_type": "markdown",
   "metadata": {
    "id": "otKl1pWnrBiv"
   },
   "source": [
    "## []\n",
    "\n",
    "Mötərizə daxilində müəyyən edilmiş istənilən simvolu əldə etmək üçün istifadə olunur.\n",
    "\n",
    "- [abc] - a, b, və ya c hərflərindən hər hansısa biri\n",
    "- [^abc] -a, b, c - dən başqa hər hansısa simvol\n",
    "- [a-z] - a-dan z-yə bütün hərflər\n",
    "- [^a-z] - a-dan z-yə olmayan bütün simvollar\n",
    "- [A-Z]\n",
    "- [^A-Z]\n",
    "- [a-zA-Z] - həm a-dan z-yə, həm də A-dan Z-yə\n",
    "- [0-9] - 0-dan 9-a qədər bütün rəqəmlər\n",
    "- [_0-9] - yalnız altda xətt və ya 0-dan 9-a qədər bütün rəqəmlər\n",
    "- [][][] və s. - spesifik kombinasiyanı müəyyənləşdirir"
   ]
  },
  {
   "cell_type": "code",
   "execution_count": 43,
   "metadata": {
    "colab": {
     "base_uri": "https://localhost:8080/"
    },
    "id": "SdkokGtQrBiu",
    "outputId": "2ab9db7e-8235-45a0-841b-563b7c27bf87"
   },
   "outputs": [
    {
     "name": "stdout",
     "output_type": "stream",
     "text": [
      "['678']\n",
      "['456']\n",
      "['1', '2', '3', '4']\n"
     ]
    }
   ],
   "source": [
    "print(re.findall('[0-9][0-9][0-9]', 'qux678'))\n",
    "print(re.findall('[0-9][0-9][0-9]', 'foo456bar'))\n",
    "print(re.findall('[0-9][0-9]','12foo34'))"
   ]
  },
  {
   "cell_type": "code",
   "execution_count": 44,
   "metadata": {
    "colab": {
     "base_uri": "https://localhost:8080/"
    },
    "id": "ba454pShrBiw",
    "outputId": "e4451f01-3502-4f2f-b635-f78163c3754d",
    "scrolled": true
   },
   "outputs": [
    {
     "name": "stdout",
     "output_type": "stream",
     "text": [
      "['Cavad']\n",
      "['Cavab']\n",
      "[]\n"
     ]
    }
   ],
   "source": [
    "print(re.findall('Cava[db]', 'Cavad'))\n",
    "print(re.findall('Cava[db]', 'Cavab'))\n",
    "print(re.findall('Cava[db]', 'Cavaz'))"
   ]
  },
  {
   "cell_type": "code",
   "execution_count": null,
   "metadata": {
    "colab": {
     "base_uri": "https://localhost:8080/"
    },
    "id": "avXG6AzArBiy",
    "outputId": "256e7189-ae79-429d-8643-77b9589009b2"
   },
   "outputs": [],
   "source": [
    "print(re.findall('[a-z]', 'CAVad'))"
   ]
  },
  {
   "cell_type": "code",
   "execution_count": null,
   "metadata": {
    "colab": {
     "base_uri": "https://localhost:8080/"
    },
    "id": "uzijrHVrrBi0",
    "outputId": "cbfb01d3-1785-402f-bd2f-567461a18867",
    "scrolled": true
   },
   "outputs": [],
   "source": [
    "print(re.findall('[0-9][0-9]', 'Cavad17il'))"
   ]
  },
  {
   "cell_type": "code",
   "execution_count": 45,
   "metadata": {
    "colab": {
     "base_uri": "https://localhost:8080/"
    },
    "id": "8QM5MnRmrBi0",
    "outputId": "6fc2213c-2202-4c54-e633-7c7ead66d41e",
    "scrolled": true
   },
   "outputs": [
    {
     "name": "stdout",
     "output_type": "stream",
     "text": [
      "['C', 'a', 'v', 'a', 'd', 'i', 'l']\n"
     ]
    }
   ],
   "source": [
    "print(re.findall('[^0-9]', 'Cavad17il'))"
   ]
  },
  {
   "cell_type": "markdown",
   "metadata": {},
   "source": [
    "## . - dot\n",
    "\n",
    "Yeni sətr simvolundan başqa istənilən simvol. Nöqtələrin sayı simvolların sayını müəyyənləşdirir"
   ]
  },
  {
   "cell_type": "code",
   "execution_count": 49,
   "metadata": {
    "colab": {
     "base_uri": "https://localhost:8080/"
    },
    "id": "w-6MZoMcrBiu",
    "outputId": "0cc865fe-c606-4d3a-a818-f6ba63a3f748"
   },
   "outputs": [
    {
     "name": "stdout",
     "output_type": "stream",
     "text": [
      "['193']\n",
      "[]\n"
     ]
    }
   ],
   "source": [
    "print(re.findall('1.3', 'foo193bar')) \n",
    "print(re.findall('1.3', 'foo13bar'))\n",
    "\n",
    "# print(re.findall('foo.bar', 'foobar'))\n",
    "# print(re.findall('foo.bar', 'foo\\tbar'))\n",
    "# print(re.findall('foo.bar', 'foo\\nbar'))"
   ]
  },
  {
   "cell_type": "markdown",
   "metadata": {
    "id": "JppB-Qq_rBi1"
   },
   "source": [
    "## \\w\n",
    "\n",
    "Kiçikdən-böyüyə bütün hərfləri, 0-dan 9-a bütün ədədləri və _ ifadə edir. [a-zA-Z0-9_] yazılışının qısa versiyasıdır"
   ]
  },
  {
   "cell_type": "code",
   "execution_count": 50,
   "metadata": {
    "id": "KR4PjgxprBi1",
    "outputId": "8b324ceb-30c5-4629-ec5e-1da1a805eda2"
   },
   "outputs": [
    {
     "name": "stdout",
     "output_type": "stream",
     "text": [
      "['0', 'a', '_', 'X']\n"
     ]
    }
   ],
   "source": [
    "print(re.findall('\\w', '#(0.a$@&_%X'))"
   ]
  },
  {
   "cell_type": "code",
   "execution_count": 51,
   "metadata": {
    "id": "rbLqX-D4rBi2",
    "outputId": "3f7dec05-91ca-4423-c067-c0ae6ab54d45"
   },
   "outputs": [
    {
     "name": "stdout",
     "output_type": "stream",
     "text": [
      "['a']\n"
     ]
    }
   ],
   "source": [
    "print(re.findall('[a-zA-Z0-9_]', '#(.a$@&'))"
   ]
  },
  {
   "cell_type": "markdown",
   "metadata": {
    "id": "YrjqIKGhrBi2"
   },
   "source": [
    "## \\W \n",
    "\n",
    "\\w - əksidir. Bu da o deməkdir ki, [^a-zA-Z0-9_] yazılışına ekvivalentdir"
   ]
  },
  {
   "cell_type": "code",
   "execution_count": null,
   "metadata": {
    "id": "aHTwOQhArBi2",
    "outputId": "9d1f7bc2-9899-49f9-d7ba-00f3cc50ee51"
   },
   "outputs": [],
   "source": [
    "print(re.findall('\\W', 'a_1*3Qb'))"
   ]
  },
  {
   "cell_type": "code",
   "execution_count": null,
   "metadata": {
    "id": "BCHjtIltrBi2",
    "outputId": "da508299-da25-4698-a52c-bcdd5cee526b"
   },
   "outputs": [],
   "source": [
    "print(re.findall('[^a-zA-Z0-9_]', 'a_1*3Qb'))"
   ]
  },
  {
   "cell_type": "markdown",
   "metadata": {
    "id": "RvjP7UeTrBi3"
   },
   "source": [
    "## \\d\n",
    "\n",
    "0-dan 9-a rəqəmləri ifadə edir, yəni [0-9] - a ekvivalentdir"
   ]
  },
  {
   "cell_type": "code",
   "execution_count": 52,
   "metadata": {
    "id": "TFSPrm4rrBi3",
    "outputId": "8b6d8098-3f41-418f-8bfd-f1ee07fd54fc",
    "scrolled": true
   },
   "outputs": [
    {
     "name": "stdout",
     "output_type": "stream",
     "text": [
      "['4', '6', '7', '8']\n"
     ]
    }
   ],
   "source": [
    "print(re.findall('\\d', 'abc4def678'))"
   ]
  },
  {
   "cell_type": "markdown",
   "metadata": {
    "id": "-702WyhHrBi3"
   },
   "source": [
    "## \\D\n",
    "\\d - nin əksidir, yəni [^0-9] - a ekvivalentdir "
   ]
  },
  {
   "cell_type": "code",
   "execution_count": null,
   "metadata": {
    "id": "Us8afNjYrBi3",
    "outputId": "776b2795-87fa-4bc7-e122-d9c3e03794d6"
   },
   "outputs": [],
   "source": [
    "print(re.findall('\\D', '234Q678x%\\n'))"
   ]
  },
  {
   "cell_type": "markdown",
   "metadata": {
    "id": "sRZr8Y1IrBi4"
   },
   "source": [
    "## \\s \n",
    "\n",
    "Boşluq işarəsini müəyyən edir"
   ]
  },
  {
   "cell_type": "code",
   "execution_count": 53,
   "metadata": {
    "colab": {
     "base_uri": "https://localhost:8080/"
    },
    "id": "QjXBTeEVrBi4",
    "outputId": "079d82af-858f-43d1-ace1-ee8ba38d27f8"
   },
   "outputs": [
    {
     "name": "stdout",
     "output_type": "stream",
     "text": [
      "[' ', ' ']\n"
     ]
    }
   ],
   "source": [
    "print(re.findall('\\s', 'Cavad Muho Ela'))"
   ]
  },
  {
   "cell_type": "markdown",
   "metadata": {
    "id": "U7PkeQfErBi5"
   },
   "source": [
    "## \\S \n",
    "\n",
    "Boşluqdan başqa bütün simvolları ifadə edir"
   ]
  },
  {
   "cell_type": "code",
   "execution_count": 55,
   "metadata": {
    "colab": {
     "base_uri": "https://localhost:8080/"
    },
    "id": "KVmeZFpLrBi6",
    "outputId": "897a39ce-209c-4aa8-b71c-b70463550bf1"
   },
   "outputs": [
    {
     "name": "stdout",
     "output_type": "stream",
     "text": [
      "['foo', ';.n', 'X9']\n"
     ]
    }
   ],
   "source": [
    "print(re.findall('\\S+', '   foo    ;.n X9'))\n"
   ]
  },
  {
   "cell_type": "markdown",
   "metadata": {
    "id": "e8Wuj7f3rBi6"
   },
   "source": [
    "\\w, \\W, \\d, \\D, \\s, və \\S kvadrat mötərizəsi daxilində yaza bilərsiniz"
   ]
  },
  {
   "cell_type": "code",
   "execution_count": 66,
   "metadata": {
    "colab": {
     "base_uri": "https://localhost:8080/"
    },
    "id": "TBXZxINfrBi6",
    "outputId": "6cc17e2b-3117-4fb2-907b-3b16c6178517"
   },
   "outputs": [
    {
     "ename": "TypeError",
     "evalue": "int() argument must be a string, a bytes-like object or a number, not 'list'",
     "output_type": "error",
     "traceback": [
      "\u001b[1;31m---------------------------------------------------------------------------\u001b[0m",
      "\u001b[1;31mTypeError\u001b[0m                                 Traceback (most recent call last)",
      "\u001b[1;32m~\\AppData\\Local\\Temp\\ipykernel_6416\\4275594290.py\u001b[0m in \u001b[0;36m<module>\u001b[1;34m\u001b[0m\n\u001b[0;32m      1\u001b[0m \u001b[0ma\u001b[0m\u001b[1;33m=\u001b[0m\u001b[0mre\u001b[0m\u001b[1;33m.\u001b[0m\u001b[0mfindall\u001b[0m\u001b[1;33m(\u001b[0m\u001b[1;34m'[\\d\\w\\s]'\u001b[0m\u001b[1;33m,\u001b[0m \u001b[1;34m'---3---'\u001b[0m\u001b[1;33m)\u001b[0m\u001b[1;33m\u001b[0m\u001b[1;33m\u001b[0m\u001b[0m\n\u001b[1;32m----> 2\u001b[1;33m \u001b[0mprint\u001b[0m\u001b[1;33m(\u001b[0m\u001b[0mint\u001b[0m\u001b[1;33m(\u001b[0m\u001b[0ma\u001b[0m\u001b[1;33m)\u001b[0m\u001b[1;33m)\u001b[0m\u001b[1;33m\u001b[0m\u001b[1;33m\u001b[0m\u001b[0m\n\u001b[0m\u001b[0;32m      3\u001b[0m \u001b[1;31m# print(re.search('[\\d\\w\\s]', ' --a  --'))\u001b[0m\u001b[1;33m\u001b[0m\u001b[1;33m\u001b[0m\u001b[0m\n\u001b[0;32m      4\u001b[0m \u001b[1;31m# print(re.search('[\\d\\w\\s]', '--- ---'))\u001b[0m\u001b[1;33m\u001b[0m\u001b[1;33m\u001b[0m\u001b[0m\n",
      "\u001b[1;31mTypeError\u001b[0m: int() argument must be a string, a bytes-like object or a number, not 'list'"
     ]
    }
   ],
   "source": [
    "a=re.findall('[\\d\\w\\s]', '---3---')\n",
    "print(int(a))\n",
    "# print(re.search('[\\d\\w\\s]', ' --a  --'))\n",
    "# print(re.search('[\\d\\w\\s]', '--- ---'))"
   ]
  },
  {
   "cell_type": "markdown",
   "metadata": {
    "id": "AMX3pY-_rBi7"
   },
   "source": [
    "<h1>Anchors</h1>\n",
    "\n",
    "Uyğunluğun baş verməli olduğu xüsusi yeri diktə edir"
   ]
  },
  {
   "cell_type": "markdown",
   "metadata": {
    "id": "SQXsy0fsrBi8"
   },
   "source": [
    "## ^ və ya \\A\n",
    "\n",
    "^ və ya \\A axtarılan istənilən simvolun(söz), verilmiş mətnin əvvəlində gəlməsini müəyyən edir.\n",
    "\n",
    "Məsələn, ^foo o deməkdir ki, veriləcək hər hansı textin içərisində foo əvvəldə gəlməlidir"
   ]
  },
  {
   "cell_type": "code",
   "execution_count": 73,
   "metadata": {
    "id": "6-vYQSjlrBi8",
    "outputId": "11e28a8b-2556-4792-da37-504246aa8e06"
   },
   "outputs": [
    {
     "name": "stdout",
     "output_type": "stream",
     "text": [
      "[]\n",
      "None\n"
     ]
    }
   ],
   "source": [
    "print(re.findall('\\foo', 'foobar')) \n",
    "print(re.search('^foo', 'barfoo'))"
   ]
  },
  {
   "cell_type": "code",
   "execution_count": null,
   "metadata": {
    "id": "0NnGLZ3VrBi8",
    "outputId": "ced3a198-9315-463c-c2f2-97073828fed0"
   },
   "outputs": [],
   "source": [
    "print(re.search('\\Afoo', 'foobar'))\n",
    "print(re.search('\\Afoo', 'barfoo'))"
   ]
  },
  {
   "cell_type": "markdown",
   "metadata": {
    "id": "YQNYOfkdrBi8"
   },
   "source": [
    "## $ or \\Z\n",
    "\n",
    "$ or \\Z axtarılan istənilən simvolun(söz), verilmiş mətnin sonunda gəlməsini müəyyən edir"
   ]
  },
  {
   "cell_type": "code",
   "execution_count": null,
   "metadata": {
    "id": "Y3BAdDiYrBi9",
    "outputId": "31847023-a10a-44ba-a5ea-2ae3f215ecd9"
   },
   "outputs": [],
   "source": [
    "print(re.search('bar$', 'foobar'))\n",
    "print(re.search('bar$', 'barfoo'))\n",
    "print(re.search('bar\\Z', 'foobar'))\n",
    "print(re.search('bar\\Z', 'barfoo'))"
   ]
  },
  {
   "cell_type": "markdown",
   "metadata": {
    "id": "G05UESQTrBi-"
   },
   "source": [
    "<h1>Quantifiers</h1>\n",
    "\n",
    "Metacharacter - lərdən sonra istifadə olunur və verilən patternin neçə dəfə təkrarlayacağını müəyyən edir"
   ]
  },
  {
   "cell_type": "markdown",
   "metadata": {},
   "source": [
    "## *\n",
    "\n",
    "0-dan sonsuzluğa qədər təkrarlanmanı müəyyənləşdirir. 0 - boşluq deməkdir.\n",
    "\n",
    "Məsələn, a* = 'a'-nın heç olmaması, boşluq, 'a', 'aa', 'aaa', və s."
   ]
  },
  {
   "cell_type": "code",
   "execution_count": 79,
   "metadata": {
    "id": "kXnBAiUWrBi-",
    "outputId": "c8e4966f-0d76-4592-fb62-e9ed87432b19"
   },
   "outputs": [
    {
     "name": "stdout",
     "output_type": "stream",
     "text": [
      "['foobar']\n",
      "['foo-bar']\n",
      "['foo--.bar']\n",
      "['foo-------------bar']\n"
     ]
    }
   ],
   "source": [
    "print(re.findall('foo-*bar', 'foobar hey'))\n",
    "print(re.findall('foo-*bar', 'foo-barhey'))\n",
    "print(re.findall('foo-*bar', 'foo--bar hey'))\n",
    "print(re.findall('foo-*bar', 'foo-------------bar'))"
   ]
  },
  {
   "cell_type": "code",
   "execution_count": null,
   "metadata": {
    "id": "B1Jhgoc_rBi_",
    "outputId": "9134e0a3-cea1-4fdb-b396-3f3abf20dcdc"
   },
   "outputs": [],
   "source": [
    "print(re.findall('foo.*bar', '# foo $qux@grault % bar # heyyo'))"
   ]
  },
  {
   "cell_type": "markdown",
   "metadata": {
    "id": "CHYekbbLrBi_"
   },
   "source": [
    "## +\n",
    "\n",
    "1 və ya daha çox sayda təkrarlanmanı müəyyən edir. * -dan fərqi verilən patternin ən az 1 dəfə olmalı olduğudur"
   ]
  },
  {
   "cell_type": "code",
   "execution_count": 80,
   "metadata": {
    "id": "sST0piyfrBi_",
    "outputId": "58acdd2e-6928-408f-9b79-aea5aae06eda"
   },
   "outputs": [
    {
     "name": "stdout",
     "output_type": "stream",
     "text": [
      "[]\n",
      "['foo-bar']\n",
      "['foo--bar']\n"
     ]
    }
   ],
   "source": [
    "print(re.findall('foo-+bar', 'foobar'))\n",
    "print(re.findall('foo-+bar', 'foo-bar'))\n",
    "print(re.findall('foo-+bar', 'foo--bar'))"
   ]
  },
  {
   "cell_type": "markdown",
   "metadata": {
    "id": "-inK0OpKrBjA"
   },
   "source": [
    "## ?\n",
    "\n",
    "0 və ya 1 təkrarlanmanı müəyyən edir"
   ]
  },
  {
   "cell_type": "code",
   "execution_count": 81,
   "metadata": {
    "id": "fr8sfN4JrBjA",
    "outputId": "3ee7d3bf-e17b-4b6b-9930-5f2dbb2c1583"
   },
   "outputs": [
    {
     "name": "stdout",
     "output_type": "stream",
     "text": [
      "['foobar']\n",
      "['foo-bar']\n",
      "[]\n"
     ]
    }
   ],
   "source": [
    "print(re.findall('foo-?bar', 'foobar xyx'))\n",
    "print(re.findall('foo-?bar', 'foo-bar xyz'))\n",
    "print(re.findall('foo-?bar', 'foo--bar'))"
   ]
  },
  {
   "cell_type": "markdown",
   "metadata": {
    "id": "qFPqyOp3rBjA"
   },
   "source": [
    "_Nümunələr:_"
   ]
  },
  {
   "cell_type": "code",
   "execution_count": 82,
   "metadata": {
    "id": "jNWUTuyLrBjA",
    "outputId": "d5174054-703f-4bc1-bd01-6313c4f4776b"
   },
   "outputs": [
    {
     "name": "stdout",
     "output_type": "stream",
     "text": [
      "['foobar']\n",
      "['foo42bar']\n",
      "[]\n",
      "['foo42bar']\n",
      "['foobar']\n",
      "[]\n"
     ]
    }
   ],
   "source": [
    "print(re.findall('foo[1-9]*bar', 'foobar'))\n",
    "print(re.findall('foo[1-9]*bar', 'foo42bar'))\n",
    "print(re.findall('foo[1-9]+bar', 'foobar'))\n",
    "print(re.findall('foo[1-9]+bar', 'foo42bar'))\n",
    "print(re.findall('foo[1-9]?bar', 'foobar'))\n",
    "print(re.findall('foo[1-9]?bar', 'foo42bar'))"
   ]
  },
  {
   "cell_type": "markdown",
   "metadata": {
    "id": "O02x5_otrBjH"
   },
   "source": [
    "## split "
   ]
  },
  {
   "cell_type": "markdown",
   "metadata": {
    "id": "znEvm3r9rBjH"
   },
   "source": [
    "re.split(regex, string) splits string into substrings using regex as the delimiter and returns the substrings as a list.\n",
    "\n",
    "The following example splits the specified string into substrings delimited by a comma (,), semicolon (;), or slash (/) character, surrounded by any amount of whitespace:"
   ]
  },
  {
   "cell_type": "code",
   "execution_count": 83,
   "metadata": {
    "id": "qJS-RicHrBjI",
    "outputId": "1b43eb32-b3f2-4ce7-ab39-daefb96a3847",
    "scrolled": true
   },
   "outputs": [
    {
     "name": "stdout",
     "output_type": "stream",
     "text": [
      "['foo', 'bar', 'baz', 'qux']\n"
     ]
    }
   ],
   "source": [
    "print(re.split('\\s*[,;/]\\s*', 'foo,bar  ;  baz / qux'))"
   ]
  },
  {
   "cell_type": "code",
   "execution_count": null,
   "metadata": {},
   "outputs": [],
   "source": [
    "print(re.split('[a-z]+', 'foo,bar  ;  baz / qux'))"
   ]
  },
  {
   "cell_type": "code",
   "execution_count": null,
   "metadata": {
    "id": "k5QjS3YGrBjI",
    "outputId": "b9f44446-ca2f-4e3e-ea83-1bc75ee1f42e"
   },
   "outputs": [],
   "source": [
    "txt = \"The rain in Spain\"\n",
    "x = re.split(\"\\s\", txt)\n",
    "print(x)"
   ]
  },
  {
   "cell_type": "code",
   "execution_count": null,
   "metadata": {
    "colab": {
     "base_uri": "https://localhost:8080/"
    },
    "id": "2HvkX1mQrBjI",
    "outputId": "80a2676f-abcf-4268-c6f1-a74bdadc4582"
   },
   "outputs": [],
   "source": [
    "# You can control the number of occurrences by specifying the maxsplit parameter:\n",
    "\n",
    "# Split the string only at the first occurrence:\n",
    "\n",
    "txt = \"The rain in Spain\"\n",
    "x = re.split(\"\\s\", txt, 1)\n",
    "print(x)"
   ]
  },
  {
   "cell_type": "markdown",
   "metadata": {
    "id": "gXVkdC_LrBjJ"
   },
   "source": [
    "## sub \n",
    "Replaces one or many matches with a string"
   ]
  },
  {
   "cell_type": "markdown",
   "metadata": {
    "id": "F0rOU7aPrBjK"
   },
   "source": [
    "re.sub(regex, repl, string) replaces each match as indicated by repl, and returns the result. String remains unchanged.\n",
    "\n",
    "repl can be either a string or a function, as explained below."
   ]
  },
  {
   "cell_type": "code",
   "execution_count": 87,
   "metadata": {
    "colab": {
     "base_uri": "https://localhost:8080/"
    },
    "id": "j-SMlbYarBjK",
    "outputId": "214bcdb1-7e30-4448-8903-e88f4f2c0627"
   },
   "outputs": [
    {
     "name": "stdout",
     "output_type": "stream",
     "text": [
      "(*).#.(*).#.(*)\n"
     ]
    }
   ],
   "source": [
    "s = 'foo.123.bar.789.baz'\n",
    "s=re.sub(r'\\d+', '#', s)\n",
    "print(re.sub('[a-z]+', '(*)', s))"
   ]
  },
  {
   "cell_type": "code",
   "execution_count": 88,
   "metadata": {
    "colab": {
     "base_uri": "https://localhost:8080/"
    },
    "id": "w4sa8FSDrBjK",
    "outputId": "554332bc-d99b-4ded-f100-f575c0388dfc"
   },
   "outputs": [
    {
     "name": "stdout",
     "output_type": "stream",
     "text": [
      "The9rain9in9Spain\n"
     ]
    }
   ],
   "source": [
    "txt = \"The rain in Spain\"\n",
    "x = re.sub(\"\\s\", \"9\", txt)\n",
    "print(x)"
   ]
  },
  {
   "cell_type": "code",
   "execution_count": 89,
   "metadata": {
    "colab": {
     "base_uri": "https://localhost:8080/"
    },
    "id": "vyzTDNgBrBjK",
    "outputId": "8e1dae98-52d4-49f0-d19a-dab033d5cbf0"
   },
   "outputs": [
    {
     "name": "stdout",
     "output_type": "stream",
     "text": [
      "The9rain9in Spain\n"
     ]
    }
   ],
   "source": [
    "# Replace the first 2 occurrences:\n",
    "\n",
    "txt = \"The rain in Spain\"\n",
    "x = re.sub(\"\\s\", \"9\", txt, 2)\n",
    "print(x)"
   ]
  },
  {
   "cell_type": "markdown",
   "metadata": {
    "id": "XdWgqkFgrBjL"
   },
   "source": [
    "## Match Object"
   ]
  },
  {
   "cell_type": "markdown",
   "metadata": {
    "id": "EAFzejpqrBjL"
   },
   "source": [
    "The function returns a match object if it finds a match and None otherwise.\n",
    "\n",
    "re.match(regex, string, flags=0)\n",
    "\n",
    "Looks for a regex match at the beginning of a string.\n",
    "\n",
    "This is identical to re.search(), except that re.search() returns a match if regex matches anywhere in string, whereas re.match() returns a match only if regex matches at the beginning of string:"
   ]
  },
  {
   "cell_type": "code",
   "execution_count": 90,
   "metadata": {
    "colab": {
     "base_uri": "https://localhost:8080/"
    },
    "id": "xHBHsITnrBjL",
    "outputId": "9e196046-b0b8-4f88-c84f-2dc0d14d25b8"
   },
   "outputs": [
    {
     "name": "stdout",
     "output_type": "stream",
     "text": [
      "<re.Match object; span=(0, 3), match='123'>\n",
      "<re.Match object; span=(3, 6), match='123'>\n",
      "<re.Match object; span=(0, 3), match='123'>\n",
      "None\n"
     ]
    }
   ],
   "source": [
    "print(re.search(r'\\d+', '123foobar'))\n",
    "print(re.search(r'\\d+', 'foo123bar'))\n",
    "print(re.match(r'\\d+', '123foobar'))\n",
    "print(re.match(r'\\d+', 'foo123bar'))"
   ]
  },
  {
   "cell_type": "code",
   "execution_count": 91,
   "metadata": {
    "colab": {
     "base_uri": "https://localhost:8080/"
    },
    "id": "VThb8bWArBjN",
    "outputId": "814078a2-e2df-449b-a3f4-5ee0509cb942"
   },
   "outputs": [
    {
     "name": "stdout",
     "output_type": "stream",
     "text": [
      "<re.Match object; span=(0, 3), match='you'>\n",
      "None\n",
      "None\n"
     ]
    }
   ],
   "source": [
    "print(re.match(\"you\" , \"you are not good.\"))\n",
    "print(re.match(\"are\" , \"you are not good.\"))\n",
    "print(re.match(\"good.\", \"you are not good.\"))"
   ]
  },
  {
   "cell_type": "markdown",
   "metadata": {
    "id": "cQ-NME5srBjM"
   },
   "source": [
    "## The Match object properties and methods\n",
    "\n",
    ".span() returns a tuple containing the start-, and end positions of the match.<br>\n",
    ".string returns the string passed into the function<br>\n",
    ".group() returns the part of the string where there was a match\n"
   ]
  },
  {
   "cell_type": "code",
   "execution_count": 94,
   "metadata": {
    "colab": {
     "base_uri": "https://localhost:8080/"
    },
    "id": "jfO9PNVwOrnQ",
    "outputId": "84a43d35-6197-4469-ceb9-ba9290c5549a"
   },
   "outputs": [
    {
     "data": {
      "text/plain": [
       "(0, 3)"
      ]
     },
     "execution_count": 94,
     "metadata": {},
     "output_type": "execute_result"
    }
   ],
   "source": [
    "re.match(r'\\d+', '123foobar').span()"
   ]
  },
  {
   "cell_type": "code",
   "execution_count": 93,
   "metadata": {
    "colab": {
     "base_uri": "https://localhost:8080/",
     "height": 35
    },
    "id": "eesCbgtUOw2n",
    "outputId": "018c0472-7c7f-4de6-cf29-f304dd3c95f4"
   },
   "outputs": [
    {
     "data": {
      "text/plain": [
       "'123foobar'"
      ]
     },
     "execution_count": 93,
     "metadata": {},
     "output_type": "execute_result"
    }
   ],
   "source": [
    "re.match(r'\\d+', '123foobar').string"
   ]
  },
  {
   "cell_type": "code",
   "execution_count": 92,
   "metadata": {
    "colab": {
     "base_uri": "https://localhost:8080/",
     "height": 35
    },
    "id": "eO68NlyCOzkQ",
    "outputId": "c330bace-8816-4b04-97ef-900e5a12175e"
   },
   "outputs": [
    {
     "data": {
      "text/plain": [
       "'123'"
      ]
     },
     "execution_count": 92,
     "metadata": {},
     "output_type": "execute_result"
    }
   ],
   "source": [
    "re.match(r'\\d+', '123foobar').group()"
   ]
  },
  {
   "cell_type": "code",
   "execution_count": null,
   "metadata": {},
   "outputs": [],
   "source": []
  }
 ],
 "metadata": {
  "colab": {
   "name": "regex_week2_day1.ipynb",
   "provenance": []
  },
  "kernelspec": {
   "display_name": "Python 3 (ipykernel)",
   "language": "python",
   "name": "python3"
  },
  "language_info": {
   "codemirror_mode": {
    "name": "ipython",
    "version": 3
   },
   "file_extension": ".py",
   "mimetype": "text/x-python",
   "name": "python",
   "nbconvert_exporter": "python",
   "pygments_lexer": "ipython3",
   "version": "3.9.13"
  }
 },
 "nbformat": 4,
 "nbformat_minor": 1
}
