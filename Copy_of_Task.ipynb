{
  "cells": [
    {
      "cell_type": "code",
      "execution_count": null,
      "id": "c66d48c9",
      "metadata": {
        "id": "c66d48c9"
      },
      "outputs": [],
      "source": [
        "# 1. Elə program yazın ki, butun elementler ucun gosterilen numunedeki kimi netice qaytarsin \n",
        "dic = {'ad':{'oglan_adlari':['Nizami','Elsen','Ulvi'],'qiz_adlari':['Aygun','Sehla','Ulker']},\n",
        "          'soyad':{'oglanlarin_soyadlari':['Aliyev','Quliyev','Haciyev'],'qizlarin_soyadlari':['Rehmanova','Quliyeva','Ismayilova']},\n",
        "          'tehsil':{'oglanlarin_tehsili':['ali','orta','ali'],'qizlarin_tehsili':['ali','ali','ali']},\n",
        "          'yas':{'oglanlarin_yasi':[29,32,34],'qizlarin_yasi':[24,26,27]}}\n",
        "# Output: \n",
        "# Nizami Aliyev ali 29\n",
        "# Elsen Quliyev orta 32 \n",
        "# Ulvi Haciyev ali 34 \n"
      ]
    },
    {
      "cell_type": "code",
      "source": [
        "l=[]\n",
        "for a in dicti:\n",
        "  for b in dicti[a]:\n",
        "    for c in dicti[a][b]:\n",
        "      l.append(c)\n",
        "print(l[::6])"
      ],
      "metadata": {
        "id": "aj4QbE10sxz7",
        "outputId": "387565c3-bd4b-4d6e-dbc4-1dec9eff88d1",
        "colab": {
          "base_uri": "https://localhost:8080/"
        }
      },
      "id": "aj4QbE10sxz7",
      "execution_count": null,
      "outputs": [
        {
          "output_type": "stream",
          "name": "stdout",
          "text": [
            "['Nizami', 'Aliyev', 'ali', 29]\n"
          ]
        }
      ]
    },
    {
      "cell_type": "code",
      "execution_count": null,
      "id": "015bca11",
      "metadata": {
        "id": "015bca11"
      },
      "outputs": [],
      "source": [
        "# 2. Elə program yazın ki, dictionarydeki butun listleri bosh bir liste daxil etsin\n",
        "dicti = {'name':{'oglan_adlari':['Nizami','Elsen','Ulvi'],'qiz_adlari':['Aygun','Sehla','Ulker']},\n",
        "          'soyad':{'oglanlarin_soyadlari':['Aliyev','Quliyev','Haciyev'],'qizlarin_soyadlari':['Rehmanova','Quliyeva','Ismayilova']},\n",
        "          'tehsil':{'oglanlarin_tehsili':['ali','orta','ali'],'qizlarin_tehsili':['ali','ali','ali']},\n",
        "          'yas':{'oglanlarin_yasi':[29,32,34],'qizlarin_yasi':[24,26,27]}}\n",
        "# Numune ==> a = ['Nizami',Elsen',Ulvi','Aygun','Sehla','Ulker','Aliyev','Quliyev','Haciyev','Rehmanova','Quliyeva','Ismayilova','ali','orta','ali']"
      ]
    },
    {
      "cell_type": "code",
      "source": [
        "l=[]\n",
        "for a in dicti:\n",
        "  for b in dicti[a]:\n",
        "    for c in dicti[a][b]:\n",
        "      l.append(c)\n",
        "\n",
        "\n",
        "print(l[::3])\n",
        "\n"
      ],
      "metadata": {
        "id": "pFbbd5OB0X6W",
        "outputId": "c5974a92-a1c1-4c29-bad9-7cb3720833c8",
        "colab": {
          "base_uri": "https://localhost:8080/"
        }
      },
      "id": "pFbbd5OB0X6W",
      "execution_count": null,
      "outputs": [
        {
          "output_type": "stream",
          "name": "stdout",
          "text": [
            "['Nizami', 'Aygun', 'Aliyev', 'Rehmanova', 'ali', 'ali', 29, 24]\n"
          ]
        }
      ]
    },
    {
      "cell_type": "code",
      "execution_count": null,
      "id": "b93234c4",
      "metadata": {
        "id": "b93234c4"
      },
      "outputs": [],
      "source": [
        "# 3. Elə program yazın ki, listlerin icersinde sadece bir deyer saxlasin digerlerin drop etsin yeni silsin.\n",
        "dictionary = {'name':{'oglan_adlari':['Nizami','Elsen','Ulvi'],'qiz_adlari':['Aygun','Sehla','Ulker']},\n",
        "          'soyad':{'oglanlarin_soyadlari':['Aliyev','Quliyev','Haciyev'],'qizlarin_soyadlari':['Rehmanova','Quliyeva','Ismayilova']},\n",
        "          'tehsil':{'oglanlarin_tehsili':['ali','orta','ali'],'qizlarin_tehsili':['ali','ali','ali']},\n",
        "          'yas':{'oglanlarin_yasi':[29,32,34],'qizlarin_yasi':[24,26,27]}}"
      ]
    },
    {
      "cell_type": "code",
      "source": [],
      "metadata": {
        "id": "vRxSOH9848Nr"
      },
      "id": "vRxSOH9848Nr",
      "execution_count": null,
      "outputs": []
    },
    {
      "cell_type": "code",
      "execution_count": null,
      "id": "998c4658",
      "metadata": {
        "id": "998c4658",
        "outputId": "1b3aa7c3-d6d5-4457-8222-8c5736326bbd",
        "colab": {
          "base_uri": "https://localhost:8080/"
        }
      },
      "outputs": [
        {
          "output_type": "stream",
          "name": "stdout",
          "text": [
            "Nizami\n",
            "Elsen\n",
            "Ulvi\n",
            "Rehmanova\n",
            "Quliyeva\n",
            "Ismayilova\n"
          ]
        }
      ],
      "source": [
        "# 4. for dongusu yazin oglan_adlari deyerleri qiz soyadlari ile birleshsin, qiz_adlari ise oglan_adlari ile\n",
        "dictionary = {'name':{'oglan_adlari':['Nizami','Elsen','Ulvi'],'qiz_adlari':['Aygun','Sehla','Ulker']},\n",
        "          'soyad':{'oglanlarin_soyadlari':['Aliyev','Quliyev','Haciyev'],'qizlarin_soyadlari':['Rehmanova','Quliyeva','Ismayilova']},\n",
        "          'tehsil':{'oglanlarin_tehsili':['ali','orta','ali'],'qizlarin_tehsili':['ali','ali','ali']},\n",
        "          'yas':{'oglanlarin_yasi':[29,32,34],'qizlarin_yasi':[24,26,27]}}\n",
        "# Numune ==> 'Nizami Rehmanova' \n",
        "for a in dictionary:\n",
        "    for b in dictionary[a]:\n",
        "      if b=='oglan_adlari' or b==\"qizlarin_soyadlari\":\n",
        "        for c in dictionary[a][b]:\n",
        "          print(c)\n",
        "      elif \n",
        "\n",
        "\n",
        "\n"
      ]
    },
    {
      "cell_type": "code",
      "source": [],
      "metadata": {
        "id": "_5gMeVsP_I96"
      },
      "id": "_5gMeVsP_I96",
      "execution_count": null,
      "outputs": []
    }
  ],
  "metadata": {
    "kernelspec": {
      "display_name": "Python 3 (ipykernel)",
      "language": "python",
      "name": "python3"
    },
    "language_info": {
      "codemirror_mode": {
        "name": "ipython",
        "version": 3
      },
      "file_extension": ".py",
      "mimetype": "text/x-python",
      "name": "python",
      "nbconvert_exporter": "python",
      "pygments_lexer": "ipython3",
      "version": "3.9.12"
    },
    "colab": {
      "provenance": []
    }
  },
  "nbformat": 4,
  "nbformat_minor": 5
}