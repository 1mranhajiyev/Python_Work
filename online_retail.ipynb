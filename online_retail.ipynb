{
 "cells": [
  {
   "cell_type": "code",
   "execution_count": 49,
   "metadata": {},
   "outputs": [],
   "source": [
    "import pandas as pd\n",
    "import numpy as np\n",
    "import matplotlib.pyplot as plt\n",
    "import seaborn as sns\n",
    "import warnings\n",
    "warnings.filterwarnings('ignore')\n",
    "\n",
    "# Read the data\n",
    "df = pd.read_csv('online_retail.csv',parse_dates=['InvoiceDate'])"
   ]
  },
  {
   "cell_type": "code",
   "execution_count": 50,
   "metadata": {},
   "outputs": [
    {
     "data": {
      "text/html": [
       "<div>\n",
       "<style scoped>\n",
       "    .dataframe tbody tr th:only-of-type {\n",
       "        vertical-align: middle;\n",
       "    }\n",
       "\n",
       "    .dataframe tbody tr th {\n",
       "        vertical-align: top;\n",
       "    }\n",
       "\n",
       "    .dataframe thead th {\n",
       "        text-align: right;\n",
       "    }\n",
       "</style>\n",
       "<table border=\"1\" class=\"dataframe\">\n",
       "  <thead>\n",
       "    <tr style=\"text-align: right;\">\n",
       "      <th></th>\n",
       "      <th>Invoice</th>\n",
       "      <th>StockCode</th>\n",
       "      <th>Description</th>\n",
       "      <th>Quantity</th>\n",
       "      <th>InvoiceDate</th>\n",
       "      <th>Price</th>\n",
       "      <th>Customer ID</th>\n",
       "      <th>Country</th>\n",
       "    </tr>\n",
       "  </thead>\n",
       "  <tbody>\n",
       "    <tr>\n",
       "      <th>0</th>\n",
       "      <td>489434</td>\n",
       "      <td>85048</td>\n",
       "      <td>15CM CHRISTMAS GLASS BALL 20 LIGHTS</td>\n",
       "      <td>12</td>\n",
       "      <td>2009-12-01 07:45:00</td>\n",
       "      <td>6.95</td>\n",
       "      <td>13085.0</td>\n",
       "      <td>United Kingdom</td>\n",
       "    </tr>\n",
       "    <tr>\n",
       "      <th>1</th>\n",
       "      <td>489434</td>\n",
       "      <td>79323P</td>\n",
       "      <td>PINK CHERRY LIGHTS</td>\n",
       "      <td>12</td>\n",
       "      <td>2009-12-01 07:45:00</td>\n",
       "      <td>6.75</td>\n",
       "      <td>13085.0</td>\n",
       "      <td>United Kingdom</td>\n",
       "    </tr>\n",
       "    <tr>\n",
       "      <th>2</th>\n",
       "      <td>489434</td>\n",
       "      <td>79323W</td>\n",
       "      <td>WHITE CHERRY LIGHTS</td>\n",
       "      <td>12</td>\n",
       "      <td>2009-12-01 07:45:00</td>\n",
       "      <td>6.75</td>\n",
       "      <td>13085.0</td>\n",
       "      <td>United Kingdom</td>\n",
       "    </tr>\n",
       "    <tr>\n",
       "      <th>3</th>\n",
       "      <td>489434</td>\n",
       "      <td>22041</td>\n",
       "      <td>RECORD FRAME 7\" SINGLE SIZE</td>\n",
       "      <td>48</td>\n",
       "      <td>2009-12-01 07:45:00</td>\n",
       "      <td>2.10</td>\n",
       "      <td>13085.0</td>\n",
       "      <td>United Kingdom</td>\n",
       "    </tr>\n",
       "    <tr>\n",
       "      <th>4</th>\n",
       "      <td>489434</td>\n",
       "      <td>21232</td>\n",
       "      <td>STRAWBERRY CERAMIC TRINKET BOX</td>\n",
       "      <td>24</td>\n",
       "      <td>2009-12-01 07:45:00</td>\n",
       "      <td>1.25</td>\n",
       "      <td>13085.0</td>\n",
       "      <td>United Kingdom</td>\n",
       "    </tr>\n",
       "    <tr>\n",
       "      <th>...</th>\n",
       "      <td>...</td>\n",
       "      <td>...</td>\n",
       "      <td>...</td>\n",
       "      <td>...</td>\n",
       "      <td>...</td>\n",
       "      <td>...</td>\n",
       "      <td>...</td>\n",
       "      <td>...</td>\n",
       "    </tr>\n",
       "    <tr>\n",
       "      <th>95</th>\n",
       "      <td>489441</td>\n",
       "      <td>22111</td>\n",
       "      <td>SCOTTIE DOG HOT WATER BOTTLE</td>\n",
       "      <td>48</td>\n",
       "      <td>2009-12-01 09:44:00</td>\n",
       "      <td>4.25</td>\n",
       "      <td>18087.0</td>\n",
       "      <td>United Kingdom</td>\n",
       "    </tr>\n",
       "    <tr>\n",
       "      <th>96</th>\n",
       "      <td>489442</td>\n",
       "      <td>21955</td>\n",
       "      <td>UNION JACK GUNS &amp; ROSES  DOORMAT</td>\n",
       "      <td>2</td>\n",
       "      <td>2009-12-01 09:46:00</td>\n",
       "      <td>6.75</td>\n",
       "      <td>13635.0</td>\n",
       "      <td>United Kingdom</td>\n",
       "    </tr>\n",
       "    <tr>\n",
       "      <th>97</th>\n",
       "      <td>489442</td>\n",
       "      <td>22111</td>\n",
       "      <td>SCOTTIE DOG HOT WATER BOTTLE</td>\n",
       "      <td>3</td>\n",
       "      <td>2009-12-01 09:46:00</td>\n",
       "      <td>4.95</td>\n",
       "      <td>13635.0</td>\n",
       "      <td>United Kingdom</td>\n",
       "    </tr>\n",
       "    <tr>\n",
       "      <th>98</th>\n",
       "      <td>489442</td>\n",
       "      <td>22296</td>\n",
       "      <td>HEART IVORY TRELLIS LARGE</td>\n",
       "      <td>12</td>\n",
       "      <td>2009-12-01 09:46:00</td>\n",
       "      <td>1.65</td>\n",
       "      <td>13635.0</td>\n",
       "      <td>United Kingdom</td>\n",
       "    </tr>\n",
       "    <tr>\n",
       "      <th>99</th>\n",
       "      <td>489442</td>\n",
       "      <td>84899E</td>\n",
       "      <td>YELLOW + BROWN BEAR FELT PURSE KIT</td>\n",
       "      <td>12</td>\n",
       "      <td>2009-12-01 09:46:00</td>\n",
       "      <td>1.25</td>\n",
       "      <td>13635.0</td>\n",
       "      <td>United Kingdom</td>\n",
       "    </tr>\n",
       "  </tbody>\n",
       "</table>\n",
       "<p>100 rows × 8 columns</p>\n",
       "</div>"
      ],
      "text/plain": [
       "   Invoice StockCode                          Description  Quantity  \\\n",
       "0   489434     85048  15CM CHRISTMAS GLASS BALL 20 LIGHTS        12   \n",
       "1   489434    79323P                   PINK CHERRY LIGHTS        12   \n",
       "2   489434    79323W                  WHITE CHERRY LIGHTS        12   \n",
       "3   489434     22041         RECORD FRAME 7\" SINGLE SIZE         48   \n",
       "4   489434     21232       STRAWBERRY CERAMIC TRINKET BOX        24   \n",
       "..     ...       ...                                  ...       ...   \n",
       "95  489441     22111         SCOTTIE DOG HOT WATER BOTTLE        48   \n",
       "96  489442     21955     UNION JACK GUNS & ROSES  DOORMAT         2   \n",
       "97  489442     22111         SCOTTIE DOG HOT WATER BOTTLE         3   \n",
       "98  489442     22296            HEART IVORY TRELLIS LARGE        12   \n",
       "99  489442    84899E   YELLOW + BROWN BEAR FELT PURSE KIT        12   \n",
       "\n",
       "           InvoiceDate  Price  Customer ID         Country  \n",
       "0  2009-12-01 07:45:00   6.95      13085.0  United Kingdom  \n",
       "1  2009-12-01 07:45:00   6.75      13085.0  United Kingdom  \n",
       "2  2009-12-01 07:45:00   6.75      13085.0  United Kingdom  \n",
       "3  2009-12-01 07:45:00   2.10      13085.0  United Kingdom  \n",
       "4  2009-12-01 07:45:00   1.25      13085.0  United Kingdom  \n",
       "..                 ...    ...          ...             ...  \n",
       "95 2009-12-01 09:44:00   4.25      18087.0  United Kingdom  \n",
       "96 2009-12-01 09:46:00   6.75      13635.0  United Kingdom  \n",
       "97 2009-12-01 09:46:00   4.95      13635.0  United Kingdom  \n",
       "98 2009-12-01 09:46:00   1.65      13635.0  United Kingdom  \n",
       "99 2009-12-01 09:46:00   1.25      13635.0  United Kingdom  \n",
       "\n",
       "[100 rows x 8 columns]"
      ]
     },
     "execution_count": 50,
     "metadata": {},
     "output_type": "execute_result"
    }
   ],
   "source": [
    "df.head(100)\n"
   ]
  },
  {
   "cell_type": "code",
   "execution_count": 30,
   "metadata": {},
   "outputs": [],
   "source": [
    "df.isnull().sum()\n",
    "df.isnull().sum()\n",
    "df.dropna(subset=['Description'],inplace=True)"
   ]
  },
  {
   "cell_type": "code",
   "execution_count": 34,
   "metadata": {},
   "outputs": [
    {
     "data": {
      "text/plain": [
       "0          15CM CHRISTMAS GLASS BALL 20 LIGHTS\n",
       "1                           PINK CHERRY LIGHTS\n",
       "2                          WHITE CHERRY LIGHTS\n",
       "3                 RECORD FRAME 7\" SINGLE SIZE \n",
       "4               STRAWBERRY CERAMIC TRINKET BOX\n",
       "                          ...                 \n",
       "1067366           CHILDREN'S APRON DOLLY GIRL \n",
       "1067367          CHILDRENS CUTLERY DOLLY GIRL \n",
       "1067368        CHILDRENS CUTLERY CIRCUS PARADE\n",
       "1067369          BAKING SET 9 PIECE RETROSPOT \n",
       "1067370                                POSTAGE\n",
       "Name: Description, Length: 1062989, dtype: object"
      ]
     },
     "execution_count": 34,
     "metadata": {},
     "output_type": "execute_result"
    }
   ],
   "source": [
    "df.Description"
   ]
  },
  {
   "cell_type": "code",
   "execution_count": 35,
   "metadata": {},
   "outputs": [],
   "source": [
    "df['Description'] = df['Description'].str.strip()"
   ]
  },
  {
   "cell_type": "code",
   "execution_count": 36,
   "metadata": {},
   "outputs": [],
   "source": [
    "df['Description'] = df['Description'].str.upper()"
   ]
  },
  {
   "cell_type": "code",
   "execution_count": 37,
   "metadata": {},
   "outputs": [
    {
     "data": {
      "text/plain": [
       "0     15CM CHRISTMAS GLASS BALL 20 LIGHTS\n",
       "1                      PINK CHERRY LIGHTS\n",
       "2                     WHITE CHERRY LIGHTS\n",
       "3             RECORD FRAME 7\" SINGLE SIZE\n",
       "4          STRAWBERRY CERAMIC TRINKET BOX\n",
       "                     ...                 \n",
       "95           SCOTTIE DOG HOT WATER BOTTLE\n",
       "96       UNION JACK GUNS & ROSES  DOORMAT\n",
       "97           SCOTTIE DOG HOT WATER BOTTLE\n",
       "98              HEART IVORY TRELLIS LARGE\n",
       "99     YELLOW + BROWN BEAR FELT PURSE KIT\n",
       "Name: Description, Length: 100, dtype: object"
      ]
     },
     "execution_count": 37,
     "metadata": {},
     "output_type": "execute_result"
    }
   ],
   "source": [
    "df['Description'].head(100)"
   ]
  },
  {
   "cell_type": "code",
   "execution_count": 38,
   "metadata": {},
   "outputs": [],
   "source": [
    "df['Description'] = df['Description'].str.replace('[^a-zA-Z]',' ')"
   ]
  },
  {
   "cell_type": "code",
   "execution_count": 39,
   "metadata": {},
   "outputs": [
    {
     "data": {
      "text/plain": [
       "0       CM CHRISTMAS GLASS BALL    LIGHTS\n",
       "1                      PINK CHERRY LIGHTS\n",
       "2                     WHITE CHERRY LIGHTS\n",
       "3             RECORD FRAME    SINGLE SIZE\n",
       "4          STRAWBERRY CERAMIC TRINKET BOX\n",
       "                     ...                 \n",
       "95           SCOTTIE DOG HOT WATER BOTTLE\n",
       "96       UNION JACK GUNS   ROSES  DOORMAT\n",
       "97           SCOTTIE DOG HOT WATER BOTTLE\n",
       "98              HEART IVORY TRELLIS LARGE\n",
       "99     YELLOW   BROWN BEAR FELT PURSE KIT\n",
       "Name: Description, Length: 100, dtype: object"
      ]
     },
     "execution_count": 39,
     "metadata": {},
     "output_type": "execute_result"
    }
   ],
   "source": [
    "df['Description'].head(100)"
   ]
  },
  {
   "cell_type": "code",
   "execution_count": 40,
   "metadata": {},
   "outputs": [],
   "source": [
    "df['Description'] = df['Description'].str.replace(' +',' ')"
   ]
  },
  {
   "cell_type": "code",
   "execution_count": 41,
   "metadata": {},
   "outputs": [
    {
     "data": {
      "text/plain": [
       "0       CM CHRISTMAS GLASS BALL LIGHTS\n",
       "1                   PINK CHERRY LIGHTS\n",
       "2                  WHITE CHERRY LIGHTS\n",
       "3             RECORD FRAME SINGLE SIZE\n",
       "4       STRAWBERRY CERAMIC TRINKET BOX\n",
       "                    ...               \n",
       "95        SCOTTIE DOG HOT WATER BOTTLE\n",
       "96       UNION JACK GUNS ROSES DOORMAT\n",
       "97        SCOTTIE DOG HOT WATER BOTTLE\n",
       "98           HEART IVORY TRELLIS LARGE\n",
       "99    YELLOW BROWN BEAR FELT PURSE KIT\n",
       "Name: Description, Length: 100, dtype: object"
      ]
     },
     "execution_count": 41,
     "metadata": {},
     "output_type": "execute_result"
    }
   ],
   "source": [
    "df['Description'].head(100)"
   ]
  },
  {
   "cell_type": "code",
   "execution_count": 42,
   "metadata": {},
   "outputs": [],
   "source": [
    "df['Description'] = df['Description'].str.strip()"
   ]
  },
  {
   "cell_type": "code",
   "execution_count": 43,
   "metadata": {},
   "outputs": [
    {
     "data": {
      "text/plain": [
       "0       CM CHRISTMAS GLASS BALL LIGHTS\n",
       "1                   PINK CHERRY LIGHTS\n",
       "2                  WHITE CHERRY LIGHTS\n",
       "3             RECORD FRAME SINGLE SIZE\n",
       "4       STRAWBERRY CERAMIC TRINKET BOX\n",
       "                    ...               \n",
       "95        SCOTTIE DOG HOT WATER BOTTLE\n",
       "96       UNION JACK GUNS ROSES DOORMAT\n",
       "97        SCOTTIE DOG HOT WATER BOTTLE\n",
       "98           HEART IVORY TRELLIS LARGE\n",
       "99    YELLOW BROWN BEAR FELT PURSE KIT\n",
       "Name: Description, Length: 100, dtype: object"
      ]
     },
     "execution_count": 43,
     "metadata": {},
     "output_type": "execute_result"
    }
   ],
   "source": [
    "df['Description'].head(100)"
   ]
  },
  {
   "cell_type": "code",
   "execution_count": 45,
   "metadata": {},
   "outputs": [],
   "source": [
    "df['Invoice']=df['Country'].agg(lambda x: x[:2])"
   ]
  },
  {
   "cell_type": "code",
   "execution_count": 52,
   "metadata": {},
   "outputs": [
    {
     "ename": "ValueError",
     "evalue": "The truth value of a Series is ambiguous. Use a.empty, a.bool(), a.item(), a.any() or a.all().",
     "output_type": "error",
     "traceback": [
      "\u001b[1;31m---------------------------------------------------------------------------\u001b[0m",
      "\u001b[1;31mValueError\u001b[0m                                Traceback (most recent call last)",
      "Cell \u001b[1;32mIn[52], line 1\u001b[0m\n\u001b[1;32m----> 1\u001b[0m \u001b[39mif\u001b[39;00m df[\u001b[39m'\u001b[39;49m\u001b[39mInvoice\u001b[39;49m\u001b[39m'\u001b[39;49m]\u001b[39m==\u001b[39;49m\u001b[39m'\u001b[39;49m\u001b[39mUK\u001b[39;49m\u001b[39m'\u001b[39;49m:\n\u001b[0;32m      2\u001b[0m     df[\u001b[39m'\u001b[39m\u001b[39mInvoice\u001b[39m\u001b[39m'\u001b[39m]\u001b[39m=\u001b[39m\u001b[39m'\u001b[39m\u001b[39mGB\u001b[39m\u001b[39m'\u001b[39m\n",
      "File \u001b[1;32mc:\\Users\\User\\anaconda3\\lib\\site-packages\\pandas\\core\\generic.py:1537\u001b[0m, in \u001b[0;36mNDFrame.__nonzero__\u001b[1;34m(self)\u001b[0m\n\u001b[0;32m   1535\u001b[0m \u001b[39m@final\u001b[39m\n\u001b[0;32m   1536\u001b[0m \u001b[39mdef\u001b[39;00m \u001b[39m__nonzero__\u001b[39m(\u001b[39mself\u001b[39m):\n\u001b[1;32m-> 1537\u001b[0m     \u001b[39mraise\u001b[39;00m \u001b[39mValueError\u001b[39;00m(\n\u001b[0;32m   1538\u001b[0m         \u001b[39mf\u001b[39m\u001b[39m\"\u001b[39m\u001b[39mThe truth value of a \u001b[39m\u001b[39m{\u001b[39;00m\u001b[39mtype\u001b[39m(\u001b[39mself\u001b[39m)\u001b[39m.\u001b[39m\u001b[39m__name__\u001b[39m\u001b[39m}\u001b[39;00m\u001b[39m is ambiguous. \u001b[39m\u001b[39m\"\u001b[39m\n\u001b[0;32m   1539\u001b[0m         \u001b[39m\"\u001b[39m\u001b[39mUse a.empty, a.bool(), a.item(), a.any() or a.all().\u001b[39m\u001b[39m\"\u001b[39m\n\u001b[0;32m   1540\u001b[0m     )\n",
      "\u001b[1;31mValueError\u001b[0m: The truth value of a Series is ambiguous. Use a.empty, a.bool(), a.item(), a.any() or a.all()."
     ]
    }
   ],
   "source": []
  },
  {
   "cell_type": "code",
   "execution_count": null,
   "metadata": {},
   "outputs": [],
   "source": []
  }
 ],
 "metadata": {
  "kernelspec": {
   "display_name": "base",
   "language": "python",
   "name": "python3"
  },
  "language_info": {
   "codemirror_mode": {
    "name": "ipython",
    "version": 3
   },
   "file_extension": ".py",
   "mimetype": "text/x-python",
   "name": "python",
   "nbconvert_exporter": "python",
   "pygments_lexer": "ipython3",
   "version": "3.9.16"
  },
  "orig_nbformat": 4
 },
 "nbformat": 4,
 "nbformat_minor": 2
}
