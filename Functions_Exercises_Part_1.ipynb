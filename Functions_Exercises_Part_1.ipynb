{
 "cells": [
  {
   "cell_type": "markdown",
   "id": "015ad614",
   "metadata": {
    "id": "015ad614"
   },
   "source": [
    "## Çalışma 1\n",
    "\n",
    "#### İki ədədin cəmini hesablayan funksiya yazın."
   ]
  },
  {
   "cell_type": "code",
   "execution_count": null,
   "id": "156746b7",
   "metadata": {
    "id": "156746b7",
    "outputId": "6ac41605-7950-432d-b546-f11e12cc4ccd"
   },
   "outputs": [
    {
     "name": "stdout",
     "output_type": "stream",
     "text": [
      "7\n"
     ]
    }
   ],
   "source": [
    "num1 = 3\n",
    "num2 = 4\n",
    "\n",
    "# kodunuz\n",
    "\n",
    "print(sum(num1, num2))"
   ]
  },
  {
   "cell_type": "markdown",
   "id": "d7f6eeb7",
   "metadata": {
    "id": "d7f6eeb7"
   },
   "source": [
    "## Çalışma 2\n",
    "\n",
    "#### Verilən hərfin sözdəki sayını tapan funksiya hazırlayın."
   ]
  },
  {
   "cell_type": "code",
   "execution_count": null,
   "id": "21ed7d04",
   "metadata": {
    "id": "21ed7d04",
    "outputId": "2d308dd3-6a3a-410e-c7db-6ac0b4745f4c"
   },
   "outputs": [
    {
     "name": "stdout",
     "output_type": "stream",
     "text": [
      "Number of the letter \"a\" in the word \"banana\" is 3.\n"
     ]
    }
   ],
   "source": [
    "word = 'banana'\n",
    "letter = 'a'\n",
    "\n",
    "# kodunuz\n",
    "\n",
    "print(f'Number of the letter \"{letter}\" in the word \"{word}\" is {letter_count(word, letter)}.')"
   ]
  },
  {
   "cell_type": "markdown",
   "id": "3635edd6",
   "metadata": {
    "id": "3635edd6"
   },
   "source": [
    "## Çalışma 3\n",
    "\n",
    "#### Ədədi verilən qüvvətə yüksəldən funksiya yazın. Əgər qüvvət funksiyaya ötürülməyibsə, funskiya ədədin kvadratını qaytarsın."
   ]
  },
  {
   "cell_type": "code",
   "execution_count": null,
   "id": "1bc6a185",
   "metadata": {
    "id": "1bc6a185",
    "outputId": "510dfc69-d3a7-49b2-ed77-7b8b721cd32a"
   },
   "outputs": [
    {
     "name": "stdout",
     "output_type": "stream",
     "text": [
      "3 ^ 2 = 9\n",
      "3 ^ 4 = 81\n"
     ]
    }
   ],
   "source": [
    "base = 3\n",
    "\n",
    "# kodunuz\n",
    "\n",
    "print(base, '^', 2, '=', expo(base))\n",
    "print(base, '^', 4, '=', expo(base, 4))"
   ]
  },
  {
   "cell_type": "markdown",
   "id": "df2e165f",
   "metadata": {
    "id": "df2e165f"
   },
   "source": [
    "## Çalışma 4\n",
    "\n",
    "#### Verilən simvolun stringin içindəki indeksini tapan funksiya yazın. Simvol stringdə yoxdursa funksiya -1 qaytarsın."
   ]
  },
  {
   "cell_type": "code",
   "execution_count": null,
   "id": "8ba979f6",
   "metadata": {
    "id": "8ba979f6",
    "outputId": "0a53173a-e8fb-4ae7-b991-ff6eaceaebc2",
    "scrolled": true
   },
   "outputs": [
    {
     "name": "stdout",
     "output_type": "stream",
     "text": [
      "3\n",
      "-1\n"
     ]
    }
   ],
   "source": [
    "word = 'pineapple'\n",
    "\n",
    "# kodunuz\n",
    "\n",
    "print(char_index(word,'e'))\n",
    "print(char_index(word,'!'))"
   ]
  },
  {
   "cell_type": "markdown",
   "id": "e9e18f7b",
   "metadata": {
    "id": "e9e18f7b"
   },
   "source": [
    "## Çalışma 5\n",
    "\n",
    "#### Verilən cümləni tərsinə qaytaran funksiya yazın."
   ]
  },
  {
   "cell_type": "code",
   "execution_count": null,
   "id": "8fd8415d",
   "metadata": {
    "id": "8fd8415d",
    "outputId": "7165b10b-23d1-489c-b660-cb87a36a2fa1",
    "scrolled": true
   },
   "outputs": [
    {
     "name": "stdout",
     "output_type": "stream",
     "text": [
      "mine is This\n"
     ]
    }
   ],
   "source": [
    "sentence = 'This is mine'\n",
    "\n",
    "# kodunuz\n",
    "\n",
    "print(revwords(sentence))"
   ]
  },
  {
   "cell_type": "markdown",
   "id": "e79b4b53",
   "metadata": {
    "id": "e79b4b53"
   },
   "source": [
    "## Çalışma 6\n",
    "\n",
    "#### Elə funksiya yazın ki, əgər verilən ədədlərdən ikisi də cüt ədəddirsə kiçik ədədi, ən azı biri tək ədəddirsə böyük ədədi qaytarsın."
   ]
  },
  {
   "cell_type": "code",
   "execution_count": 58,
   "id": "057ab1fc",
   "metadata": {
    "colab": {
     "base_uri": "https://localhost:8080/"
    },
    "id": "057ab1fc",
    "outputId": "652178e7-5f3c-40cf-fa6e-4c9b3bb26ae5"
   },
   "outputs": [
    {
     "name": "stdout",
     "output_type": "stream",
     "text": [
      "2\n",
      "5\n"
     ]
    }
   ],
   "source": [
    "def even(a,b):\n",
    "    if a%2==0 and b%2==0:\n",
    "        ls=[a,b]\n",
    "        return min(ls)\n",
    "      else: \n",
    "        ls=[a,b]\n",
    "        return max(ls)\n",
    "    \n",
    "print(even(2, 4))\n",
    "print(even(2, 5))"
   ]
  },
  {
   "cell_type": "code",
   "execution_count": 62,
   "id": "HATjudu942gt",
   "metadata": {
    "colab": {
     "base_uri": "https://localhost:8080/"
    },
    "id": "HATjudu942gt",
    "outputId": "15361a34-42f4-4b7f-c918-136bb53e26ca"
   },
   "outputs": [
    {
     "data": {
      "text/plain": [
       "8"
      ]
     },
     "execution_count": 62,
     "metadata": {},
     "output_type": "execute_result"
    }
   ],
   "source": [
    "even(12,8)"
   ]
  },
  {
   "cell_type": "markdown",
   "id": "ba17b1a5",
   "metadata": {
    "id": "ba17b1a5"
   },
   "source": [
    "## Çalışma 7\n",
    "\n",
    "#### Verilən listdə yan-yana 3 rəqəminin olub-olmadığını yoxlayan funksiya yazın."
   ]
  },
  {
   "cell_type": "code",
   "execution_count": 16,
   "id": "373c699d",
   "metadata": {
    "id": "373c699d",
    "outputId": "a2158f06-06c7-4dd5-ce0c-16720f294563"
   },
   "outputs": [
    {
     "name": "stdout",
     "output_type": "stream",
     "text": [
      "False\n"
     ]
    }
   ],
   "source": [
    "list1 = [1,3,3,3,5,6]\n",
    "list2 = [1, 3, 1, 2]\n",
    "list3=[1,2,3,4,4,4,6,7,3]\n",
    "\n",
    "  \n",
    "        \n",
    "        \n",
    "\n",
    "print(check3(list3))"
   ]
  },
  {
   "cell_type": "code",
   "execution_count": 12,
   "id": "90b514a1",
   "metadata": {},
   "outputs": [],
   "source": [
    "def check3(arr):\n",
    "    size = len(arr)\n",
    "    for i in range(size - 2):\n",
    "        if arr[i] == arr[i + 1] and arr[i + 1] == arr[i + 2]:\n",
    "        \n",
    "                \n",
    "       \n",
    "        "
   ]
  },
  {
   "cell_type": "markdown",
   "id": "d24a7fdd",
   "metadata": {
    "id": "d24a7fdd"
   },
   "source": [
    "## Çalışma 8\n",
    "\n",
    "#### Verilən listdə 3 və 6 arasında yerləşən ədədlərdən başqa bütün ədədlərin cəmini tapan funksiya yazın."
   ]
  },
  {
   "cell_type": "code",
   "execution_count": 11,
   "id": "93e1174b",
   "metadata": {
    "id": "93e1174b",
    "outputId": "663f7d5c-3038-4f8f-ac43-78799ad27baa"
   },
   "outputs": [
    {
     "name": "stdout",
     "output_type": "stream",
     "text": [
      "8\n",
      "3\n",
      "29\n"
     ]
    }
   ],
   "source": [
    "list1 = [1, 2, 5]\n",
    "list2 = [1, 2, 3, 4, 5, 6]\n",
    "list3 = [7, 9, 3, 6, 13]\n",
    "\n",
    "         \n",
    "print(xsum(list1))\n",
    "print(xsum(list2))\n",
    "print(xsum(list3))\n"
   ]
  },
  {
   "cell_type": "code",
   "execution_count": 10,
   "id": "eaab6b2a",
   "metadata": {},
   "outputs": [],
   "source": [
    "def xsum(liste):\n",
    "    a=0\n",
    "    b=0\n",
    "    if 3 and 6 in liste:\n",
    "        for i in range(len(liste)):\n",
    "            if liste[i]==3:\n",
    "                a=+i\n",
    "            elif liste[i]==6:\n",
    "                b=+i\n",
    "        for c in liste[a:b+1]:\n",
    "            liste.remove(c)\n",
    "        return sum(liste)\n",
    "    else:return sum(liste)"
   ]
  },
  {
   "cell_type": "markdown",
   "id": "97bc04a3",
   "metadata": {
    "id": "97bc04a3"
   },
   "source": [
    "## Çalışma 9\n",
    "\n",
    "#### Verilən 2 listdə ortaq olmayan elementləri göstərən funksiya yazın."
   ]
  },
  {
   "cell_type": "code",
   "execution_count": 47,
   "id": "f273cc51",
   "metadata": {
    "id": "f273cc51",
    "outputId": "3bb4b628-3092-44d0-dec1-be432b684299"
   },
   "outputs": [
    {
     "name": "stdout",
     "output_type": "stream",
     "text": [
      "3\n",
      "4\n",
      "5\n"
     ]
    }
   ],
   "source": [
    "list1 = [1, 2, 3, 4, 5]\n",
    "list2 = [3, 4, 5, 6, 7]\n",
    "for i in list1:\n",
    "    for b in list2:\n",
    "        if i==b:\n",
    "            print(i)\n",
    "    \n",
    "\n",
    "# print(not_same(list1, list2))"
   ]
  },
  {
   "cell_type": "markdown",
   "id": "8e5f99c3",
   "metadata": {
    "id": "8e5f99c3"
   },
   "source": [
    "## Çalışma 10\n",
    "\n",
    "#### Verilən ədədin listdə hansı indeksdə yerləşən ədədlərin cəmi olduğunu göstərən funksiya yazın."
   ]
  },
  {
   "cell_type": "code",
   "execution_count": null,
   "id": "eb14a7c1",
   "metadata": {
    "id": "eb14a7c1",
    "outputId": "502a856f-e7f0-4735-fb0f-78905dce15c5"
   },
   "outputs": [
    {
     "name": "stdout",
     "output_type": "stream",
     "text": [
      "[0, 1]\n",
      "[1, 2]\n",
      "[0, 1]\n"
     ]
    }
   ],
   "source": [
    "list1 = [2, 7, 11, 5]\n",
    "list2 = [3, 2, 4]\n",
    "list3 = [3, 3]\n",
    "\n",
    "\n",
    "\n",
    "print(target_sum(list1, 9))\n",
    "print(target_sum(list2, 6))\n",
    "print(target_sum(list3, 6))"
   ]
  },
  {
   "cell_type": "markdown",
   "id": "4a85c8e5",
   "metadata": {
    "id": "4a85c8e5"
   },
   "source": [
    "## Çalışma 11\n",
    "\n",
    "#### Verilən ədədin rəqəmlərinin sayını göstərən funksiya yazın."
   ]
  },
  {
   "cell_type": "code",
   "execution_count": null,
   "id": "4a76b6e8",
   "metadata": {
    "id": "4a76b6e8",
    "outputId": "cd34cfb7-2b3a-4303-f031-d9f36c5af9e8"
   },
   "outputs": [
    {
     "name": "stdout",
     "output_type": "stream",
     "text": [
      "3\n",
      "2\n",
      "5\n"
     ]
    }
   ],
   "source": [
    "# kodunuz\n",
    "\n",
    "print(digits(123))\n",
    "print(digits(29))\n",
    "print(digits(23809))"
   ]
  },
  {
   "cell_type": "markdown",
   "id": "c23f29de",
   "metadata": {
    "id": "c23f29de"
   },
   "source": [
    "## Çalışma 12\n",
    "\n",
    "#### Verilən listdə duplikat rəqəmi qaytaran funksiya yazan.\n",
    "#### Qeyd: Listdə yalnız bir rəqəm təkrarlana bilər."
   ]
  },
  {
   "cell_type": "code",
   "execution_count": null,
   "id": "38bf96f8",
   "metadata": {
    "id": "38bf96f8",
    "outputId": "60a049d1-1529-4d6f-9aff-8aa91174a4b9"
   },
   "outputs": [
    {
     "name": "stdout",
     "output_type": "stream",
     "text": [
      "1\n",
      "4\n",
      "3\n"
     ]
    }
   ],
   "source": [
    "list1 = [1, 1, 2, 3, 1, 5]\n",
    "list2 = [1, 2, 3, 4, 4, 5]\n",
    "list3 = [1, 2, 3, 4, 3, 6]\n",
    "\n",
    "# kodunuz\n",
    "    \n",
    "print(duplicate(list1))\n",
    "print(duplicate(list2))\n",
    "print(duplicate(list3))"
   ]
  }
 ],
 "metadata": {
  "colab": {
   "provenance": []
  },
  "kernelspec": {
   "display_name": "Python 3 (ipykernel)",
   "language": "python",
   "name": "python3"
  },
  "language_info": {
   "codemirror_mode": {
    "name": "ipython",
    "version": 3
   },
   "file_extension": ".py",
   "mimetype": "text/x-python",
   "name": "python",
   "nbconvert_exporter": "python",
   "pygments_lexer": "ipython3",
   "version": "3.9.12"
  }
 },
 "nbformat": 4,
 "nbformat_minor": 5
}
