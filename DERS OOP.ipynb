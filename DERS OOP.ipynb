{
 "cells": [
  {
   "cell_type": "raw",
   "id": "090fdcc4",
   "metadata": {},
   "source": [
    "# Təsəvvür edin ki, 1 aylıq bir proyekt üzərində 2 nəfərlik komanda çalışır. İki nəfərlik komandalar junior-junior, junior-senior(senior-junior), senior-seniordan ibarət ola bilər. Nəzərə alsaq ki 1 ayda 20 iş günü olur, bu işçilər 20 və daha az gün işləmiş ola bilər. Senior və junior pozisiyasındakı insanlar eyni sayda iş günü işlədikdə, onların qazanc bölgüsü 2:1 nisbətindədir. Daha çox işləyəndə təbii ki bu nisbət arta və ya azala bilər.\n",
    "\n",
    "Sizdən istənilən:\n",
    "\n",
    "class ProjectIncome:\n",
    "    WORK_DAYS = 20\n",
    "    def __init__(self, project_income):\n",
    "        self.project_income = project_income\n",
    "\n",
    "\n",
    "class Employee:\n",
    "\n",
    "```````````````````````\n",
    "İki class yaradırsnız, ProjectIncome - proyektdən gələn gəliri göstərir. Employee - çalışan insanın pozisiyasını(junior, senior) və işlədiyi gün sayını göstərir. Siz Employee classının içərisində elə bir method yaratmalısınız ki, Employee classı vasitəsilə yaradılan iki obyektin nə qədər qazanc əldə edə edəcəyini bizə göstərsin. Lakin sizdən istədiyim bu işçiləri list və s. içərisində saxlamaq yox, Classın içərisində obyektin məlumatlarından istifadə edərək müqayisəni aparmaqdır.\n",
    "\n",
    "\n",
    "Məsələn: (Project income ı istədiyiniz kimi dəyişə bilərsiniz)\n",
    "1)\n",
    "my_project = ProjectIncome(3000)\n",
    "emp1 = Employee('Junior', 10)\n",
    "emp2 = Employee('Senior', 10)\n",
    "\n",
    "\n",
    "calculate_salary methodunu çağırırsınız və cavab \n",
    "- Employee 1: JUNIOR 1000.0    \n",
    "Employee 2: SENIOR 2000.0\n",
    "\n",
    "\n",
    "2)\n",
    "my_project = ProjectIncome(3000)\n",
    "emp1 = Employee('Senior', 15)\n",
    "emp2 = Employee('Senior', 10)\n",
    "\n",
    "\n",
    "Employee 1: SENIOR 1800.0     \n",
    "Employee 2: SENIOR 1200.0\n",
    "\n",
    "3)\n",
    "my_project = ProjectIncome(3000)\n",
    "emp1 = Employee('Junior', 15)\n",
    "emp2 = Employee('Junior', 20)\n",
    "\n",
    "\n",
    "Employee 1: JUNIOR 1285.7142857142858     \n",
    "Employee 2: JUNIOR 1714.2857142857142\n",
    "\n",
    "\n",
    "4)\n",
    "my_project = ProjectIncome(10000)\n",
    "emp1 = Employee('Senior', 18)\n",
    "emp2 = Employee('Junior', 20)\n",
    "\n",
    "\n",
    "Employee 1: SENIOR 6428.571428571429 \n",
    "Employee 2: JUNIOR 3571.4285714285716\n",
    "\n",
    "\n",
    "\n",
    "Əlavə məlumat:\n",
    "Dərsdə bu mövzuya toxuna bilməmişdik buradan izah edim.\n",
    "class Salary:\n",
    "    def __init__(self, salary_amount, working_day):\n",
    "        self.salary_amount = salary_amount\n",
    "        self.working_day = working_day\n",
    "  \n",
    "class Employee:\n",
    "    WORK_DAYS = 20\n",
    "    def __init__(self, employee_name, employee_position):\n",
    "        self.employee_name = employee_name\n",
    "        self.employee_position = employee_position\n",
    "#         self.salary = 500\n",
    "       \n",
    "    def calculate_salary(self, salary):\n",
    "        return (salary.salary_amount * salary.working_day)/self.WORK_DAYS \n",
    "\n",
    "\n",
    "\n",
    "emp1 = Employee('X', 'Data Scientist')\n",
    "emp1_salary = Salary(3000, 10)\n",
    "print(emp1.calculate_salary(salary=emp1_salary))\n",
    "\n",
    "\n",
    "Yuxarıda yazılan kodu diqqətlə oxuyun. Gördüyümüz kimi biz methodun içərisinə bir argument vermişik (salary, bu hər hansı bir ad da ola bilər mütləq deyil ki istifadə edəcəyiniz obyekt və ya class adı ilə üst üstə düşsün) bu argument sadə bir ədəd və ya string deyil biz ona yaratdığımız obyekti veririk və normalda necə o obyektin metodunu atributunu çağıraraq istifadə edirdiksə eləcə də onu (parent child olaraq müəyyənlişdirmədən) başqa bir classın içərisində istifadə edirik."
   ]
  },
  {
   "cell_type": "code",
   "execution_count": 16,
   "id": "774d49cc",
   "metadata": {},
   "outputs": [],
   "source": [
    "class ProjectIncome:\n",
    "    \n",
    "\n",
    "    def __init__(self, project_income):\n",
    "        self.project_income = project_income\n",
    "        \n",
    "class Employee:\n",
    "    WORK_DAYS = 20\n",
    "    def __init__(self, employee_position, working_day):\n",
    "        self.employee_position = employee_position\n",
    "        self.working_day = working_day\n",
    "    \n",
    "    \n",
    "    def calculate_salary(self,salary,other):\n",
    "        if self.employee_position==other.employee_position:\n",
    "            return (salary.project_income*self.working_day)/self.WORK_DAYS,(salary.project_income*other.working_day)/self.WORK_DAYS\n",
    "            "
   ]
  },
  {
   "cell_type": "code",
   "execution_count": 17,
   "id": "df8daea6",
   "metadata": {},
   "outputs": [
    {
     "name": "stdout",
     "output_type": "stream",
     "text": [
      "(1500.0, 2250.0)\n"
     ]
    }
   ],
   "source": [
    "my_project = ProjectIncome(3000)\n",
    "emp1 = Employee('Junior', 10)\n",
    "emp2 = Employee('Junior', 15)\n",
    "print(emp1.calculate_salary(salary=my_project,other=emp2))"
   ]
  },
  {
   "cell_type": "code",
   "execution_count": 4,
   "id": "4c148963",
   "metadata": {},
   "outputs": [
    {
     "ename": "NameError",
     "evalue": "name 'self_day_rate' is not defined",
     "output_type": "error",
     "traceback": [
      "\u001b[1;31m---------------------------------------------------------------------------\u001b[0m",
      "\u001b[1;31mNameError\u001b[0m                                 Traceback (most recent call last)",
      "\u001b[1;32m~\\AppData\\Local\\Temp\\ipykernel_5772\\2341318039.py\u001b[0m in \u001b[0;36m<module>\u001b[1;34m\u001b[0m\n\u001b[0;32m      2\u001b[0m \u001b[0memp1\u001b[0m \u001b[1;33m=\u001b[0m \u001b[0mEmployee\u001b[0m\u001b[1;33m(\u001b[0m\u001b[1;34m'Senior'\u001b[0m\u001b[1;33m,\u001b[0m \u001b[1;36m18\u001b[0m\u001b[1;33m)\u001b[0m\u001b[1;33m\u001b[0m\u001b[1;33m\u001b[0m\u001b[0m\n\u001b[0;32m      3\u001b[0m \u001b[0memp2\u001b[0m \u001b[1;33m=\u001b[0m \u001b[0mEmployee\u001b[0m\u001b[1;33m(\u001b[0m\u001b[1;34m'Junior'\u001b[0m\u001b[1;33m,\u001b[0m \u001b[1;36m20\u001b[0m\u001b[1;33m)\u001b[0m\u001b[1;33m\u001b[0m\u001b[1;33m\u001b[0m\u001b[0m\n\u001b[1;32m----> 4\u001b[1;33m \u001b[0memp1\u001b[0m\u001b[1;33m.\u001b[0m\u001b[0mcalculate_salary\u001b[0m\u001b[1;33m(\u001b[0m\u001b[0mother\u001b[0m\u001b[1;33m=\u001b[0m\u001b[0memp2\u001b[0m\u001b[1;33m,\u001b[0m\u001b[0mproject\u001b[0m\u001b[1;33m=\u001b[0m\u001b[0mmy_project\u001b[0m\u001b[1;33m)\u001b[0m\u001b[1;33m\u001b[0m\u001b[1;33m\u001b[0m\u001b[0m\n\u001b[0m",
      "\u001b[1;32m~\\AppData\\Local\\Temp\\ipykernel_5772\\3307992028.py\u001b[0m in \u001b[0;36mcalculate_salary\u001b[1;34m(self, other, project)\u001b[0m\n\u001b[0;32m     24\u001b[0m \u001b[1;31m#                 other_position_rate = other_rate/(self_rate+other_rate)\u001b[0m\u001b[1;33m\u001b[0m\u001b[1;33m\u001b[0m\u001b[0m\n\u001b[0;32m     25\u001b[0m \u001b[1;33m\u001b[0m\u001b[0m\n\u001b[1;32m---> 26\u001b[1;33m         \u001b[0mself\u001b[0m\u001b[1;33m.\u001b[0m\u001b[0msalary\u001b[0m \u001b[1;33m=\u001b[0m \u001b[0mproject\u001b[0m\u001b[1;33m.\u001b[0m\u001b[0mproject_income\u001b[0m\u001b[1;33m*\u001b[0m\u001b[0mself_day_rate\u001b[0m\u001b[1;33m\u001b[0m\u001b[1;33m\u001b[0m\u001b[0m\n\u001b[0m\u001b[0;32m     27\u001b[0m         \u001b[0mother\u001b[0m\u001b[1;33m.\u001b[0m\u001b[0msalary\u001b[0m \u001b[1;33m=\u001b[0m \u001b[0mproject\u001b[0m\u001b[1;33m.\u001b[0m\u001b[0mproject_income\u001b[0m\u001b[1;33m*\u001b[0m\u001b[0mother_day_rate\u001b[0m\u001b[1;33m\u001b[0m\u001b[1;33m\u001b[0m\u001b[0m\n",
      "\u001b[1;31mNameError\u001b[0m: name 'self_day_rate' is not defined"
     ]
    }
   ],
   "source": [
    "my_project = ProjectIncome(10000)\n",
    "emp1 = Employee('Senior', 18)\n",
    "emp2 = Employee('Junior', 20)\n",
    "emp1.calculate_salary(other=emp2,project=my_project)"
   ]
  },
  {
   "cell_type": "code",
   "execution_count": 8,
   "id": "4b8c7de1",
   "metadata": {},
   "outputs": [],
   "source": [
    "class Project:\n",
    "    def _init_(self,income):\n",
    "        self.income = income\n",
    "\n",
    "    def calculate_income(self,*args):\n",
    "        helper_argument = 0\n",
    "        \n",
    "        for i,j in enumerate(args):\n",
    "            \n",
    "            if j.position == \"senior\":\n",
    "                helper_argument = helper_argument+  j.days*2\n",
    "            else:\n",
    "                helper_argument =  helper_argument+j.days\n",
    "        daily_income = self.income/helper_argument\n",
    "          \n",
    "        for i,j in enumerate(args):\n",
    "            if j.position == \"senior\":\n",
    "                print(f\"Employee {i+1} {j.position}] {j.days*daily_income*2}\")\n",
    "            else:\n",
    "                print(f\"Employee {i+1} {j.position}  {j.days*daily_income}\")\n",
    "\n",
    "class Employee:\n",
    "    \n",
    "    def _init_(self,position,days):\n",
    "        self.position = position\n",
    "        self.days = days\n",
    "        \n",
    "    def _str_(self):\n",
    "        return f\"{self.position} {self.days}\""
   ]
  },
  {
   "cell_type": "code",
   "execution_count": 10,
   "id": "8339dec2",
   "metadata": {},
   "outputs": [
    {
     "ename": "TypeError",
     "evalue": "Employee() takes no arguments",
     "output_type": "error",
     "traceback": [
      "\u001b[1;31m---------------------------------------------------------------------------\u001b[0m",
      "\u001b[1;31mTypeError\u001b[0m                                 Traceback (most recent call last)",
      "\u001b[1;32m~\\AppData\\Local\\Temp\\ipykernel_5648\\278722583.py\u001b[0m in \u001b[0;36m<module>\u001b[1;34m\u001b[0m\n\u001b[1;32m----> 1\u001b[1;33m \u001b[0memp1\u001b[0m\u001b[1;33m=\u001b[0m\u001b[0mEmployee\u001b[0m\u001b[1;33m(\u001b[0m\u001b[1;34m\"senior\"\u001b[0m\u001b[1;33m,\u001b[0m\u001b[1;36m10\u001b[0m\u001b[1;33m)\u001b[0m\u001b[1;33m\u001b[0m\u001b[1;33m\u001b[0m\u001b[0m\n\u001b[0m\u001b[0;32m      2\u001b[0m \u001b[0memp2\u001b[0m\u001b[1;33m=\u001b[0m\u001b[0mEmployee\u001b[0m\u001b[1;33m(\u001b[0m\u001b[1;34m\"junior\"\u001b[0m\u001b[1;33m,\u001b[0m\u001b[1;36m10\u001b[0m\u001b[1;33m)\u001b[0m\u001b[1;33m\u001b[0m\u001b[1;33m\u001b[0m\u001b[0m\n\u001b[0;32m      3\u001b[0m \u001b[0mincome1\u001b[0m\u001b[1;33m=\u001b[0m\u001b[0mProject\u001b[0m\u001b[1;33m(\u001b[0m\u001b[1;36m3000\u001b[0m\u001b[1;33m)\u001b[0m\u001b[1;33m\u001b[0m\u001b[1;33m\u001b[0m\u001b[0m\n",
      "\u001b[1;31mTypeError\u001b[0m: Employee() takes no arguments"
     ]
    }
   ],
   "source": [
    "emp1=Employee(\"senior\",10)\n",
    "emp2=Employee(\"junior\",10)\n",
    "income1=Project(3000)\n"
   ]
  },
  {
   "cell_type": "code",
   "execution_count": null,
   "id": "7a29ccd2",
   "metadata": {},
   "outputs": [],
   "source": []
  }
 ],
 "metadata": {
  "kernelspec": {
   "display_name": "Python 3 (ipykernel)",
   "language": "python",
   "name": "python3"
  },
  "language_info": {
   "codemirror_mode": {
    "name": "ipython",
    "version": 3
   },
   "file_extension": ".py",
   "mimetype": "text/x-python",
   "name": "python",
   "nbconvert_exporter": "python",
   "pygments_lexer": "ipython3",
   "version": "3.9.13"
  }
 },
 "nbformat": 4,
 "nbformat_minor": 5
}
