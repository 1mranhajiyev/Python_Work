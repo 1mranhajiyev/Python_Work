{
 "cells": [
  {
   "cell_type": "markdown",
   "metadata": {
    "id": "dwnArd3oopc3"
   },
   "source": [
    "Handling Categorical/Qualitative variables is an important step in data preprocessing.Many Machine learning algorithms can not handle categorical variables by themself unless we convert them to numerical values.<br>\n",
    "And performance of ML algorithms is based on how Categorical variables are encoded.\n",
    "The results produced by the model varies from different encoding techniques used."
   ]
  },
  {
   "cell_type": "markdown",
   "metadata": {
    "id": "B_9tI804DV1a"
   },
   "source": [
    "Categorical variables can be divided into two categories:<br>\n",
    "1. Nominal (No particular order) \n",
    "2. Ordinal (some ordered)."
   ]
  },
  {
   "cell_type": "markdown",
   "metadata": {
    "id": "z3eVd-X_p0Rn"
   },
   "source": [
    "There are many ways we can encode these categorical variables.\n",
    "\n",
    "\n",
    "1. One Hot Encoding\n",
    "2. Label Encoding\n",
    "3. Frequency or Count Encoding\n",
    "4. Binary Encoding\n",
    "5. Mean Encoding or Target Encoding"
   ]
  },
  {
   "cell_type": "code",
   "execution_count": 31,
   "metadata": {
    "ExecuteTime": {
     "end_time": "2020-08-24T06:10:46.458364Z",
     "start_time": "2020-08-24T06:10:26.294327Z"
    },
    "id": "anTu1nZaYNS0"
   },
   "outputs": [],
   "source": [
    "# We are gonna use following libraries to perform encoding.\n",
    "# !pip install scikit-learn\n",
    "# !pip install category-encoders"
   ]
  },
  {
   "cell_type": "code",
   "execution_count": 1,
   "metadata": {
    "ExecuteTime": {
     "end_time": "2020-09-09T17:45:52.766543Z",
     "start_time": "2020-09-09T17:45:49.762833Z"
    },
    "id": "lQ6mfV-vpnYe"
   },
   "outputs": [],
   "source": [
    "import pandas as pd , numpy as np\n",
    "import category_encoders as ce\n"
   ]
  },
  {
   "cell_type": "code",
   "execution_count": 8,
   "metadata": {
    "ExecuteTime": {
     "end_time": "2020-08-24T10:03:59.781388Z",
     "start_time": "2020-08-24T10:03:59.757724Z"
    },
    "colab": {
     "base_uri": "https://localhost:8080/",
     "height": 359
    },
    "id": "yXsGmEXsvL10",
    "outputId": "54b16d67-9639-4c06-d37c-b015b588bf44"
   },
   "outputs": [
    {
     "data": {
      "text/html": [
       "<div>\n",
       "<style scoped>\n",
       "    .dataframe tbody tr th:only-of-type {\n",
       "        vertical-align: middle;\n",
       "    }\n",
       "\n",
       "    .dataframe tbody tr th {\n",
       "        vertical-align: top;\n",
       "    }\n",
       "\n",
       "    .dataframe thead th {\n",
       "        text-align: right;\n",
       "    }\n",
       "</style>\n",
       "<table border=\"1\" class=\"dataframe\">\n",
       "  <thead>\n",
       "    <tr style=\"text-align: right;\">\n",
       "      <th></th>\n",
       "      <th>Temperature</th>\n",
       "      <th>Color</th>\n",
       "      <th>Target</th>\n",
       "    </tr>\n",
       "  </thead>\n",
       "  <tbody>\n",
       "    <tr>\n",
       "      <th>0</th>\n",
       "      <td>Hot</td>\n",
       "      <td>Red</td>\n",
       "      <td>1</td>\n",
       "    </tr>\n",
       "    <tr>\n",
       "      <th>1</th>\n",
       "      <td>Cold</td>\n",
       "      <td>Yellow</td>\n",
       "      <td>1</td>\n",
       "    </tr>\n",
       "    <tr>\n",
       "      <th>2</th>\n",
       "      <td>Very Hot</td>\n",
       "      <td>Blue</td>\n",
       "      <td>1</td>\n",
       "    </tr>\n",
       "    <tr>\n",
       "      <th>3</th>\n",
       "      <td>Warm</td>\n",
       "      <td>Blue</td>\n",
       "      <td>0</td>\n",
       "    </tr>\n",
       "    <tr>\n",
       "      <th>4</th>\n",
       "      <td>Hot</td>\n",
       "      <td>Red</td>\n",
       "      <td>1</td>\n",
       "    </tr>\n",
       "    <tr>\n",
       "      <th>5</th>\n",
       "      <td>Warm</td>\n",
       "      <td>Yellow</td>\n",
       "      <td>0</td>\n",
       "    </tr>\n",
       "    <tr>\n",
       "      <th>6</th>\n",
       "      <td>Warm</td>\n",
       "      <td>Red</td>\n",
       "      <td>1</td>\n",
       "    </tr>\n",
       "    <tr>\n",
       "      <th>7</th>\n",
       "      <td>Hot</td>\n",
       "      <td>Yellow</td>\n",
       "      <td>0</td>\n",
       "    </tr>\n",
       "    <tr>\n",
       "      <th>8</th>\n",
       "      <td>Hot</td>\n",
       "      <td>Yellow</td>\n",
       "      <td>1</td>\n",
       "    </tr>\n",
       "    <tr>\n",
       "      <th>9</th>\n",
       "      <td>NaN</td>\n",
       "      <td>Blue</td>\n",
       "      <td>0</td>\n",
       "    </tr>\n",
       "  </tbody>\n",
       "</table>\n",
       "</div>"
      ],
      "text/plain": [
       "  Temperature   Color  Target\n",
       "0         Hot     Red       1\n",
       "1        Cold  Yellow       1\n",
       "2    Very Hot    Blue       1\n",
       "3        Warm    Blue       0\n",
       "4         Hot     Red       1\n",
       "5        Warm  Yellow       0\n",
       "6        Warm     Red       1\n",
       "7         Hot  Yellow       0\n",
       "8         Hot  Yellow       1\n",
       "9         NaN    Blue       0"
      ]
     },
     "execution_count": 8,
     "metadata": {},
     "output_type": "execute_result"
    }
   ],
   "source": [
    "data = {'Temperature':['Hot','Cold','Very Hot','Warm','Hot','Warm','Warm','Hot','Hot','Cold'],\n",
    "        'Color':['Red','Yellow','Blue','Blue','Red','Yellow','Red','Yellow','Yellow','Yellow'],\n",
    "        'Target':[1,1,1,0,1,0,1,0,1,1]}\n",
    "df = pd.DataFrame(data)\n",
    "df.iloc[-1] = [np.nan, 'Blue', 0]\n",
    "df"
   ]
  },
  {
   "cell_type": "code",
   "execution_count": 3,
   "metadata": {},
   "outputs": [
    {
     "data": {
      "text/plain": [
       "array(['Hot', 'Cold', 'Very Hot', 'Warm'], dtype=object)"
      ]
     },
     "execution_count": 3,
     "metadata": {},
     "output_type": "execute_result"
    }
   ],
   "source": [
    "df['Temperature'].unique()"
   ]
  },
  {
   "cell_type": "markdown",
   "metadata": {
    "id": "TI9yRFgZu5Ee"
   },
   "source": [
    "# 1. One Hot Encoding"
   ]
  },
  {
   "cell_type": "markdown",
   "metadata": {
    "id": "m_X_wTW8wwEO"
   },
   "source": [
    "In this technique, it creates a new column/feature for each category in the Categorical Variable and replaces with either 1 (presence of the feature) or 0 (absence of the feature). The number of column/feature depends on the number of categories in the Categorical Variable.This method slows down the learning process significantly if the number of the categories are very high."
   ]
  },
  {
   "cell_type": "code",
   "execution_count": 14,
   "metadata": {
    "ExecuteTime": {
     "end_time": "2020-08-24T06:11:49.189042Z",
     "start_time": "2020-08-24T06:11:49.147151Z"
    },
    "colab": {
     "base_uri": "https://localhost:8080/",
     "height": 359
    },
    "id": "Sy6fRuB4ooZx",
    "outputId": "d42cbc71-deb9-4d94-fd4b-a33a71253fc2"
   },
   "outputs": [
    {
     "data": {
      "text/html": [
       "<div>\n",
       "<style scoped>\n",
       "    .dataframe tbody tr th:only-of-type {\n",
       "        vertical-align: middle;\n",
       "    }\n",
       "\n",
       "    .dataframe tbody tr th {\n",
       "        vertical-align: top;\n",
       "    }\n",
       "\n",
       "    .dataframe thead th {\n",
       "        text-align: right;\n",
       "    }\n",
       "</style>\n",
       "<table border=\"1\" class=\"dataframe\">\n",
       "  <thead>\n",
       "    <tr style=\"text-align: right;\">\n",
       "      <th></th>\n",
       "      <th>Color</th>\n",
       "      <th>Target</th>\n",
       "      <th>Temp_Hot</th>\n",
       "      <th>Temp_Very Hot</th>\n",
       "      <th>Temp_Warm</th>\n",
       "    </tr>\n",
       "  </thead>\n",
       "  <tbody>\n",
       "    <tr>\n",
       "      <th>0</th>\n",
       "      <td>Red</td>\n",
       "      <td>1</td>\n",
       "      <td>1</td>\n",
       "      <td>0</td>\n",
       "      <td>0</td>\n",
       "    </tr>\n",
       "    <tr>\n",
       "      <th>1</th>\n",
       "      <td>Yellow</td>\n",
       "      <td>1</td>\n",
       "      <td>0</td>\n",
       "      <td>0</td>\n",
       "      <td>0</td>\n",
       "    </tr>\n",
       "    <tr>\n",
       "      <th>2</th>\n",
       "      <td>Blue</td>\n",
       "      <td>1</td>\n",
       "      <td>0</td>\n",
       "      <td>1</td>\n",
       "      <td>0</td>\n",
       "    </tr>\n",
       "    <tr>\n",
       "      <th>3</th>\n",
       "      <td>Blue</td>\n",
       "      <td>0</td>\n",
       "      <td>0</td>\n",
       "      <td>0</td>\n",
       "      <td>1</td>\n",
       "    </tr>\n",
       "    <tr>\n",
       "      <th>4</th>\n",
       "      <td>Red</td>\n",
       "      <td>1</td>\n",
       "      <td>1</td>\n",
       "      <td>0</td>\n",
       "      <td>0</td>\n",
       "    </tr>\n",
       "    <tr>\n",
       "      <th>5</th>\n",
       "      <td>Yellow</td>\n",
       "      <td>0</td>\n",
       "      <td>0</td>\n",
       "      <td>0</td>\n",
       "      <td>1</td>\n",
       "    </tr>\n",
       "    <tr>\n",
       "      <th>6</th>\n",
       "      <td>Red</td>\n",
       "      <td>1</td>\n",
       "      <td>0</td>\n",
       "      <td>0</td>\n",
       "      <td>1</td>\n",
       "    </tr>\n",
       "    <tr>\n",
       "      <th>7</th>\n",
       "      <td>Yellow</td>\n",
       "      <td>0</td>\n",
       "      <td>1</td>\n",
       "      <td>0</td>\n",
       "      <td>0</td>\n",
       "    </tr>\n",
       "    <tr>\n",
       "      <th>8</th>\n",
       "      <td>Yellow</td>\n",
       "      <td>1</td>\n",
       "      <td>1</td>\n",
       "      <td>0</td>\n",
       "      <td>0</td>\n",
       "    </tr>\n",
       "    <tr>\n",
       "      <th>9</th>\n",
       "      <td>Blue</td>\n",
       "      <td>0</td>\n",
       "      <td>0</td>\n",
       "      <td>0</td>\n",
       "      <td>0</td>\n",
       "    </tr>\n",
       "  </tbody>\n",
       "</table>\n",
       "</div>"
      ],
      "text/plain": [
       "    Color  Target  Temp_Hot  Temp_Very Hot  Temp_Warm\n",
       "0     Red       1         1              0          0\n",
       "1  Yellow       1         0              0          0\n",
       "2    Blue       1         0              1          0\n",
       "3    Blue       0         0              0          1\n",
       "4     Red       1         1              0          0\n",
       "5  Yellow       0         0              0          1\n",
       "6     Red       1         0              0          1\n",
       "7  Yellow       0         1              0          0\n",
       "8  Yellow       1         1              0          0\n",
       "9    Blue       0         0              0          0"
      ]
     },
     "execution_count": 14,
     "metadata": {},
     "output_type": "execute_result"
    }
   ],
   "source": [
    "# Using get_dummies method in pandas\n",
    "df_ohe = df.copy()\n",
    "one_hot_1 = pd.get_dummies(df_ohe, prefix = 'Temp' , columns=['Temperature'], drop_first=True)\n",
    "\n",
    "# one_hot_1.insert(loc=2, column='Temperature', value=df.Temperature.values)\n",
    "\n",
    "one_hot_1"
   ]
  },
  {
   "cell_type": "code",
   "execution_count": 11,
   "metadata": {
    "ExecuteTime": {
     "end_time": "2020-08-24T06:11:55.289725Z",
     "start_time": "2020-08-24T06:11:54.111873Z"
    },
    "colab": {
     "base_uri": "https://localhost:8080/",
     "height": 359
    },
    "id": "w0a1n_X01PDK",
    "outputId": "4fc43cf7-f270-4877-df74-43958638ca5b"
   },
   "outputs": [],
   "source": [
    "# Using OneHotEncoder in sklearn\n",
    "from sklearn.preprocessing import OneHotEncoder\n",
    "# ohe = OneHotEncoder(drop='first')\n",
    "ohe = OneHotEncoder()\n",
    "oh_array = ohe.fit_transform(df['Temperature'].values.reshape(-1, 1)).toarray()\n"
   ]
  },
  {
   "cell_type": "code",
   "execution_count": 12,
   "metadata": {},
   "outputs": [
    {
     "data": {
      "text/html": [
       "<div>\n",
       "<style scoped>\n",
       "    .dataframe tbody tr th:only-of-type {\n",
       "        vertical-align: middle;\n",
       "    }\n",
       "\n",
       "    .dataframe tbody tr th {\n",
       "        vertical-align: top;\n",
       "    }\n",
       "\n",
       "    .dataframe thead th {\n",
       "        text-align: right;\n",
       "    }\n",
       "</style>\n",
       "<table border=\"1\" class=\"dataframe\">\n",
       "  <thead>\n",
       "    <tr style=\"text-align: right;\">\n",
       "      <th></th>\n",
       "      <th>Temperature</th>\n",
       "      <th>Color</th>\n",
       "      <th>Target</th>\n",
       "      <th>Temp_Cold</th>\n",
       "      <th>Temp_Hot</th>\n",
       "      <th>Temp_Very_Hot</th>\n",
       "      <th>Temp_Warm</th>\n",
       "    </tr>\n",
       "  </thead>\n",
       "  <tbody>\n",
       "    <tr>\n",
       "      <th>0</th>\n",
       "      <td>Hot</td>\n",
       "      <td>Red</td>\n",
       "      <td>1</td>\n",
       "      <td>0.0</td>\n",
       "      <td>1.0</td>\n",
       "      <td>0.0</td>\n",
       "      <td>0.0</td>\n",
       "    </tr>\n",
       "    <tr>\n",
       "      <th>1</th>\n",
       "      <td>Cold</td>\n",
       "      <td>Yellow</td>\n",
       "      <td>1</td>\n",
       "      <td>1.0</td>\n",
       "      <td>0.0</td>\n",
       "      <td>0.0</td>\n",
       "      <td>0.0</td>\n",
       "    </tr>\n",
       "    <tr>\n",
       "      <th>2</th>\n",
       "      <td>Very Hot</td>\n",
       "      <td>Blue</td>\n",
       "      <td>1</td>\n",
       "      <td>0.0</td>\n",
       "      <td>0.0</td>\n",
       "      <td>1.0</td>\n",
       "      <td>0.0</td>\n",
       "    </tr>\n",
       "    <tr>\n",
       "      <th>3</th>\n",
       "      <td>Warm</td>\n",
       "      <td>Blue</td>\n",
       "      <td>0</td>\n",
       "      <td>0.0</td>\n",
       "      <td>0.0</td>\n",
       "      <td>0.0</td>\n",
       "      <td>1.0</td>\n",
       "    </tr>\n",
       "    <tr>\n",
       "      <th>4</th>\n",
       "      <td>Hot</td>\n",
       "      <td>Red</td>\n",
       "      <td>1</td>\n",
       "      <td>0.0</td>\n",
       "      <td>1.0</td>\n",
       "      <td>0.0</td>\n",
       "      <td>0.0</td>\n",
       "    </tr>\n",
       "    <tr>\n",
       "      <th>5</th>\n",
       "      <td>Warm</td>\n",
       "      <td>Yellow</td>\n",
       "      <td>0</td>\n",
       "      <td>0.0</td>\n",
       "      <td>0.0</td>\n",
       "      <td>0.0</td>\n",
       "      <td>1.0</td>\n",
       "    </tr>\n",
       "    <tr>\n",
       "      <th>6</th>\n",
       "      <td>Warm</td>\n",
       "      <td>Red</td>\n",
       "      <td>1</td>\n",
       "      <td>0.0</td>\n",
       "      <td>0.0</td>\n",
       "      <td>0.0</td>\n",
       "      <td>1.0</td>\n",
       "    </tr>\n",
       "    <tr>\n",
       "      <th>7</th>\n",
       "      <td>Hot</td>\n",
       "      <td>Yellow</td>\n",
       "      <td>0</td>\n",
       "      <td>0.0</td>\n",
       "      <td>1.0</td>\n",
       "      <td>0.0</td>\n",
       "      <td>0.0</td>\n",
       "    </tr>\n",
       "    <tr>\n",
       "      <th>8</th>\n",
       "      <td>Hot</td>\n",
       "      <td>Yellow</td>\n",
       "      <td>1</td>\n",
       "      <td>0.0</td>\n",
       "      <td>1.0</td>\n",
       "      <td>0.0</td>\n",
       "      <td>0.0</td>\n",
       "    </tr>\n",
       "    <tr>\n",
       "      <th>9</th>\n",
       "      <td>Cold</td>\n",
       "      <td>Yellow</td>\n",
       "      <td>1</td>\n",
       "      <td>1.0</td>\n",
       "      <td>0.0</td>\n",
       "      <td>0.0</td>\n",
       "      <td>0.0</td>\n",
       "    </tr>\n",
       "  </tbody>\n",
       "</table>\n",
       "</div>"
      ],
      "text/plain": [
       "  Temperature   Color  Target  Temp_Cold  Temp_Hot  Temp_Very_Hot  Temp_Warm\n",
       "0         Hot     Red       1        0.0       1.0            0.0        0.0\n",
       "1        Cold  Yellow       1        1.0       0.0            0.0        0.0\n",
       "2    Very Hot    Blue       1        0.0       0.0            1.0        0.0\n",
       "3        Warm    Blue       0        0.0       0.0            0.0        1.0\n",
       "4         Hot     Red       1        0.0       1.0            0.0        0.0\n",
       "5        Warm  Yellow       0        0.0       0.0            0.0        1.0\n",
       "6        Warm     Red       1        0.0       0.0            0.0        1.0\n",
       "7         Hot  Yellow       0        0.0       1.0            0.0        0.0\n",
       "8         Hot  Yellow       1        0.0       1.0            0.0        0.0\n",
       "9        Cold  Yellow       1        1.0       0.0            0.0        0.0"
      ]
     },
     "execution_count": 12,
     "metadata": {},
     "output_type": "execute_result"
    }
   ],
   "source": [
    "oh_df = pd.DataFrame(oh_array,columns=['Temp_Cold','Temp_Hot','Temp_Very_Hot','Temp_Warm'])\n",
    "\n",
    "pd.concat([df,oh_df],axis=1)"
   ]
  },
  {
   "cell_type": "code",
   "execution_count": 8,
   "metadata": {
    "ExecuteTime": {
     "end_time": "2020-08-24T06:12:01.271756Z",
     "start_time": "2020-08-24T06:12:01.215909Z"
    },
    "colab": {
     "base_uri": "https://localhost:8080/",
     "height": 359
    },
    "id": "7hMLCmJectB9",
    "outputId": "e169a52c-3d39-40a4-ccc3-fad35c0ad34c"
   },
   "outputs": [
    {
     "data": {
      "text/html": [
       "<div>\n",
       "<style scoped>\n",
       "    .dataframe tbody tr th:only-of-type {\n",
       "        vertical-align: middle;\n",
       "    }\n",
       "\n",
       "    .dataframe tbody tr th {\n",
       "        vertical-align: top;\n",
       "    }\n",
       "\n",
       "    .dataframe thead th {\n",
       "        text-align: right;\n",
       "    }\n",
       "</style>\n",
       "<table border=\"1\" class=\"dataframe\">\n",
       "  <thead>\n",
       "    <tr style=\"text-align: right;\">\n",
       "      <th></th>\n",
       "      <th>Temperature</th>\n",
       "      <th>Color</th>\n",
       "      <th>Target</th>\n",
       "      <th>Temp_Hot</th>\n",
       "      <th>Temp_Cold</th>\n",
       "      <th>Temp_Very_Hot</th>\n",
       "      <th>Temp_Warm</th>\n",
       "    </tr>\n",
       "  </thead>\n",
       "  <tbody>\n",
       "    <tr>\n",
       "      <th>0</th>\n",
       "      <td>Hot</td>\n",
       "      <td>Red</td>\n",
       "      <td>1</td>\n",
       "      <td>1</td>\n",
       "      <td>0</td>\n",
       "      <td>0</td>\n",
       "      <td>0</td>\n",
       "    </tr>\n",
       "    <tr>\n",
       "      <th>1</th>\n",
       "      <td>Cold</td>\n",
       "      <td>Yellow</td>\n",
       "      <td>1</td>\n",
       "      <td>0</td>\n",
       "      <td>1</td>\n",
       "      <td>0</td>\n",
       "      <td>0</td>\n",
       "    </tr>\n",
       "    <tr>\n",
       "      <th>2</th>\n",
       "      <td>Very Hot</td>\n",
       "      <td>Blue</td>\n",
       "      <td>1</td>\n",
       "      <td>0</td>\n",
       "      <td>0</td>\n",
       "      <td>1</td>\n",
       "      <td>0</td>\n",
       "    </tr>\n",
       "    <tr>\n",
       "      <th>3</th>\n",
       "      <td>Warm</td>\n",
       "      <td>Blue</td>\n",
       "      <td>0</td>\n",
       "      <td>0</td>\n",
       "      <td>0</td>\n",
       "      <td>0</td>\n",
       "      <td>1</td>\n",
       "    </tr>\n",
       "    <tr>\n",
       "      <th>4</th>\n",
       "      <td>Hot</td>\n",
       "      <td>Red</td>\n",
       "      <td>1</td>\n",
       "      <td>1</td>\n",
       "      <td>0</td>\n",
       "      <td>0</td>\n",
       "      <td>0</td>\n",
       "    </tr>\n",
       "    <tr>\n",
       "      <th>5</th>\n",
       "      <td>Warm</td>\n",
       "      <td>Yellow</td>\n",
       "      <td>0</td>\n",
       "      <td>0</td>\n",
       "      <td>0</td>\n",
       "      <td>0</td>\n",
       "      <td>1</td>\n",
       "    </tr>\n",
       "    <tr>\n",
       "      <th>6</th>\n",
       "      <td>Warm</td>\n",
       "      <td>Red</td>\n",
       "      <td>1</td>\n",
       "      <td>0</td>\n",
       "      <td>0</td>\n",
       "      <td>0</td>\n",
       "      <td>1</td>\n",
       "    </tr>\n",
       "    <tr>\n",
       "      <th>7</th>\n",
       "      <td>Hot</td>\n",
       "      <td>Yellow</td>\n",
       "      <td>0</td>\n",
       "      <td>1</td>\n",
       "      <td>0</td>\n",
       "      <td>0</td>\n",
       "      <td>0</td>\n",
       "    </tr>\n",
       "    <tr>\n",
       "      <th>8</th>\n",
       "      <td>Hot</td>\n",
       "      <td>Yellow</td>\n",
       "      <td>1</td>\n",
       "      <td>1</td>\n",
       "      <td>0</td>\n",
       "      <td>0</td>\n",
       "      <td>0</td>\n",
       "    </tr>\n",
       "    <tr>\n",
       "      <th>9</th>\n",
       "      <td>Cold</td>\n",
       "      <td>Yellow</td>\n",
       "      <td>1</td>\n",
       "      <td>0</td>\n",
       "      <td>1</td>\n",
       "      <td>0</td>\n",
       "      <td>0</td>\n",
       "    </tr>\n",
       "  </tbody>\n",
       "</table>\n",
       "</div>"
      ],
      "text/plain": [
       "  Temperature   Color  Target  Temp_Hot  Temp_Cold  Temp_Very_Hot  Temp_Warm\n",
       "0         Hot     Red       1         1          0              0          0\n",
       "1        Cold  Yellow       1         0          1              0          0\n",
       "2    Very Hot    Blue       1         0          0              1          0\n",
       "3        Warm    Blue       0         0          0              0          1\n",
       "4         Hot     Red       1         1          0              0          0\n",
       "5        Warm  Yellow       0         0          0              0          1\n",
       "6        Warm     Red       1         0          0              0          1\n",
       "7         Hot  Yellow       0         1          0              0          0\n",
       "8         Hot  Yellow       1         1          0              0          0\n",
       "9        Cold  Yellow       1         0          1              0          0"
      ]
     },
     "execution_count": 8,
     "metadata": {},
     "output_type": "execute_result"
    }
   ],
   "source": [
    "# Using category_encoders OneHotEncoder\n",
    "import category_encoders as ce\n",
    "ohe = ce.OneHotEncoder(cols=['Temperature'])\n",
    "ce_ohe = ohe.fit_transform(df.iloc[:,0], df.iloc[:,-1])\n",
    "ce_ohe.columns = ['Temp_Hot','Temp_Cold','Temp_Very_Hot','Temp_Warm']\n",
    "pd.concat([df,ce_ohe],axis=1)"
   ]
  },
  {
   "cell_type": "markdown",
   "metadata": {
    "id": "FhCurUQT49JV"
   },
   "source": [
    "1. For Regression, we can use N-1 (drop first or last column of One Hot Coded new feature ), \n",
    "2. For classification, the recommendation is to use all N columns as most of the tree-based algorithm builds a tree based on all available variables. "
   ]
  },
  {
   "cell_type": "markdown",
   "metadata": {
    "id": "BRa_OKPJ0kvW"
   },
   "source": [
    "**Disadvantages:** \n",
    "1. Tree algorithms cannot be applied to one-hot encoded data since it creates a sparse matrix.\n",
    "2. When the feature contains too many unique values, that many features are created which may result in overfitting."
   ]
  },
  {
   "cell_type": "markdown",
   "metadata": {
    "id": "ejGLTAH61Cea"
   },
   "source": [
    "# 2. Label Encoding"
   ]
  },
  {
   "cell_type": "markdown",
   "metadata": {
    "id": "XrWPT35t6Cdq"
   },
   "source": [
    "1. In this encoding, a unique value is assigned for different labels/categories.<br>\n",
    "2. One major issue with sklearn.LabelEncoder is it assigns the values to the labels based on the Alphabetical order of the lables.<br>\n",
    "Ex : Cold<Hot<Very Hot<Warm….0 < 1 < 2 < 3 \n",
    "\n",
    "<img src=\"data:image/png;base64,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\">"
   ]
  },
  {
   "cell_type": "code",
   "execution_count": 15,
   "metadata": {
    "ExecuteTime": {
     "end_time": "2020-08-24T06:13:02.035281Z",
     "start_time": "2020-08-24T06:13:02.022317Z"
    },
    "colab": {
     "base_uri": "https://localhost:8080/",
     "height": 359
    },
    "id": "3FTzzSeQ0-s-",
    "outputId": "efbe7d24-f453-41ec-f15f-9fef292b27fd"
   },
   "outputs": [
    {
     "data": {
      "text/html": [
       "<div>\n",
       "<style scoped>\n",
       "    .dataframe tbody tr th:only-of-type {\n",
       "        vertical-align: middle;\n",
       "    }\n",
       "\n",
       "    .dataframe tbody tr th {\n",
       "        vertical-align: top;\n",
       "    }\n",
       "\n",
       "    .dataframe thead th {\n",
       "        text-align: right;\n",
       "    }\n",
       "</style>\n",
       "<table border=\"1\" class=\"dataframe\">\n",
       "  <thead>\n",
       "    <tr style=\"text-align: right;\">\n",
       "      <th></th>\n",
       "      <th>Temperature</th>\n",
       "      <th>Color</th>\n",
       "      <th>Target</th>\n",
       "      <th>Temperature_encoded</th>\n",
       "    </tr>\n",
       "  </thead>\n",
       "  <tbody>\n",
       "    <tr>\n",
       "      <th>0</th>\n",
       "      <td>Hot</td>\n",
       "      <td>Red</td>\n",
       "      <td>1</td>\n",
       "      <td>1</td>\n",
       "    </tr>\n",
       "    <tr>\n",
       "      <th>1</th>\n",
       "      <td>Cold</td>\n",
       "      <td>Yellow</td>\n",
       "      <td>1</td>\n",
       "      <td>0</td>\n",
       "    </tr>\n",
       "    <tr>\n",
       "      <th>2</th>\n",
       "      <td>Very Hot</td>\n",
       "      <td>Blue</td>\n",
       "      <td>1</td>\n",
       "      <td>2</td>\n",
       "    </tr>\n",
       "    <tr>\n",
       "      <th>3</th>\n",
       "      <td>Warm</td>\n",
       "      <td>Blue</td>\n",
       "      <td>0</td>\n",
       "      <td>3</td>\n",
       "    </tr>\n",
       "    <tr>\n",
       "      <th>4</th>\n",
       "      <td>Hot</td>\n",
       "      <td>Red</td>\n",
       "      <td>1</td>\n",
       "      <td>1</td>\n",
       "    </tr>\n",
       "    <tr>\n",
       "      <th>5</th>\n",
       "      <td>Warm</td>\n",
       "      <td>Yellow</td>\n",
       "      <td>0</td>\n",
       "      <td>3</td>\n",
       "    </tr>\n",
       "    <tr>\n",
       "      <th>6</th>\n",
       "      <td>Warm</td>\n",
       "      <td>Red</td>\n",
       "      <td>1</td>\n",
       "      <td>3</td>\n",
       "    </tr>\n",
       "    <tr>\n",
       "      <th>7</th>\n",
       "      <td>Hot</td>\n",
       "      <td>Yellow</td>\n",
       "      <td>0</td>\n",
       "      <td>1</td>\n",
       "    </tr>\n",
       "    <tr>\n",
       "      <th>8</th>\n",
       "      <td>Hot</td>\n",
       "      <td>Yellow</td>\n",
       "      <td>1</td>\n",
       "      <td>1</td>\n",
       "    </tr>\n",
       "    <tr>\n",
       "      <th>9</th>\n",
       "      <td>NaN</td>\n",
       "      <td>Blue</td>\n",
       "      <td>0</td>\n",
       "      <td>4</td>\n",
       "    </tr>\n",
       "  </tbody>\n",
       "</table>\n",
       "</div>"
      ],
      "text/plain": [
       "  Temperature   Color  Target  Temperature_encoded\n",
       "0         Hot     Red       1                    1\n",
       "1        Cold  Yellow       1                    0\n",
       "2    Very Hot    Blue       1                    2\n",
       "3        Warm    Blue       0                    3\n",
       "4         Hot     Red       1                    1\n",
       "5        Warm  Yellow       0                    3\n",
       "6        Warm     Red       1                    3\n",
       "7         Hot  Yellow       0                    1\n",
       "8         Hot  Yellow       1                    1\n",
       "9         NaN    Blue       0                    4"
      ]
     },
     "execution_count": 15,
     "metadata": {},
     "output_type": "execute_result"
    }
   ],
   "source": [
    "# Using sklearn LabelEncoder()\n",
    "from sklearn.preprocessing import LabelEncoder\n",
    "le = LabelEncoder()\n",
    "df_ohe['Temperature_encoded'] = le.fit_transform(df.Temperature, )\n",
    "df_ohe"
   ]
  },
  {
   "cell_type": "code",
   "execution_count": 14,
   "metadata": {},
   "outputs": [
    {
     "data": {
      "text/plain": [
       "array([1, 0, 2, 3, 1, 3, 3, 1, 1, 0])"
      ]
     },
     "execution_count": 14,
     "metadata": {},
     "output_type": "execute_result"
    }
   ],
   "source": [
    "le.fit_transform(df.Temperature)"
   ]
  },
  {
   "cell_type": "code",
   "execution_count": 15,
   "metadata": {
    "ExecuteTime": {
     "end_time": "2020-08-24T06:13:06.658917Z",
     "start_time": "2020-08-24T06:13:06.643956Z"
    },
    "colab": {
     "base_uri": "https://localhost:8080/",
     "height": 359
    },
    "id": "Zn9Lo-TrD_wI",
    "outputId": "3ed565fd-337b-4bea-838d-d0f2ca5f7385"
   },
   "outputs": [
    {
     "data": {
      "text/html": [
       "<div>\n",
       "<style scoped>\n",
       "    .dataframe tbody tr th:only-of-type {\n",
       "        vertical-align: middle;\n",
       "    }\n",
       "\n",
       "    .dataframe tbody tr th {\n",
       "        vertical-align: top;\n",
       "    }\n",
       "\n",
       "    .dataframe thead th {\n",
       "        text-align: right;\n",
       "    }\n",
       "</style>\n",
       "<table border=\"1\" class=\"dataframe\">\n",
       "  <thead>\n",
       "    <tr style=\"text-align: right;\">\n",
       "      <th></th>\n",
       "      <th>Temperature</th>\n",
       "      <th>Color</th>\n",
       "      <th>Target</th>\n",
       "      <th>Temperature_factor</th>\n",
       "    </tr>\n",
       "  </thead>\n",
       "  <tbody>\n",
       "    <tr>\n",
       "      <th>0</th>\n",
       "      <td>Hot</td>\n",
       "      <td>Red</td>\n",
       "      <td>1</td>\n",
       "      <td>0</td>\n",
       "    </tr>\n",
       "    <tr>\n",
       "      <th>1</th>\n",
       "      <td>Cold</td>\n",
       "      <td>Yellow</td>\n",
       "      <td>1</td>\n",
       "      <td>1</td>\n",
       "    </tr>\n",
       "    <tr>\n",
       "      <th>2</th>\n",
       "      <td>Very Hot</td>\n",
       "      <td>Blue</td>\n",
       "      <td>1</td>\n",
       "      <td>2</td>\n",
       "    </tr>\n",
       "    <tr>\n",
       "      <th>3</th>\n",
       "      <td>Warm</td>\n",
       "      <td>Blue</td>\n",
       "      <td>0</td>\n",
       "      <td>3</td>\n",
       "    </tr>\n",
       "    <tr>\n",
       "      <th>4</th>\n",
       "      <td>Hot</td>\n",
       "      <td>Red</td>\n",
       "      <td>1</td>\n",
       "      <td>0</td>\n",
       "    </tr>\n",
       "    <tr>\n",
       "      <th>5</th>\n",
       "      <td>Warm</td>\n",
       "      <td>Yellow</td>\n",
       "      <td>0</td>\n",
       "      <td>3</td>\n",
       "    </tr>\n",
       "    <tr>\n",
       "      <th>6</th>\n",
       "      <td>Warm</td>\n",
       "      <td>Red</td>\n",
       "      <td>1</td>\n",
       "      <td>3</td>\n",
       "    </tr>\n",
       "    <tr>\n",
       "      <th>7</th>\n",
       "      <td>Hot</td>\n",
       "      <td>Yellow</td>\n",
       "      <td>0</td>\n",
       "      <td>0</td>\n",
       "    </tr>\n",
       "    <tr>\n",
       "      <th>8</th>\n",
       "      <td>Hot</td>\n",
       "      <td>Yellow</td>\n",
       "      <td>1</td>\n",
       "      <td>0</td>\n",
       "    </tr>\n",
       "    <tr>\n",
       "      <th>9</th>\n",
       "      <td>Cold</td>\n",
       "      <td>Yellow</td>\n",
       "      <td>1</td>\n",
       "      <td>1</td>\n",
       "    </tr>\n",
       "  </tbody>\n",
       "</table>\n",
       "</div>"
      ],
      "text/plain": [
       "  Temperature   Color  Target  Temperature_factor\n",
       "0         Hot     Red       1                   0\n",
       "1        Cold  Yellow       1                   1\n",
       "2    Very Hot    Blue       1                   2\n",
       "3        Warm    Blue       0                   3\n",
       "4         Hot     Red       1                   0\n",
       "5        Warm  Yellow       0                   3\n",
       "6        Warm     Red       1                   3\n",
       "7         Hot  Yellow       0                   0\n",
       "8         Hot  Yellow       1                   0\n",
       "9        Cold  Yellow       1                   1"
      ]
     },
     "execution_count": 15,
     "metadata": {},
     "output_type": "execute_result"
    }
   ],
   "source": [
    "# Using Pandas factorize()\n",
    "fact = df.copy()\n",
    "fact['Temperature_factor'] = pd.factorize(df.Temperature)[0]\n",
    "fact"
   ]
  },
  {
   "cell_type": "code",
   "execution_count": 16,
   "metadata": {},
   "outputs": [
    {
     "data": {
      "text/plain": [
       "array([0, 1, 2, 3, 0, 3, 3, 0, 0, 1], dtype=int64)"
      ]
     },
     "execution_count": 16,
     "metadata": {},
     "output_type": "execute_result"
    }
   ],
   "source": [
    "pd.factorize(df.Temperature)[0]"
   ]
  },
  {
   "cell_type": "markdown",
   "metadata": {
    "id": "wRWiy0zeIoZc"
   },
   "source": [
    "**Disadvantages:** \n",
    "1. It mis-leads the information by assigning values based on Alphabetical order instead of actual label order."
   ]
  },
  {
   "cell_type": "markdown",
   "metadata": {
    "id": "IqQ2zggJJth8"
   },
   "source": [
    "# 4. Frequency or Count Encoder"
   ]
  },
  {
   "cell_type": "markdown",
   "metadata": {
    "id": "Pmotgtk9TsM4"
   },
   "source": [
    "In frequency encoding, each of the categories in the feature is replaced with the frequencies of categories.<br>\n",
    "Here frequency of the categories is related somewhat with the target variable, it helps the model to understand and assign the weight in direct and inverse proportion, depending on the nature of the data.\n"
   ]
  },
  {
   "cell_type": "markdown",
   "metadata": {
    "id": "aLDaCvAIW4FF"
   },
   "source": [
    "<img src=\"https://encrypted-tbn0.gstatic.com/images?q=tbn:ANd9GcSKkUOZ2NAMqjYeE2gpKAV0zTkxLQDKF1xkYQ&usqp=CAU\">"
   ]
  },
  {
   "cell_type": "markdown",
   "metadata": {
    "id": "-3WYMk6WUCd0"
   },
   "source": [
    "Category refers to each of the unique values in a feature.\n",
    "1. **Frequency(category)** = Number of values in that category\n",
    "2. **Size(data)** = Size of the entire dataset."
   ]
  },
  {
   "cell_type": "code",
   "execution_count": 17,
   "metadata": {
    "scrolled": true
   },
   "outputs": [
    {
     "data": {
      "text/plain": [
       "Temperature\n",
       "Cold        0.2\n",
       "Hot         0.4\n",
       "Very Hot    0.1\n",
       "Warm        0.3\n",
       "dtype: float64"
      ]
     },
     "execution_count": 17,
     "metadata": {},
     "output_type": "execute_result"
    }
   ],
   "source": [
    "df.groupby('Temperature').size()/ len(df)"
   ]
  },
  {
   "cell_type": "code",
   "execution_count": 20,
   "metadata": {},
   "outputs": [
    {
     "data": {
      "text/plain": [
       "Temperature\n",
       "Cold        2\n",
       "Hot         4\n",
       "Very Hot    1\n",
       "Warm        3\n",
       "dtype: int64"
      ]
     },
     "execution_count": 20,
     "metadata": {},
     "output_type": "execute_result"
    }
   ],
   "source": [
    "df.groupby('Temperature').size()"
   ]
  },
  {
   "cell_type": "code",
   "execution_count": 16,
   "metadata": {},
   "outputs": [
    {
     "data": {
      "text/html": [
       "<div>\n",
       "<style scoped>\n",
       "    .dataframe tbody tr th:only-of-type {\n",
       "        vertical-align: middle;\n",
       "    }\n",
       "\n",
       "    .dataframe tbody tr th {\n",
       "        vertical-align: top;\n",
       "    }\n",
       "\n",
       "    .dataframe thead th {\n",
       "        text-align: right;\n",
       "    }\n",
       "</style>\n",
       "<table border=\"1\" class=\"dataframe\">\n",
       "  <thead>\n",
       "    <tr style=\"text-align: right;\">\n",
       "      <th></th>\n",
       "      <th>Color</th>\n",
       "    </tr>\n",
       "    <tr>\n",
       "      <th>Temperature</th>\n",
       "      <th></th>\n",
       "    </tr>\n",
       "  </thead>\n",
       "  <tbody>\n",
       "    <tr>\n",
       "      <th>Cold</th>\n",
       "      <td>0.1</td>\n",
       "    </tr>\n",
       "    <tr>\n",
       "      <th>Hot</th>\n",
       "      <td>0.4</td>\n",
       "    </tr>\n",
       "    <tr>\n",
       "      <th>Very Hot</th>\n",
       "      <td>0.1</td>\n",
       "    </tr>\n",
       "    <tr>\n",
       "      <th>Warm</th>\n",
       "      <td>0.3</td>\n",
       "    </tr>\n",
       "  </tbody>\n",
       "</table>\n",
       "</div>"
      ],
      "text/plain": [
       "             Color\n",
       "Temperature       \n",
       "Cold           0.1\n",
       "Hot            0.4\n",
       "Very Hot       0.1\n",
       "Warm           0.3"
      ]
     },
     "execution_count": 16,
     "metadata": {},
     "output_type": "execute_result"
    }
   ],
   "source": [
    "df.groupby('Temperature').count()[['Color']]/len(df)"
   ]
  },
  {
   "cell_type": "code",
   "execution_count": 23,
   "metadata": {
    "ExecuteTime": {
     "end_time": "2020-08-24T06:14:09.614432Z",
     "start_time": "2020-08-24T06:14:09.046950Z"
    },
    "colab": {
     "base_uri": "https://localhost:8080/",
     "height": 359
    },
    "id": "_V3rHQMAIdYw",
    "outputId": "30e4a729-1c03-4c30-ff4a-dff6bdf1cc68"
   },
   "outputs": [
    {
     "data": {
      "text/html": [
       "<div>\n",
       "<style scoped>\n",
       "    .dataframe tbody tr th:only-of-type {\n",
       "        vertical-align: middle;\n",
       "    }\n",
       "\n",
       "    .dataframe tbody tr th {\n",
       "        vertical-align: top;\n",
       "    }\n",
       "\n",
       "    .dataframe thead th {\n",
       "        text-align: right;\n",
       "    }\n",
       "</style>\n",
       "<table border=\"1\" class=\"dataframe\">\n",
       "  <thead>\n",
       "    <tr style=\"text-align: right;\">\n",
       "      <th></th>\n",
       "      <th>Temperature</th>\n",
       "      <th>Color</th>\n",
       "      <th>Target</th>\n",
       "      <th>Temp_Freq_Enc</th>\n",
       "    </tr>\n",
       "  </thead>\n",
       "  <tbody>\n",
       "    <tr>\n",
       "      <th>0</th>\n",
       "      <td>Hot</td>\n",
       "      <td>Red</td>\n",
       "      <td>1</td>\n",
       "      <td>0.4</td>\n",
       "    </tr>\n",
       "    <tr>\n",
       "      <th>1</th>\n",
       "      <td>Cold</td>\n",
       "      <td>Yellow</td>\n",
       "      <td>1</td>\n",
       "      <td>0.2</td>\n",
       "    </tr>\n",
       "    <tr>\n",
       "      <th>2</th>\n",
       "      <td>Very Hot</td>\n",
       "      <td>Blue</td>\n",
       "      <td>1</td>\n",
       "      <td>0.1</td>\n",
       "    </tr>\n",
       "    <tr>\n",
       "      <th>3</th>\n",
       "      <td>Warm</td>\n",
       "      <td>Blue</td>\n",
       "      <td>0</td>\n",
       "      <td>0.3</td>\n",
       "    </tr>\n",
       "    <tr>\n",
       "      <th>4</th>\n",
       "      <td>Hot</td>\n",
       "      <td>Red</td>\n",
       "      <td>1</td>\n",
       "      <td>0.4</td>\n",
       "    </tr>\n",
       "    <tr>\n",
       "      <th>5</th>\n",
       "      <td>Warm</td>\n",
       "      <td>Yellow</td>\n",
       "      <td>0</td>\n",
       "      <td>0.3</td>\n",
       "    </tr>\n",
       "    <tr>\n",
       "      <th>6</th>\n",
       "      <td>Warm</td>\n",
       "      <td>Red</td>\n",
       "      <td>1</td>\n",
       "      <td>0.3</td>\n",
       "    </tr>\n",
       "    <tr>\n",
       "      <th>7</th>\n",
       "      <td>Hot</td>\n",
       "      <td>Yellow</td>\n",
       "      <td>0</td>\n",
       "      <td>0.4</td>\n",
       "    </tr>\n",
       "    <tr>\n",
       "      <th>8</th>\n",
       "      <td>Hot</td>\n",
       "      <td>Yellow</td>\n",
       "      <td>1</td>\n",
       "      <td>0.4</td>\n",
       "    </tr>\n",
       "    <tr>\n",
       "      <th>9</th>\n",
       "      <td>Cold</td>\n",
       "      <td>Yellow</td>\n",
       "      <td>1</td>\n",
       "      <td>0.2</td>\n",
       "    </tr>\n",
       "  </tbody>\n",
       "</table>\n",
       "</div>"
      ],
      "text/plain": [
       "  Temperature   Color  Target  Temp_Freq_Enc\n",
       "0         Hot     Red       1            0.4\n",
       "1        Cold  Yellow       1            0.2\n",
       "2    Very Hot    Blue       1            0.1\n",
       "3        Warm    Blue       0            0.3\n",
       "4         Hot     Red       1            0.4\n",
       "5        Warm  Yellow       0            0.3\n",
       "6        Warm     Red       1            0.3\n",
       "7         Hot  Yellow       0            0.4\n",
       "8         Hot  Yellow       1            0.4\n",
       "9        Cold  Yellow       1            0.2"
      ]
     },
     "execution_count": 23,
     "metadata": {},
     "output_type": "execute_result"
    }
   ],
   "source": [
    "# Using Pandas groupby()\n",
    "cat_freq = df.groupby('Temperature').size() / len(df)\n",
    "df['Temp_Freq_Enc'] = df.Temperature.map(cat_freq)\n",
    "df"
   ]
  },
  {
   "cell_type": "code",
   "execution_count": 24,
   "metadata": {},
   "outputs": [
    {
     "data": {
      "text/plain": [
       "0    0.4\n",
       "1    0.2\n",
       "2    0.1\n",
       "3    0.3\n",
       "4    0.4\n",
       "5    0.3\n",
       "6    0.3\n",
       "7    0.4\n",
       "8    0.4\n",
       "9    0.2\n",
       "Name: Temp_Freq_Enc, dtype: float64"
      ]
     },
     "execution_count": 24,
     "metadata": {},
     "output_type": "execute_result"
    }
   ],
   "source": [
    "df.iloc[:,-1]"
   ]
  },
  {
   "cell_type": "code",
   "execution_count": 25,
   "metadata": {
    "ExecuteTime": {
     "end_time": "2020-08-24T06:14:16.813161Z",
     "start_time": "2020-08-24T06:14:16.788225Z"
    },
    "colab": {
     "base_uri": "https://localhost:8080/",
     "height": 359
    },
    "id": "UBWgekiVZFXY",
    "outputId": "028b49af-37eb-434e-f286-0d7fb50c5a9c"
   },
   "outputs": [
    {
     "data": {
      "text/html": [
       "<div>\n",
       "<style scoped>\n",
       "    .dataframe tbody tr th:only-of-type {\n",
       "        vertical-align: middle;\n",
       "    }\n",
       "\n",
       "    .dataframe tbody tr th {\n",
       "        vertical-align: top;\n",
       "    }\n",
       "\n",
       "    .dataframe thead th {\n",
       "        text-align: right;\n",
       "    }\n",
       "</style>\n",
       "<table border=\"1\" class=\"dataframe\">\n",
       "  <thead>\n",
       "    <tr style=\"text-align: right;\">\n",
       "      <th></th>\n",
       "      <th>Temperature</th>\n",
       "      <th>Color</th>\n",
       "      <th>Target</th>\n",
       "      <th>Temp_Freq_Enc</th>\n",
       "      <th>Temp_Count_Enc</th>\n",
       "    </tr>\n",
       "  </thead>\n",
       "  <tbody>\n",
       "    <tr>\n",
       "      <th>0</th>\n",
       "      <td>Hot</td>\n",
       "      <td>Red</td>\n",
       "      <td>1</td>\n",
       "      <td>0.4</td>\n",
       "      <td>4</td>\n",
       "    </tr>\n",
       "    <tr>\n",
       "      <th>1</th>\n",
       "      <td>Cold</td>\n",
       "      <td>Yellow</td>\n",
       "      <td>1</td>\n",
       "      <td>0.2</td>\n",
       "      <td>2</td>\n",
       "    </tr>\n",
       "    <tr>\n",
       "      <th>2</th>\n",
       "      <td>Very Hot</td>\n",
       "      <td>Blue</td>\n",
       "      <td>1</td>\n",
       "      <td>0.1</td>\n",
       "      <td>1</td>\n",
       "    </tr>\n",
       "    <tr>\n",
       "      <th>3</th>\n",
       "      <td>Warm</td>\n",
       "      <td>Blue</td>\n",
       "      <td>0</td>\n",
       "      <td>0.3</td>\n",
       "      <td>3</td>\n",
       "    </tr>\n",
       "    <tr>\n",
       "      <th>4</th>\n",
       "      <td>Hot</td>\n",
       "      <td>Red</td>\n",
       "      <td>1</td>\n",
       "      <td>0.4</td>\n",
       "      <td>4</td>\n",
       "    </tr>\n",
       "    <tr>\n",
       "      <th>5</th>\n",
       "      <td>Warm</td>\n",
       "      <td>Yellow</td>\n",
       "      <td>0</td>\n",
       "      <td>0.3</td>\n",
       "      <td>3</td>\n",
       "    </tr>\n",
       "    <tr>\n",
       "      <th>6</th>\n",
       "      <td>Warm</td>\n",
       "      <td>Red</td>\n",
       "      <td>1</td>\n",
       "      <td>0.3</td>\n",
       "      <td>3</td>\n",
       "    </tr>\n",
       "    <tr>\n",
       "      <th>7</th>\n",
       "      <td>Hot</td>\n",
       "      <td>Yellow</td>\n",
       "      <td>0</td>\n",
       "      <td>0.4</td>\n",
       "      <td>4</td>\n",
       "    </tr>\n",
       "    <tr>\n",
       "      <th>8</th>\n",
       "      <td>Hot</td>\n",
       "      <td>Yellow</td>\n",
       "      <td>1</td>\n",
       "      <td>0.4</td>\n",
       "      <td>4</td>\n",
       "    </tr>\n",
       "    <tr>\n",
       "      <th>9</th>\n",
       "      <td>Cold</td>\n",
       "      <td>Yellow</td>\n",
       "      <td>1</td>\n",
       "      <td>0.2</td>\n",
       "      <td>2</td>\n",
       "    </tr>\n",
       "  </tbody>\n",
       "</table>\n",
       "</div>"
      ],
      "text/plain": [
       "  Temperature   Color  Target  Temp_Freq_Enc  Temp_Count_Enc\n",
       "0         Hot     Red       1            0.4               4\n",
       "1        Cold  Yellow       1            0.2               2\n",
       "2    Very Hot    Blue       1            0.1               1\n",
       "3        Warm    Blue       0            0.3               3\n",
       "4         Hot     Red       1            0.4               4\n",
       "5        Warm  Yellow       0            0.3               3\n",
       "6        Warm     Red       1            0.3               3\n",
       "7         Hot  Yellow       0            0.4               4\n",
       "8         Hot  Yellow       1            0.4               4\n",
       "9        Cold  Yellow       1            0.2               2"
      ]
     },
     "execution_count": 25,
     "metadata": {},
     "output_type": "execute_result"
    }
   ],
   "source": [
    "# Using category_encoders CountEncoder\n",
    "import category_encoders as ce\n",
    "ce = ce.CountEncoder(cols=['Temperature'])\n",
    "df['Temp_Count_Enc'] = ce.fit_transform(df.iloc[:,0], df.iloc[:,-1])\n",
    "df"
   ]
  },
  {
   "cell_type": "markdown",
   "metadata": {
    "id": "fqneYsnIUgOB"
   },
   "source": [
    "**Disadvantage**:\n",
    "1. If two categories have the same frequency then it is hard to distinguish between them."
   ]
  },
  {
   "cell_type": "markdown",
   "metadata": {
    "id": "KC_X6344holD"
   },
   "source": [
    "# 5. Binary Encoding"
   ]
  },
  {
   "cell_type": "markdown",
   "metadata": {
    "id": "9-nJaVG-ixCL"
   },
   "source": [
    "1. It similar to onehot, but stores categories as binary bitstrings i.e., each binary bitstring creates one feature column.\n",
    "2. Compared to One Hot Encoding, this will require fewer feature columns (for 100 categories, One Hot Encoding will have 100 features while for Binary encoding, we will need just seven features).<br>\n",
    "\n",
    "**Feature -> ordinal encoding -> binary code -> digits of the binary code to separate columns.**"
   ]
  },
  {
   "cell_type": "code",
   "execution_count": 17,
   "metadata": {
    "ExecuteTime": {
     "end_time": "2020-08-24T09:49:04.340319Z",
     "start_time": "2020-08-24T09:49:04.286682Z"
    },
    "colab": {
     "base_uri": "https://localhost:8080/",
     "height": 359
    },
    "id": "JidiXY8zJ1ac",
    "outputId": "8adcbee7-9c43-4331-c397-ac66bdf325bc"
   },
   "outputs": [
    {
     "data": {
      "text/html": [
       "<div>\n",
       "<style scoped>\n",
       "    .dataframe tbody tr th:only-of-type {\n",
       "        vertical-align: middle;\n",
       "    }\n",
       "\n",
       "    .dataframe tbody tr th {\n",
       "        vertical-align: top;\n",
       "    }\n",
       "\n",
       "    .dataframe thead th {\n",
       "        text-align: right;\n",
       "    }\n",
       "</style>\n",
       "<table border=\"1\" class=\"dataframe\">\n",
       "  <thead>\n",
       "    <tr style=\"text-align: right;\">\n",
       "      <th></th>\n",
       "      <th>Temperature</th>\n",
       "      <th>Color</th>\n",
       "      <th>Target</th>\n",
       "      <th>Temperature_0</th>\n",
       "      <th>Temperature_1</th>\n",
       "      <th>Temperature_2</th>\n",
       "    </tr>\n",
       "  </thead>\n",
       "  <tbody>\n",
       "    <tr>\n",
       "      <th>0</th>\n",
       "      <td>Hot</td>\n",
       "      <td>Red</td>\n",
       "      <td>1</td>\n",
       "      <td>0</td>\n",
       "      <td>0</td>\n",
       "      <td>1</td>\n",
       "    </tr>\n",
       "    <tr>\n",
       "      <th>1</th>\n",
       "      <td>Cold</td>\n",
       "      <td>Yellow</td>\n",
       "      <td>1</td>\n",
       "      <td>0</td>\n",
       "      <td>1</td>\n",
       "      <td>0</td>\n",
       "    </tr>\n",
       "    <tr>\n",
       "      <th>2</th>\n",
       "      <td>Very Hot</td>\n",
       "      <td>Blue</td>\n",
       "      <td>1</td>\n",
       "      <td>0</td>\n",
       "      <td>1</td>\n",
       "      <td>1</td>\n",
       "    </tr>\n",
       "    <tr>\n",
       "      <th>3</th>\n",
       "      <td>Warm</td>\n",
       "      <td>Blue</td>\n",
       "      <td>0</td>\n",
       "      <td>1</td>\n",
       "      <td>0</td>\n",
       "      <td>0</td>\n",
       "    </tr>\n",
       "    <tr>\n",
       "      <th>4</th>\n",
       "      <td>Hot</td>\n",
       "      <td>Red</td>\n",
       "      <td>1</td>\n",
       "      <td>0</td>\n",
       "      <td>0</td>\n",
       "      <td>1</td>\n",
       "    </tr>\n",
       "    <tr>\n",
       "      <th>5</th>\n",
       "      <td>Warm</td>\n",
       "      <td>Yellow</td>\n",
       "      <td>0</td>\n",
       "      <td>1</td>\n",
       "      <td>0</td>\n",
       "      <td>0</td>\n",
       "    </tr>\n",
       "    <tr>\n",
       "      <th>6</th>\n",
       "      <td>Warm</td>\n",
       "      <td>Red</td>\n",
       "      <td>1</td>\n",
       "      <td>1</td>\n",
       "      <td>0</td>\n",
       "      <td>0</td>\n",
       "    </tr>\n",
       "    <tr>\n",
       "      <th>7</th>\n",
       "      <td>Hot</td>\n",
       "      <td>Yellow</td>\n",
       "      <td>0</td>\n",
       "      <td>0</td>\n",
       "      <td>0</td>\n",
       "      <td>1</td>\n",
       "    </tr>\n",
       "    <tr>\n",
       "      <th>8</th>\n",
       "      <td>Hot</td>\n",
       "      <td>Yellow</td>\n",
       "      <td>1</td>\n",
       "      <td>0</td>\n",
       "      <td>0</td>\n",
       "      <td>1</td>\n",
       "    </tr>\n",
       "    <tr>\n",
       "      <th>9</th>\n",
       "      <td>NaN</td>\n",
       "      <td>Blue</td>\n",
       "      <td>0</td>\n",
       "      <td>1</td>\n",
       "      <td>0</td>\n",
       "      <td>1</td>\n",
       "    </tr>\n",
       "  </tbody>\n",
       "</table>\n",
       "</div>"
      ],
      "text/plain": [
       "  Temperature   Color  Target  Temperature_0  Temperature_1  Temperature_2\n",
       "0         Hot     Red       1              0              0              1\n",
       "1        Cold  Yellow       1              0              1              0\n",
       "2    Very Hot    Blue       1              0              1              1\n",
       "3        Warm    Blue       0              1              0              0\n",
       "4         Hot     Red       1              0              0              1\n",
       "5        Warm  Yellow       0              1              0              0\n",
       "6        Warm     Red       1              1              0              0\n",
       "7         Hot  Yellow       0              0              0              1\n",
       "8         Hot  Yellow       1              0              0              1\n",
       "9         NaN    Blue       0              1              0              1"
      ]
     },
     "execution_count": 17,
     "metadata": {},
     "output_type": "execute_result"
    }
   ],
   "source": [
    "import category_encoders as ce\n",
    "be = ce.BinaryEncoder(cols=['Temperature'])\n",
    "be_df = be.fit_transform(df['Temperature'])\n",
    "pd.concat([df,be_df],axis=1)"
   ]
  },
  {
   "cell_type": "markdown",
   "metadata": {
    "id": "7XhAXfXc7vWP"
   },
   "source": [
    "# 6. Mean Encoding or Target Encoding"
   ]
  },
  {
   "cell_type": "markdown",
   "metadata": {
    "id": "KvTnsnFZ74EE"
   },
   "source": [
    "1. It has become the most popular encoding type because of Kaggle competitions.\n",
    "2. It takes information about the target to encode categories, which makes it extremely powerful.\n",
    "3. In Target Encoding, labels are correlated directly with the target.i.e., for each category in the feature label is decided with the mean value of the target variable on a training data.<br>\n",
    "Here, mdl — min data (samples) in leaf,<br> \n",
    "a — smoothing parameter, representing the power of regularization.<br>\n"
   ]
  },
  {
   "cell_type": "code",
   "execution_count": 27,
   "metadata": {},
   "outputs": [],
   "source": [
    "import warnings \n",
    "warnings.filterwarnings('ignore')"
   ]
  },
  {
   "cell_type": "code",
   "execution_count": 28,
   "metadata": {
    "ExecuteTime": {
     "end_time": "2020-08-24T06:24:25.799885Z",
     "start_time": "2020-08-24T06:24:25.746064Z"
    },
    "id": "cHbmYxTNAXJ1",
    "outputId": "9925f4fa-b718-4413-9d79-a7bde92771fb"
   },
   "outputs": [
    {
     "data": {
      "text/html": [
       "<div>\n",
       "<style scoped>\n",
       "    .dataframe tbody tr th:only-of-type {\n",
       "        vertical-align: middle;\n",
       "    }\n",
       "\n",
       "    .dataframe tbody tr th {\n",
       "        vertical-align: top;\n",
       "    }\n",
       "\n",
       "    .dataframe thead th {\n",
       "        text-align: right;\n",
       "    }\n",
       "</style>\n",
       "<table border=\"1\" class=\"dataframe\">\n",
       "  <thead>\n",
       "    <tr style=\"text-align: right;\">\n",
       "      <th></th>\n",
       "      <th>Temperature</th>\n",
       "      <th>Color</th>\n",
       "      <th>Target</th>\n",
       "      <th>Temp_Freq_Enc</th>\n",
       "      <th>Temp_Count_Enc</th>\n",
       "      <th>Temperature_ce_TarEnc</th>\n",
       "    </tr>\n",
       "  </thead>\n",
       "  <tbody>\n",
       "    <tr>\n",
       "      <th>0</th>\n",
       "      <td>Hot</td>\n",
       "      <td>Red</td>\n",
       "      <td>1</td>\n",
       "      <td>0.4</td>\n",
       "      <td>4</td>\n",
       "      <td>0.747629</td>\n",
       "    </tr>\n",
       "    <tr>\n",
       "      <th>1</th>\n",
       "      <td>Cold</td>\n",
       "      <td>Yellow</td>\n",
       "      <td>1</td>\n",
       "      <td>0.2</td>\n",
       "      <td>2</td>\n",
       "      <td>0.919318</td>\n",
       "    </tr>\n",
       "    <tr>\n",
       "      <th>2</th>\n",
       "      <td>Very Hot</td>\n",
       "      <td>Blue</td>\n",
       "      <td>1</td>\n",
       "      <td>0.1</td>\n",
       "      <td>1</td>\n",
       "      <td>0.700000</td>\n",
       "    </tr>\n",
       "    <tr>\n",
       "      <th>3</th>\n",
       "      <td>Warm</td>\n",
       "      <td>Blue</td>\n",
       "      <td>0</td>\n",
       "      <td>0.3</td>\n",
       "      <td>3</td>\n",
       "      <td>0.377041</td>\n",
       "    </tr>\n",
       "    <tr>\n",
       "      <th>4</th>\n",
       "      <td>Hot</td>\n",
       "      <td>Red</td>\n",
       "      <td>1</td>\n",
       "      <td>0.4</td>\n",
       "      <td>4</td>\n",
       "      <td>0.747629</td>\n",
       "    </tr>\n",
       "    <tr>\n",
       "      <th>5</th>\n",
       "      <td>Warm</td>\n",
       "      <td>Yellow</td>\n",
       "      <td>0</td>\n",
       "      <td>0.3</td>\n",
       "      <td>3</td>\n",
       "      <td>0.377041</td>\n",
       "    </tr>\n",
       "    <tr>\n",
       "      <th>6</th>\n",
       "      <td>Warm</td>\n",
       "      <td>Red</td>\n",
       "      <td>1</td>\n",
       "      <td>0.3</td>\n",
       "      <td>3</td>\n",
       "      <td>0.377041</td>\n",
       "    </tr>\n",
       "    <tr>\n",
       "      <th>7</th>\n",
       "      <td>Hot</td>\n",
       "      <td>Yellow</td>\n",
       "      <td>0</td>\n",
       "      <td>0.4</td>\n",
       "      <td>4</td>\n",
       "      <td>0.747629</td>\n",
       "    </tr>\n",
       "    <tr>\n",
       "      <th>8</th>\n",
       "      <td>Hot</td>\n",
       "      <td>Yellow</td>\n",
       "      <td>1</td>\n",
       "      <td>0.4</td>\n",
       "      <td>4</td>\n",
       "      <td>0.747629</td>\n",
       "    </tr>\n",
       "    <tr>\n",
       "      <th>9</th>\n",
       "      <td>Cold</td>\n",
       "      <td>Yellow</td>\n",
       "      <td>1</td>\n",
       "      <td>0.2</td>\n",
       "      <td>2</td>\n",
       "      <td>0.919318</td>\n",
       "    </tr>\n",
       "  </tbody>\n",
       "</table>\n",
       "</div>"
      ],
      "text/plain": [
       "  Temperature   Color  Target  Temp_Freq_Enc  Temp_Count_Enc  \\\n",
       "0         Hot     Red       1            0.4               4   \n",
       "1        Cold  Yellow       1            0.2               2   \n",
       "2    Very Hot    Blue       1            0.1               1   \n",
       "3        Warm    Blue       0            0.3               3   \n",
       "4         Hot     Red       1            0.4               4   \n",
       "5        Warm  Yellow       0            0.3               3   \n",
       "6        Warm     Red       1            0.3               3   \n",
       "7         Hot  Yellow       0            0.4               4   \n",
       "8         Hot  Yellow       1            0.4               4   \n",
       "9        Cold  Yellow       1            0.2               2   \n",
       "\n",
       "   Temperature_ce_TarEnc  \n",
       "0               0.747629  \n",
       "1               0.919318  \n",
       "2               0.700000  \n",
       "3               0.377041  \n",
       "4               0.747629  \n",
       "5               0.377041  \n",
       "6               0.377041  \n",
       "7               0.747629  \n",
       "8               0.747629  \n",
       "9               0.919318  "
      ]
     },
     "execution_count": 28,
     "metadata": {},
     "output_type": "execute_result"
    }
   ],
   "source": [
    "# Using category_encoders TargetEncoder\n",
    "import category_encoders as ce\n",
    "te = ce.TargetEncoder(cols=['Temperature'])\n",
    "df['Temperature_ce_TarEnc'] = te.fit_transform(df['Temperature'],df.Target)\n",
    "df"
   ]
  },
  {
   "cell_type": "code",
   "execution_count": 29,
   "metadata": {},
   "outputs": [
    {
     "data": {
      "text/plain": [
       "Temperature\n",
       "Cold        1.000000\n",
       "Hot         0.750000\n",
       "Very Hot    1.000000\n",
       "Warm        0.333333\n",
       "Name: Target, dtype: float64"
      ]
     },
     "execution_count": 29,
     "metadata": {},
     "output_type": "execute_result"
    }
   ],
   "source": [
    "df.groupby('Temperature')['Target'].mean()"
   ]
  },
  {
   "cell_type": "code",
   "execution_count": 30,
   "metadata": {
    "ExecuteTime": {
     "end_time": "2020-08-24T06:25:05.146285Z",
     "start_time": "2020-08-24T06:25:05.127335Z"
    },
    "id": "S5pyhq6rDV12",
    "outputId": "5154784c-1304-4124-818e-dd5e6194e924"
   },
   "outputs": [
    {
     "data": {
      "text/html": [
       "<div>\n",
       "<style scoped>\n",
       "    .dataframe tbody tr th:only-of-type {\n",
       "        vertical-align: middle;\n",
       "    }\n",
       "\n",
       "    .dataframe tbody tr th {\n",
       "        vertical-align: top;\n",
       "    }\n",
       "\n",
       "    .dataframe thead th {\n",
       "        text-align: right;\n",
       "    }\n",
       "</style>\n",
       "<table border=\"1\" class=\"dataframe\">\n",
       "  <thead>\n",
       "    <tr style=\"text-align: right;\">\n",
       "      <th></th>\n",
       "      <th>Temperature</th>\n",
       "      <th>Color</th>\n",
       "      <th>Target</th>\n",
       "      <th>Temp_Freq_Enc</th>\n",
       "      <th>Temp_Count_Enc</th>\n",
       "      <th>Temperature_ce_TarEnc</th>\n",
       "      <th>Temperature_tar_enc</th>\n",
       "    </tr>\n",
       "  </thead>\n",
       "  <tbody>\n",
       "    <tr>\n",
       "      <th>0</th>\n",
       "      <td>Hot</td>\n",
       "      <td>Red</td>\n",
       "      <td>1</td>\n",
       "      <td>0.4</td>\n",
       "      <td>4</td>\n",
       "      <td>0.747629</td>\n",
       "      <td>0.750000</td>\n",
       "    </tr>\n",
       "    <tr>\n",
       "      <th>1</th>\n",
       "      <td>Cold</td>\n",
       "      <td>Yellow</td>\n",
       "      <td>1</td>\n",
       "      <td>0.2</td>\n",
       "      <td>2</td>\n",
       "      <td>0.919318</td>\n",
       "      <td>1.000000</td>\n",
       "    </tr>\n",
       "    <tr>\n",
       "      <th>2</th>\n",
       "      <td>Very Hot</td>\n",
       "      <td>Blue</td>\n",
       "      <td>1</td>\n",
       "      <td>0.1</td>\n",
       "      <td>1</td>\n",
       "      <td>0.700000</td>\n",
       "      <td>1.000000</td>\n",
       "    </tr>\n",
       "    <tr>\n",
       "      <th>3</th>\n",
       "      <td>Warm</td>\n",
       "      <td>Blue</td>\n",
       "      <td>0</td>\n",
       "      <td>0.3</td>\n",
       "      <td>3</td>\n",
       "      <td>0.377041</td>\n",
       "      <td>0.333333</td>\n",
       "    </tr>\n",
       "    <tr>\n",
       "      <th>4</th>\n",
       "      <td>Hot</td>\n",
       "      <td>Red</td>\n",
       "      <td>1</td>\n",
       "      <td>0.4</td>\n",
       "      <td>4</td>\n",
       "      <td>0.747629</td>\n",
       "      <td>0.750000</td>\n",
       "    </tr>\n",
       "    <tr>\n",
       "      <th>5</th>\n",
       "      <td>Warm</td>\n",
       "      <td>Yellow</td>\n",
       "      <td>0</td>\n",
       "      <td>0.3</td>\n",
       "      <td>3</td>\n",
       "      <td>0.377041</td>\n",
       "      <td>0.333333</td>\n",
       "    </tr>\n",
       "    <tr>\n",
       "      <th>6</th>\n",
       "      <td>Warm</td>\n",
       "      <td>Red</td>\n",
       "      <td>1</td>\n",
       "      <td>0.3</td>\n",
       "      <td>3</td>\n",
       "      <td>0.377041</td>\n",
       "      <td>0.333333</td>\n",
       "    </tr>\n",
       "    <tr>\n",
       "      <th>7</th>\n",
       "      <td>Hot</td>\n",
       "      <td>Yellow</td>\n",
       "      <td>0</td>\n",
       "      <td>0.4</td>\n",
       "      <td>4</td>\n",
       "      <td>0.747629</td>\n",
       "      <td>0.750000</td>\n",
       "    </tr>\n",
       "    <tr>\n",
       "      <th>8</th>\n",
       "      <td>Hot</td>\n",
       "      <td>Yellow</td>\n",
       "      <td>1</td>\n",
       "      <td>0.4</td>\n",
       "      <td>4</td>\n",
       "      <td>0.747629</td>\n",
       "      <td>0.750000</td>\n",
       "    </tr>\n",
       "    <tr>\n",
       "      <th>9</th>\n",
       "      <td>Cold</td>\n",
       "      <td>Yellow</td>\n",
       "      <td>1</td>\n",
       "      <td>0.2</td>\n",
       "      <td>2</td>\n",
       "      <td>0.919318</td>\n",
       "      <td>1.000000</td>\n",
       "    </tr>\n",
       "  </tbody>\n",
       "</table>\n",
       "</div>"
      ],
      "text/plain": [
       "  Temperature   Color  Target  Temp_Freq_Enc  Temp_Count_Enc  \\\n",
       "0         Hot     Red       1            0.4               4   \n",
       "1        Cold  Yellow       1            0.2               2   \n",
       "2    Very Hot    Blue       1            0.1               1   \n",
       "3        Warm    Blue       0            0.3               3   \n",
       "4         Hot     Red       1            0.4               4   \n",
       "5        Warm  Yellow       0            0.3               3   \n",
       "6        Warm     Red       1            0.3               3   \n",
       "7         Hot  Yellow       0            0.4               4   \n",
       "8         Hot  Yellow       1            0.4               4   \n",
       "9        Cold  Yellow       1            0.2               2   \n",
       "\n",
       "   Temperature_ce_TarEnc  Temperature_tar_enc  \n",
       "0               0.747629             0.750000  \n",
       "1               0.919318             1.000000  \n",
       "2               0.700000             1.000000  \n",
       "3               0.377041             0.333333  \n",
       "4               0.747629             0.750000  \n",
       "5               0.377041             0.333333  \n",
       "6               0.377041             0.333333  \n",
       "7               0.747629             0.750000  \n",
       "8               0.747629             0.750000  \n",
       "9               0.919318             1.000000  "
      ]
     },
     "execution_count": 30,
     "metadata": {},
     "output_type": "execute_result"
    }
   ],
   "source": [
    "# Using Pandas groupby()\n",
    "tar_enc = df.groupby('Temperature')['Target'].mean()\n",
    "# print(tar_enc)\n",
    "df['Temperature_tar_enc'] = df['Temperature'].map(tar_enc)\n",
    "df"
   ]
  },
  {
   "cell_type": "markdown",
   "metadata": {
    "id": "jLvWqPLu_A0D"
   },
   "source": [
    "Advantage :\n",
    "1. It does not affect the volume of the data and helps in faster learning. "
   ]
  },
  {
   "cell_type": "markdown",
   "metadata": {
    "id": "PAukimxV_dj7"
   },
   "source": [
    "Disadvantage :\n",
    "1.   Target leakage: it uses information about the target. Because of the target leakage, model overfits the training data which results in unreliable validation and lower test scores.<br>\n",
    "**To reduce the effect of target leakage.**\n",
    "1. Increase regularization\n",
    "2. Add random noise to the representation of the category in train dataset (some sort of augmentation)\n",
    "3. Use Double Validation (using other validation)\n",
    "\n"
   ]
  },
  {
   "cell_type": "code",
   "execution_count": null,
   "metadata": {},
   "outputs": [],
   "source": []
  }
 ],
 "metadata": {
  "colab": {
   "collapsed_sections": [
    "TI9yRFgZu5Ee",
    "ejGLTAH61Cea",
    "DIWKGq5kHeGo",
    "IqQ2zggJJth8",
    "KC_X6344holD"
   ],
   "provenance": []
  },
  "kernelspec": {
   "display_name": "Python 3 (ipykernel)",
   "language": "python",
   "name": "python3"
  },
  "language_info": {
   "codemirror_mode": {
    "name": "ipython",
    "version": 3
   },
   "file_extension": ".py",
   "mimetype": "text/x-python",
   "name": "python",
   "nbconvert_exporter": "python",
   "pygments_lexer": "ipython3",
   "version": "3.9.12"
  },
  "toc": {
   "base_numbering": 1,
   "nav_menu": {},
   "number_sections": true,
   "sideBar": true,
   "skip_h1_title": false,
   "title_cell": "Table of Contents",
   "title_sidebar": "Contents",
   "toc_cell": false,
   "toc_position": {},
   "toc_section_display": true,
   "toc_window_display": false
  }
 },
 "nbformat": 4,
 "nbformat_minor": 1
}
