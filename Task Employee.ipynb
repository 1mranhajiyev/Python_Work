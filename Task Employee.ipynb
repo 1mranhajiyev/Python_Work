{
 "cells": [
  {
   "cell_type": "code",
   "execution_count": 7,
   "id": "606ca7b6",
   "metadata": {},
   "outputs": [],
   "source": [
    "class Project:\n",
    "    def __init__(self,income):\n",
    "        self.income = income\n",
    "\n",
    "    def calculate_income(self,*args):\n",
    "        helper_argument = 0\n",
    "        \n",
    "        for i,j in enumerate(args):\n",
    "            \n",
    "            if j.position == \"senior\":\n",
    "                helper_argument = helper_argument+  j.days*2\n",
    "            else:\n",
    "                helper_argument =  helper_argument+j.days\n",
    "        daily_income = self.income/helper_argument\n",
    "          \n",
    "        for i,j in enumerate(args):\n",
    "            if j.position == \"senior\":\n",
    "                print(f\"Employee {i+1} {j.position} {j.days*daily_income*2}\")\n",
    "            else:\n",
    "                print(f\"Employee {i+1} {j.position}  {j.days*daily_income}\")\n",
    "\n",
    "class Employee:\n",
    "    \n",
    "    def __init__(self,position,days):\n",
    "        self.position = position\n",
    "        self.days = days\n",
    "        \n",
    "    def __str__(self):\n",
    "        return f\"{self.position} {self.days}\""
   ]
  },
  {
   "cell_type": "code",
   "execution_count": 8,
   "id": "9df51ef5",
   "metadata": {},
   "outputs": [
    {
     "name": "stdout",
     "output_type": "stream",
     "text": [
      "Employee 1 senior 2000.0\n",
      "Employee 2 junior  1000.0\n"
     ]
    }
   ],
   "source": [
    "emp1=Employee(\"senior\",10)\n",
    "emp2=Employee(\"junior\",10)\n",
    "income1=Project(3000)\n",
    "income1.calculate_income(emp1,emp2)\n"
   ]
  },
  {
   "cell_type": "code",
   "execution_count": null,
   "id": "10a7bbc7",
   "metadata": {},
   "outputs": [],
   "source": []
  }
 ],
 "metadata": {
  "kernelspec": {
   "display_name": "Python 3 (ipykernel)",
   "language": "python",
   "name": "python3"
  },
  "language_info": {
   "codemirror_mode": {
    "name": "ipython",
    "version": 3
   },
   "file_extension": ".py",
   "mimetype": "text/x-python",
   "name": "python",
   "nbconvert_exporter": "python",
   "pygments_lexer": "ipython3",
   "version": "3.9.13"
  }
 },
 "nbformat": 4,
 "nbformat_minor": 5
}
