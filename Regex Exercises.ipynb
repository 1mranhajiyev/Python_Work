{
 "cells": [
  {
   "cell_type": "markdown",
   "id": "e471a642",
   "metadata": {},
   "source": [
    "### Ex. 1\n",
    "Write a Python program to abbreviate 'Street' as 'St.' in a given string."
   ]
  },
  {
   "cell_type": "code",
   "execution_count": 18,
   "id": "58f85fba",
   "metadata": {},
   "outputs": [
    {
     "data": {
      "text/plain": [
       "'Nariman Narimanov St. 21'"
      ]
     },
     "execution_count": 18,
     "metadata": {},
     "output_type": "execute_result"
    }
   ],
   "source": [
    "import re\n",
    "\n",
    "street = 'Nariman Narimanov Street 21'\n",
    "x=re.sub(\"Street\",\"St.\",street)\n",
    "x\n"
   ]
  },
  {
   "cell_type": "markdown",
   "id": "6e0d19f2",
   "metadata": {},
   "source": [
    "### Ex. 2\n",
    "\n",
    "Write a Python program to search the numbers (0-9) of length between 1 to 3 in a given string."
   ]
  },
  {
   "cell_type": "code",
   "execution_count": 19,
   "id": "09463c7b",
   "metadata": {},
   "outputs": [
    {
     "name": "stdout",
     "output_type": "stream",
     "text": [
      "['1', '12', '13', '345']\n"
     ]
    }
   ],
   "source": [
    "ex = 'Exercises number 1, 12, 13, and 345 are important'\n",
    "x=re.findall(\"[0-9]{1,3}\",ex)\n",
    "print(x)"
   ]
  },
  {
   "cell_type": "markdown",
   "id": "52bbcb38",
   "metadata": {},
   "source": [
    "### Ex. 3\n",
    "Write a Python program to check if the string end with a number."
   ]
  },
  {
   "cell_type": "code",
   "execution_count": 27,
   "id": "6c09c623",
   "metadata": {},
   "outputs": [
    {
     "data": {
      "text/plain": [
       "<re.Match object; span=(11, 12), match='8'>"
      ]
     },
     "execution_count": 27,
     "metadata": {},
     "output_type": "execute_result"
    }
   ],
   "source": [
    "ex = 'Street 56 78'\n",
    "re.search(\"\\d$\",ex)"
   ]
  },
  {
   "cell_type": "markdown",
   "id": "9cfd77b4",
   "metadata": {},
   "source": [
    "### Ex. 4\n",
    "Write a Python program to check if a telephone number start with +994 and has length of 13."
   ]
  },
  {
   "cell_type": "code",
   "execution_count": 42,
   "id": "63303ac6",
   "metadata": {},
   "outputs": [
    {
     "name": "stdout",
     "output_type": "stream",
     "text": [
      "Nomreni daxil edin: 994517601003\n"
     ]
    },
    {
     "data": {
      "text/plain": [
       "<re.Match object; span=(0, 12), match='994517601003'>"
      ]
     },
     "execution_count": 42,
     "metadata": {},
     "output_type": "execute_result"
    }
   ],
   "source": [
    "import re\n",
    "# d=1\n",
    "# while d<4:\n",
    "#     d+=1\n",
    "a=input(\"Nomreni daxil edin: \")\n",
    "#     try:\n",
    "b=re.search(\"^[+]?(994)?\\s?\\-?\\d{2,3}\\s?\\-?\\d{3}\\s?\\-?\\d{2}\\s?\\-?\\d{2}$\",a)\n",
    "b\n",
    "#         b=a.group()\n",
    "#         if b[0]=='0' :\n",
    "#             b=\"+994\"+b[1:]\n",
    "#             print(b)\n",
    "#         elif len(b)==9:\n",
    "#             b=\"+994\"+b[0:]\n",
    "#             print(b)\n",
    "#         else:\n",
    "#             print(b)\n",
    "#     except:\n",
    "#         print(\"yanlisdir\")\n"
   ]
  },
  {
   "cell_type": "code",
   "execution_count": 35,
   "id": "218e10d7",
   "metadata": {},
   "outputs": [
    {
     "name": "stdout",
     "output_type": "stream",
     "text": [
      "hello!\n",
      "Hello!\n"
     ]
    }
   ],
   "source": [
    "i = \"hello!\"\n",
    "print(i)\n",
    "i = \"H\" + i[1:]\n",
    "print(i)"
   ]
  },
  {
   "cell_type": "code",
   "execution_count": 23,
   "id": "ab469207",
   "metadata": {},
   "outputs": [
    {
     "data": {
      "text/plain": [
       "'he anko'"
      ]
     },
     "execution_count": 23,
     "metadata": {},
     "output_type": "execute_result"
    }
   ],
   "source": [
    "i=\"     he anko      \" \n",
    "i.strip()"
   ]
  },
  {
   "cell_type": "code",
   "execution_count": 94,
   "id": "b844dc6e",
   "metadata": {},
   "outputs": [
    {
     "name": "stdout",
     "output_type": "stream",
     "text": [
      "0\n",
      "10\n"
     ]
    }
   ],
   "source": [
    "a=\"0502210016\"\n",
    "print(a[0])\n",
    "print(len(a))"
   ]
  },
  {
   "cell_type": "markdown",
   "id": "abbccbc0",
   "metadata": {},
   "source": [
    "### Ex. 5\n",
    "Write a Python program to find if string contains a sequence of 3 lowercase letters on each side joined with a underscore."
   ]
  },
  {
   "cell_type": "code",
   "execution_count": 66,
   "id": "d977a06d",
   "metadata": {},
   "outputs": [
    {
     "data": {
      "text/plain": [
       "['123 abc']"
      ]
     },
     "execution_count": 66,
     "metadata": {},
     "output_type": "execute_result"
    }
   ],
   "source": [
    "\n",
    "ex1 = 'aab_cbbbc'\n",
    "ex2 = 'Aaa-cbc'\n",
    "ex3 = 'aaA-cbc % jdjk bj sjkvsv n nar_zal  123 abc aaa_bbb'\n",
    "\n",
    "re.findall(\"\\d{3}\\s[a-z]{3}\",ex3)"
   ]
  },
  {
   "cell_type": "markdown",
   "id": "f405521b",
   "metadata": {},
   "source": [
    "### Ex. 6\n",
    "Write a Python program to check that a string contains only a certain set of characters (in this case a-z, A-Z and 0-9)"
   ]
  },
  {
   "cell_type": "code",
   "execution_count": 536,
   "id": "680c5d3f",
   "metadata": {},
   "outputs": [],
   "source": [
    "re.match(\"[a-zA-Z]+/d+\",text)"
   ]
  },
  {
   "cell_type": "code",
   "execution_count": 535,
   "id": "5f98ff75",
   "metadata": {},
   "outputs": [],
   "source": [
    "text=\"absbcc1\"\n"
   ]
  },
  {
   "cell_type": "code",
   "execution_count": null,
   "id": "ed4ec0bb",
   "metadata": {},
   "outputs": [],
   "source": []
  }
 ],
 "metadata": {
  "kernelspec": {
   "display_name": "Python 3 (ipykernel)",
   "language": "python",
   "name": "python3"
  },
  "language_info": {
   "codemirror_mode": {
    "name": "ipython",
    "version": 3
   },
   "file_extension": ".py",
   "mimetype": "text/x-python",
   "name": "python",
   "nbconvert_exporter": "python",
   "pygments_lexer": "ipython3",
   "version": "3.9.13"
  }
 },
 "nbformat": 4,
 "nbformat_minor": 5
}
