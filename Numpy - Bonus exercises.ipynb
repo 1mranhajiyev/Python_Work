{
 "cells": [
  {
   "cell_type": "markdown",
   "id": "655eb8e7",
   "metadata": {},
   "source": [
    "## Exercise 1\n",
    "\n",
    "İstənilən ölçüdə array yaradın. Array-in ətrafındakı elementləri 1-lərdən, daxilindəkilər isə 0-lardan ibarət olmalıdır.\n",
    "\n",
    "Məsələn:\n",
    "\n",
    "1)\n",
    "\n",
    "    [[1,1,1,1,1],\n",
    "     [1,0,0,0,1],\n",
    "     [1,0,0,0,1],\n",
    "     [1,1,1,1,1]]\n",
    "     \n",
    "2)\n",
    "\n",
    "    [[1,1,1],\n",
    "     [1,0,1],\n",
    "     [1,1,1]]\n",
    "     \n",
    "3)\n",
    "\n",
    "    [[1,1,1,1],\n",
    "     [1,0,0,1],\n",
    "     [1,1,1,1]]     "
   ]
  },
  {
   "cell_type": "code",
   "execution_count": 49,
   "id": "be51e709",
   "metadata": {},
   "outputs": [
    {
     "name": "stdout",
     "output_type": "stream",
     "text": [
      "[[1 1 1 1 1]\n",
      " [1 1 1 1 1]\n",
      " [1 1 1 1 1]\n",
      " [1 1 1 1 1]]\n",
      "[[1 1 1 1 1]\n",
      " [1 0 0 0 1]\n",
      " [1 0 0 0 1]\n",
      " [1 1 1 1 1]]\n"
     ]
    }
   ],
   "source": [
    "import numpy as np\n",
    "\n",
    "arr1=np.ones((4,5),dtype=int)\n",
    "print(arr1) \n",
    "for i in range(arr1.shape[0]):\n",
    "    if i!=0 and i!=arr1.shape[0]-1:\n",
    "        arr1[i][1:len(arr1[i])-1]=0\n",
    "print(arr1)\n",
    "\n",
    "\n",
    "        \n",
    "\n",
    "\n"
   ]
  },
  {
   "cell_type": "markdown",
   "id": "78b57dab",
   "metadata": {},
   "source": [
    "## Exercise 2\n",
    "Verilmiş 1 ölçülü massivin [ 0,  1,  2,  3,  4,  5,  6,  7,  8,  9, 10, 11, 12, 13, 14] hər 3-cü elementi ilə başlayan 6 sətir və 4 sütundan ibarət yeni massiv yaradın"
   ]
  },
  {
   "cell_type": "code",
   "execution_count": 120,
   "id": "56b1d646",
   "metadata": {},
   "outputs": [],
   "source": [
    "array_1=np.arange(14)\n",
    "\n"
   ]
  },
  {
   "cell_type": "markdown",
   "id": "5b46e6ce",
   "metadata": {},
   "source": [
    "## Exercise 3\n",
    "Random ədədlərdən ibarət 2 ölçülü massiv yaradın. Yaratdığınız massivin hər sətrini tərsinə çevirməklə yeni massiv yaradın.\n",
    "\n",
    "Məsələn:\n",
    " \n",
    "     [[1,2,3,4,5],\n",
    "      [6,7,8,9,10],\n",
    "      [10,11,12,13,14]]\n",
    " \n",
    "Gözlənilən cavab:\n",
    " \n",
    "     [[5,4,3,2,1],\n",
    "      [10,9,8,7,6],\n",
    "      [14,13,12,11,10]]"
   ]
  },
  {
   "cell_type": "code",
   "execution_count": 79,
   "id": "b11b5c4a",
   "metadata": {},
   "outputs": [
    {
     "name": "stdout",
     "output_type": "stream",
     "text": [
      "[[11  0 13  4  3]\n",
      " [17  7  1 10  1]\n",
      " [18  4 16 18 11]]\n",
      "[[ 3  4 13  0 11]\n",
      " [ 1 10  1  7 17]\n",
      " [11 18 16  4 18]]\n"
     ]
    }
   ],
   "source": [
    "arr3=np.random.randint(20,size=(3,5))\n",
    "print(arr3)\n",
    "for i in range(arr3.shape[0]):\n",
    "    arr3[i]=arr3[i][::-1]\n",
    "print(arr3)\n"
   ]
  },
  {
   "cell_type": "markdown",
   "id": "47c28031",
   "metadata": {},
   "source": [
    "## Exercise 4\n",
    "Random ədədlərdən ibarət 2 ölçülü massiv yaradın. Yaratdığınız massivin sətirləri ilə sütunlarının yerini dəyişməklə yeni massiv yaradın.\n",
    "\n",
    "Məsələn:\n",
    "\n",
    "    [[1,2,3,4,5],\n",
    "     [6,7,8,9,10],\n",
    "     [10,11,12,13,14]]\n",
    "\n",
    "Gözlənilən cavab:\n",
    "\n",
    "    [[1,6,10],\n",
    "     [2,7,11],\n",
    "     [3,8,12],\n",
    "     [4,9,13],\n",
    "     [5,10,14]]\n",
    "\n",
    "\n",
    "​"
   ]
  },
  {
   "cell_type": "code",
   "execution_count": 83,
   "id": "da6bb964",
   "metadata": {},
   "outputs": [
    {
     "name": "stdout",
     "output_type": "stream",
     "text": [
      "[[ 7  5  7  7 15]\n",
      " [10 10  5  4  9]\n",
      " [15 12 16 11  6]]\n",
      "[[ 7 10 15]\n",
      " [ 5 10 12]\n",
      " [ 7  5 16]\n",
      " [ 7  4 11]\n",
      " [15  9  6]]\n"
     ]
    }
   ],
   "source": [
    "arr3=np.random.randint(20,size=(3,5))\n",
    "print(arr3)\n",
    "arr3=arr3.T\n",
    "print(arr3)\n"
   ]
  },
  {
   "cell_type": "markdown",
   "id": "1bfcfd77",
   "metadata": {},
   "source": [
    "## Exercise 5\n",
    "\n",
    "Verilmiş 2 ölçülü massivdən diagonalı bu massivin sətirlərindən ibarət olan yeni massiv yaradın.\n",
    "\n",
    "Gözlənilən cavab:\n",
    "\n",
    "       [[[1, 0, 0],\n",
    "        [0, 2, 0],\n",
    "        [0, 0, 3]],\n",
    "\n",
    "       [[4, 0, 0],\n",
    "        [0, 5, 0],\n",
    "        [0, 0, 6]],\n",
    "\n",
    "       [[7, 0, 0],\n",
    "        [0, 8, 0],\n",
    "        [0, 0, 9]]]"
   ]
  },
  {
   "cell_type": "code",
   "execution_count": 113,
   "id": "d405a3b5",
   "metadata": {},
   "outputs": [
    {
     "name": "stdout",
     "output_type": "stream",
     "text": [
      "[[1 0 0]\n",
      " [0 2 0]\n",
      " [0 0 3]]\n",
      "\n",
      "[[4 0 0]\n",
      " [0 5 0]\n",
      " [0 0 6]]\n",
      "\n",
      "[[7 0 0]\n",
      " [0 8 0]\n",
      " [0 0 9]]\n",
      "\n"
     ]
    }
   ],
   "source": [
    "import numpy as np\n",
    "arr = np.array([[1,2,3], [4,5,6], [7,8,9]])\n",
    "for i in range(arr.shape[0]):\n",
    "    a=np.diag(arr[i])\n",
    "    print(f\"{a}\\n\")  \n",
    "\n",
    "\n",
    "\n"
   ]
  }
 ],
 "metadata": {
  "kernelspec": {
   "display_name": "Python 3.9.13 ('base')",
   "language": "python",
   "name": "python3"
  },
  "language_info": {
   "codemirror_mode": {
    "name": "ipython",
    "version": 3
   },
   "file_extension": ".py",
   "mimetype": "text/x-python",
   "name": "python",
   "nbconvert_exporter": "python",
   "pygments_lexer": "ipython3",
   "version": "3.9.13"
  },
  "vscode": {
   "interpreter": {
    "hash": "f08154012ddadd8e950e6e9e035c7a7b32c136e7647e9b7c77e02eb723a8bedb"
   }
  }
 },
 "nbformat": 4,
 "nbformat_minor": 5
}
