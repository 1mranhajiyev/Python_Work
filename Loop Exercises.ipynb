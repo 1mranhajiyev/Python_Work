{
 "cells": [
  {
   "cell_type": "markdown",
   "id": "a29f167f",
   "metadata": {},
   "source": [
    "## Çalışma 1\n",
    "\n",
    "#### Verilən ədədin vurma cədvəlini çıxaran proqram yazın."
   ]
  },
  {
   "cell_type": "code",
   "execution_count": 29,
   "id": "e3c854b2",
   "metadata": {},
   "outputs": [
    {
     "name": "stdout",
     "output_type": "stream",
     "text": [
      "5*1=5\n",
      "5*2=10\n",
      "5*3=15\n",
      "5*4=20\n",
      "5*5=25\n",
      "5*6=30\n",
      "5*7=35\n",
      "5*8=40\n",
      "5*9=45\n"
     ]
    }
   ],
   "source": [
    "num = 5\n",
    "i=1\n",
    "while i<10:\n",
    "    res=num*i\n",
    "    print(\"{}*{}={}\".format(num,i,res))\n",
    "    i+=1\n",
    "    \n",
    "    "
   ]
  },
  {
   "cell_type": "raw",
   "id": "f1677a44",
   "metadata": {},
   "source": [
    "# Çalışma 2\n",
    "\n",
    "#### Verilən ədədin faktorialını qaytaran proqram yazın."
   ]
  },
  {
   "cell_type": "code",
   "execution_count": 30,
   "id": "7d8723b7",
   "metadata": {},
   "outputs": [
    {
     "name": "stdout",
     "output_type": "stream",
     "text": [
      "6! = 720\n"
     ]
    }
   ],
   "source": [
    "num = 6\n",
    "i=1\n",
    "\n",
    "factorial = 1\n",
    "while i<=num:\n",
    "    factorial*=i\n",
    "    i+=1\n",
    "print(str(num) + '! =', factorial)"
   ]
  },
  {
   "cell_type": "markdown",
   "id": "e83989d3",
   "metadata": {},
   "source": [
    "## Çalışma 3\n",
    "\n",
    "#### Verilən sözdə \"a\" hərfinin sayını qaytaran proqram yazın. "
   ]
  },
  {
   "cell_type": "code",
   "execution_count": 49,
   "id": "175ed070",
   "metadata": {},
   "outputs": [
    {
     "name": "stdout",
     "output_type": "stream",
     "text": [
      "sayi 3\n"
     ]
    }
   ],
   "source": [
    "word1 = 'Apple'\n",
    "word2 = 'Banana'\n",
    "a=0\n",
    "for i in word2:\n",
    "    if i=='a' or i=='A':\n",
    "        a+=1\n",
    "print(\"sayi\",a)\n",
    "        \n",
    "\n",
    "    \n",
    "    "
   ]
  },
  {
   "cell_type": "code",
   "execution_count": 64,
   "id": "d8bc68c9",
   "metadata": {},
   "outputs": [
    {
     "name": "stdout",
     "output_type": "stream",
     "text": [
      "zehmet olmasa istediyiniz sozu yazin: aaaaaa\n",
      "Yazdiginiz sozde 6 eded a var\n"
     ]
    }
   ],
   "source": [
    "ad=input(\"zehmet olmasa istediyiniz sozu yazin: \")\n",
    "a=0\n",
    "for i in ad:\n",
    "    if i=='a' or i=='A':\n",
    "        a+=1\n",
    "    else:\n",
    "        print(\"teessufi yazdiginiz sozde a yoxdur\")\n",
    "print(\"Yazdiginiz sozde\",a,\"eded a var\")\n",
    "        "
   ]
  },
  {
   "cell_type": "markdown",
   "id": "9fa847d1",
   "metadata": {},
   "source": [
    "## Çalışma 4\n",
    "\n",
    "#### Verilən sözdəki samitlərin sayını qaytaran proqram yazın."
   ]
  },
  {
   "cell_type": "code",
   "execution_count": 8,
   "id": "1de112cb",
   "metadata": {},
   "outputs": [
    {
     "name": "stdout",
     "output_type": "stream",
     "text": [
      "samitlerin sayi 5 saitlerin sayi 4\n"
     ]
    }
   ],
   "source": [
    "word = 'pineapple'\n",
    "\n",
    "count_sait = 0\n",
    "count_samit = 0\n",
    "for i in word:\n",
    "    if(i == 'a'or i == 'e'or i == 'i'or i == 'o'or i == 'u' or\n",
    "       i == 'A'or i == 'E'or i == 'I'or i == 'O'or i == 'U' ):\n",
    "        count_sait+=1\n",
    "    else: \n",
    "        count_samit+=1\n",
    "print(\"samitlerin sayi\",count_samit,\"saitlerin sayi\",count_sait)"
   ]
  },
  {
   "cell_type": "markdown",
   "id": "24190add",
   "metadata": {},
   "source": [
    "## Çalışma 5\n",
    "\n",
    "#### Verilən sözdəki böyük və kiçik hərflərin sayını qaytaran proqram yazın."
   ]
  },
  {
   "cell_type": "code",
   "execution_count": 22,
   "id": "acf0d1db",
   "metadata": {},
   "outputs": [
    {
     "name": "stdout",
     "output_type": "stream",
     "text": [
      "boyuk herflerin sayi: 4 \n",
      "kicik herflerin sayi: 5\n"
     ]
    }
   ],
   "source": [
    "word = 'PinEAppLe'\n",
    "kicik_herf=0\n",
    "boyuk_herf=0\n",
    "for i in word:\n",
    "    if i.isupper():\n",
    "        boyuk_herf+=1\n",
    "    else: kicik_herf+=1\n",
    "print(\"boyuk herflerin sayi:\",boyuk_herf,\"\\nkicik herflerin sayi:\",kicik_herf)"
   ]
  },
  {
   "cell_type": "markdown",
   "id": "495e89a5",
   "metadata": {},
   "source": [
    "## Çalışma 6\n",
    "\n",
    "#### Listdəki ədədlərin cəmini hesablayan proqram yazın."
   ]
  },
  {
   "cell_type": "code",
   "execution_count": 41,
   "id": "69cb6d13",
   "metadata": {},
   "outputs": [
    {
     "name": "stdout",
     "output_type": "stream",
     "text": [
      "ededlerin cemi: 15\n"
     ]
    }
   ],
   "source": [
    "my_list = [1, 2, 3, 4, 5]\n",
    "a=0\n",
    "for i in my_list: \n",
    "    a+=i\n",
    "print(\"ededlerin cemi:\",a)\n",
    "    "
   ]
  },
  {
   "cell_type": "markdown",
   "id": "f92da1b5",
   "metadata": {},
   "source": [
    "## Çalışma 7\n",
    "\n",
    "#### Elə proqram yazın ki, listdəki mənfi ədədlər 0-a çevrilsin, digərləri isə olduğu kimi qalsın."
   ]
  },
  {
   "cell_type": "code",
   "execution_count": 42,
   "id": "d6fdc46b",
   "metadata": {},
   "outputs": [
    {
     "name": "stdout",
     "output_type": "stream",
     "text": [
      "[5, 0, 10, 0, 0, 27]\n"
     ]
    }
   ],
   "source": [
    "my_list = [5, -17, 10, 0, -99, 27]\n",
    "for i in range(len(my_list)):\n",
    "    if my_list[i]<0:\n",
    "        my_list[i]=0\n",
    "print(my_list)\n",
    "                 \n",
    "                 "
   ]
  },
  {
   "cell_type": "markdown",
   "id": "2f7d6de5",
   "metadata": {},
   "source": [
    "## Çalışma 8\n",
    "\n",
    "#### Listdəki ən böyük ədədi tapan proqram yazın. max() funksiyasından istifadə etməyin."
   ]
  },
  {
   "cell_type": "code",
   "execution_count": 61,
   "id": "b047503f",
   "metadata": {},
   "outputs": [
    {
     "name": "stdout",
     "output_type": "stream",
     "text": [
      "99\n"
     ]
    }
   ],
   "source": [
    "my_list = [5, -17, 10, 0, 99, 27]\n",
    "print(sorted(my_list)[-1])"
   ]
  },
  {
   "cell_type": "markdown",
   "id": "86517ea7",
   "metadata": {},
   "source": [
    "## Çalışma 9\n",
    "\n",
    "#### Verilən iki listdə eyni indeksdə yerləşən ədədlərin cəmini qaytaran proqram yazın. append() funksiyasından istifadə edin."
   ]
  },
  {
   "cell_type": "code",
   "execution_count": 63,
   "id": "90abccbd",
   "metadata": {},
   "outputs": [
    {
     "name": "stdout",
     "output_type": "stream",
     "text": [
      "[7, 9, 11, 13, 15]\n"
     ]
    }
   ],
   "source": [
    "list1 = [1, 2, 3, 4, 5]\n",
    "list2 = [6, 7, 8, 9, 10]\n",
    "\n",
    "result = []\n",
    "for i in range(len(list1)):\n",
    "    a=list1[i]+list2[i]\n",
    "    result.append(a)\n",
    "print(result)"
   ]
  },
  {
   "cell_type": "markdown",
   "id": "16c73045",
   "metadata": {},
   "source": [
    "## Çalışma 10\n",
    "\n",
    "#### Verilən iki listdə tək indeksdə yerləşən ədədlərin cəmini, cüt indeksdə yerləşən ədədlərin hasilini qaytaran proqram yazın."
   ]
  },
  {
   "cell_type": "code",
   "execution_count": 76,
   "id": "1948a7b3",
   "metadata": {},
   "outputs": [
    {
     "name": "stdout",
     "output_type": "stream",
     "text": [
      "[7, 9, 24, 13, 50]\n"
     ]
    }
   ],
   "source": [
    "list1 = [1, 2, 3, 4, 5]\n",
    "list2 = [6, 7, 8, 9, 10]\n",
    "\n",
    "result = []\n",
    "for i in range(len(list1)):\n",
    "    if i%2==0 and i!=0:\n",
    "        a=list1[i]*list2[i]\n",
    "        result.append(a)\n",
    "    else:\n",
    "        b=list1[i]+list2[i]\n",
    "        result.append(b)\n",
    "print(result)"
   ]
  },
  {
   "cell_type": "markdown",
   "id": "402f84bc",
   "metadata": {},
   "source": [
    "## Çalışma 11\n",
    "\n",
    "#### Verilən listdəki stringlərin və integerlərin sayını qaytaran proqram yazın."
   ]
  },
  {
   "cell_type": "code",
   "execution_count": 26,
   "id": "cdeaa2f1",
   "metadata": {},
   "outputs": [
    {
     "name": "stdout",
     "output_type": "stream",
     "text": [
      "Number of strings : 2\n",
      "Number of integers : 3\n"
     ]
    }
   ],
   "source": [
    "my_list = [1, 2, 3, 'a', 'b']\n",
    "\n",
    "# kodunuz"
   ]
  },
  {
   "cell_type": "markdown",
   "id": "7ea921b7",
   "metadata": {},
   "source": [
    "## Çalışma 12\n",
    "\n",
    "#### Verilən iki listdə ortaq ədədləri göstərən proqram yazın."
   ]
  },
  {
   "cell_type": "code",
   "execution_count": 31,
   "id": "e6306449",
   "metadata": {},
   "outputs": [
    {
     "name": "stdout",
     "output_type": "stream",
     "text": [
      "3\n",
      "4\n",
      "5\n"
     ]
    }
   ],
   "source": [
    "list1 = [1, 2, 3, 4, 5]\n",
    "list2 = [3, 4, 5, 6, 7]\n",
    "\n",
    "# kodunuz"
   ]
  },
  {
   "cell_type": "markdown",
   "id": "6b060af4",
   "metadata": {},
   "source": [
    "## Çalışma 13\n",
    "\n",
    "#### İstifadəçidən PIN tələb edən proqram yazın. İstifadəçi maksimum 3 cəhd edə bilər. Əgər sonda PIN düzgün daxil edilirsə \"Giriş olundu\", yanlış daxil edilirsə \"Giriş qadağandır\" yazılsın."
   ]
  },
  {
   "cell_type": "code",
   "execution_count": 29,
   "id": "4298b784",
   "metadata": {},
   "outputs": [
    {
     "name": "stdout",
     "output_type": "stream",
     "text": [
      "PIN : 1\n",
      "Yanlış cəhd. Yenidən sınayın.\n",
      "PIN : 1234\n",
      "Giriş olundu\n"
     ]
    }
   ],
   "source": [
    "pin = '1234'\n",
    "\n",
    "# kodunuz"
   ]
  }
 ],
 "metadata": {
  "kernelspec": {
   "display_name": "Python 3 (ipykernel)",
   "language": "python",
   "name": "python3"
  },
  "language_info": {
   "codemirror_mode": {
    "name": "ipython",
    "version": 3
   },
   "file_extension": ".py",
   "mimetype": "text/x-python",
   "name": "python",
   "nbconvert_exporter": "python",
   "pygments_lexer": "ipython3",
   "version": "3.9.12"
  }
 },
 "nbformat": 4,
 "nbformat_minor": 5
}
