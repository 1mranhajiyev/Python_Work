{
 "cells": [
  {
   "cell_type": "markdown",
   "id": "45c2b518",
   "metadata": {},
   "source": [
    "## Exercise 1"
   ]
  },
  {
   "cell_type": "markdown",
   "id": "422b1c66",
   "metadata": {},
   "source": [
    "Write a function to determine if there are matches in a string that has an a followed by zero or one 'b'\n",
    "\n",
    "Example:\n",
    "\n",
    "1. ab -> Match\n",
    "2. abc -> not Match\n",
    "3. aabbb -> Match\n",
    "4. aacb -> Match\n",
    "5. Abbbb -> Not Match"
   ]
  },
  {
   "cell_type": "code",
   "execution_count": 2,
   "id": "46fc05d8",
   "metadata": {},
   "outputs": [
    {
     "name": "stdout",
     "output_type": "stream",
     "text": [
      "Not Match\n"
     ]
    }
   ],
   "source": [
    "import re\n",
    "\n",
    "txt = \"Abc\"\n",
    "\n",
    "\n",
    "a=re.search(\"a.*b\",txt)\n",
    "\n",
    "if a: print(\"Match\")\n",
    "else: print(\"Not Match\")\n"
   ]
  },
  {
   "cell_type": "markdown",
   "id": "9241098b",
   "metadata": {},
   "source": [
    "## Exercise 2"
   ]
  },
  {
   "cell_type": "markdown",
   "id": "323d855b",
   "metadata": {},
   "source": [
    "Write a function to determine if the string start with upper case letter and end with lower \n",
    "\n",
    "Example:\n",
    "\n",
    "1. Salam -> True\n",
    "2. sAlam -> False\n",
    "3. SalaM -> False\n",
    "4. Aac&%#b -> True\n",
    "5. Aac& s%#b -> True"
   ]
  },
  {
   "cell_type": "code",
   "execution_count": 70,
   "id": "b6029685",
   "metadata": {},
   "outputs": [
    {
     "name": "stdout",
     "output_type": "stream",
     "text": [
      "True\n"
     ]
    }
   ],
   "source": [
    "import re\n",
    "\n",
    "txt = \"SAlam\"\n",
    "\n",
    "\n",
    "a=re.search(\"^[A-Z].*[a-z]$\",txt)\n",
    "\n",
    "if a: print(True)\n",
    "else: print(False)"
   ]
  },
  {
   "cell_type": "markdown",
   "id": "2be92d01",
   "metadata": {},
   "source": [
    "## Exercise 3"
   ]
  },
  {
   "cell_type": "markdown",
   "id": "e8ed679e",
   "metadata": {},
   "source": [
    "Write a function to determine if the sentence in string is correct. Sentence may end with punctuation but not with space.\n",
    "\n",
    "Example:\n",
    "\n",
    "1. How are you? - True\n",
    "2. 'How are you? ' - False\n",
    "3. Nomren 051 yoxsa 050 ile bashlayir? - True\n",
    "4. 'You&Me ' - False\n",
    "5. 'You&Me' - True"
   ]
  },
  {
   "cell_type": "code",
   "execution_count": 7,
   "id": "600310e7",
   "metadata": {},
   "outputs": [
    {
     "name": "stdout",
     "output_type": "stream",
     "text": [
      "Not Match\n"
     ]
    }
   ],
   "source": [
    "import re\n",
    "\n",
    "txt = \" Nomren 051 yoxsa 050 ile bashlayir  ?\"\n",
    "txt1='You&Me  '\n",
    "\n",
    "a=re.search(\"\\S$\",txt1)\n",
    "\n",
    "if a: print(\"Match\")\n",
    "else: print(\"Not Match\")\n",
    "\n"
   ]
  },
  {
   "cell_type": "markdown",
   "id": "1dde9a55",
   "metadata": {},
   "source": [
    "## Exercise 4"
   ]
  },
  {
   "cell_type": "markdown",
   "id": "5311f116",
   "metadata": {},
   "source": [
    "Write a function that removes zeros from an IP address\n",
    "\n",
    "Example:\n",
    "\n",
    "216.08.094.196 -> 216.8.94.196"
   ]
  },
  {
   "cell_type": "code",
   "execution_count": 60,
   "id": "06e2bdb2",
   "metadata": {},
   "outputs": [
    {
     "name": "stdout",
     "output_type": "stream",
     "text": [
      "216.8.94.196\n"
     ]
    }
   ],
   "source": [
    "import re\n",
    "nums=\"216.08.094.196\"\n",
    "x = re.sub(\"0\", \"\",nums)\n",
    "print(x)"
   ]
  },
  {
   "cell_type": "markdown",
   "id": "3e6d091d",
   "metadata": {},
   "source": [
    "## Exercise 5"
   ]
  },
  {
   "cell_type": "markdown",
   "id": "dee9339c",
   "metadata": {},
   "source": [
    "Write a function to separate and print the numbers of a given string\n",
    "\n",
    "Example:\n",
    "\n",
    "Ten 10, Twenty 20, Thirty 30 -> 10, 20, 30"
   ]
  },
  {
   "cell_type": "code",
   "execution_count": 65,
   "id": "5967b509",
   "metadata": {},
   "outputs": [
    {
     "name": "stdout",
     "output_type": "stream",
     "text": [
      "10,20,30\n"
     ]
    }
   ],
   "source": [
    "import re\n",
    "txt=\"Ten 10, Twenty 20, Thirty 30\"\n",
    "txt=re.sub(\"[a-zA-Z]\",\"\",txt)\n",
    "x=re.sub(\" \",\"\",txt)\n",
    "print(x)"
   ]
  },
  {
   "cell_type": "code",
   "execution_count": null,
   "id": "d7309298",
   "metadata": {},
   "outputs": [],
   "source": []
  }
 ],
 "metadata": {
  "kernelspec": {
   "display_name": "Python 3 (ipykernel)",
   "language": "python",
   "name": "python3"
  },
  "language_info": {
   "codemirror_mode": {
    "name": "ipython",
    "version": 3
   },
   "file_extension": ".py",
   "mimetype": "text/x-python",
   "name": "python",
   "nbconvert_exporter": "python",
   "pygments_lexer": "ipython3",
   "version": "3.9.13"
  }
 },
 "nbformat": 4,
 "nbformat_minor": 5
}
