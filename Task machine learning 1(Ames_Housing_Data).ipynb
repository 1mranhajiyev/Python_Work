{
 "cells": [
  {
   "cell_type": "markdown",
   "id": "identical-primary",
   "metadata": {
    "papermill": {
     "duration": 0.04432,
     "end_time": "2021-05-29T20:37:02.811697",
     "exception": false,
     "start_time": "2021-05-29T20:37:02.767377",
     "status": "completed"
    },
    "tags": []
   },
   "source": [
    "The data set describes the sale of individual residential property in Ames, Iowa\n",
    "from 2006 to 2010. The data set contains 2930 observations and a large number of explanatory\n",
    "variables (23 nominal, 23 ordinal, 14 discrete, and 20 continuous) involved in assessing home\n",
    "values.\n",
    "\n"
   ]
  },
  {
   "cell_type": "markdown",
   "id": "08b4d22f",
   "metadata": {},
   "source": [
    "## Import library and dataset"
   ]
  },
  {
   "cell_type": "code",
   "execution_count": null,
   "id": "1effbdc3",
   "metadata": {},
   "outputs": [],
   "source": []
  },
  {
   "cell_type": "code",
   "execution_count": null,
   "id": "59161230",
   "metadata": {},
   "outputs": [],
   "source": []
  },
  {
   "cell_type": "markdown",
   "id": "b736a67e",
   "metadata": {},
   "source": [
    "### 1. Exploratory Data Analysis"
   ]
  },
  {
   "cell_type": "code",
   "execution_count": null,
   "id": "02d0c665",
   "metadata": {},
   "outputs": [],
   "source": []
  },
  {
   "cell_type": "code",
   "execution_count": null,
   "id": "e723eea5",
   "metadata": {},
   "outputs": [],
   "source": []
  },
  {
   "cell_type": "markdown",
   "id": "centered-winter",
   "metadata": {
    "papermill": {
     "duration": 0.05936,
     "end_time": "2021-05-29T20:37:07.432543",
     "exception": false,
     "start_time": "2021-05-29T20:37:07.373183",
     "status": "completed"
    },
    "tags": []
   },
   "source": [
    "### 2. Dealing with missing data"
   ]
  },
  {
   "cell_type": "code",
   "execution_count": null,
   "id": "431b046c",
   "metadata": {},
   "outputs": [],
   "source": []
  },
  {
   "cell_type": "code",
   "execution_count": null,
   "id": "8cc0f17b",
   "metadata": {},
   "outputs": [],
   "source": []
  },
  {
   "cell_type": "code",
   "execution_count": null,
   "id": "6fbde765",
   "metadata": {},
   "outputs": [],
   "source": []
  }
 ],
 "metadata": {
  "kernelspec": {
   "display_name": "Python 3 (ipykernel)",
   "language": "python",
   "name": "python3"
  },
  "language_info": {
   "codemirror_mode": {
    "name": "ipython",
    "version": 3
   },
   "file_extension": ".py",
   "mimetype": "text/x-python",
   "name": "python",
   "nbconvert_exporter": "python",
   "pygments_lexer": "ipython3",
   "version": "3.9.12"
  },
  "papermill": {
   "default_parameters": {},
   "duration": 25.0016,
   "end_time": "2021-05-29T20:37:18.124786",
   "environment_variables": {},
   "exception": null,
   "input_path": "__notebook__.ipynb",
   "output_path": "__notebook__.ipynb",
   "parameters": {},
   "start_time": "2021-05-29T20:36:53.123186",
   "version": "2.3.3"
  }
 },
 "nbformat": 4,
 "nbformat_minor": 5
}
