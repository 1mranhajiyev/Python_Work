{
 "cells": [
  {
   "cell_type": "markdown",
   "metadata": {},
   "source": [
    "## Exercise 1\n",
    "\n",
    "İstifadəçidən 4 ədəd daxil etməsini tələb edin, müvafiq operatorlardan istifadə edərək bu ədədlərin cəmini hesablayın.\n",
    "Qeyd: nəzərə alın ki, istifadəçi ədəd daxil etməyə də bilər, bu zaman istifadəçi 4 ədəd daxil edənə qədər ondan yenidən istəmələsiniz.\n",
    "\n",
    "Məsələn:\n",
    "\n",
    "1, 3, 4, 6\n",
    "\n",
    "\n",
    "Sum: 14"
   ]
  },
  {
   "cell_type": "code",
   "execution_count": 32,
   "metadata": {},
   "outputs": [
    {
     "name": "stdout",
     "output_type": "stream",
     "text": [
      "4 eded daxil edin\n",
      "1. ededi daxil edin:f\n",
      "!!!Ededle herfi qarisdirma,zehmet olmasa eded daxil ele!!!\n",
      "1. ededi daxil edin:2\n",
      "2. ededi daxil edin:3\n",
      "3. ededi daxil edin:4\n",
      "4. ededi daxil edin:2\n",
      "11\n"
     ]
    }
   ],
   "source": [
    "print(\"4 eded daxil edin\")\n",
    "i=0\n",
    "b=0\n",
    "while i<4:\n",
    "    line = line=input(f\"{i+1}. ededi daxil edin:\")\n",
    "    if line.isdigit():\n",
    "        b=b+int(line)\n",
    "        i+=1\n",
    "    else:\n",
    "        print(\"!!!Ededle herfi qarisdirma,zehmet olmasa eded daxil ele!!!\")\n",
    "    \n",
    "print(b)    \n"
   ]
  },
  {
   "cell_type": "markdown",
   "metadata": {},
   "source": [
    "# Exercise 2\n",
    "\n",
    "İstifadəçinin daxil etdiyi mətnin doğru avtomobil seriya nömrəsi olub olmadığını müəyyənləşdirən kod yazın. Doğru seriya nömrəsi ƏDƏD ƏDƏD TİRE HƏRF HƏRF TİRE ƏDƏD ƏDƏD ƏDƏD şəklində olmalıdır\n",
    "\n",
    "10-AA-252    -> dogru\n",
    "\n",
    "10-aa-252    -> yanlis\n",
    "\n",
    "10-AAA-252   -> yanlis"
   ]
  },
  {
   "cell_type": "code",
   "execution_count": 60,
   "metadata": {},
   "outputs": [
    {
     "name": "stdout",
     "output_type": "stream",
     "text": [
      "10-AA- 23\n",
      "Yanlis\n"
     ]
    }
   ],
   "source": [
    "line=input().strip()\n",
    "array=line.split(\"-\")\n",
    "isvalid=False\n",
    "if len(array)==3:\n",
    "    if array[0].isdigit() and len(array[0])==2:\n",
    "        if len(array[1].strip())==2 and array[1].isupper():\n",
    "            if array[2].isdigit() and len(array[2])==3:\n",
    "                isvalid=True\n",
    "                \n",
    "if isvalid:\n",
    "    print(\"Dogru\")\n",
    "else:\n",
    "    print(\"Yanlis\")\n",
    "        \n",
    "    "
   ]
  },
  {
   "cell_type": "markdown",
   "metadata": {},
   "source": [
    "## Exercise 3\n",
    "\n",
    "Uşaq teatrı rəhbərliyi qrup şəklində gələn uşaqlar üçün endirim tətbiq edir. Endirim yaşlar üzrə bu şəkildədir, normal biletin qiyməti isə 10 azndir. Endirimlər yalnız iki və daha çox uşaq gəldikdə tətbiq edilə bilər.\n",
    "\n",
    "0-3 yaş    10 faiz\n",
    "\n",
    "4-8 yaş    8 faiz\n",
    "\n",
    "9-12 yaş    6 faiz\n",
    "\n",
    "\n",
    "İstifadəçidən ilk olaraq, qrupdakı uşaqların sayını soruşun. Daha sonra, bu sayı nəzərə alaraq yaşları daxil etməsini istəyin. Sonda ümumi qiyməti ekranda çap edin.\n"
   ]
  },
  {
   "cell_type": "code",
   "execution_count": null,
   "metadata": {},
   "outputs": [],
   "source": []
  },
  {
   "cell_type": "markdown",
   "metadata": {},
   "source": [
    "## Exercise 4\n",
    "\n",
    "İstifadəçidən bir ədəd daxil etməsini istəyin. Daxil edilən ədədi və tərsini ekrana çap edin.\n",
    "\n",
    "Məsələn: 523787 --> 787325"
   ]
  },
  {
   "cell_type": "code",
   "execution_count": 76,
   "metadata": {},
   "outputs": [
    {
     "name": "stdout",
     "output_type": "stream",
     "text": [
      "123456\n",
      "654321\n"
     ]
    }
   ],
   "source": [
    "# a=list(input())\n",
    "# a=\"\".join(list(reversed(a)))\n",
    "a=input()\n",
    "a = a[::-1]\n",
    "print(a)"
   ]
  },
  {
   "cell_type": "markdown",
   "metadata": {},
   "source": [
    "## Exercise 5\n",
    "\n",
    "İstifadəçidən bir söz daxil etməyini istəyin. Daxil edilən sözdə, kiçik a-nı böyük A-ya, böyük A-nı isə kiçik a-ya çevirin. Sözdə a\\A olmadığı təqdirdə isə, sözü olduğu kimi çap edin. \n",
    "\n",
    "Məsələn:\n",
    "\n",
    "AbrakAdAbra --> abrAkadabrA\n",
    "\n",
    "exercise --> exercise"
   ]
  },
  {
   "cell_type": "code",
   "execution_count": null,
   "metadata": {},
   "outputs": [],
   "source": [
    "# your code"
   ]
  },
  {
   "cell_type": "markdown",
   "metadata": {},
   "source": [
    "\n",
    "\n"
   ]
  },
  {
   "cell_type": "markdown",
   "metadata": {},
   "source": [
    "## Case Study: Coffee shop\n",
    "\n",
    "Fərz edin ki, kiçik kofe dükanı üçün sadə çek çap etməyiniz tələb olunur. Kafedə kofe və desert satılır.\n",
    "\n",
    "Məhsullar üçün qiymətlər bu şəkildədir:\n",
    "\n",
    "Kofe = 1.5 azn\n",
    "\n",
    "Desert = 0.5 azn\n",
    "\n",
    "\n",
    "Əgər müştəri bu məhsullardan ancaq birini alarsa heç bir endirim tətbiq edilmir.\n",
    "\n",
    "Kofe + desert ikilisi üçün, həmçinin də hər birindən bir neçə ədəd aldıqda sondakı məbləğə 10 faiz endirim tətbiq edilir. \n",
    "\n",
    "\n",
    "Bir kombinasiya üçün kod hissəsi əvvəlcədən yazılmışdır. Siz isə, aşağıdakı koddan istifadə edərək, \n",
    "dövr və şərt operatorlarını tətbiq edib istifadəçidən (bu halda kassa işçisindən) müştərinin sifariş etdiyi yeməklərin adlarını daxil etməsini istəyəcəksiniz, nəticədə isə bu şəkildə çek çap etməlisiniz.\n",
    "\n",
    "Kassa işçisi yeməkləri olduğu kimi yazmalıdır: (kofe, desert), daha sonra saylarını bildirməlidir və yekun qiymət hesablanmalıdır.\n",
    "\n",
    "Bir müştəri məhsullardan istənilən sayda ala bilər. (məs: 3 kofe, 1 desert və ya  2 desert, 1 kofe) və s.\n"
   ]
  },
  {
   "cell_type": "code",
   "execution_count": null,
   "metadata": {},
   "outputs": [],
   "source": [
    "# your code"
   ]
  },
  {
   "cell_type": "code",
   "execution_count": 4,
   "metadata": {},
   "outputs": [
    {
     "name": "stdout",
     "output_type": "stream",
     "text": [
      "--------------------------------------------------\n",
      "Coffee shop\n",
      "617-566-5204\n",
      "--------------------------------------------------\n",
      "Qeyd: Sifarişi tamamlamaq üçün `End` deyə bilərsiniz.\n",
      "Yemək \t\tQiymət (ədəd) \tSay\n",
      "Kofe\t\t 1.5 azn \t  1\n",
      "Desert\t\t 0.5 azn \t  1\n",
      "**************************************************\n",
      "Ümumi:\t\t 1.8 azn\n",
      "**************************************************\n",
      "Çatdırılma üçün əlaqə: 617-566-5204\n",
      "**************************************************\n"
     ]
    }
   ],
   "source": [
    "restoran_ad = \"Coffee shop\"\n",
    "restoran_unvan = \"400 Brookline Ave, Boston, MA\"\n",
    "restoran_nomre = \"617-566-5204\"\n",
    "\n",
    "print(\"-\" * 50)\n",
    "print(restoran_ad)\n",
    "print(restoran_nomre)\n",
    "print(\"-\" * 50)\n",
    "\n",
    "\n",
    "# numune\n",
    "kofe_say = 1\n",
    "desert_say = 1\n",
    "\n",
    "# her ikisini alib deye 10 % endirim tetbiq edilmishdir\n",
    "kofe_desert_qiymet = (1*1.5 + 1*.5)*.9\n",
    "\n",
    "print(\"Qeyd: Sifarişi tamamlamaq üçün `End` deyə bilərsiniz.\")\n",
    "\n",
    "# your code\n",
    "\n",
    "\n",
    "print(\"Yemək \\t\\tQiymət (ədəd) \\tSay\")\n",
    "\n",
    "print(\"Kofe\\t\\t\" ,1.5, \"azn \\t \", kofe_say)\n",
    "print(\"Desert\\t\\t\" ,0.5, \"azn \\t \", desert_say)\n",
    "    \n",
    "print(\"*\" * 50)\n",
    "\n",
    "print(\"Ümumi:\\t\\t\", kofe_desert_qiymet, \"azn\")\n",
    "\n",
    "print(\"*\" * 50)\n",
    "print(\"Çatdırılma üçün əlaqə:\", restoran_nomre)\n",
    "print(\"*\" * 50)"
   ]
  },
  {
   "cell_type": "code",
   "execution_count": null,
   "metadata": {},
   "outputs": [],
   "source": []
  }
 ],
 "metadata": {
  "kernelspec": {
   "display_name": "Python 3 (ipykernel)",
   "language": "python",
   "name": "python3"
  },
  "language_info": {
   "codemirror_mode": {
    "name": "ipython",
    "version": 3
   },
   "file_extension": ".py",
   "mimetype": "text/x-python",
   "name": "python",
   "nbconvert_exporter": "python",
   "pygments_lexer": "ipython3",
   "version": "3.9.12"
  }
 },
 "nbformat": 4,
 "nbformat_minor": 4
}
