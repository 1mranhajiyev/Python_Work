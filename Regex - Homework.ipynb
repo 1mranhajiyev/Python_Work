{
 "cells": [
  {
   "cell_type": "markdown",
   "id": "45c2b518",
   "metadata": {},
   "source": [
    "## Exercise 1"
   ]
  },
  {
   "cell_type": "markdown",
   "id": "422b1c66",
   "metadata": {},
   "source": [
    "Write a function to determine if there are matches in a string that has an a followed by zero or one 'b'\n",
    "\n",
    "Example:\n",
    "\n",
    "1. ab -> Match\n",
    "2. abc -> Not Match\n",
    "3. aabbb -> Match\n",
    "4. aacb -> Not Match\n",
    "5. Abbbb -> Not Match"
   ]
  },
  {
   "cell_type": "code",
   "execution_count": 19,
   "id": "46fc05d8",
   "metadata": {},
   "outputs": [
    {
     "name": "stdout",
     "output_type": "stream",
     "text": [
      "Not match\n"
     ]
    }
   ],
   "source": [
    "import re\n",
    "\n",
    "txt = \"ac\"\n",
    "x = re.search(\"^a.*b$\", txt)\n",
    "\n",
    "if x:\n",
    "  print(\"Match\")\n",
    "else:\n",
    "  print(\"Not match\")\n"
   ]
  },
  {
   "cell_type": "markdown",
   "id": "9241098b",
   "metadata": {},
   "source": [
    "## Exercise 2"
   ]
  },
  {
   "cell_type": "markdown",
   "id": "323d855b",
   "metadata": {},
   "source": [
    "Write a function to determine if the string start with upper case letter and end with lower \n",
    "\n",
    "Example:\n",
    "\n",
    "1. Salam -> True\n",
    "2. sAlam -> False\n",
    "3. SalaM -> False\n",
    "4. Aac&%#b -> True\n",
    "5. Aac& s%#b -> True"
   ]
  },
  {
   "cell_type": "code",
   "execution_count": 25,
   "id": "b6029685",
   "metadata": {},
   "outputs": [
    {
     "name": "stdout",
     "output_type": "stream",
     "text": [
      "Not match\n"
     ]
    }
   ],
   "source": [
    "\n",
    "import re\n",
    "\n",
    "txt = \"salaM\"\n",
    "x = re.search(\"^[A-Z].*[a-z]$\", txt)\n",
    "\n",
    "if x:\n",
    "    print(\"Match\")\n",
    "else:\n",
    "    print(\"Not match\")\n"
   ]
  },
  {
   "cell_type": "markdown",
   "id": "2be92d01",
   "metadata": {},
   "source": [
    "## Exercise 3"
   ]
  },
  {
   "cell_type": "markdown",
   "id": "e8ed679e",
   "metadata": {},
   "source": [
    "Write a function to determine if the sentence in string is correct. Sentence may end with punctuation but not with space.\n",
    "\n",
    "Example:\n",
    "\n",
    "1. How are you? - True\n",
    "2. 'How are you? ' - False\n",
    "3. Nomren 051 yoxsa 050 ile bashlayir? - True\n",
    "4. 'You&Me ' - False\n",
    "5. 'You&Me' - True"
   ]
  },
  {
   "cell_type": "code",
   "execution_count": null,
   "id": "600310e7",
   "metadata": {},
   "outputs": [],
   "source": [
    "# your code\n"
   ]
  },
  {
   "cell_type": "markdown",
   "id": "1dde9a55",
   "metadata": {},
   "source": [
    "## Exercise 4"
   ]
  },
  {
   "cell_type": "markdown",
   "id": "5311f116",
   "metadata": {},
   "source": [
    "Write a function that removes zeros from an IP address\n",
    "\n",
    "Example:\n",
    "\n",
    "216.08.094.196 -> 216.8.94.196"
   ]
  },
  {
   "cell_type": "code",
   "execution_count": null,
   "id": "06e2bdb2",
   "metadata": {},
   "outputs": [],
   "source": [
    "# your code\n"
   ]
  },
  {
   "cell_type": "markdown",
   "id": "3e6d091d",
   "metadata": {},
   "source": [
    "## Exercise 5"
   ]
  },
  {
   "cell_type": "markdown",
   "id": "dee9339c",
   "metadata": {},
   "source": [
    "Write a function to separate and print the numbers of a given string\n",
    "\n",
    "Example:\n",
    "\n",
    "Ten 10, Twenty 20, Thirty 30 -> 10, 20, 30"
   ]
  },
  {
   "cell_type": "code",
   "execution_count": null,
   "id": "5967b509",
   "metadata": {},
   "outputs": [],
   "source": [
    "# your code\n"
   ]
  }
 ],
 "metadata": {
  "kernelspec": {
   "display_name": "Python 3 (ipykernel)",
   "language": "python",
   "name": "python3"
  },
  "language_info": {
   "codemirror_mode": {
    "name": "ipython",
    "version": 3
   },
   "file_extension": ".py",
   "mimetype": "text/x-python",
   "name": "python",
   "nbconvert_exporter": "python",
   "pygments_lexer": "ipython3",
   "version": "3.9.13"
  }
 },
 "nbformat": 4,
 "nbformat_minor": 5
}
