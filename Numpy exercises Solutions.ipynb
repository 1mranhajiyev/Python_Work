{
 "cells": [
  {
   "cell_type": "markdown",
   "id": "84e8edeb",
   "metadata": {},
   "source": [
    "## Tapşırıq 1\n",
    "\n",
    "(5,5) ölçülü müsbət tam ədədlərdən ibarət array-in polindrom olan sətir və ya sütunlarını göstərin. Polindrom ədəd dedikdə məsələn: 323, 6336, 54245, 623326 nəzərdə tutulur."
   ]
  },
  {
   "cell_type": "code",
   "execution_count": 8,
   "id": "d3bca72a",
   "metadata": {},
   "outputs": [
    {
     "name": "stdout",
     "output_type": "stream",
     "text": [
      "(5, 5)\n",
      "Polyndrome row: [1 0 7 0 1]\n",
      "Polyndrome row: [1 3 0 3 1]\n",
      "Polyndrome row: [11  0  7  0 11]\n",
      "Polyndrome column: [  0 120   3 120   0]\n",
      "Polyndrome column: [0 1 3 1 0]\n"
     ]
    }
   ],
   "source": [
    "import numpy as np\n",
    "\n",
    "array = np.array([[1,0,7,0,1],\n",
    "                [2,120,4,1,10],\n",
    "                [1,3,0,3,1],\n",
    "                [1,120,31,1,19],\n",
    "                [11,0,7,0,11]])\n",
    "\n",
    "array\n",
    "print(array.shape)\n",
    "\n",
    "def polyndrome(array):\n",
    "    #polyndrome row\n",
    "    for row in array:\n",
    "        if list(row) == list(row)[::-1]:\n",
    "            print('Polyndrome row:',row)\n",
    "            \n",
    "            \n",
    "    #polyndrome column\n",
    "    for i in range(array.shape[0]):\n",
    "        col = array[:, i]\n",
    "        if list(col) == list(col[::-1]):\n",
    "            print('Polyndrome column:',col)\n",
    "    return\n",
    "\n",
    "polyndrome(array)"
   ]
  },
  {
   "cell_type": "markdown",
   "id": "74e172fc",
   "metadata": {},
   "source": [
    "## Tapşırıq 2\n",
    "\n",
    "İstənilən 2-ölçülü array-in hər sətiri üçün ən böyük ədədlə ən kiçik ədədin nisbətini tapın"
   ]
  },
  {
   "cell_type": "code",
   "execution_count": 16,
   "id": "cdd8b078",
   "metadata": {},
   "outputs": [
    {
     "name": "stdout",
     "output_type": "stream",
     "text": [
      "[[ 1  2  3  4  5]\n",
      " [ 6  7  8  9 10]\n",
      " [11 12 13 14 15]\n",
      " [16 17 18 19 20]]\n",
      "[5.0, 1.6666666666666667, 1.3636363636363635, 1.25]\n"
     ]
    }
   ],
   "source": [
    "\n",
    "\n",
    "\n"
   ]
  },
  {
   "cell_type": "markdown",
   "id": "1a96fbb9",
   "metadata": {},
   "source": [
    "## Tapşırıq 3\n",
    "\n",
    "Verilmiş 2-ölçülü array-in hər elementinin əvəzinə onun rankını yazaraq yeni bir array yaradın\n",
    "\n",
    "Gözlənilən cavab:\n",
    "\n",
    "[[4 2 6 0 8]\n",
    "\n",
    "[7 9 3 5 1]]"
   ]
  },
  {
   "cell_type": "code",
   "execution_count": 18,
   "id": "75271f73",
   "metadata": {},
   "outputs": [
    {
     "name": "stdout",
     "output_type": "stream",
     "text": [
      "[[ 9  4 15  0 17]\n",
      " [16 17  8  9  0]]\n",
      "[3 9 1 7 0 8 2 5 4 6]\n"
     ]
    }
   ],
   "source": [
    "np.random.seed(10)\n",
    "a = np.random.randint(20, size=[2,5])\n",
    "\n",
    "print(a)\n",
    "\n",
    "# your code\n",
    "print(a.ravel().argsort())\n",
    "a.ravel().argsort().argsort().reshape(a.shape)\n",
    "\n",
    "# 0 0 4 8 9 9 15 16 17 17\n",
    "# 0 1 2 3 4 5 6  7  8  9"
   ]
  },
  {
   "cell_type": "markdown",
   "id": "74dd19f3",
   "metadata": {},
   "source": [
    "### Tapşırıq 4\n",
    "\n",
    "Verilən bir ölçülü array-dən one hot encoding prinsipi ilə yeni bir array yaradın  "
   ]
  },
  {
   "cell_type": "code",
   "execution_count": 4,
   "id": "be7afd8c",
   "metadata": {},
   "outputs": [
    {
     "data": {
      "text/plain": [
       "(array([0, 0, 0, 0, 0], dtype=int64), array([0, 1, 2, 3, 4], dtype=int64))"
      ]
     },
     "execution_count": 4,
     "metadata": {},
     "output_type": "execute_result"
    }
   ],
   "source": [
    "np.where(arr == arr[0])"
   ]
  },
  {
   "cell_type": "code",
   "execution_count": 5,
   "id": "310f5f3f",
   "metadata": {},
   "outputs": [
    {
     "name": "stdout",
     "output_type": "stream",
     "text": [
      "   [1 2 3]\n",
      "[[2 0 1 0]\n",
      " [3 0 0 1]\n",
      " [2 0 1 0]\n",
      " [2 0 1 0]\n",
      " [2 0 1 0]\n",
      " [1 1 0 0]]\n"
     ]
    }
   ],
   "source": [
    "arr = np.array([2, 3, 2, 2, 2, 1])\n",
    "# your code\n",
    "\n",
    "rowsize = arr.shape[0]\n",
    "uniques = np.unique(arr)\n",
    "colsize = len(uniques)\n",
    "new_arr = np.full((rowsize, colsize), 0)\n",
    "\n",
    "print('  ',uniques)\n",
    "for i, el in enumerate(arr):\n",
    "    pos = np.where(uniques == el)\n",
    "    new_arr[i,pos] = 1\n",
    "    \n",
    "print(np.c_[arr[:, None], new_arr])"
   ]
  },
  {
   "cell_type": "markdown",
   "id": "170f6a92",
   "metadata": {},
   "source": [
    "## Tapşırıq 5\n",
    "\n",
    "Verilmiş array-in top 5 elementini və onların pozisiyalarını əldə edin"
   ]
  },
  {
   "cell_type": "code",
   "execution_count": 6,
   "id": "d317a99a",
   "metadata": {},
   "outputs": [
    {
     "name": "stdout",
     "output_type": "stream",
     "text": [
      "[[ 9 25  4 40 24]\n",
      " [16 49 11 31 35]\n",
      " [ 3 35 15 35 49]\n",
      " [25 16 37 44 17]]\n",
      "Element: 35 On position: [ 9 11 13]\n",
      "\n",
      "\n",
      "Element: 37 On position: [17]\n",
      "\n",
      "\n",
      "Element: 40 On position: [3]\n",
      "\n",
      "\n",
      "Element: 44 On position: [18]\n",
      "\n",
      "\n",
      "Element: 49 On position: [ 6 14]\n",
      "\n",
      "\n"
     ]
    }
   ],
   "source": [
    "np.random.seed(100)\n",
    "a = np.random.randint(1,50, 20).reshape(4,5)\n",
    "print(a)\n",
    "\n",
    "a = a.ravel()\n",
    "b = np.sort(np.unique(a))[-5:]\n",
    "# your code\n",
    "\n",
    "\n",
    "for i in b:\n",
    "    print('Element:', i, 'On position:', np.where(a==i)[0])\n",
    "    print('\\n')"
   ]
  }
 ],
 "metadata": {
  "kernelspec": {
   "display_name": "Python 3.9.13 ('base')",
   "language": "python",
   "name": "python3"
  },
  "language_info": {
   "codemirror_mode": {
    "name": "ipython",
    "version": 3
   },
   "file_extension": ".py",
   "mimetype": "text/x-python",
   "name": "python",
   "nbconvert_exporter": "python",
   "pygments_lexer": "ipython3",
   "version": "3.9.13"
  },
  "vscode": {
   "interpreter": {
    "hash": "f08154012ddadd8e950e6e9e035c7a7b32c136e7647e9b7c77e02eb723a8bedb"
   }
  }
 },
 "nbformat": 4,
 "nbformat_minor": 5
}
