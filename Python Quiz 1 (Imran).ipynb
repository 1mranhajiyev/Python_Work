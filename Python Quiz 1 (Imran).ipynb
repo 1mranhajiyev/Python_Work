{
 "cells": [
  {
   "cell_type": "markdown",
   "id": "34abff57",
   "metadata": {},
   "source": [
    "# Problem 1*"
   ]
  },
  {
   "cell_type": "markdown",
   "id": "6c1b1071",
   "metadata": {},
   "source": [
    "Verilmiş mötərizə simvollarından '(', ')', '{', '}', '[' və ']' ibarət string yaradın. Daxil edilən stringin şərtlərə uyğun gəlib gəlmədiyini yoxlayın.\n",
    "\n",
    "Uyğunluq qaydaları:\n",
    "\n",
    "1. Açılmış mötərizə eyni tip mötərizə ilə bağlanmalıdır (Məsələn: \"(\" --> \")\")\n",
    "\n",
    "2. Açılmış mötərizə düzgün qaydada bağlanmalıdır (Məsələn: \")\" bağlama mötərizəsi açmadan \"(\" əvvəl gəlibsə yalnışdır)\n",
    "\n",
    "3. Hər bir açılmış\\bağlanmış mötərizələr özü tipli mötərizə ilə bağlanıb\\açılmalıdır (Məsələn [], (), {})\n",
    "\n",
    "\n",
    "Məsələn: '([])'\n",
    "\n",
    "Gözlənilən cavab: True\n",
    "\n",
    "Məsələn: '}([]){'\n",
    "\n",
    "Gözlənilən cavab: False"
   ]
  },
  {
   "cell_type": "code",
   "execution_count": 25,
   "id": "3f79ae6e",
   "metadata": {},
   "outputs": [
    {
     "data": {
      "text/plain": [
       "False"
      ]
     },
     "execution_count": 25,
     "metadata": {},
     "output_type": "execute_result"
    }
   ],
   "source": [
    "def isValid(s):\n",
    "    if len(s)%2 != 0: return False\n",
    "    usu = []\n",
    "    stack = []\n",
    "    hmap = {'(':')', '[':']', '{':'}'}\n",
    "    for p in s:\n",
    "        \n",
    "        if p in hmap.keys():\n",
    "            usu.append(hmap[p])\n",
    "        elif usu and p == usu[-1]:\n",
    "            usu.pop(-1)\n",
    "        else:\n",
    "            return 0\n",
    "    if not usu:\n",
    "        return 1\n",
    "    else:\n",
    "        return \"balans pozulub\"\n",
    "isValid('[{]')"
   ]
  },
  {
   "cell_type": "markdown",
   "id": "fa06f0ae",
   "metadata": {},
   "source": [
    "# Problem 2"
   ]
  },
  {
   "cell_type": "markdown",
   "id": "7245c501",
   "metadata": {},
   "source": [
    "List və axtarılan ədədi qəbul edən funksiya yazın. Bu funksiya vasitəsi ilə ədədin, həmin listdəki ilk və son pozisiyasını ekrana çap edin.\n",
    "\n",
    "Məsələn:\n",
    "\n",
    "list = [3, 6, 2, 8, 2, 90, 4, 5, 2, 7, 2, 6], axtarılan ədəd = 2\n",
    "\n",
    "Gözlənilən cavab:\n",
    "\n",
    "2, 10"
   ]
  },
  {
   "cell_type": "code",
   "execution_count": 68,
   "id": "cb5b97b5",
   "metadata": {},
   "outputs": [],
   "source": [
    "liste=[3, 6, 2, 8, 2, 90, 4, 5, 2, 7, 2, 6]\n",
    "def num_indexes(lst,num):\n",
    "    print(lst.index(num),len(lst)-1-list(reversed(lst)).index(num))"
   ]
  },
  {
   "cell_type": "code",
   "execution_count": 70,
   "id": "d109f926",
   "metadata": {},
   "outputs": [
    {
     "name": "stdout",
     "output_type": "stream",
     "text": [
      "2 10\n"
     ]
    }
   ],
   "source": [
    "num_indexes(liste,2)"
   ]
  },
  {
   "cell_type": "markdown",
   "id": "25da631b",
   "metadata": {},
   "source": [
    "# Problem 3"
   ]
  },
  {
   "cell_type": "markdown",
   "id": "091a3ba5",
   "metadata": {},
   "source": [
    "Böyük və kiçik hərflərdən ibarət string yaradın. Bu stringin daxilində olan bütün kiçik hərfləri, daha sonra isə böyük hərfləri çap edən kod yazın.\n",
    "\n",
    "Məsələn:\n",
    "\n",
    "DEmOnsTrAte\n",
    "\n",
    "Gözlənilən cavab:\n",
    "\n",
    "mnsrteDEOTA"
   ]
  },
  {
   "cell_type": "code",
   "execution_count": 44,
   "id": "3fcf8bf5",
   "metadata": {},
   "outputs": [
    {
     "name": "stdout",
     "output_type": "stream",
     "text": [
      "aivLYE_\n"
     ]
    },
    {
     "data": {
      "text/plain": [
       "'salamogras'"
      ]
     },
     "execution_count": 44,
     "metadata": {},
     "output_type": "execute_result"
    }
   ],
   "source": [
    "a=\"aLiYEv_\"\n",
    "b=\"HaCiyEv\"\n",
    "uppers =\"\"\n",
    "lowers=\"\"\n",
    "for i in a:\n",
    "    if i==i.upper():\n",
    "        uppers+=i\n",
    "    else: lowers+=i\n",
    "print(lowers+uppers)\n"
   ]
  },
  {
   "cell_type": "markdown",
   "id": "a65e076e",
   "metadata": {},
   "source": [
    "# Problem 4"
   ]
  },
  {
   "cell_type": "markdown",
   "id": "f67fb5a2",
   "metadata": {},
   "source": [
    "Verilmiş stringdəki hərf, rəqəm və simvolların sayını qaytaran kod yazın.\n",
    "\n",
    "Məsələn:\n",
    "\n",
    "P@#yn26at^&i5ve\n",
    "\n",
    "Gözlənilən cavab:\n",
    "\n",
    "Hərf: 8 \n",
    "\n",
    "Rəqəm: 3 \n",
    "\n",
    "Simvol: 4"
   ]
  },
  {
   "cell_type": "code",
   "execution_count": 47,
   "id": "3a8dee84",
   "metadata": {},
   "outputs": [
    {
     "name": "stdout",
     "output_type": "stream",
     "text": [
      "herf:8,reqem:3,simvol:4\n"
     ]
    }
   ],
   "source": [
    "herf=0\n",
    "reqem=0\n",
    "simvol=0\n",
    "a=\"P@#yn26at^&i5ve\"\n",
    "for ch in a:\n",
    "    if ch.isnumeric():\n",
    "        reqem+=1\n",
    "    elif ch.isalpha():\n",
    "        herf+=1\n",
    "    else: simvol+=1\n",
    "print(\"herf:{},reqem:{},simvol:{}\".format(herf,reqem,simvol))\n",
    "\n"
   ]
  },
  {
   "cell_type": "markdown",
   "id": "b45181ee",
   "metadata": {},
   "source": [
    "# Problem 5"
   ]
  },
  {
   "cell_type": "markdown",
   "id": "89311734",
   "metadata": {},
   "source": [
    "Dövrdən istifadə edərək aşağıda veriləni çap edin:\n",
    "\n",
    "- 5 4 3 2 1\n",
    "\n",
    "- 4 3 2 1 \n",
    "\n",
    "- 3 2 1 \n",
    "\n",
    "- 2 1 \n",
    "\n",
    "- 1"
   ]
  },
  {
   "cell_type": "code",
   "execution_count": 15,
   "id": "31dbdb1f",
   "metadata": {},
   "outputs": [
    {
     "name": "stdout",
     "output_type": "stream",
     "text": [
      "5 4 3 2 1 \n",
      "4 3 2 1 \n",
      "3 2 1 \n",
      "2 1 \n",
      "1 \n"
     ]
    }
   ],
   "source": [
    "for a in range(5,0,-1):\n",
    "    for b in range(a,0,-1):\n",
    "        print (b,end=\" \")\n",
    "    print()\n"
   ]
  },
  {
   "cell_type": "code",
   "execution_count": null,
   "id": "e8be6ba1",
   "metadata": {},
   "outputs": [],
   "source": []
  },
  {
   "cell_type": "markdown",
   "id": "618c7713",
   "metadata": {},
   "source": [
    "# Problem 6"
   ]
  },
  {
   "cell_type": "markdown",
   "id": "02fbb8ce",
   "metadata": {},
   "source": [
    "*Fibonnaçi ardıcıllığı* - Hər növbəti ədəd özündən əvvəlki iki ədədin cəminə bərabərdir. \n",
    "\n",
    "Elə bir funksiya yazın ki, ədəd qəbul etsin (n) və bu ədədə çatanda ardıcıllığı dayandırsın.\n",
    "\n",
    "Məsələn: n = 22\n",
    "\n",
    "Gözlənilən cavab:\n",
    "\n",
    "0, 1, 1, 2, 3, 5, 8, 13, 21\n",
    "\n",
    "Məsələn: n = 100\n",
    "\n",
    "Gözlənilən cavab:\n",
    "\n",
    "0, 1, 1, 2, 3, 5, 8, 13, 21, 34, 55, 89\n",
    "\n"
   ]
  },
  {
   "cell_type": "code",
   "execution_count": 18,
   "id": "f659fe26",
   "metadata": {},
   "outputs": [
    {
     "name": "stdout",
     "output_type": "stream",
     "text": [
      "144\n"
     ]
    }
   ],
   "source": [
    "i=0\n",
    "a=1\n",
    "lst=[0]\n",
    "while a<100:\n",
    "    lst.append(a)\n",
    "    stack=a\n",
    "    a=a+i\n",
    "    i=stack\n",
    "print(lst)\n"
   ]
  },
  {
   "cell_type": "code",
   "execution_count": 9,
   "id": "1b9c18a9",
   "metadata": {},
   "outputs": [
    {
     "name": "stdout",
     "output_type": "stream",
     "text": [
      "[1, 1, 2, 3, 5, 8, 13, 21, 34, 55, 89]\n"
     ]
    }
   ],
   "source": [
    "\n",
    "base = [1, 1]\n",
    "n = 100\n",
    "for i in range(n):\n",
    "    tmp = base[-1] + base[-2]\n",
    "    if tmp >= n: break\n",
    "    base.append(tmp)\n",
    "print(base)"
   ]
  },
  {
   "cell_type": "markdown",
   "id": "51f2ae95",
   "metadata": {},
   "source": [
    "# Problem 7"
   ]
  },
  {
   "cell_type": "markdown",
   "id": "96f0db66",
   "metadata": {},
   "source": [
    "n həddə qədər ədədlərin cəmini hesablayan funksiya yazın. Qeyd: 1-ci həddən n-ci həddə qədər olmalıdır. \n",
    "\n",
    "`2`,`22`,`222`,`2222`,`22222`, `222222` və s.\n",
    "\n",
    "Məsələn: n = 5 \n",
    "\n",
    "Gözlənilən cavab:\n",
    "\n",
    "2 + 22 + 222 + 2222 + 22222 = 24690\n",
    "\n",
    "Məsələn: n = 3 \n",
    "\n",
    "Gözlənilən cavab:\n",
    "\n",
    "2 + 22 + 222 = 246"
   ]
  },
  {
   "cell_type": "code",
   "execution_count": 10,
   "id": "e95000c4",
   "metadata": {},
   "outputs": [
    {
     "name": "stdout",
     "output_type": "stream",
     "text": [
      "246\n"
     ]
    }
   ],
   "source": [
    "\n",
    "def sum_2(n):\n",
    "    sum1=0\n",
    "    for i in range (1, n+1):\n",
    "        sum1 += int('2' * i)\n",
    "    print(sum1)\n",
    "    \n",
    "sum_2(3)\n",
    "   \n"
   ]
  },
  {
   "cell_type": "markdown",
   "id": "99e8b039",
   "metadata": {},
   "source": [
    "# Problem 8"
   ]
  },
  {
   "cell_type": "markdown",
   "id": "b3da975e",
   "metadata": {},
   "source": [
    "Elə bir funksiya yazın ki, bir .txt faylı və bir ədəd (n) qəbul etsin. Bu funksiya cavab olaraq 2 fayl qaytarmalıdır. Birinci fayl, verilən fayldan n-ci sətir xaric qalan bütün sətirləri, ikinci fayl isə yalnız n-ci sətiri qaytarmalıdır.\n",
    "\n",
    "File:\n",
    "- line1\n",
    "\n",
    "- line2\n",
    "\n",
    "- line3\n",
    "\n",
    "- line4\n",
    "\n",
    "- line5\n",
    "\n",
    "- line6\n",
    "\n",
    "- line7\n",
    "\n",
    "n = 3\n",
    "\n",
    "**Gözlənilən cavab** - iki ədəd .txt file olmalıdır\n",
    "\n",
    "File 1:\n",
    "- line1\n",
    "\n",
    "- line2\n",
    "\n",
    "- line4\n",
    "\n",
    "- line5\n",
    "\n",
    "- line6\n",
    "\n",
    "- line7\n",
    "\n",
    "File 2:\n",
    "\n",
    "- line3"
   ]
  },
  {
   "cell_type": "code",
   "execution_count": 78,
   "id": "70d536cd",
   "metadata": {},
   "outputs": [
    {
     "name": "stdout",
     "output_type": "stream",
     "text": [
      "File1: line3\n",
      " File2: ['line1\\n', 'line2\\n', 'line4\\n', 'line5\\n', 'line6\\n', 'line7\\n']\n"
     ]
    }
   ],
   "source": [
    "with open('text.txt','w') as f:\n",
    "    f.write(\"\"\"line1\n",
    "line2\n",
    "line3\n",
    "line4\n",
    "line5\n",
    "line6\n",
    "line7\n",
    "\"\"\")\n",
    "\n",
    "def funk(txt,n):\n",
    "    with open(txt) as t:\n",
    "        lines = t.readlines()\n",
    "        a=lines.pop(n-1)\n",
    "        print(\"File1:\",a,\"File2:\",lines)\n",
    "        \n",
    "        \n",
    "funk(\"text.txt\",3)"
   ]
  },
  {
   "cell_type": "markdown",
   "id": "3b4ac177",
   "metadata": {},
   "source": [
    "# Problem 9"
   ]
  },
  {
   "cell_type": "markdown",
   "id": "c901d053",
   "metadata": {},
   "source": [
    "Verilmiş tuple-u, daxilindəki tuple-ların ikinci elementinə görə müqayisə edən və artan sıra ilə qaytaran kod yazın.\n",
    "\n",
    "Məsələn:\n",
    "\n",
    "(('a', 23), ('b', 37), ('c', 11), ('d', 29))\n",
    "\n",
    "Gözlənilən cavab:\n",
    "\n",
    "(('c', 11), ('a', 23), ('d', 29), ('b', 37))"
   ]
  },
  {
   "cell_type": "code",
   "execution_count": 1,
   "id": "ccde5638",
   "metadata": {},
   "outputs": [
    {
     "name": "stdout",
     "output_type": "stream",
     "text": [
      "[('c', 11), ('a', 23), ('d', 29), ('b', 37)]\n"
     ]
    }
   ],
   "source": [
    "tuple1 = (('a', 23), ('b', 37), ('c', 11), ('d', 29))\n",
    "print((sorted(list(tuple1), key=lambda x: x[1])))\n",
    "\n",
    "\n",
    "       "
   ]
  },
  {
   "cell_type": "markdown",
   "id": "879c8ab7",
   "metadata": {},
   "source": [
    "# Problem 10"
   ]
  },
  {
   "cell_type": "markdown",
   "id": "e318cc4c",
   "metadata": {},
   "source": [
    "List yaradın və o listin 3 cü ən böyük ədədinin ikinci rəqəmini qaytaran kod yazın. Əgər bu ədəd 1 rəqəmdən ibarətdirsə cavab olaraq 0 qaytarmalıdır. "
   ]
  },
  {
   "cell_type": "code",
   "execution_count": 33,
   "id": "de508de5",
   "metadata": {},
   "outputs": [
    {
     "name": "stdout",
     "output_type": "stream",
     "text": [
      "2\n"
     ]
    }
   ],
   "source": [
    "lst1=[13,23,32,43,54,9]\n",
    "lst2=[1,2,3,4,5,6,7]\n",
    "try:\n",
    "    print(str(sorted(lst1)[-3])[1])\n",
    "except IndexError: \n",
    "    print(0)"
   ]
  },
  {
   "cell_type": "code",
   "execution_count": null,
   "id": "97c730f9",
   "metadata": {},
   "outputs": [],
   "source": []
  }
 ],
 "metadata": {
  "kernelspec": {
   "display_name": "Python 3 (ipykernel)",
   "language": "python",
   "name": "python3"
  },
  "language_info": {
   "codemirror_mode": {
    "name": "ipython",
    "version": 3
   },
   "file_extension": ".py",
   "mimetype": "text/x-python",
   "name": "python",
   "nbconvert_exporter": "python",
   "pygments_lexer": "ipython3",
   "version": "3.9.12"
  }
 },
 "nbformat": 4,
 "nbformat_minor": 5
}
