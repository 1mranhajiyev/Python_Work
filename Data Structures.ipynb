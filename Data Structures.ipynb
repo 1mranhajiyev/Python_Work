{
 "cells": [
  {
   "cell_type": "markdown",
   "id": "0a747fc9",
   "metadata": {},
   "source": [
    "## Çalışma 1\n",
    "\n",
    "#### Verilən listdə bütün ədədlərin hasilini tapan proqram yazın."
   ]
  },
  {
   "cell_type": "code",
   "execution_count": 107,
   "id": "e2321677",
   "metadata": {
    "scrolled": true
   },
   "outputs": [
    {
     "name": "stdout",
     "output_type": "stream",
     "text": [
      "6\n",
      "120\n"
     ]
    }
   ],
   "source": [
    "nums1 = [1, 2, 3]\n",
    "nums2 = [4, 5, 6]\n",
    "a=1\n",
    "b=1\n",
    "for i in nums1:\n",
    "    a=a*i\n",
    "print(a)\n",
    "for i in nums2:\n",
    "    b=b*i\n",
    "print(b)\n",
    "\n",
    "    "
   ]
  },
  {
   "cell_type": "markdown",
   "id": "142b5265",
   "metadata": {},
   "source": [
    "## Çalışma 2\n",
    "\n",
    "#### Verilən listdə ən böyük üçüncü ədədi tapan proqram yazın."
   ]
  },
  {
   "cell_type": "code",
   "execution_count": 30,
   "id": "7aa7fb4d",
   "metadata": {},
   "outputs": [
    {
     "name": "stdout",
     "output_type": "stream",
     "text": [
      "en boyuk 3. eded 20\n"
     ]
    }
   ],
   "source": [
    "list1 = [3, 1, 53, 36, 7, 20]\n",
    "list2 = [2, 40, 67, 13, 8, 100]\n",
    "list1.sort()\n",
    "print(\"en boyuk 3. eded\",list[-3])\n",
    "    \n"
   ]
  },
  {
   "cell_type": "markdown",
   "id": "6610bad5",
   "metadata": {},
   "source": [
    "## Çalışma 3\n",
    "\n",
    "#### Verilən listdə tək və cüt ədədləri ayrı listlərə əlavə edən proqram yazın."
   ]
  },
  {
   "cell_type": "code",
   "execution_count": 75,
   "id": "7cbb1e06",
   "metadata": {},
   "outputs": [
    {
     "name": "stdout",
     "output_type": "stream",
     "text": [
      "[1, 3, 5, 7] [2, 4, 8, 10]\n"
     ]
    }
   ],
   "source": [
    "my_list = [1, 2, 3, 4, 5, 7, 8, 10]\n",
    "odd, even = [], []\n",
    "for i in my_list:\n",
    "    if i%2==0:\n",
    "        even.append(i)\n",
    "    else:\n",
    "        odd.append(i)       \n",
    "print(odd,even)"
   ]
  },
  {
   "cell_type": "markdown",
   "id": "3975b44e",
   "metadata": {},
   "source": [
    "## Çalışma 4\n",
    "\n",
    "#### Verilən listdəki bütün stringlərin bütün hərflərini böyük hərflə əvəz edən proqram yazın."
   ]
  },
  {
   "cell_type": "code",
   "execution_count": 105,
   "id": "c17c0615",
   "metadata": {},
   "outputs": [
    {
     "data": {
      "text/plain": [
       "[1, 2, 'BANANA', 3, 'PINEAPPLE', 4, 5, 6, 'ABCD', 'GUITAR']"
      ]
     },
     "execution_count": 105,
     "metadata": {},
     "output_type": "execute_result"
    }
   ],
   "source": [
    "my_list = [1, 2, 'baNAna', 3, 'pineappLe', 4, 5, 6, 'aBcD', 'Guitar']\n",
    "for i in range(len(my_list)):\n",
    "    if type(my_list[i]) == str: my_list[i] = my_list[i].upper()\n",
    "\n",
    "\n",
    "\n",
    "my_list\n",
    "    "
   ]
  },
  {
   "cell_type": "markdown",
   "id": "93339f92",
   "metadata": {},
   "source": [
    "## Çalışma 5\n",
    "\n",
    "#### Verilən listin içindəki hər listin ədədləri cəmini tapın."
   ]
  },
  {
   "cell_type": "code",
   "execution_count": 41,
   "id": "f147d67e",
   "metadata": {},
   "outputs": [
    {
     "name": "stdout",
     "output_type": "stream",
     "text": [
      "[6, 15, 24]\n"
     ]
    }
   ],
   "source": [
    "nums = [[1, 2, 3], [4, 5, 6], [7, 8, 9]]\n",
    "result=[]\n",
    "for num in nums:\n",
    "    s=0\n",
    "    for element in num:\n",
    "        s+=element\n",
    "    result.append(s)\n",
    "print(result)\n",
    "\n",
    "\n",
    "\n",
    "\n"
   ]
  },
  {
   "cell_type": "markdown",
   "id": "5024facc",
   "metadata": {},
   "source": [
    "## Çalışma 6\n",
    "\n",
    "#### Verilən 2 listdən dictionary yaradan proqram yazın."
   ]
  },
  {
   "cell_type": "code",
   "execution_count": 103,
   "id": "e76273bb",
   "metadata": {},
   "outputs": [
    {
     "name": "stdout",
     "output_type": "stream",
     "text": [
      "{'Ten': 10, 'Twenty': 20, 'Thirty': 30}\n"
     ]
    }
   ],
   "source": [
    "keys = ['Ten', 'Twenty', 'Thirty']\n",
    "values = [10, 20, 30]\n",
    "d={}\n",
    "for i in range(len(keys)):\n",
    "    d[keys[i]] = values[i]\n",
    "# d = {}\n",
    "# d = dict(zip(keys,values))\n",
    "\n",
    "print(d)"
   ]
  },
  {
   "cell_type": "markdown",
   "id": "138d3e66",
   "metadata": {},
   "source": [
    "## Çalışma 7\n",
    "\n",
    "#### Verilən dictionarydə \"history\" keyinin value'sini göstərən proqram yazın."
   ]
  },
  {
   "cell_type": "code",
   "execution_count": 68,
   "id": "4f83b93e",
   "metadata": {},
   "outputs": [
    {
     "name": "stdout",
     "output_type": "stream",
     "text": [
      "80\n"
     ]
    }
   ],
   "source": [
    "d = {\n",
    "    \"class\": {\n",
    "        \"student\": {\n",
    "            \"name\": \"Mike\",\n",
    "            \"marks\": {\n",
    "                \"physics\": 70,\n",
    "                \"history\": 80\n",
    "            }\n",
    "        }\n",
    "    }\n",
    "}\n",
    "print(d[\"class\"][\"student\"][\"marks\"][\"history\"])"
   ]
  },
  {
   "cell_type": "markdown",
   "id": "756ab607",
   "metadata": {},
   "source": [
    "## Çalışma 8\n",
    "\n",
    "#### For loopundan istifadə edərək verilən dictionarydə uyğun adları, soyadları və yaşları çap edən proqram yazın"
   ]
  },
  {
   "cell_type": "code",
   "execution_count": 102,
   "id": "5688d529",
   "metadata": {},
   "outputs": [
    {
     "name": "stdout",
     "output_type": "stream",
     "text": [
      "Nihad Abdullayev 18\n",
      "Orxan Babayev 19\n",
      "Fərid Quluzadə 20\n"
     ]
    }
   ],
   "source": [
    "d = {'names':['Nihad', 'Orxan', 'Fərid'],\n",
    "     'surnames':['Abdullayev','Babayev','Quluzadə'],\n",
    "     'ages':[18, 19, 20]}\n",
    "\n",
    "for a in range(len(d)):\n",
    "    print(d['names'][a],d['surnames'][a],d['ages'][a])\n",
    "    \n",
    "\n",
    "        \n",
    "\n",
    "    \n",
    "\n",
    "    "
   ]
  },
  {
   "cell_type": "markdown",
   "id": "ce6ff4d9",
   "metadata": {},
   "source": [
    "## Çalışma 9\n",
    "\n",
    "#### Satışda olan malların adı, qiyməti və sayı olan dictionary verilir. Bütün malların stokda olub-olmadığını və qiymətini göstərən proqram yazın."
   ]
  },
  {
   "cell_type": "code",
   "execution_count": 116,
   "id": "3467324c",
   "metadata": {},
   "outputs": [
    {
     "name": "stdout",
     "output_type": "stream",
     "text": [
      "Köynək\n",
      "$20\n",
      "Stokda var\n",
      "Şalvar\n",
      "$40\n",
      "Stokda var\n",
      "Ayaqqabı\n",
      "$60\n",
      "Stokda yoxdu\n"
     ]
    }
   ],
   "source": [
    "products = {'name':['Köynək','Şalvar','Ayaqqabı'],\n",
    "            'price':['$20', '$40', '$60'],\n",
    "            'quantity':[10, 5, 0]}\n",
    "for i in range(len(products)):\n",
    "    print(products['name'][i])\n",
    "    print(products['price'][i])\n",
    "    if (products['quantity'][i])>0:\n",
    "        print(\"Stokda var\")\n",
    "    else: print(\"Stokda yoxdu\")\n"
   ]
  },
  {
   "cell_type": "markdown",
   "id": "233b844a",
   "metadata": {},
   "source": [
    "## Çalışma 10\n",
    "\n",
    "#### Verilən setdə ədədlərin rəqəmlərinin kvadratı cəmini tapan funksiya yazın."
   ]
  },
  {
   "cell_type": "code",
   "execution_count": 124,
   "id": "e594e0f5",
   "metadata": {},
   "outputs": [
    {
     "name": "stdout",
     "output_type": "stream",
     "text": [
      "55\n"
     ]
    }
   ],
   "source": [
    "my_set = {1, 2, 3, 4, 5}\n",
    "a=1\n",
    "b=0\n",
    "for i in my_set:\n",
    "    a=i*i\n",
    "    b=b+a    \n",
    "print(b)\n",
    "    "
   ]
  },
  {
   "cell_type": "markdown",
   "id": "766fb4d7",
   "metadata": {},
   "source": [
    "## Çalışma 11\n",
    "\n",
    "#### Verilən listdən boş tupleları çıxaran proqram yazın."
   ]
  },
  {
   "cell_type": "code",
   "execution_count": 148,
   "id": "818c844f",
   "metadata": {},
   "outputs": [
    {
     "name": "stdout",
     "output_type": "stream",
     "text": [
      "[('',), (1, 2, 3), 'abc']\n"
     ]
    }
   ],
   "source": [
    "my_list = [(), ('',), (1, 2, 3), (), ('abc')]\n",
    "\n",
    "for t in my_list:\n",
    "    if t == (): my_list.remove(t)\n",
    "print(my_list)"
   ]
  },
  {
   "cell_type": "markdown",
   "id": "3564984f",
   "metadata": {},
   "source": [
    "## Çalışma 12\n",
    "\n",
    "#### Verilən tuplelarda olan floatların cəmini göstərən proqram yazın."
   ]
  },
  {
   "cell_type": "code",
   "execution_count": 153,
   "id": "54fa5dc7",
   "metadata": {},
   "outputs": [
    {
     "name": "stdout",
     "output_type": "stream",
     "text": [
      "38.75\n"
     ]
    }
   ],
   "source": [
    "t1 = ('apple', 12, [3, 4], 5.6, '7', 8.9)\n",
    "t2 = (10, 11.12, 'pineapple', [' '], 13.13)\n",
    "a=0\n",
    "b=0\n",
    "for i in t1:\n",
    "    if type(i) is float:\n",
    "        a+=i\n",
    "for i in t2:\n",
    "     if type(i) is float:\n",
    "        b+=i\n",
    "print(a+b)"
   ]
  },
  {
   "cell_type": "markdown",
   "id": "0855dc1f",
   "metadata": {},
   "source": [
    "## Çalışma 13\n",
    "\n",
    "#### Verilən setdə neçə sözdə \"ab\" olduğunu göstərən proqram yazın."
   ]
  },
  {
   "cell_type": "code",
   "execution_count": 156,
   "id": "e912c0b7",
   "metadata": {},
   "outputs": [
    {
     "name": "stdout",
     "output_type": "stream",
     "text": [
      "2\n"
     ]
    }
   ],
   "source": [
    "s = {'baba', 'baa', 'acb', 'bab'}\n",
    "y=0\n",
    "for i in s:\n",
    "    if \"ab\" in i:\n",
    "        y+=1\n",
    "print(y)\n",
    "     "
   ]
  },
  {
   "cell_type": "code",
   "execution_count": null,
   "id": "4896641a",
   "metadata": {},
   "outputs": [],
   "source": []
  }
 ],
 "metadata": {
  "kernelspec": {
   "display_name": "Python 3 (ipykernel)",
   "language": "python",
   "name": "python3"
  },
  "language_info": {
   "codemirror_mode": {
    "name": "ipython",
    "version": 3
   },
   "file_extension": ".py",
   "mimetype": "text/x-python",
   "name": "python",
   "nbconvert_exporter": "python",
   "pygments_lexer": "ipython3",
   "version": "3.9.12"
  }
 },
 "nbformat": 4,
 "nbformat_minor": 5
}
