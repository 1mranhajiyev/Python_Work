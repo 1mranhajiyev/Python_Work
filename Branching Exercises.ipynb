{
 "cells": [
  {
   "cell_type": "markdown",
   "id": "e54d7540",
   "metadata": {},
   "source": [
    "## Çalışma 1\n",
    "\n",
    "#### Verilən ədədin cüt və ya tək olduğunu göstərən proqram yazın."
   ]
  },
  {
   "cell_type": "code",
   "execution_count": 5,
   "id": "4ac0ddee",
   "metadata": {},
   "outputs": [
    {
     "name": "stdout",
     "output_type": "stream",
     "text": [
      "cüt\n"
     ]
    }
   ],
   "source": [
    "num = 6\n",
    "if num%2!=0:\n",
    "    print(\"tək\")\n",
    "else: print(\"cüt\")"
   ]
  },
  {
   "cell_type": "markdown",
   "id": "642b8f56",
   "metadata": {},
   "source": [
    "## Çalışma 2\n",
    "\n",
    "#### Verilən sözdə \"a\" hərfinin olub-olmadığını göstərən proqram yazın."
   ]
  },
  {
   "cell_type": "code",
   "execution_count": 19,
   "id": "0eae464e",
   "metadata": {},
   "outputs": [
    {
     "name": "stdout",
     "output_type": "stream",
     "text": [
      "True\n",
      "False\n"
     ]
    }
   ],
   "source": [
    "word1 = 'apple'\n",
    "word2 = 'kiwi'\n",
    "print(\"a\" in word1)\n",
    "print(\"a\" in word2)"
   ]
  },
  {
   "cell_type": "markdown",
   "id": "28452789",
   "metadata": {},
   "source": [
    "## Çalışma 3\n",
    "\n",
    "#### Elə proqram yazın ki, müsbət ədədləri 2-yə vursun, mənfi ədədləri isə 0-a çevirsin."
   ]
  },
  {
   "cell_type": "code",
   "execution_count": 24,
   "id": "0e1145ee",
   "metadata": {},
   "outputs": [
    {
     "name": "stdout",
     "output_type": "stream",
     "text": [
      "24\n",
      "0\n"
     ]
    }
   ],
   "source": [
    "num1 = 12\n",
    "num2 = -47\n",
    "\n",
    "if num1>0: num1=num1*2\n",
    "elif num1<0: num1=0\n",
    "\n",
    "if num2>0: num2=num2*2\n",
    "elif num2<0: num2=0\n",
    "\n",
    "print(num1)\n",
    "print(num2)"
   ]
  },
  {
   "cell_type": "markdown",
   "id": "d2365c87",
   "metadata": {},
   "source": [
    "## Çalışma 4\n",
    "\n",
    "#### Verilən hərfin sait olub-olmadığını göstərən proqram yazın."
   ]
  },
  {
   "cell_type": "code",
   "execution_count": 15,
   "id": "5de3ada2",
   "metadata": {},
   "outputs": [
    {
     "name": "stdout",
     "output_type": "stream",
     "text": [
      "True\n",
      "False\n"
     ]
    }
   ],
   "source": [
    "letter1 = 'a'\n",
    "letter2 = 'z'\n",
    "\n",
    "# kodunuz"
   ]
  },
  {
   "cell_type": "markdown",
   "id": "ca23a3c5",
   "metadata": {},
   "source": [
    "## Çalışma 5\n",
    "\n",
    "#### Elə proqram yazın ki, əgər verilən iki ədəddən birincisi böyükdürsə bu ədədlərin cəmini, kiçikdirsə fərqini, bərabərdilərsə hasilini qaytarsın."
   ]
  },
  {
   "cell_type": "code",
   "execution_count": 18,
   "id": "68be9f9b",
   "metadata": {},
   "outputs": [
    {
     "name": "stdout",
     "output_type": "stream",
     "text": [
      "12\n",
      "-1\n",
      "36\n"
     ]
    }
   ],
   "source": [
    "num1 = 10\n",
    "num2 = 2\n",
    "num3 = 3\n",
    "num4 = 4\n",
    "num5 = 6\n",
    "num6 = 6\n",
    "\n",
    "# kodunuz"
   ]
  },
  {
   "cell_type": "markdown",
   "id": "5c1fcf10",
   "metadata": {},
   "source": [
    "## Çalışma 6\n",
    "\n",
    "#### Elə proqram yazın ki, əgər söz böyük hərflə başlamırsa onun bütün hərflərini böyük hərf etsin, əks halda söz dəyişməsin."
   ]
  },
  {
   "cell_type": "code",
   "execution_count": 24,
   "id": "a4a65be3",
   "metadata": {
    "scrolled": true
   },
   "outputs": [
    {
     "name": "stdout",
     "output_type": "stream",
     "text": [
      "TENSOR\n",
      "Flow\n"
     ]
    }
   ],
   "source": [
    "word1 = 'tensor'\n",
    "word2 = 'Flow'\n",
    "\n",
    "# kodunuz\n",
    "    \n",
    "print(word1)\n",
    "print(word2)"
   ]
  },
  {
   "cell_type": "markdown",
   "id": "56fd91cd",
   "metadata": {},
   "source": [
    "## Çalışma 7\n",
    "\n",
    "#### Elə proqram yazın ki, əgər dəyişən stringdirsə onun bütün hərflərini böyük hərfə çevirsin, integerdirsə kvadratına çevirsin."
   ]
  },
  {
   "cell_type": "code",
   "execution_count": 1,
   "id": "f679b9c2",
   "metadata": {},
   "outputs": [
    {
     "name": "stdout",
     "output_type": "stream",
     "text": [
      "ABC\n",
      "256\n"
     ]
    }
   ],
   "source": [
    "x = 'abc'\n",
    "y = 16\n",
    "\n",
    "# kodunuz"
   ]
  },
  {
   "cell_type": "markdown",
   "id": "4580f60e",
   "metadata": {},
   "source": [
    "## Çalışma 8\n",
    "\n",
    "#### Elə proqram yazın ki, əgər verilən stringin uzunluğu cütdürsə stringin ortasına boşluq əlavə etsin."
   ]
  },
  {
   "cell_type": "code",
   "execution_count": 4,
   "id": "cc00df5f",
   "metadata": {},
   "outputs": [
    {
     "name": "stdout",
     "output_type": "stream",
     "text": [
      "abcd efgh\n",
      "abcdefghi\n"
     ]
    }
   ],
   "source": [
    "word1 = 'abcdefgh'\n",
    "word2 = 'abcdefghi'\n",
    "\n",
    "# kodunuz\n",
    "    \n",
    "print(word1)\n",
    "print(word2)"
   ]
  },
  {
   "cell_type": "markdown",
   "id": "1327928f",
   "metadata": {},
   "source": [
    "## Çalışma 9\n",
    "\n",
    "#### Malın qiyməti verilmişdir. Əgər pulunuz qiymətdən çoxdursa proqram qalan pulunuzu qaytarsın, əks halda kifayət qədər pul olmadığını desin."
   ]
  },
  {
   "cell_type": "code",
   "execution_count": 9,
   "id": "524a1ecb",
   "metadata": {},
   "outputs": [
    {
     "name": "stdout",
     "output_type": "stream",
     "text": [
      "Kifayət qədər pulunuz yoxdur.\n",
      "Qalan pulunuz : $5\n"
     ]
    }
   ],
   "source": [
    "price = '$10'\n",
    "money1 = '$7'\n",
    "money2 = '$15'\n",
    "\n",
    "# kodunuz"
   ]
  },
  {
   "cell_type": "markdown",
   "id": "c3a57b47",
   "metadata": {},
   "source": [
    "## Çalışma 10\n",
    "\n",
    "#### Verilən ədədin palindrome olub-olmadığını yoxlayan proqram yazın. \n",
    "#### Qeyd: palindrome ədəd tərsinə yazıldıqda özünə bərabər olan ədədlərə deyilir."
   ]
  },
  {
   "cell_type": "code",
   "execution_count": 10,
   "id": "3bd95e51",
   "metadata": {},
   "outputs": [
    {
     "name": "stdout",
     "output_type": "stream",
     "text": [
      "True\n",
      "False\n"
     ]
    }
   ],
   "source": [
    "num1 = 121\n",
    "num2 = 32593\n",
    "\n",
    "# kodunuz"
   ]
  }
 ],
 "metadata": {
  "kernelspec": {
   "display_name": "Python 3 (ipykernel)",
   "language": "python",
   "name": "python3"
  },
  "language_info": {
   "codemirror_mode": {
    "name": "ipython",
    "version": 3
   },
   "file_extension": ".py",
   "mimetype": "text/x-python",
   "name": "python",
   "nbconvert_exporter": "python",
   "pygments_lexer": "ipython3",
   "version": "3.9.12"
  }
 },
 "nbformat": 4,
 "nbformat_minor": 5
}
