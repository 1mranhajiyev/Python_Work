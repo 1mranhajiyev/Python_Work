{
 "cells": [
  {
   "cell_type": "code",
   "execution_count": null,
   "id": "6c15d3be",
   "metadata": {},
   "outputs": [],
   "source": [
    "lst=[1,2,3,4,5]\n",
    "i=0\n",
    "a=1\n",
    "while i<len(lst):\n",
    "    a*=lst[i]\n",
    "    i+=1\n",
    "print(a)\n",
    "    "
   ]
  },
  {
   "cell_type": "markdown",
   "id": "d62151e4",
   "metadata": {},
   "source": [
    "# LESSON 5"
   ]
  },
  {
   "cell_type": "markdown",
   "id": "3787627c",
   "metadata": {},
   "source": [
    "cutler tekler cixar"
   ]
  },
  {
   "cell_type": "code",
   "execution_count": 12,
   "id": "c1ee1728",
   "metadata": {},
   "outputs": [
    {
     "data": {
      "text/plain": [
       "range(0, 3)"
      ]
     },
     "execution_count": 12,
     "metadata": {},
     "output_type": "execute_result"
    }
   ],
   "source": [
    "dic={'key1':1,'key2':6,'key3':8}\n",
    "\n",
    "\n"
   ]
  },
  {
   "cell_type": "markdown",
   "id": "b1e1c8d6",
   "metadata": {},
   "source": [
    "ad:Murad\n",
    "soyad:Muradov\n",
    "yas:23\n",
    "    "
   ]
  },
  {
   "cell_type": "code",
   "execution_count": 29,
   "id": "ace7487d",
   "metadata": {
    "scrolled": false
   },
   "outputs": [
    {
     "data": {
      "text/plain": [
       "'Murad'"
      ]
     },
     "execution_count": 29,
     "metadata": {},
     "output_type": "execute_result"
    }
   ],
   "source": [
    "dic={'ad':['Murad','Gunel'],'soyad':['Muradov','Yusubova'],'yas':[23,26]}\n",
    "# a=0\n",
    "# for i in dic:\n",
    "#         print(i,\":\",dic[i][a])\n",
    "    "
   ]
  },
  {
   "cell_type": "code",
   "execution_count": null,
   "id": "04361a06",
   "metadata": {},
   "outputs": [],
   "source": []
  },
  {
   "cell_type": "markdown",
   "id": "2d99b7a8",
   "metadata": {},
   "source": [
    "# LESSON 5"
   ]
  },
  {
   "cell_type": "code",
   "execution_count": 16,
   "id": "60f346ba",
   "metadata": {},
   "outputs": [],
   "source": [
    "def birlesdir(a):\n",
    "    b=[]\n",
    "    for i in range(len(a)):\n",
    "        for c in a[i]:\n",
    "            b.append(c)\n",
    "    return(b)\n",
    "    \n",
    "    "
   ]
  },
  {
   "cell_type": "code",
   "execution_count": 18,
   "id": "86a1f95c",
   "metadata": {},
   "outputs": [
    {
     "data": {
      "text/plain": [
       "[1, 2, 3, 3, 4, 5, 7, 8, 9]"
      ]
     },
     "execution_count": 18,
     "metadata": {},
     "output_type": "execute_result"
    }
   ],
   "source": [
    "ls=[[1,2,3],[3,4,5],[7,8,9]]\n",
    "birlesdir(ls)\n"
   ]
  },
  {
   "cell_type": "code",
   "execution_count": 73,
   "id": "9c328e18",
   "metadata": {},
   "outputs": [
    {
     "name": "stdout",
     "output_type": "stream",
     "text": [
      "5\n",
      "12\n",
      "21\n",
      "32\n",
      "70\n"
     ]
    }
   ],
   "source": [
    "dic={'key1':[1,2,3,4],'key2':[5,6,7,8]}\n",
    "cem=0\n",
    "ls=[]\n",
    "for i in range(len(list(dic.values())[0])):\n",
    "    p=1\n",
    "    for val in dic.values():\n",
    "        p*=val[i]\n",
    "    ls.append(p)\n",
    "    print(p)\n",
    "print(sum(ls))\n",
    "\n",
    "\n",
    "    \n",
    "    \n"
   ]
  },
  {
   "cell_type": "code",
   "execution_count": 53,
   "id": "8866460f",
   "metadata": {},
   "outputs": [],
   "source": [
    "def has_cem(m):\n",
    "    i=0\n",
    "    cem=0\n",
    "    ls=[]\n",
    "    for i in range(len(list(m.values())[0])):\n",
    "    p=1\n",
    "    for val in c.values():\n",
    "        p*=val[i]\n",
    "    ls.append(p)\n",
    "print(sum(ls))\n",
    "    "
   ]
  },
  {
   "cell_type": "code",
   "execution_count": 54,
   "id": "afc2dade",
   "metadata": {},
   "outputs": [
    {
     "name": "stdout",
     "output_type": "stream",
     "text": [
      "70\n"
     ]
    }
   ],
   "source": [
    "has_cem(dic)"
   ]
  },
  {
   "cell_type": "code",
   "execution_count": 11,
   "id": "9d642bfb",
   "metadata": {},
   "outputs": [
    {
     "ename": "NameError",
     "evalue": "name 'math' is not defined",
     "output_type": "error",
     "traceback": [
      "\u001b[1;31m---------------------------------------------------------------------------\u001b[0m",
      "\u001b[1;31mNameError\u001b[0m                                 Traceback (most recent call last)",
      "Input \u001b[1;32mIn [11]\u001b[0m, in \u001b[0;36m<cell line: 2>\u001b[1;34m()\u001b[0m\n\u001b[0;32m      1\u001b[0m \u001b[38;5;28;01mimport\u001b[39;00m \u001b[38;5;21;01mnumpy\u001b[39;00m \u001b[38;5;28;01mas\u001b[39;00m \u001b[38;5;21;01mnp\u001b[39;00m\n\u001b[0;32m      2\u001b[0m \u001b[38;5;28;01mtry\u001b[39;00m:\n\u001b[1;32m----> 3\u001b[0m     \u001b[38;5;28mprint\u001b[39m(\u001b[43mmath\u001b[49m\u001b[38;5;241m.\u001b[39msqrt(\u001b[38;5;241m-\u001b[39m\u001b[38;5;241m5\u001b[39m))\n\u001b[0;32m      4\u001b[0m     \u001b[38;5;28mprint\u001b[39m(\u001b[38;5;241m5\u001b[39m\u001b[38;5;241m/\u001b[39m\u001b[38;5;241m0\u001b[39m)\n\u001b[0;32m      6\u001b[0m \u001b[38;5;28;01mexcept\u001b[39;00m \u001b[38;5;167;01mZeroDivisionError\u001b[39;00m:\n",
      "\u001b[1;31mNameError\u001b[0m: name 'math' is not defined"
     ]
    }
   ],
   "source": [
    "import numpy as np\n",
    "try:\n",
    "    print(math.sqrt(-5))\n",
    "    print(5/0)\n",
    "   \n",
    "except ZeroDivisionError:\n",
    "    print(\"hey\")"
   ]
  },
  {
   "cell_type": "code",
   "execution_count": null,
   "id": "ddd82a4a",
   "metadata": {},
   "outputs": [],
   "source": []
  }
 ],
 "metadata": {
  "kernelspec": {
   "display_name": "Python 3 (ipykernel)",
   "language": "python",
   "name": "python3"
  },
  "language_info": {
   "codemirror_mode": {
    "name": "ipython",
    "version": 3
   },
   "file_extension": ".py",
   "mimetype": "text/x-python",
   "name": "python",
   "nbconvert_exporter": "python",
   "pygments_lexer": "ipython3",
   "version": "3.9.12"
  }
 },
 "nbformat": 4,
 "nbformat_minor": 5
}
