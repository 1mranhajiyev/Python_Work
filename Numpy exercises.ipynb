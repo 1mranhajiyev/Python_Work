{
 "cells": [
  {
   "cell_type": "markdown",
   "id": "5e589779",
   "metadata": {},
   "source": [
    "## Tapşırıq 1\n",
    "\n",
    "(5,5) ölçülü müsbət tam ədədlərdən ibarət array-in polindrom olan sətir və ya sütunlarını göstərin. Polindrom ədəd dedikdə məsələn: 323, 6336, 54245, 623326 nəzərdə tutulur."
   ]
  },
  {
   "cell_type": "code",
   "execution_count": 11,
   "id": "7f34accc",
   "metadata": {},
   "outputs": [
    {
     "name": "stdout",
     "output_type": "stream",
     "text": [
      "(5, 5)\n",
      "Polyndrome row: [1 0 7 0 1]\n",
      "Polyndrome row: [1 3 0 3 1]\n",
      "Polyndrome row: [11  0  7  0 11]\n",
      "Polyndrome column: [  0 120   3 120   0]\n",
      "Polyndrome column: [0 1 3 1 0]\n"
     ]
    }
   ],
   "source": [
    "import numpy as np\n",
    "\n",
    "array = np.array([[1,0,7,0,1],\n",
    "                [2,120,4,1,10],\n",
    "                [1,3,0,3,1],\n",
    "                [1,120,31,1,19],\n",
    "                [11,0,7,0,11]])\n",
    "array\n",
    "print(array.shape)\n",
    "\n",
    "def polyndrome(array):\n",
    "    #polyndrome row\n",
    "    for row in array:\n",
    "        if list(row) == list(row)[::-1]:\n",
    "            print('Polyndrome row:',row)\n",
    "            \n",
    "            \n",
    "    #polyndrome column\n",
    "    for i in range(array.shape[0]):\n",
    "        col = array[:, i]\n",
    "        if list(col) == list(col[::-1]):\n",
    "            print('Polyndrome column:',col)\n",
    "    return\n",
    "\n",
    "polyndrome(array)\n"
   ]
  },
  {
   "cell_type": "markdown",
   "id": "18ea1bf9",
   "metadata": {},
   "source": [
    "## Tapşırıq 2\n",
    "\n",
    "İstənilən 2-ölçülü array-in hər sətiri üçün ən böyük ədədlə ən kiçik ədədin nisbətini tapın"
   ]
  },
  {
   "cell_type": "code",
   "execution_count": 10,
   "id": "b0401c92",
   "metadata": {},
   "outputs": [
    {
     "name": "stdout",
     "output_type": "stream",
     "text": [
      "[[ 1  2  3  4  5]\n",
      " [ 6  7  8  9 10]\n",
      " [11 12 13 14 15]\n",
      " [16 17 18 19 20]]\n",
      "[5.0, 1.6666666666666667, 1.3636363636363635, 1.25]\n"
     ]
    }
   ],
   "source": [
    "arr = np.arange(1, 21).reshape(4,5)\n",
    "print(arr)\n",
    "results=[]\n",
    "for i in range(arr.shape[0]):\n",
    "    results.append(max(arr[i])/min(arr[i]))\n",
    "print(results)\n",
    "    \n"
   ]
  },
  {
   "cell_type": "markdown",
   "id": "44ef427c",
   "metadata": {},
   "source": [
    "## Tapşırıq 3\n",
    "\n",
    "Verilmiş 2-ölçülü array-in hər elementinin əvəzinə onun rankını yazaraq yeni bir array yaradın\n",
    "\n",
    "Gözlənilən cavab:\n",
    "\n",
    "[[4 2 6 0 8]\n",
    "\n",
    "[7 9 3 5 1]]"
   ]
  },
  {
   "cell_type": "code",
   "execution_count": 9,
   "id": "f714d279",
   "metadata": {},
   "outputs": [
    {
     "name": "stdout",
     "output_type": "stream",
     "text": [
      "[[ 9  4 15  0 17]\n",
      " [16 17  8  9  0]]\n"
     ]
    }
   ],
   "source": [
    "np.random.seed(10)\n",
    "a = np.random.randint(20, size=[2,5])\n",
    "print(a)\n",
    "\n",
    "print(a.ravel().argsort())\n",
    "a.ravel().argsort().argsort().reshape(a.shape)"
   ]
  },
  {
   "cell_type": "markdown",
   "id": "58cbd82f",
   "metadata": {},
   "source": [
    "## Tapşırıq 4\n",
    "\n",
    "Verilən bir ölçülü array-dən one hot encoding prinsipi ilə yeni bir array yaradın  "
   ]
  },
  {
   "cell_type": "code",
   "execution_count": null,
   "id": "5487ee2c",
   "metadata": {},
   "outputs": [],
   "source": [
    "arr = np.array([2, 3, 2, 2, 2, 1])\n",
    "print(arr)\n",
    "\n",
    "# your code\n"
   ]
  },
  {
   "cell_type": "markdown",
   "id": "4094f10d",
   "metadata": {},
   "source": [
    "## Tapşırıq 5\n",
    "\n",
    "Verilmiş array-in top 5 elementini və onların pozisiyalarını əldə edin"
   ]
  },
  {
   "cell_type": "code",
   "execution_count": null,
   "id": "de4f8e70",
   "metadata": {},
   "outputs": [],
   "source": [
    "np.random.seed(100)\n",
    "a = np.random.randint(1,50, 20).reshape(4,5)\n",
    "a"
   ]
  },
  {
   "cell_type": "code",
   "execution_count": null,
   "id": "d4a2c71f",
   "metadata": {},
   "outputs": [],
   "source": [
    "np.random.seed(100)\n",
    "a = np.random.randint(1,50, 20).reshape(4,5)\n",
    "print(a)\n",
    "\n",
    "a = a.ravel()\n",
    "b = np.sort(np.unique(a))[-5:]\n",
    "# your code\n",
    "\n",
    "\n",
    "for i in b:\n",
    "    print('Element:', i, 'On position:', np.where(a==i)[0])\n",
    "    print('\\n')"
   ]
  }
 ],
 "metadata": {
  "kernelspec": {
   "display_name": "Python 3.9.13 ('base')",
   "language": "python",
   "name": "python3"
  },
  "language_info": {
   "codemirror_mode": {
    "name": "ipython",
    "version": 3
   },
   "file_extension": ".py",
   "mimetype": "text/x-python",
   "name": "python",
   "nbconvert_exporter": "python",
   "pygments_lexer": "ipython3",
   "version": "3.9.13"
  },
  "vscode": {
   "interpreter": {
    "hash": "f08154012ddadd8e950e6e9e035c7a7b32c136e7647e9b7c77e02eb723a8bedb"
   }
  }
 },
 "nbformat": 4,
 "nbformat_minor": 5
}
