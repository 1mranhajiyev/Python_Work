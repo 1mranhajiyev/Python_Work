{
 "cells": [
  {
   "cell_type": "markdown",
   "metadata": {
    "id": "Gd1VZResL9MG"
   },
   "source": [
    "### import numpy"
   ]
  },
  {
   "cell_type": "code",
   "execution_count": 10,
   "metadata": {
    "id": "KotQI83KL9MM"
   },
   "outputs": [],
   "source": [
    "import numpy as np"
   ]
  },
  {
   "cell_type": "code",
   "execution_count": 11,
   "metadata": {},
   "outputs": [
    {
     "data": {
      "text/plain": [
       "[1, 2, 3]"
      ]
     },
     "execution_count": 11,
     "metadata": {},
     "output_type": "execute_result"
    }
   ],
   "source": [
    "[1,2,3]"
   ]
  },
  {
   "cell_type": "code",
   "execution_count": null,
   "metadata": {},
   "outputs": [],
   "source": []
  },
  {
   "cell_type": "code",
   "execution_count": 12,
   "metadata": {
    "id": "FWW2DSFSL9Ma",
    "outputId": "9b7bc0c0-275c-4b6d-e1e1-dc59ebc65204"
   },
   "outputs": [
    {
     "name": "stdout",
     "output_type": "stream",
     "text": [
      "[1 2 3]\n",
      "int32\n"
     ]
    }
   ],
   "source": [
    "# create an array with a specified data type\n",
    "arr = np.array([1,2,3])\n",
    "\n",
    "print(arr)\n",
    "print(arr.dtype)"
   ]
  },
  {
   "cell_type": "code",
   "execution_count": 13,
   "metadata": {},
   "outputs": [
    {
     "data": {
      "text/plain": [
       "iinfo(min=-9223372036854775808, max=9223372036854775807, dtype=int64)"
      ]
     },
     "execution_count": 13,
     "metadata": {},
     "output_type": "execute_result"
    }
   ],
   "source": [
    "np.iinfo('int64')"
   ]
  },
  {
   "cell_type": "markdown",
   "metadata": {
    "id": "vo6sVNitL9Mb"
   },
   "source": [
    "### string data type"
   ]
  },
  {
   "cell_type": "code",
   "execution_count": 14,
   "metadata": {
    "id": "bu3-2S1nL9Mc",
    "outputId": "a8ef63ec-b141-4873-bf70-7ecedff9abcc"
   },
   "outputs": [
    {
     "name": "stdout",
     "output_type": "stream",
     "text": [
      "[b'4' b'acb' b'abc']\n",
      "|S3\n"
     ]
    }
   ],
   "source": [
    "# numpy string and unicode data types are fixed-length\n",
    "# string_ and unicode_ will treat the longest string in the array as the default length when creating an array\n",
    "arr = np.array(['4', 'acb', 'abc'], dtype=np.string_)\n",
    "print(arr)\n",
    "print(arr.dtype)"
   ]
  },
  {
   "cell_type": "markdown",
   "metadata": {
    "id": "9vvMICZ9L9Md"
   },
   "source": [
    "### create an array from a Python array"
   ]
  },
  {
   "cell_type": "code",
   "execution_count": 15,
   "metadata": {
    "id": "kN9bPJrML9Md",
    "outputId": "389683d3-3c8e-4729-f201-a705091608dc"
   },
   "outputs": [
    {
     "name": "stdout",
     "output_type": "stream",
     "text": [
      "[0 1 2 3 4 5 6 7 8 9]\n"
     ]
    }
   ],
   "source": [
    "arr = np.array(range(10))\n",
    "print(arr)"
   ]
  },
  {
   "cell_type": "code",
   "execution_count": 16,
   "metadata": {
    "id": "TE5ZMaZ_L9Me",
    "outputId": "e469214c-1dbf-4430-cfe0-e35a67be2824"
   },
   "outputs": [
    {
     "data": {
      "text/plain": [
       "array([1, 2, 3, 4, 5, 6, 7, 8, 9])"
      ]
     },
     "execution_count": 16,
     "metadata": {},
     "output_type": "execute_result"
    }
   ],
   "source": [
    "np.array(range(1,10))"
   ]
  },
  {
   "cell_type": "code",
   "execution_count": 17,
   "metadata": {
    "id": "vTrMHczWL9Me",
    "outputId": "caee1d1e-75a1-4e50-b640-dfef24ab3b08"
   },
   "outputs": [
    {
     "name": "stdout",
     "output_type": "stream",
     "text": [
      "[0 1 2 3 4 5 6 7 8 9]\n"
     ]
    }
   ],
   "source": [
    "# arr = np.array([1,2,3,4,5])\n",
    "print(arr)"
   ]
  },
  {
   "cell_type": "markdown",
   "metadata": {
    "id": "9HC7tkhUL9Mf"
   },
   "source": [
    "### create an array in a specified data type"
   ]
  },
  {
   "cell_type": "code",
   "execution_count": 18,
   "metadata": {
    "id": "weMyqevkL9Mf",
    "outputId": "ea499b7a-1e8c-4060-fa75-6eff5dfbe697"
   },
   "outputs": [
    {
     "ename": "SyntaxError",
     "evalue": "invalid syntax (4080945398.py, line 2)",
     "output_type": "error",
     "traceback": [
      "\u001b[1;36m  File \u001b[1;32m\"C:\\Users\\User\\AppData\\Local\\Temp\\ipykernel_21336\\4080945398.py\"\u001b[1;36m, line \u001b[1;32m2\u001b[0m\n\u001b[1;33m    print(arr)I\u001b[0m\n\u001b[1;37m              ^\u001b[0m\n\u001b[1;31mSyntaxError\u001b[0m\u001b[1;31m:\u001b[0m invalid syntax\n"
     ]
    }
   ],
   "source": [
    "arr = np.array([[1,2,3], [4,5,6], [7,8,9]], dtype='i2')\n",
    "print(arr)"
   ]
  },
  {
   "cell_type": "markdown",
   "metadata": {
    "id": "tk1NO_6FL9Mg"
   },
   "source": [
    "### create an aray of evenly spaced values within a specified interval"
   ]
  },
  {
   "cell_type": "code",
   "execution_count": null,
   "metadata": {
    "id": "Lt42Ie7sL9Mg",
    "outputId": "9cd3fbfe-fdfc-40b3-9e40-0e4f982cb96a"
   },
   "outputs": [
    {
     "name": "stdout",
     "output_type": "stream",
     "text": [
      "[ 0 15]\n"
     ]
    }
   ],
   "source": [
    "# np.arange(start, stop, step)\n",
    "arr = np.arange(0, 20,2)  \n",
    "print(arr)"
   ]
  },
  {
   "cell_type": "markdown",
   "metadata": {
    "id": "c2cFZTh3L9Mg"
   },
   "source": [
    "### create an array of evenly spaced numbers in a specified interval"
   ]
  },
  {
   "cell_type": "code",
   "execution_count": null,
   "metadata": {
    "id": "okvU8rj9L9Mh",
    "outputId": "f94aa2cf-728f-4a12-8478-9a298425d091"
   },
   "outputs": [
    {
     "name": "stdout",
     "output_type": "stream",
     "text": [
      "[ 1.          2.55555556  4.11111111  5.66666667  7.22222222  8.77777778\n",
      " 10.33333333 11.88888889 13.44444444 15.        ]\n"
     ]
    }
   ],
   "source": [
    "# np.linspace(start, stop, num_of_elements, endpoint=True, retstep=False) \n",
    "arr = np.linspace(1, 15, 10)\n",
    "print(arr)"
   ]
  },
  {
   "cell_type": "markdown",
   "metadata": {
    "id": "bJ73zBn9L9Mh"
   },
   "source": [
    "### create an array of random values in a given shape"
   ]
  },
  {
   "cell_type": "code",
   "execution_count": null,
   "metadata": {
    "id": "lxAK6RE6L9Mi"
   },
   "outputs": [],
   "source": [
    "test=np.array([[1,2,3],[4,5,6],[4,5,6]])"
   ]
  },
  {
   "cell_type": "code",
   "execution_count": null,
   "metadata": {
    "id": "zq18HNzFL9Mi",
    "outputId": "301a8c30-07bb-4fa8-e7e4-ca93172a95bc"
   },
   "outputs": [
    {
     "data": {
      "text/plain": [
       "array([[1, 2, 3],\n",
       "       [4, 5, 6],\n",
       "       [4, 5, 6]])"
      ]
     },
     "execution_count": 349,
     "metadata": {},
     "output_type": "execute_result"
    }
   ],
   "source": [
    "test"
   ]
  },
  {
   "cell_type": "code",
   "execution_count": null,
   "metadata": {
    "id": "5LxcS5JGL9Mj",
    "outputId": "ac06f6f2-9cd9-4293-e9af-4843e731768b"
   },
   "outputs": [
    {
     "data": {
      "text/plain": [
       "2"
      ]
     },
     "execution_count": 354,
     "metadata": {},
     "output_type": "execute_result"
    }
   ],
   "source": [
    "test.shape"
   ]
  },
  {
   "cell_type": "markdown",
   "metadata": {
    "id": "SpQcw0AzL9Mj"
   },
   "source": [
    "### create an array of zeros in a given shape "
   ]
  },
  {
   "cell_type": "code",
   "execution_count": null,
   "metadata": {
    "id": "dxyUlfJSL9Mk",
    "outputId": "945a32ea-bd39-41c6-fec0-7a543e4f02c6"
   },
   "outputs": [
    {
     "name": "stdout",
     "output_type": "stream",
     "text": [
      "[[0 0 0 0 0]\n",
      " [0 0 0 0 0]\n",
      " [0 0 0 0 0]\n",
      " [0 0 0 0 0]]\n"
     ]
    }
   ],
   "source": [
    "zeros = np.zeros((4,5), dtype='int16')\n",
    "print(zeros)"
   ]
  },
  {
   "cell_type": "markdown",
   "metadata": {
    "id": "nBUbjagoL9Mk"
   },
   "source": [
    "### create an array of zeros with the same shape and data type as a given array"
   ]
  },
  {
   "cell_type": "code",
   "execution_count": null,
   "metadata": {
    "id": "eh4oD4pmL9Mk",
    "outputId": "96abbc0c-8fbe-474a-e76f-2ebae93f7deb"
   },
   "outputs": [
    {
     "name": "stdout",
     "output_type": "stream",
     "text": [
      "[[0 0 0]\n",
      " [0 0 0]\n",
      " [0 0 0]]\n"
     ]
    }
   ],
   "source": [
    "zeros = np.zeros_like(test)\n",
    "print(zeros)"
   ]
  },
  {
   "cell_type": "markdown",
   "metadata": {
    "id": "HSOAGCeOL9Ml"
   },
   "source": [
    "### create an array of ones in a given shape "
   ]
  },
  {
   "cell_type": "code",
   "execution_count": null,
   "metadata": {
    "id": "7h1FiRK4L9Mn",
    "outputId": "46b16465-9331-4e5c-e888-51c6f264214e"
   },
   "outputs": [
    {
     "name": "stdout",
     "output_type": "stream",
     "text": [
      "int8\n"
     ]
    }
   ],
   "source": [
    "ones = np.ones((2,3), dtype = 'int8')\n",
    "print(ones.dtype)"
   ]
  },
  {
   "cell_type": "markdown",
   "metadata": {
    "id": "cQ3EFNr7L9Mq"
   },
   "source": [
    "### create an array of ones with the same shape and data type as a given array"
   ]
  },
  {
   "cell_type": "code",
   "execution_count": null,
   "metadata": {
    "id": "nOISQmQ5L9Ms",
    "outputId": "f1a1be96-f251-4a88-faf8-c22202d9d247"
   },
   "outputs": [
    {
     "name": "stdout",
     "output_type": "stream",
     "text": [
      "[[1 1 1]\n",
      " [1 1 1]\n",
      " [1 1 1]]\n"
     ]
    }
   ],
   "source": [
    "ones = np.ones_like(test)\n",
    "print(ones)"
   ]
  },
  {
   "cell_type": "markdown",
   "metadata": {
    "id": "wsyS9jkSL9Mw"
   },
   "source": [
    "### create an array of constant values in a given shape  "
   ]
  },
  {
   "cell_type": "code",
   "execution_count": null,
   "metadata": {
    "id": "Q7XMRHMLL9My",
    "outputId": "07f00a0a-ade8-4858-c59c-9702e026af2a",
    "scrolled": false
   },
   "outputs": [
    {
     "name": "stdout",
     "output_type": "stream",
     "text": [
      "[[[1 3 2]\n",
      "  [1 3 2]\n",
      "  [1 3 2]\n",
      "  [1 3 2]\n",
      "  [1 3 2]]\n",
      "\n",
      " [[1 3 2]\n",
      "  [1 3 2]\n",
      "  [1 3 2]\n",
      "  [1 3 2]\n",
      "  [1 3 2]]\n",
      "\n",
      " [[1 3 2]\n",
      "  [1 3 2]\n",
      "  [1 3 2]\n",
      "  [1 3 2]\n",
      "  [1 3 2]]\n",
      "\n",
      " [[1 3 2]\n",
      "  [1 3 2]\n",
      "  [1 3 2]\n",
      "  [1 3 2]\n",
      "  [1 3 2]]]\n"
     ]
    }
   ],
   "source": [
    "p = np.full((4,5,3), (1,3,2))\n",
    "print(p)"
   ]
  },
  {
   "cell_type": "code",
   "execution_count": null,
   "metadata": {},
   "outputs": [
    {
     "data": {
      "text/plain": [
       "3"
      ]
     },
     "execution_count": 30,
     "metadata": {},
     "output_type": "execute_result"
    }
   ],
   "source": [
    "p.ndim"
   ]
  },
  {
   "cell_type": "markdown",
   "metadata": {
    "id": "U1l6lx5gL9Mz"
   },
   "source": [
    "### create an array of constant values with the same shape and data type as a given array"
   ]
  },
  {
   "cell_type": "code",
   "execution_count": null,
   "metadata": {},
   "outputs": [],
   "source": [
    "arr=np.array([1,2,3,4,5])"
   ]
  },
  {
   "cell_type": "code",
   "execution_count": null,
   "metadata": {
    "id": "MKqRE4rcL9Mz",
    "outputId": "3be7d6d9-2110-4458-e742-15363d982f11"
   },
   "outputs": [
    {
     "name": "stdout",
     "output_type": "stream",
     "text": [
      "[5 5 5 5 5]\n"
     ]
    }
   ],
   "source": [
    "p = np.full_like(arr, 5)\n",
    "print(p)"
   ]
  },
  {
   "cell_type": "markdown",
   "metadata": {
    "id": "S2jMzMpPL9Mz"
   },
   "source": [
    "### create an array by repetition"
   ]
  },
  {
   "cell_type": "code",
   "execution_count": null,
   "metadata": {
    "id": "wYPvn5ZtL9Mz",
    "outputId": "201b79b6-221d-45cb-e391-adb733856c0d"
   },
   "outputs": [
    {
     "name": "stdout",
     "output_type": "stream",
     "text": [
      "[1 1 1 1 5 5 5 5 2 2 2 2]\n"
     ]
    }
   ],
   "source": [
    "# repeat each element of an array by a specified number of times\n",
    "# np.repeat(iterable, reps, axis=None)\n",
    "arr = [1, 5, 2]\n",
    "print(np.repeat(arr, 4))    # or np.repeat(range(3), 3)"
   ]
  },
  {
   "cell_type": "code",
   "execution_count": null,
   "metadata": {
    "id": "2ZSDHZpUL9M0",
    "outputId": "3fff996e-89b9-4b44-9679-86972e97032d"
   },
   "outputs": [
    {
     "name": "stdout",
     "output_type": "stream",
     "text": [
      "[0 1 2 0 1 2 0 1 2]\n"
     ]
    }
   ],
   "source": [
    "# repeat an array by a specified number of times\n",
    "arr = [0, 1, 2]\n",
    "print(np.tile(arr, 3))"
   ]
  },
  {
   "cell_type": "code",
   "execution_count": null,
   "metadata": {
    "id": "1W90DWGUL9M0",
    "outputId": "ee4c9d21-7c67-4ab2-9b89-d8315d63a2db"
   },
   "outputs": [
    {
     "name": "stdout",
     "output_type": "stream",
     "text": [
      "[[1 5 2 1 5 2]\n",
      " [1 5 2 1 5 2]]\n"
     ]
    }
   ],
   "source": [
    "# repeat along specified axes\n",
    "print(np.tile(arr, (2,2)))"
   ]
  },
  {
   "cell_type": "markdown",
   "metadata": {
    "id": "gDnb7r2VL9M0"
   },
   "source": [
    "### create an identity matrix with a given diagonal size"
   ]
  },
  {
   "cell_type": "code",
   "execution_count": null,
   "metadata": {
    "id": "5cwwDlQPL9M1",
    "outputId": "5c83f4b9-041b-4105-bc5a-129fbbbe7809"
   },
   "outputs": [
    {
     "name": "stdout",
     "output_type": "stream",
     "text": [
      "[[1. 0.]\n",
      " [0. 1.]]\n"
     ]
    }
   ],
   "source": [
    "identity_matrix = np.eye(2)\n",
    "print(identity_matrix)"
   ]
  },
  {
   "cell_type": "code",
   "execution_count": null,
   "metadata": {
    "id": "Z-YE7u0cL9M1",
    "outputId": "ed77a8d7-6b54-448e-b3a2-a4c19de3bfe8"
   },
   "outputs": [
    {
     "name": "stdout",
     "output_type": "stream",
     "text": [
      "[[1. 0.]\n",
      " [0. 1.]]\n"
     ]
    }
   ],
   "source": [
    "identity_matrix = np.identity(2)\n",
    "print(identity_matrix)"
   ]
  },
  {
   "cell_type": "markdown",
   "metadata": {
    "id": "PbUZT9GvL9M4"
   },
   "source": [
    "### create an identity matrix with a diagonal offset"
   ]
  },
  {
   "cell_type": "code",
   "execution_count": null,
   "metadata": {
    "id": "tpLjxQViL9M5",
    "outputId": "10084648-b270-4fb5-d190-e9475c637ee2"
   },
   "outputs": [
    {
     "name": "stdout",
     "output_type": "stream",
     "text": [
      "[[0. 1. 0. 0. 0.]\n",
      " [0. 0. 1. 0. 0.]\n",
      " [0. 0. 0. 1. 0.]\n",
      " [0. 0. 0. 0. 1.]\n",
      " [0. 0. 0. 0. 0.]]\n"
     ]
    }
   ],
   "source": [
    "identity_matrix = np.eye(5, k=1)    # positive number shifts the diagonal upward\n",
    "print(identity_matrix)"
   ]
  },
  {
   "cell_type": "code",
   "execution_count": null,
   "metadata": {
    "id": "NEZgIe5RL9M6",
    "outputId": "8c946ce5-153d-4aca-9f02-41d460ae73e1"
   },
   "outputs": [
    {
     "name": "stdout",
     "output_type": "stream",
     "text": [
      "[[0. 0. 0. 0. 0.]\n",
      " [0. 0. 0. 0. 0.]\n",
      " [1. 0. 0. 0. 0.]\n",
      " [0. 1. 0. 0. 0.]\n",
      " [0. 0. 1. 0. 0.]]\n"
     ]
    }
   ],
   "source": [
    "identity_matrix = np.eye(5, k=-2)   # negative number shifts the diagonal downward\n",
    "print(identity_matrix)"
   ]
  },
  {
   "cell_type": "markdown",
   "metadata": {
    "id": "fpU2iW8wL9M-"
   },
   "source": [
    "### extract the diagonal array / create a diagonal array"
   ]
  },
  {
   "cell_type": "code",
   "execution_count": null,
   "metadata": {
    "id": "Q0JWYM_jL9NA",
    "outputId": "91628e9e-f4db-41bb-9f7f-8722590a3e4e"
   },
   "outputs": [
    {
     "name": "stdout",
     "output_type": "stream",
     "text": [
      "[[0.50576488 0.01810978 0.25745674 0.39907643 0.06669313]\n",
      " [0.82733836 0.10077079 0.25662301 0.65245824 0.34076627]\n",
      " [0.54872265 0.45483159 0.37400663 0.87726859 0.64498394]\n",
      " [0.3685771  0.82129305 0.89771416 0.51222085 0.69045859]\n",
      " [0.34245334 0.59534157 0.13079717 0.52267265 0.64270688]]\n"
     ]
    }
   ],
   "source": [
    "arr = np.random.rand(5,5)\n",
    "print(arr)"
   ]
  },
  {
   "cell_type": "code",
   "execution_count": null,
   "metadata": {
    "id": "ifxKqoO2L9ND",
    "outputId": "c7e32bae-97dd-4ef4-da0e-04a340bb2533"
   },
   "outputs": [
    {
     "data": {
      "text/plain": [
       "numpy.ndarray"
      ]
     },
     "execution_count": 45,
     "metadata": {},
     "output_type": "execute_result"
    }
   ],
   "source": [
    "type(arr) "
   ]
  },
  {
   "cell_type": "code",
   "execution_count": null,
   "metadata": {
    "id": "CfjYLBALL9NI",
    "outputId": "88e70b6e-36db-4cce-d386-60c528150e98"
   },
   "outputs": [
    {
     "name": "stdout",
     "output_type": "stream",
     "text": [
      "[0.50576488 0.10077079 0.37400663 0.51222085 0.64270688]\n"
     ]
    }
   ],
   "source": [
    "# extract the diagonal\n",
    "print(np.diag(arr))"
   ]
  },
  {
   "cell_type": "code",
   "execution_count": null,
   "metadata": {
    "id": "L-jvQBLdL9NN",
    "outputId": "aa05b8d2-3911-4d72-831f-684fbe0d12ec"
   },
   "outputs": [
    {
     "name": "stdout",
     "output_type": "stream",
     "text": [
      "[[1 0 0 0 0]\n",
      " [0 3 0 0 0]\n",
      " [0 0 5 0 0]\n",
      " [0 0 0 7 0]\n",
      " [0 0 0 0 9]]\n"
     ]
    }
   ],
   "source": [
    "# create a matrix with a specified diagonal array\n",
    "arr = np.diag(range(1,10,2))\n",
    "print(arr)"
   ]
  },
  {
   "cell_type": "markdown",
   "metadata": {
    "id": "rfTy19qPL9NR"
   },
   "source": [
    "# 2. Inspect Arrays"
   ]
  },
  {
   "cell_type": "code",
   "execution_count": null,
   "metadata": {
    "id": "NfVhtZkIL9NW"
   },
   "outputs": [],
   "source": [
    "arr = np.array([[1,5,3,4], [4,5,6,7],[4,7,6,8]], dtype=np.int32)"
   ]
  },
  {
   "cell_type": "markdown",
   "metadata": {
    "id": "QLSWmoqfL9NZ"
   },
   "source": [
    "### inspect general information of an array"
   ]
  },
  {
   "cell_type": "code",
   "execution_count": null,
   "metadata": {},
   "outputs": [
    {
     "data": {
      "text/plain": [
       "array([[1, 5, 3, 4],\n",
       "       [4, 5, 6, 7],\n",
       "       [4, 7, 6, 8]])"
      ]
     },
     "execution_count": 435,
     "metadata": {},
     "output_type": "execute_result"
    }
   ],
   "source": [
    "arr"
   ]
  },
  {
   "cell_type": "code",
   "execution_count": null,
   "metadata": {
    "id": "j8u60TfXL9Nb",
    "outputId": "955ae51d-3edc-4557-a219-79c7b9f43b97"
   },
   "outputs": [
    {
     "name": "stdout",
     "output_type": "stream",
     "text": [
      "class:  ndarray\n",
      "shape:  (3, 3)\n",
      "strides:  (12, 4)\n",
      "itemsize:  4\n",
      "aligned:  True\n",
      "contiguous:  True\n",
      "fortran:  False\n",
      "data pointer: 0x15117a21dc0\n",
      "byteorder:  little\n",
      "byteswap:  False\n",
      "type: int32\n",
      "None\n"
     ]
    }
   ],
   "source": [
    "print(np.info(arr))"
   ]
  },
  {
   "cell_type": "markdown",
   "metadata": {
    "id": "nuSWMnQIL9Ne"
   },
   "source": [
    "### inspect the data type of an array"
   ]
  },
  {
   "cell_type": "code",
   "execution_count": null,
   "metadata": {
    "id": "kNjiRHNqL9Ng",
    "outputId": "5c9dc649-81ae-4a85-9ef9-97e50f5bb64e"
   },
   "outputs": [
    {
     "name": "stdout",
     "output_type": "stream",
     "text": [
      "int32\n"
     ]
    }
   ],
   "source": [
    "print(arr.dtype)"
   ]
  },
  {
   "cell_type": "code",
   "execution_count": null,
   "metadata": {
    "id": "RE832JmgL9Nj",
    "outputId": "091a64c9-9a22-4c89-a4f7-44b1cacbee73"
   },
   "outputs": [
    {
     "data": {
      "text/plain": [
       "array([[1, 5, 3, 4],\n",
       "       [4, 5, 6, 7],\n",
       "       [4, 7, 6, 8]])"
      ]
     },
     "execution_count": 443,
     "metadata": {},
     "output_type": "execute_result"
    }
   ],
   "source": [
    "arr"
   ]
  },
  {
   "cell_type": "markdown",
   "metadata": {
    "id": "u_KXrqAvL9Nj"
   },
   "source": [
    "### inspect the dimension of an array"
   ]
  },
  {
   "cell_type": "code",
   "execution_count": null,
   "metadata": {
    "id": "zxKkQU48L9Nk",
    "outputId": "04d8e2cf-2341-4eb4-9871-fc8e6b42ca5e"
   },
   "outputs": [
    {
     "name": "stdout",
     "output_type": "stream",
     "text": [
      "(3, 4)\n"
     ]
    }
   ],
   "source": [
    "print(arr.shape)"
   ]
  },
  {
   "cell_type": "code",
   "execution_count": null,
   "metadata": {},
   "outputs": [],
   "source": [
    "arr = np.array([[1,5,3,4], [4,5,6,7],[4,7,6,8],[9,10,11,12]], dtype=np.int32)"
   ]
  },
  {
   "cell_type": "markdown",
   "metadata": {
    "id": "kXjuGZ2ML9Nl"
   },
   "source": [
    "### inspect length of an array"
   ]
  },
  {
   "cell_type": "code",
   "execution_count": null,
   "metadata": {
    "id": "kgoS4WgwL9Nl",
    "outputId": "f8dcfa21-33a6-4542-e4bd-e75cd062c16c"
   },
   "outputs": [
    {
     "name": "stdout",
     "output_type": "stream",
     "text": [
      "16\n"
     ]
    }
   ],
   "source": [
    "print(arr.size)"
   ]
  },
  {
   "cell_type": "markdown",
   "metadata": {
    "id": "rIbKXPBqL9Nm"
   },
   "source": [
    "### inspect the number of dimensions of an array"
   ]
  },
  {
   "cell_type": "code",
   "execution_count": null,
   "metadata": {
    "id": "Fy9hIfQRL9Nm",
    "outputId": "1d018976-86a8-46e6-e150-9fb5f57ab9f8"
   },
   "outputs": [
    {
     "name": "stdout",
     "output_type": "stream",
     "text": [
      "2\n"
     ]
    }
   ],
   "source": [
    "print(arr.ndim)"
   ]
  },
  {
   "cell_type": "markdown",
   "metadata": {
    "id": "kIA2LKTxL9Nn"
   },
   "source": [
    "### inspect the number of elements in an array"
   ]
  },
  {
   "cell_type": "code",
   "execution_count": null,
   "metadata": {
    "id": "hCMoIbpyL9Np",
    "outputId": "8e61a7f4-47b6-4cd2-b120-3a73c7b96d0a"
   },
   "outputs": [
    {
     "name": "stdout",
     "output_type": "stream",
     "text": [
      "4\n",
      "4\n"
     ]
    }
   ],
   "source": [
    "print(arr.itemsize)\n",
    "print(len(arr))"
   ]
  },
  {
   "cell_type": "markdown",
   "metadata": {
    "id": "rb_QEsGQL9Nr"
   },
   "source": [
    "### inspect the memory size of an array (in byte)"
   ]
  },
  {
   "cell_type": "code",
   "execution_count": null,
   "metadata": {
    "id": "tOOi4bR_L9Ns",
    "outputId": "33dcd830-1638-4384-9ed1-cc349d9cc578"
   },
   "outputs": [
    {
     "name": "stdout",
     "output_type": "stream",
     "text": [
      "72\n"
     ]
    }
   ],
   "source": [
    "# arr.nbytes = arr.size * arr.itemsize\n",
    "print(arr.nbytes)"
   ]
  },
  {
   "cell_type": "markdown",
   "metadata": {
    "id": "nfb4BaqKL9Ns"
   },
   "source": [
    "# 3. Sampling Methods"
   ]
  },
  {
   "cell_type": "markdown",
   "metadata": {
    "id": "oiTe10gHL9Nt"
   },
   "source": [
    "### set seed"
   ]
  },
  {
   "cell_type": "code",
   "execution_count": null,
   "metadata": {
    "id": "ldnw5U5GL9Nt",
    "outputId": "51d22a34-16b9-4078-b371-d0d993a4de8b"
   },
   "outputs": [
    {
     "data": {
      "text/plain": [
       "array([[0.69646919, 0.28613933, 0.22685145],\n",
       "       [0.55131477, 0.71946897, 0.42310646],\n",
       "       [0.9807642 , 0.68482974, 0.4809319 ]])"
      ]
     },
     "execution_count": 493,
     "metadata": {},
     "output_type": "execute_result"
    }
   ],
   "source": [
    "np.random.seed(123)\n",
    "np.random.rand(3,3)"
   ]
  },
  {
   "cell_type": "markdown",
   "metadata": {
    "id": "aqWds2fvL9Nu"
   },
   "source": [
    "### generate a random sample from interval [0, 1) in a given shape"
   ]
  },
  {
   "cell_type": "code",
   "execution_count": null,
   "metadata": {
    "id": "IFWMP6L3L9Nu",
    "outputId": "67048b49-e263-44cc-cbd4-ca4c45b8965c"
   },
   "outputs": [
    {
     "name": "stdout",
     "output_type": "stream",
     "text": [
      "0.24989901388011448\n"
     ]
    }
   ],
   "source": [
    "# generate a random scalar\n",
    "print(np.random.rand())      "
   ]
  },
  {
   "cell_type": "code",
   "execution_count": null,
   "metadata": {
    "id": "TSjinFA7L9Nv",
    "outputId": "c6526b7d-1826-4a35-9287-964713bf9652"
   },
   "outputs": [
    {
     "name": "stdout",
     "output_type": "stream",
     "text": [
      "[0.9176299  0.26414685 0.71777369]\n"
     ]
    }
   ],
   "source": [
    "# generate a 1-D array\n",
    "print(np.random.rand(3))           "
   ]
  },
  {
   "cell_type": "code",
   "execution_count": null,
   "metadata": {
    "id": "YT3y5AeQL9Nw",
    "outputId": "6da3a322-0e6b-4a3f-d1e4-c84c21bf24f9"
   },
   "outputs": [
    {
     "name": "stdout",
     "output_type": "stream",
     "text": [
      "[[0.86571503 0.80707948 0.21055058]\n",
      " [0.16724303 0.04670639 0.03942231]\n",
      " [0.20023081 0.9985434  0.37278698]]\n"
     ]
    }
   ],
   "source": [
    "# generate a 2-D array\n",
    "print(np.random.rand(3,3))          "
   ]
  },
  {
   "cell_type": "markdown",
   "metadata": {
    "id": "mEg7SC-mL9Nz"
   },
   "source": [
    "### generate a sample from the standard normal distribution (mean = 0, var = 1)"
   ]
  },
  {
   "cell_type": "code",
   "execution_count": null,
   "metadata": {
    "id": "O6XQF4qsL9Nz",
    "outputId": "78b451e8-9865-4043-becd-36422076050e"
   },
   "outputs": [
    {
     "data": {
      "text/plain": [
       "-0.00010418624186355136"
      ]
     },
     "execution_count": 287,
     "metadata": {},
     "output_type": "execute_result"
    }
   ],
   "source": [
    "np.mean(np.random.randn(10000000,3))"
   ]
  },
  {
   "cell_type": "markdown",
   "metadata": {
    "id": "Haoyj3aOL9N0"
   },
   "source": [
    "### generate an array of random integers in a given interval [low, high)"
   ]
  },
  {
   "cell_type": "code",
   "execution_count": null,
   "metadata": {
    "id": "L8TxnUKkL9N0",
    "outputId": "250cf60c-b6f5-432d-8207-17e6d98c6791"
   },
   "outputs": [
    {
     "name": "stdout",
     "output_type": "stream",
     "text": [
      "[[[67 93 99 18 84]\n",
      "  [58 87 98 97 48]\n",
      "  [74 33 47 97 26]\n",
      "  [84 79 37 97 81]\n",
      "  [69 50 56 68  3]]\n",
      "\n",
      " [[85 40 67 85 48]\n",
      "  [62 49  8 93 53]\n",
      "  [98 86 95 28 35]\n",
      "  [98 77 41  4 70]\n",
      "  [65 76 35 59 11]]\n",
      "\n",
      " [[23 78 19 16 28]\n",
      "  [31 53 71 27 81]\n",
      "  [ 7 15 76 55 72]\n",
      "  [ 2 44 59 56 26]\n",
      "  [51 85 57 50 13]]\n",
      "\n",
      " [[19 82  2 52 45]\n",
      "  [49 57 92 50 87]\n",
      "  [ 4 68 12 22 90]\n",
      "  [99  4 12  4 95]\n",
      "  [ 7 10 88 15 84]]]\n"
     ]
    }
   ],
   "source": [
    "# np.ranodm.randint(low, high, size, dtype)\n",
    "np.random.seed(123)\n",
    "print(np.random.randint(1, 100, (4,5,5)))"
   ]
  },
  {
   "cell_type": "markdown",
   "metadata": {
    "id": "YHhVfUzbL9N0"
   },
   "source": [
    "### generate an array of random floating-point numbers in the interval [0.0, 1.0)"
   ]
  },
  {
   "cell_type": "code",
   "execution_count": null,
   "metadata": {
    "id": "4gzpnkpeL9N1",
    "outputId": "84f67db4-5741-4c50-b533-f9df5da3df9a"
   },
   "outputs": [
    {
     "name": "stdout",
     "output_type": "stream",
     "text": [
      "[0.34345601 0.51312815]\n",
      "[0.66662455 0.10590849]\n",
      "[0.13089495 0.32198061 0.66156434 0.84650623 0.55325734 0.85445249\n",
      " 0.38483781 0.3167879  0.35426468 0.17108183]\n",
      "[0.82911263 0.33867085 0.55237008 0.57855147 0.52153306 0.00268806\n",
      " 0.98834542 0.90534158 0.20763586 0.29248941]\n"
     ]
    }
   ],
   "source": [
    "# the following methods are the same as np.random.rand()\n",
    "print(np.random.random_sample(2))\n",
    "print(np.random.random(2))\n",
    "print(np.random.ranf(10))\n",
    "print(np.random.sample(10))"
   ]
  },
  {
   "cell_type": "markdown",
   "metadata": {
    "id": "VfqSDZlJL9N1"
   },
   "source": [
    "### shuffle an array in place"
   ]
  },
  {
   "cell_type": "code",
   "execution_count": null,
   "metadata": {
    "id": "g-Bqx77DL9N1",
    "outputId": "ff0eba50-cbbe-43cc-c086-928fd8869088"
   },
   "outputs": [
    {
     "name": "stdout",
     "output_type": "stream",
     "text": [
      "[0 1 2 3 4 5 6 7 8 9]\n"
     ]
    }
   ],
   "source": [
    "arr = np.array(range(10))\n",
    "print(arr)\n"
   ]
  },
  {
   "cell_type": "code",
   "execution_count": null,
   "metadata": {
    "id": "U0fVqWgWL9N1",
    "outputId": "fab09950-466a-4f12-98cf-a5da53f581b1"
   },
   "outputs": [
    {
     "name": "stdout",
     "output_type": "stream",
     "text": [
      "[8 9 1 3 6 5 0 7 4 2]\n"
     ]
    }
   ],
   "source": [
    "np.random.shuffle(arr)\n",
    "print(arr)"
   ]
  },
  {
   "cell_type": "code",
   "execution_count": null,
   "metadata": {},
   "outputs": [
    {
     "data": {
      "text/plain": [
       "array([8, 9, 1, 3, 6, 5, 0, 7, 4, 2])"
      ]
     },
     "execution_count": 508,
     "metadata": {},
     "output_type": "execute_result"
    }
   ],
   "source": [
    "arr"
   ]
  },
  {
   "cell_type": "markdown",
   "metadata": {
    "id": "bBNt2uWhL9N2"
   },
   "source": [
    "# 4. Math Functions"
   ]
  },
  {
   "cell_type": "code",
   "execution_count": null,
   "metadata": {
    "id": "nsjoY3kSL9N2"
   },
   "outputs": [],
   "source": [
    "arr = np.random.randint(1,10,(5,5))"
   ]
  },
  {
   "cell_type": "code",
   "execution_count": null,
   "metadata": {
    "id": "j7KE8A7lL9N2",
    "outputId": "2b648558-1124-4d4b-c62d-3b95d3c07764"
   },
   "outputs": [
    {
     "data": {
      "text/plain": [
       "array([[3, 5, 9, 2, 3],\n",
       "       [2, 2, 4, 6, 1],\n",
       "       [9, 2, 7, 4, 4],\n",
       "       [6, 8, 3, 4, 4],\n",
       "       [4, 9, 7, 8, 7]])"
      ]
     },
     "execution_count": 513,
     "metadata": {},
     "output_type": "execute_result"
    }
   ],
   "source": [
    "arr"
   ]
  },
  {
   "cell_type": "markdown",
   "metadata": {
    "id": "NP-vzp7SL9N3"
   },
   "source": [
    "### element-wise addition, subtraction, multiplication and division"
   ]
  },
  {
   "cell_type": "code",
   "execution_count": null,
   "metadata": {},
   "outputs": [],
   "source": []
  },
  {
   "cell_type": "code",
   "execution_count": null,
   "metadata": {
    "id": "tfZ_PMUkL9N3",
    "outputId": "66570911-3c26-4b2f-d74b-eca8dc0b0b1b"
   },
   "outputs": [
    {
     "name": "stdout",
     "output_type": "stream",
     "text": [
      "[[13 15 19 12 13]\n",
      " [12 12 14 16 11]\n",
      " [19 12 17 14 14]\n",
      " [16 18 13 14 14]\n",
      " [14 19 17 18 17]]\n",
      "[[-7 -5 -1 -8 -7]\n",
      " [-8 -8 -6 -4 -9]\n",
      " [-1 -8 -3 -6 -6]\n",
      " [-4 -2 -7 -6 -6]\n",
      " [-6 -1 -3 -2 -3]]\n",
      "[[30 50 90 20 30]\n",
      " [20 20 40 60 10]\n",
      " [90 20 70 40 40]\n",
      " [60 80 30 40 40]\n",
      " [40 90 70 80 70]]\n",
      "[[0.3 0.5 0.9 0.2 0.3]\n",
      " [0.2 0.2 0.4 0.6 0.1]\n",
      " [0.9 0.2 0.7 0.4 0.4]\n",
      " [0.6 0.8 0.3 0.4 0.4]\n",
      " [0.4 0.9 0.7 0.8 0.7]]\n"
     ]
    }
   ],
   "source": [
    "print(arr + 10)\n",
    "print(arr - 10)\n",
    "print(arr * 10)\n",
    "print(arr / 10)"
   ]
  },
  {
   "cell_type": "code",
   "execution_count": null,
   "metadata": {
    "id": "Yhchow-JL9N4",
    "outputId": "57f7b1d1-6899-4908-99a1-57fd16e251fa"
   },
   "outputs": [
    {
     "name": "stdout",
     "output_type": "stream",
     "text": [
      "[ 9 11 13]\n",
      "[-7 -7 -7]\n",
      "[1 4 9]\n",
      "[0.25 1.   1.  ]\n"
     ]
    }
   ],
   "source": [
    "arr1 = np.array([1,2,3])\n",
    "# the above operations can be performed using numpy built-in functions\n",
    "# which can save memory as the output can be stored in the original array rather than assigning new memoryarr = np.array([1,2,3])\n",
    "arr0=np.add(arr1, [8,9,10])\n",
    "print(arr0)\n",
    "\n",
    "arr2=np.subtract(arr1, [8,9,10])\n",
    "print(arr2)\n",
    "\n",
    "arr3=np.multiply(arr1, [1,2,3])\n",
    "print(arr3)\n",
    "arr4=np.divide(arr1,[4,2,3])\n",
    "print(arr4)"
   ]
  },
  {
   "cell_type": "markdown",
   "metadata": {
    "id": "Lj_klxZqL9N5"
   },
   "source": [
    "### element-wise exponentiation"
   ]
  },
  {
   "cell_type": "code",
   "execution_count": null,
   "metadata": {
    "id": "JmdDElmuL9N6",
    "outputId": "d1df30e2-a055-42f4-8ff5-11dd47f11155"
   },
   "outputs": [
    {
     "name": "stdout",
     "output_type": "stream",
     "text": [
      "[ 2.71828183  7.3890561  20.08553692]\n"
     ]
    }
   ],
   "source": [
    "a=np.exp(arr1) # e = 2.71828183\n",
    "print(a)"
   ]
  },
  {
   "cell_type": "code",
   "execution_count": null,
   "metadata": {
    "id": "Hzu-ErfkL9N-",
    "outputId": "12c4ac48-b191-423d-da51-35ee59869e01"
   },
   "outputs": [
    {
     "data": {
      "text/plain": [
       "array([1, 2, 3])"
      ]
     },
     "execution_count": 526,
     "metadata": {},
     "output_type": "execute_result"
    }
   ],
   "source": [
    "arr1"
   ]
  },
  {
   "cell_type": "markdown",
   "metadata": {
    "id": "oMHZja9nL9OG"
   },
   "source": [
    "### element-wise logorithm"
   ]
  },
  {
   "cell_type": "code",
   "execution_count": null,
   "metadata": {
    "id": "QwuUEmNwL9ON",
    "outputId": "458acf26-8e6b-4517-86d3-8265146ab70f"
   },
   "outputs": [
    {
     "name": "stdout",
     "output_type": "stream",
     "text": [
      "[1. 2. 3.]\n"
     ]
    }
   ],
   "source": [
    "# natural log\n",
    "print(np.log(a))      "
   ]
  },
  {
   "cell_type": "code",
   "execution_count": null,
   "metadata": {
    "id": "4ql1sbxfL9OP",
    "outputId": "90dd8e21-d412-423e-e687-0b4e66f3dc5e"
   },
   "outputs": [
    {
     "name": "stdout",
     "output_type": "stream",
     "text": [
      "[[1.5849625  2.32192809 3.169925   1.         1.5849625 ]\n",
      " [1.         1.         2.         2.5849625  0.        ]\n",
      " [3.169925   1.         2.80735492 2.         2.        ]\n",
      " [2.5849625  3.         1.5849625  2.         2.        ]\n",
      " [2.         3.169925   2.80735492 3.         2.80735492]]\n"
     ]
    }
   ],
   "source": [
    "# base 2\n",
    "print(np.log2(arr))     "
   ]
  },
  {
   "cell_type": "code",
   "execution_count": null,
   "metadata": {
    "id": "CBjb8Yb6L9OQ",
    "outputId": "cb63c630-0a6c-4bfc-c74f-49f2fc0e9b62"
   },
   "outputs": [
    {
     "name": "stdout",
     "output_type": "stream",
     "text": [
      "[[0.47712125 0.69897    0.95424251 0.30103    0.47712125]\n",
      " [0.30103    0.30103    0.60205999 0.77815125 0.        ]\n",
      " [0.95424251 0.30103    0.84509804 0.60205999 0.60205999]\n",
      " [0.77815125 0.90308999 0.47712125 0.60205999 0.60205999]\n",
      " [0.60205999 0.95424251 0.84509804 0.90308999 0.84509804]]\n"
     ]
    }
   ],
   "source": [
    "# base 10\n",
    "print(np.log10(arr))    "
   ]
  },
  {
   "cell_type": "code",
   "execution_count": null,
   "metadata": {
    "id": "MLgpjPewL9OS",
    "outputId": "8d549444-1691-4f82-bbac-5b1a45cc131f"
   },
   "outputs": [
    {
     "name": "stdout",
     "output_type": "stream",
     "text": [
      "[[1 2 3]\n",
      " [4 5 6]\n",
      " [4 7 6]]\n"
     ]
    }
   ],
   "source": [
    "print(arr)"
   ]
  },
  {
   "cell_type": "markdown",
   "metadata": {
    "id": "jCNQh31uL9OT"
   },
   "source": [
    "### element-wise square root"
   ]
  },
  {
   "cell_type": "code",
   "execution_count": null,
   "metadata": {
    "id": "WsN4dQ3QL9OV",
    "outputId": "b3cd4968-e59e-47b5-ccf2-b7904862d8f7"
   },
   "outputs": [
    {
     "name": "stdout",
     "output_type": "stream",
     "text": [
      "[[1.73205081 2.23606798 3.         1.41421356 1.73205081]\n",
      " [1.41421356 1.41421356 2.         2.44948974 1.        ]\n",
      " [3.         1.41421356 2.64575131 2.         2.        ]\n",
      " [2.44948974 2.82842712 1.73205081 2.         2.        ]\n",
      " [2.         3.         2.64575131 2.82842712 2.64575131]]\n"
     ]
    }
   ],
   "source": [
    "print(np.sqrt(arr))"
   ]
  },
  {
   "cell_type": "markdown",
   "metadata": {
    "id": "ZhMwhl-bL9OV"
   },
   "source": [
    "### element-wise sine and cosine"
   ]
  },
  {
   "cell_type": "code",
   "execution_count": null,
   "metadata": {
    "id": "9Nkz8wU3L9OW",
    "outputId": "b3353f2f-dcc0-42a7-e176-9cd6450075ab"
   },
   "outputs": [
    {
     "name": "stdout",
     "output_type": "stream",
     "text": [
      "[[ 0.14112001 -0.95892427  0.41211849  0.90929743  0.14112001]\n",
      " [ 0.90929743  0.90929743 -0.7568025  -0.2794155   0.84147098]\n",
      " [ 0.41211849  0.90929743  0.6569866  -0.7568025  -0.7568025 ]\n",
      " [-0.2794155   0.98935825  0.14112001 -0.7568025  -0.7568025 ]\n",
      " [-0.7568025   0.41211849  0.6569866   0.98935825  0.6569866 ]]\n"
     ]
    }
   ],
   "source": [
    "print(np.sin(arr))"
   ]
  },
  {
   "cell_type": "code",
   "execution_count": null,
   "metadata": {
    "id": "R-ECii-lL9OW",
    "outputId": "c09bf891-6305-4dd8-c6e2-2d8bff2e8cb3"
   },
   "outputs": [
    {
     "name": "stdout",
     "output_type": "stream",
     "text": [
      "[[-0.9899925   0.28366219 -0.91113026 -0.41614684 -0.9899925 ]\n",
      " [-0.41614684 -0.41614684 -0.65364362  0.96017029  0.54030231]\n",
      " [-0.91113026 -0.41614684  0.75390225 -0.65364362 -0.65364362]\n",
      " [ 0.96017029 -0.14550003 -0.9899925  -0.65364362 -0.65364362]\n",
      " [-0.65364362 -0.91113026  0.75390225 -0.14550003  0.75390225]]\n"
     ]
    }
   ],
   "source": [
    "print(np.cos(arr))"
   ]
  },
  {
   "cell_type": "markdown",
   "metadata": {
    "id": "_8aQMVMVL9OX"
   },
   "source": [
    "### compute the min and max along a specified axis"
   ]
  },
  {
   "cell_type": "code",
   "execution_count": null,
   "metadata": {
    "id": "3XLbPvasL9OX",
    "outputId": "797a32fa-5d23-43c8-cdd0-1099523f8d47"
   },
   "outputs": [
    {
     "data": {
      "text/plain": [
       "array([[36, 30,  2, 84],\n",
       "       [69, 31,  8, 94],\n",
       "       [61, 66, 77, 68]])"
      ]
     },
     "execution_count": 565,
     "metadata": {},
     "output_type": "execute_result"
    }
   ],
   "source": [
    "arr = np.random.randint(1,100,(3,4))\n",
    "arr"
   ]
  },
  {
   "cell_type": "code",
   "execution_count": null,
   "metadata": {
    "id": "DcOOuwetL9OY",
    "outputId": "561583e3-1802-4969-973c-d6580a750352"
   },
   "outputs": [
    {
     "name": "stdout",
     "output_type": "stream",
     "text": [
      "[36 30  2 68]\n"
     ]
    }
   ],
   "source": [
    "# calculate min along the row\n",
    "print(np.min(arr, axis = 0))"
   ]
  },
  {
   "cell_type": "code",
   "execution_count": null,
   "metadata": {
    "id": "Dcp7YkSHL9OY",
    "outputId": "29aa5557-3429-49f0-ac8b-b619d05a028b"
   },
   "outputs": [
    {
     "name": "stdout",
     "output_type": "stream",
     "text": [
      "[84 94 77]\n"
     ]
    }
   ],
   "source": [
    "# calculate max along the column\n",
    "print(np.max(arr, axis=1))    "
   ]
  },
  {
   "cell_type": "code",
   "execution_count": null,
   "metadata": {
    "id": "MtiEVwHBL9OY",
    "outputId": "0a2b4981-ddd5-4918-9b39-0f27fcc56e45"
   },
   "outputs": [
    {
     "name": "stdout",
     "output_type": "stream",
     "text": [
      "94\n",
      "2\n"
     ]
    }
   ],
   "source": [
    "# if axis not specified, calculate the max/min value of all elements\n",
    "print(np.max(arr))\n",
    "print(np.min(arr))"
   ]
  },
  {
   "cell_type": "markdown",
   "metadata": {
    "id": "iySiLy4gL9OZ"
   },
   "source": [
    "### compute element-wise min and max of two arrays"
   ]
  },
  {
   "cell_type": "code",
   "execution_count": null,
   "metadata": {
    "id": "he0RbqigL9Oa",
    "outputId": "787f6e0d-9a07-43ff-a67e-6f2949625f7a"
   },
   "outputs": [
    {
     "name": "stdout",
     "output_type": "stream",
     "text": [
      "[1 4 5 8 9]\n",
      "[0 3 3 7 7]\n"
     ]
    }
   ],
   "source": [
    "arr1 = np.array([1, 3, 5, 7, 9])\n",
    "arr2 = np.array([0, 4, 3, 8, 7])\n",
    "print(np.maximum(arr1, arr2))\n",
    "print(np.minimum(arr1, arr2))"
   ]
  },
  {
   "cell_type": "code",
   "execution_count": null,
   "metadata": {},
   "outputs": [
    {
     "name": "stdout",
     "output_type": "stream",
     "text": [
      "[1 4 5 8 9]\n"
     ]
    }
   ],
   "source": [
    "print(np.maximum(arr2, arr1))"
   ]
  },
  {
   "cell_type": "code",
   "execution_count": null,
   "metadata": {},
   "outputs": [
    {
     "name": "stdout",
     "output_type": "stream",
     "text": [
      "[0 3 3 7 7]\n"
     ]
    }
   ],
   "source": [
    "print(np.minimum(arr1, arr2))"
   ]
  },
  {
   "cell_type": "markdown",
   "metadata": {
    "id": "mSrgVFCcL9Oa"
   },
   "source": [
    "### compute the mean"
   ]
  },
  {
   "cell_type": "code",
   "execution_count": null,
   "metadata": {
    "id": "OzYs8UPCL9Ob",
    "outputId": "1bfaebcc-4ca9-42a1-dee8-73fb95abbe50"
   },
   "outputs": [
    {
     "data": {
      "text/plain": [
       "array([0.17405168, 0.07610341, 0.07247139, 0.38280365, 0.14892688])"
      ]
     },
     "execution_count": 211,
     "metadata": {},
     "output_type": "execute_result"
    }
   ],
   "source": [
    "arr[:][0]"
   ]
  },
  {
   "cell_type": "code",
   "execution_count": null,
   "metadata": {
    "id": "2oldBiZZL9Ob",
    "outputId": "41340bd4-bc83-4ef2-c40f-f7d08ee48a6d"
   },
   "outputs": [
    {
     "data": {
      "text/plain": [
       "0.17087140437035092"
      ]
     },
     "execution_count": 212,
     "metadata": {},
     "output_type": "execute_result"
    }
   ],
   "source": [
    "arr[0].mean()"
   ]
  },
  {
   "cell_type": "code",
   "execution_count": null,
   "metadata": {
    "id": "Kw1V090-L9Oc"
   },
   "outputs": [],
   "source": [
    "aa=np.array(range(24)).reshape(4,6)"
   ]
  },
  {
   "cell_type": "code",
   "execution_count": null,
   "metadata": {
    "id": "LJbjzwQiL9Od",
    "outputId": "09bef2db-8def-4fb9-eb10-a677fca15ed4"
   },
   "outputs": [
    {
     "name": "stdout",
     "output_type": "stream",
     "text": [
      "[[ 0  1  2  3  4  5]\n",
      " [ 6  7  8  9 10 11]\n",
      " [12 13 14 15 16 17]\n",
      " [18 19 20 21 22 23]]\n"
     ]
    }
   ],
   "source": [
    "print(aa)"
   ]
  },
  {
   "cell_type": "code",
   "execution_count": null,
   "metadata": {
    "id": "7tvkyAzrL9Og",
    "outputId": "991745e8-221d-4c05-f1a8-243cd14871b8"
   },
   "outputs": [
    {
     "data": {
      "text/plain": [
       "array([ 2.5,  8.5, 14.5, 20.5])"
      ]
     },
     "execution_count": 627,
     "metadata": {},
     "output_type": "execute_result"
    }
   ],
   "source": [
    "np.mean(aa,axis=1)"
   ]
  },
  {
   "cell_type": "code",
   "execution_count": null,
   "metadata": {
    "id": "ZZOrqgVcL9Ol",
    "outputId": "f1bca199-e10d-4341-edcb-c898ff31f717"
   },
   "outputs": [
    {
     "name": "stdout",
     "output_type": "stream",
     "text": [
      "7.5\n"
     ]
    }
   ],
   "source": [
    "# compute the overall mean\n",
    "print(np.mean(arr))"
   ]
  },
  {
   "cell_type": "code",
   "execution_count": null,
   "metadata": {
    "id": "fbD6SX0PL9Oo",
    "outputId": "d4af97d1-b39e-448c-f34c-156e3e7bdaf4"
   },
   "outputs": [
    {
     "name": "stdout",
     "output_type": "stream",
     "text": [
      "[6. 7. 8. 9.]\n"
     ]
    }
   ],
   "source": [
    "# compute the mean along the row\n",
    "print(np.mean(arr, axis=0))   "
   ]
  },
  {
   "cell_type": "code",
   "execution_count": null,
   "metadata": {
    "id": "Vv5H4HWwL9Op",
    "outputId": "22336659-9d28-4159-9196-4c6366463996"
   },
   "outputs": [
    {
     "name": "stdout",
     "output_type": "stream",
     "text": [
      "[ 1.5  5.5  9.5 13.5]\n"
     ]
    }
   ],
   "source": [
    "# compute the mean along the column\n",
    "print(np.mean(arr, axis=1)) "
   ]
  },
  {
   "cell_type": "markdown",
   "metadata": {
    "id": "tFN17UDEL9Oq"
   },
   "source": [
    "### compute the median"
   ]
  },
  {
   "cell_type": "code",
   "execution_count": null,
   "metadata": {
    "id": "kIjZx8N4L9Oq",
    "outputId": "faddb77e-7d13-45d0-8cfe-c8e6626c1a87"
   },
   "outputs": [
    {
     "name": "stdout",
     "output_type": "stream",
     "text": [
      "7.5\n"
     ]
    }
   ],
   "source": [
    "# compute the overall median\n",
    "print(np.median(arr))"
   ]
  },
  {
   "cell_type": "code",
   "execution_count": null,
   "metadata": {
    "id": "o3jDkThQL9Or",
    "outputId": "13ff727b-fddb-485e-a14d-30b85e824619"
   },
   "outputs": [
    {
     "name": "stdout",
     "output_type": "stream",
     "text": [
      "[6. 7. 8. 9.]\n"
     ]
    }
   ],
   "source": [
    "# compute the median along the row\n",
    "print(np.median(arr, axis=0)) "
   ]
  },
  {
   "cell_type": "code",
   "execution_count": null,
   "metadata": {
    "id": "HtYd9yzVL9Ou",
    "outputId": "7e73a3e0-1441-4ae8-aad6-23dc9191f5fa"
   },
   "outputs": [
    {
     "name": "stdout",
     "output_type": "stream",
     "text": [
      "[ 1.5  5.5  9.5 13.5]\n"
     ]
    }
   ],
   "source": [
    "# compute the median along the column\n",
    "print(np.median(arr, axis=1))"
   ]
  },
  {
   "cell_type": "markdown",
   "metadata": {
    "id": "sW2EoCsIL9O0"
   },
   "source": [
    "### compute the standard deviation & variance"
   ]
  },
  {
   "cell_type": "code",
   "execution_count": null,
   "metadata": {
    "id": "5M-ksM4IL9O2",
    "outputId": "6b398941-5c6f-4cc3-e12f-f964c24cb9b8"
   },
   "outputs": [
    {
     "name": "stdout",
     "output_type": "stream",
     "text": [
      "0.2936361710935977\n"
     ]
    }
   ],
   "source": [
    "# compute the overall standard deviation\n",
    "print(np.std(arr))"
   ]
  },
  {
   "cell_type": "code",
   "execution_count": null,
   "metadata": {
    "id": "eNabvANSL9PM",
    "outputId": "fd948950-71aa-4855-a4bd-4fb293cc1cf3"
   },
   "outputs": [
    {
     "name": "stdout",
     "output_type": "stream",
     "text": [
      "[0.32685874 0.24746738 0.30753265 0.26847058 0.23152403]\n"
     ]
    }
   ],
   "source": [
    "# compute the standard deviation along the row\n",
    "print(np.std(arr, axis=0))"
   ]
  },
  {
   "cell_type": "code",
   "execution_count": null,
   "metadata": {
    "id": "O5tm1LehL9Pa",
    "outputId": "0b1bf994-baab-4e1d-de07-bfe964d708cc"
   },
   "outputs": [
    {
     "name": "stdout",
     "output_type": "stream",
     "text": [
      "[0.11319937 0.3393323  0.19671493 0.14862537 0.27397649]\n"
     ]
    }
   ],
   "source": [
    "# compute the standard deviation along the column\n",
    "print(np.std(arr, axis=1))"
   ]
  },
  {
   "cell_type": "code",
   "execution_count": null,
   "metadata": {
    "id": "pJ3RKAL4L9Pc",
    "outputId": "0b5eb0b8-7a2f-4aa1-fa95-ce451c5b5048"
   },
   "outputs": [
    {
     "name": "stdout",
     "output_type": "stream",
     "text": [
      "0.08622220097450857\n"
     ]
    }
   ],
   "source": [
    "# compute the overall variance\n",
    "print(np.var(arr))"
   ]
  },
  {
   "cell_type": "code",
   "execution_count": null,
   "metadata": {
    "id": "xTwIDJJ8L9Pg",
    "outputId": "8b00d097-fd07-4131-ffb0-493926c8d367"
   },
   "outputs": [
    {
     "name": "stdout",
     "output_type": "stream",
     "text": [
      "[0.10683664 0.0612401  0.09457633 0.07207645 0.05360338]\n"
     ]
    }
   ],
   "source": [
    "# compute the variance along the row\n",
    "print(np.var(arr, axis=0))"
   ]
  },
  {
   "cell_type": "code",
   "execution_count": null,
   "metadata": {
    "id": "msd0MSOEL9Pj",
    "outputId": "bf7cf8ff-2f1f-4229-ff83-4523c57114b0"
   },
   "outputs": [
    {
     "name": "stdout",
     "output_type": "stream",
     "text": [
      "[0.0128141  0.11514641 0.03869676 0.0220895  0.07506312]\n"
     ]
    }
   ],
   "source": [
    "# compute the variance along the column\n",
    "print(np.var(arr, axis=1))"
   ]
  },
  {
   "cell_type": "markdown",
   "metadata": {
    "id": "tENxdm3pL9Ps"
   },
   "source": [
    "### compute the covariance & correlation"
   ]
  },
  {
   "cell_type": "code",
   "execution_count": null,
   "metadata": {
    "id": "6kTz-98GL9Pz"
   },
   "outputs": [],
   "source": [
    "arr = np.random.rand(5,8)"
   ]
  },
  {
   "cell_type": "code",
   "execution_count": null,
   "metadata": {
    "id": "e-10l3XIL9P3",
    "outputId": "c3188efe-1e5b-420c-8069-db4fdba91bd6"
   },
   "outputs": [
    {
     "name": "stdout",
     "output_type": "stream",
     "text": [
      "[[ 0.04210005  0.01296167 -0.03405659  0.01403708 -0.00110985]\n",
      " [ 0.01296167  0.13681661  0.04243258 -0.00934193  0.0030432 ]\n",
      " [-0.03405659  0.04243258  0.06954622 -0.02142347  0.00782999]\n",
      " [ 0.01403708 -0.00934193 -0.02142347  0.06927115  0.02600007]\n",
      " [-0.00110985  0.0030432   0.00782999  0.02600007  0.04054453]]\n"
     ]
    }
   ],
   "source": [
    "print(np.cov(arr))"
   ]
  },
  {
   "cell_type": "code",
   "execution_count": null,
   "metadata": {
    "id": "8sh96pEcL9P8",
    "outputId": "6cbf4cd3-c62c-4a83-e7ce-c95cef83bc5f"
   },
   "outputs": [
    {
     "name": "stdout",
     "output_type": "stream",
     "text": [
      "[[ 1.         -0.99588696]\n",
      " [-0.99588696  1.        ]]\n"
     ]
    }
   ],
   "source": [
    "print(np.corrcoef(arr[:,0], arr[:,1]))"
   ]
  },
  {
   "cell_type": "markdown",
   "metadata": {
    "id": "BIvaY1gwL9P9"
   },
   "source": [
    "### compute cumulative sum & product"
   ]
  },
  {
   "cell_type": "code",
   "execution_count": null,
   "metadata": {
    "id": "GhTw7xm_L9P-",
    "outputId": "1c8e5813-dfcf-4124-dee9-70a63377bae2"
   },
   "outputs": [
    {
     "data": {
      "text/plain": [
       "array([[0.86899972, 0.78747141, 0.38478237, 0.80083789, 0.9065035 ,\n",
       "        0.93253643, 0.46552536, 0.8177257 ],\n",
       "       [0.89925492, 0.94917973, 0.32297717, 0.13643311, 0.61970842,\n",
       "        0.93133274, 0.81749976, 0.05435915],\n",
       "       [0.51732542, 0.68699858, 0.80485377, 0.15679071, 0.52802804,\n",
       "        0.2225223 , 0.65722151, 0.11181467],\n",
       "       [0.96090226, 0.38978381, 0.4211296 , 0.32667663, 0.31275587,\n",
       "        0.47357096, 0.38741185, 0.92482584],\n",
       "       [0.93109313, 0.24001444, 0.58460236, 0.46996818, 0.6434775 ,\n",
       "        0.39935424, 0.57766264, 0.49399704]])"
      ]
     },
     "execution_count": 230,
     "metadata": {},
     "output_type": "execute_result"
    }
   ],
   "source": [
    "arr"
   ]
  },
  {
   "cell_type": "code",
   "execution_count": null,
   "metadata": {},
   "outputs": [],
   "source": [
    "# 0 1, 2, 3, 4 - 1 2 3 4 - 3 3 4 - 6 4 - 10 "
   ]
  },
  {
   "cell_type": "code",
   "execution_count": null,
   "metadata": {
    "id": "CfhZry_kL9P_",
    "outputId": "8b069519-0052-4d1a-e96f-2a7a46149c30"
   },
   "outputs": [
    {
     "name": "stdout",
     "output_type": "stream",
     "text": [
      "[[0.86899972 0.78747141 0.38478237 0.80083789 0.9065035  0.93253643\n",
      "  0.46552536 0.8177257 ]\n",
      " [1.76825464 1.73665115 0.70775954 0.937271   1.52621192 1.86386917\n",
      "  1.28302512 0.87208485]\n",
      " [2.28558006 2.42364973 1.5126133  1.0940617  2.05423995 2.08639147\n",
      "  1.94024663 0.98389952]\n",
      " [3.24648232 2.81343353 1.9337429  1.42073833 2.36699583 2.55996243\n",
      "  2.32765848 1.90872536]\n",
      " [4.17757545 3.05344797 2.51834526 1.8907065  3.01047333 2.95931666\n",
      "  2.90532111 2.4027224 ]]\n"
     ]
    }
   ],
   "source": [
    "# calculate the cumulative sums along the row\n",
    "print(np.cumsum(arr, axis=0))    "
   ]
  },
  {
   "cell_type": "code",
   "execution_count": null,
   "metadata": {
    "id": "-4q1YIKGL9QX",
    "outputId": "e4e4db9c-1bd1-4d3b-98cf-602e5f861ef6"
   },
   "outputs": [
    {
     "name": "stdout",
     "output_type": "stream",
     "text": [
      "[[0.86899972 1.65647114 2.04125351 2.8420914  3.7485949  4.68113132\n",
      "  5.14665669 5.96438239]\n",
      " [0.89925492 1.84843465 2.17141182 2.30784493 2.92755334 3.85888609\n",
      "  4.67638584 4.73074499]\n",
      " [0.51732542 1.204324   2.00917777 2.16596847 2.69399651 2.91651881\n",
      "  3.57374033 3.68555499]\n",
      " [0.96090226 1.35068606 1.77181566 2.09849229 2.41124816 2.88481912\n",
      "  3.27223096 4.1970568 ]\n",
      " [0.93109313 1.17110757 1.75570993 2.2256781  2.8691556  3.26850984\n",
      "  3.84617248 4.34016952]]\n"
     ]
    }
   ],
   "source": [
    "# calculate the cumulative sums along the column\n",
    "print(np.cumsum(arr, axis=1))    "
   ]
  },
  {
   "cell_type": "code",
   "execution_count": null,
   "metadata": {
    "id": "lJxRRv9vL9Qa",
    "outputId": "52c94afa-9525-47cd-8cb6-3264efc52fbf"
   },
   "outputs": [
    {
     "name": "stdout",
     "output_type": "stream",
     "text": [
      "[[0.86899972 0.78747141 0.38478237 0.80083789 0.9065035  0.93253643\n",
      "  0.46552536 0.8177257 ]\n",
      " [0.78145228 0.74745191 0.12427592 0.1092608  0.56176785 0.86850171\n",
      "  0.38056687 0.04445088]\n",
      " [0.40426513 0.5134984  0.10002394 0.01713108 0.29662917 0.193261\n",
      "  0.25011673 0.00497026]\n",
      " [0.38845927 0.20015336 0.04212304 0.00559632 0.09277252 0.0915228\n",
      "  0.09689819 0.00459662]\n",
      " [0.36169176 0.0480397  0.02462523 0.00263009 0.05969703 0.03655002\n",
      "  0.05597446 0.00227072]]\n"
     ]
    }
   ],
   "source": [
    "# calculate the cumulative product along the row\n",
    "print(np.cumprod(arr, axis=0))   "
   ]
  },
  {
   "cell_type": "code",
   "execution_count": null,
   "metadata": {
    "id": "FkaRJ5-bL9Qd",
    "outputId": "5f974ad4-b4d7-499a-f9bf-4333cd8ad4dc"
   },
   "outputs": [
    {
     "name": "stdout",
     "output_type": "stream",
     "text": [
      "[[8.68999724e-01 6.84312442e-01 2.63311364e-01 2.10869716e-01\n",
      "  1.91154136e-01 1.78258195e-01 8.29837107e-02 6.78579130e-02]\n",
      " [8.99254917e-01 8.53554542e-01 2.75678627e-01 3.76116927e-02\n",
      "  2.33082825e-02 2.17077666e-02 1.77460939e-02 9.64662623e-04]\n",
      " [5.17325421e-01 3.55401830e-01 2.86046501e-01 4.48494330e-02\n",
      "  2.36817580e-02 5.26971933e-03 3.46337291e-03 3.87255883e-04]\n",
      " [9.60902255e-01 3.74544138e-01 1.57731623e-01 5.15272345e-02\n",
      "  1.61154451e-02 7.63180679e-03 2.95665235e-03 2.73438849e-03]\n",
      " [9.31093131e-01 2.23475794e-01 1.30644476e-01 6.13987461e-02\n",
      "  3.95087117e-02 1.57779714e-02 9.11434455e-03 4.50245923e-03]]\n"
     ]
    }
   ],
   "source": [
    "# calculate the cumulative product along the column\n",
    "print(np.cumprod(arr, axis=1))  "
   ]
  },
  {
   "cell_type": "markdown",
   "metadata": {
    "id": "6WJoHSUgL9Qi"
   },
   "source": [
    "### element-wise comparison"
   ]
  },
  {
   "cell_type": "code",
   "execution_count": null,
   "metadata": {
    "id": "_xpslrtCL9Qp"
   },
   "outputs": [],
   "source": [
    "arr1 = np.array([1,2,3,4,5,1])\n",
    "arr2 = np.array([5,4,3,2,1,6])"
   ]
  },
  {
   "cell_type": "code",
   "execution_count": null,
   "metadata": {
    "id": "apnJd7I3L9Qr",
    "outputId": "ec5efc2f-80e6-4dca-af47-dc513e1d67f3"
   },
   "outputs": [
    {
     "data": {
      "text/plain": [
       "array([4, 5])"
      ]
     },
     "execution_count": 68,
     "metadata": {},
     "output_type": "execute_result"
    }
   ],
   "source": [
    "arr1[arr2<arr1]"
   ]
  },
  {
   "cell_type": "markdown",
   "metadata": {
    "id": "vZDZw-WTL9Qs"
   },
   "source": [
    "# 5. Slicing & Indexing"
   ]
  },
  {
   "cell_type": "code",
   "execution_count": null,
   "metadata": {
    "id": "ynIlf-JRL9Qs"
   },
   "outputs": [],
   "source": [
    "arr = np.array(range(100)).reshape((10,10))"
   ]
  },
  {
   "cell_type": "code",
   "execution_count": null,
   "metadata": {
    "id": "7bdp_pyqL9Qt",
    "outputId": "b0b3ed91-b90f-4e4c-bca0-42bfe55a9eab"
   },
   "outputs": [
    {
     "data": {
      "text/plain": [
       "array([[ 0,  1,  2,  3,  4,  5,  6,  7,  8,  9],\n",
       "       [10, 11, 12, 13, 14, 15, 16, 17, 18, 19],\n",
       "       [20, 21, 22, 23, 24, 25, 26, 27, 28, 29],\n",
       "       [30, 31, 32, 33, 34, 35, 36, 37, 38, 39],\n",
       "       [40, 41, 42, 43, 44, 45, 46, 47, 48, 49],\n",
       "       [50, 51, 52, 53, 54, 55, 56, 57, 58, 59],\n",
       "       [60, 61, 62, 63, 64, 65, 66, 67, 68, 69],\n",
       "       [70, 71, 72, 73, 74, 75, 76, 77, 78, 79],\n",
       "       [80, 81, 82, 83, 84, 85, 86, 87, 88, 89],\n",
       "       [90, 91, 92, 93, 94, 95, 96, 97, 98, 99]])"
      ]
     },
     "execution_count": 74,
     "metadata": {},
     "output_type": "execute_result"
    }
   ],
   "source": [
    "arr"
   ]
  },
  {
   "cell_type": "markdown",
   "metadata": {
    "id": "uIt5zc1fL9Qu"
   },
   "source": [
    "### select an element by row and column indices"
   ]
  },
  {
   "cell_type": "code",
   "execution_count": null,
   "metadata": {
    "id": "jL-ZHEL0L9Qu",
    "outputId": "36846b81-eeb4-4326-c1a7-e3dc194f588a"
   },
   "outputs": [
    {
     "name": "stdout",
     "output_type": "stream",
     "text": [
      "45\n",
      "45\n"
     ]
    }
   ],
   "source": [
    "print(arr[4][5])\n",
    "# or more concisely\n",
    "print(arr[4,5])"
   ]
  },
  {
   "cell_type": "markdown",
   "metadata": {
    "id": "_-O7BcfgL9Qw"
   },
   "source": [
    "### indexing with slicing"
   ]
  },
  {
   "cell_type": "code",
   "execution_count": null,
   "metadata": {
    "id": "2rhBmlNPL9Qw",
    "outputId": "5f1a40ef-5d98-4fd7-88a6-b2c2e46fee37"
   },
   "outputs": [
    {
     "name": "stdout",
     "output_type": "stream",
     "text": [
      "[[14 15]\n",
      " [24 25]]\n"
     ]
    }
   ],
   "source": [
    "print(arr[1:3, 4:6])"
   ]
  },
  {
   "cell_type": "markdown",
   "metadata": {
    "id": "cZXXh6qCL9Qy"
   },
   "source": [
    "### assign a scalar to a slice by broadcasting"
   ]
  },
  {
   "cell_type": "code",
   "execution_count": null,
   "metadata": {
    "id": "btwPu4AAL9Q1",
    "outputId": "e19824c0-0a18-4717-8aa6-ba878e964897"
   },
   "outputs": [
    {
     "name": "stdout",
     "output_type": "stream",
     "text": [
      "[[ 88  88  88  88   4   5   6   7   8   9]\n",
      " [ 88  88  88  88  14  15  16  17  18  19]\n",
      " [ 88  88  88  88  24  25  26  27  28  29]\n",
      " [100 100 100 100  34  35  36  37  38  39]\n",
      " [100 100 100 100  44  45  46  47  48  49]\n",
      " [100 100 100 100  54  55  56  57  58  59]\n",
      " [100 100 100 100  99  99  99  99  99  99]\n",
      " [ 88  88  88  88  99  99  99  99  99  99]\n",
      " [ 88  88  88  88  84  85  86  87  88  89]\n",
      " [ 88  88  88  88  94  95  96  97  98  99]]\n"
     ]
    }
   ],
   "source": [
    "arr[6:8,:] = 99    # or simply arr[1:3]\n",
    "arr[3:7,0:4] = 100\n",
    "print(arr)"
   ]
  },
  {
   "cell_type": "markdown",
   "metadata": {
    "id": "mFKT9G9UL9Q3"
   },
   "source": [
    "### boolean indexing"
   ]
  },
  {
   "cell_type": "code",
   "execution_count": 26,
   "metadata": {
    "id": "qbRRM6xyL9Q4",
    "outputId": "6a1c7312-bf87-43f1-cd20-03235ceb6d4a"
   },
   "outputs": [
    {
     "data": {
      "text/plain": [
       "array([[ 0,  1,  2,  3,  4],\n",
       "       [ 5,  6,  7,  8,  9],\n",
       "       [10, 11, 12, 13, 14],\n",
       "       [15, 16, 17, 18, 19],\n",
       "       [20, 21, 22, 23, 24]])"
      ]
     },
     "execution_count": 26,
     "metadata": {},
     "output_type": "execute_result"
    }
   ],
   "source": [
    "arr1 = np.arange(25).reshape((5,5))\n",
    "arr1"
   ]
  },
  {
   "cell_type": "code",
   "execution_count": 21,
   "metadata": {
    "id": "Xx6MIENwL9Q6"
   },
   "outputs": [],
   "source": [
    "arr3=np.array([1,2,3,4,5])"
   ]
  },
  {
   "cell_type": "code",
   "execution_count": 22,
   "metadata": {},
   "outputs": [
    {
     "data": {
      "text/plain": [
       "array([1, 2, 3, 4, 5])"
      ]
     },
     "execution_count": 22,
     "metadata": {},
     "output_type": "execute_result"
    }
   ],
   "source": [
    "arr3"
   ]
  },
  {
   "cell_type": "code",
   "execution_count": 23,
   "metadata": {
    "id": "_Zym-Sn0L9Q6",
    "outputId": "68d63406-c753-48fa-e69b-813745c01796"
   },
   "outputs": [
    {
     "data": {
      "text/plain": [
       "array([2, 3, 4, 5])"
      ]
     },
     "execution_count": 23,
     "metadata": {},
     "output_type": "execute_result"
    }
   ],
   "source": [
    "arr3[arr3>1]"
   ]
  },
  {
   "cell_type": "code",
   "execution_count": null,
   "metadata": {
    "id": "w4e-ksWsL9Q7"
   },
   "outputs": [],
   "source": [
    "bools = np.array([True, False, False, True, False])"
   ]
  },
  {
   "cell_type": "code",
   "execution_count": 24,
   "metadata": {},
   "outputs": [
    {
     "data": {
      "text/plain": [
       "array([1, 2, 3, 4, 5])"
      ]
     },
     "execution_count": 24,
     "metadata": {},
     "output_type": "execute_result"
    }
   ],
   "source": [
    "arr3"
   ]
  },
  {
   "cell_type": "code",
   "execution_count": null,
   "metadata": {},
   "outputs": [
    {
     "data": {
      "text/plain": [
       "array([ True, False, False,  True, False])"
      ]
     },
     "execution_count": 7,
     "metadata": {},
     "output_type": "execute_result"
    }
   ],
   "source": [
    "bools"
   ]
  },
  {
   "cell_type": "code",
   "execution_count": 25,
   "metadata": {
    "id": "kSxi8Wf4L9Q7",
    "outputId": "6cb80688-802a-47a7-e18d-3286c5fd8f52"
   },
   "outputs": [
    {
     "data": {
      "text/plain": [
       "array([1, 4])"
      ]
     },
     "execution_count": 25,
     "metadata": {},
     "output_type": "execute_result"
    }
   ],
   "source": [
    "arr3[bools]"
   ]
  },
  {
   "cell_type": "code",
   "execution_count": 27,
   "metadata": {},
   "outputs": [
    {
     "data": {
      "text/plain": [
       "array([[ 0,  1,  2,  3,  4],\n",
       "       [ 5,  6,  7,  8,  9],\n",
       "       [10, 11, 12, 13, 14],\n",
       "       [15, 16, 17, 18, 19],\n",
       "       [20, 21, 22, 23, 24]])"
      ]
     },
     "execution_count": 27,
     "metadata": {},
     "output_type": "execute_result"
    }
   ],
   "source": [
    "arr1"
   ]
  },
  {
   "cell_type": "code",
   "execution_count": 36,
   "metadata": {
    "id": "5QHufHi9L9Q8",
    "outputId": "3ef75b38-9c6d-4023-ddbc-d7c225e17643"
   },
   "outputs": [
    {
     "name": "stdout",
     "output_type": "stream",
     "text": [
      "[ 1 17]\n"
     ]
    }
   ],
   "source": [
    "print(arr1[bools])"
   ]
  },
  {
   "cell_type": "code",
   "execution_count": null,
   "metadata": {},
   "outputs": [
    {
     "data": {
      "text/plain": [
       "array([ True, False, False,  True, False])"
      ]
     },
     "execution_count": 608,
     "metadata": {},
     "output_type": "execute_result"
    }
   ],
   "source": [
    "bools"
   ]
  },
  {
   "cell_type": "code",
   "execution_count": 28,
   "metadata": {},
   "outputs": [
    {
     "data": {
      "text/plain": [
       "array([[ 0,  1,  2,  3,  4],\n",
       "       [ 5,  6,  7,  8,  9],\n",
       "       [10, 11, 12, 13, 14],\n",
       "       [15, 16, 17, 18, 19],\n",
       "       [20, 21, 22, 23, 24]])"
      ]
     },
     "execution_count": 28,
     "metadata": {},
     "output_type": "execute_result"
    }
   ],
   "source": [
    "arr1"
   ]
  },
  {
   "cell_type": "code",
   "execution_count": 32,
   "metadata": {
    "id": "4bVjZyS2L9Q8",
    "outputId": "c9aafe8c-3d1a-4445-9ab1-a04925cc8472",
    "scrolled": true
   },
   "outputs": [
    {
     "name": "stdout",
     "output_type": "stream",
     "text": [
      "[ 0 18]\n"
     ]
    }
   ],
   "source": [
    "# negate the condition\n",
    "print(arr1[bools, bools])    "
   ]
  },
  {
   "cell_type": "code",
   "execution_count": 37,
   "metadata": {
    "id": "W_XPz-_BL9Q9"
   },
   "outputs": [],
   "source": [
    "arr2 = np.array([1,2,3,4,5])"
   ]
  },
  {
   "cell_type": "code",
   "execution_count": null,
   "metadata": {
    "id": "7-VFQEfnL9Q9",
    "outputId": "d4d69961-9c7c-496e-93da-6eb5239ff8f8"
   },
   "outputs": [
    {
     "data": {
      "text/plain": [
       "array([ True, False, False, False,  True])"
      ]
     },
     "execution_count": 614,
     "metadata": {},
     "output_type": "execute_result"
    }
   ],
   "source": [
    "(arr2 < 2) | (arr2>4) # | - or,  & - and"
   ]
  },
  {
   "cell_type": "code",
   "execution_count": 40,
   "metadata": {
    "id": "jtacPlKdL9Q-",
    "outputId": "ecc235d6-5b1c-4915-8768-c206165b9cd5"
   },
   "outputs": [
    {
     "data": {
      "text/plain": [
       "array([[ 0,  1,  2,  3,  4],\n",
       "       [ 5,  6,  7,  8,  9],\n",
       "       [10, 11, 12, 13, 14],\n",
       "       [15, 16, 17, 18, 19],\n",
       "       [20, 21, 22, 23, 24]])"
      ]
     },
     "execution_count": 40,
     "metadata": {},
     "output_type": "execute_result"
    }
   ],
   "source": [
    "arr1"
   ]
  },
  {
   "cell_type": "code",
   "execution_count": 41,
   "metadata": {
    "id": "AtvEuHqoL9Q_",
    "outputId": "23de6def-1b52-4abf-b94b-ec0eb84c0211"
   },
   "outputs": [
    {
     "name": "stdout",
     "output_type": "stream",
     "text": [
      "[ 0  1  5  6  7  8  9 10 11 12 13 14 15 16 17 18 19 20 21 22 23 24]\n"
     ]
    }
   ],
   "source": [
    "# multiple conditions\n",
    "print(arr1[(arr1<2) | (arr1>4)])    "
   ]
  },
  {
   "cell_type": "markdown",
   "metadata": {
    "id": "2Dbkw5ybL9RA"
   },
   "source": [
    "### find elements/indices by conditions"
   ]
  },
  {
   "cell_type": "code",
   "execution_count": null,
   "metadata": {
    "id": "I8_8u7bEL9RE"
   },
   "outputs": [],
   "source": [
    "arr = np.arange(16).reshape(4,4)"
   ]
  },
  {
   "cell_type": "code",
   "execution_count": null,
   "metadata": {
    "id": "GsSWgKH0L9RT",
    "outputId": "0956ee68-ff59-472e-cf5b-1b70797a8663"
   },
   "outputs": [
    {
     "data": {
      "text/plain": [
       "array([[ 0,  1,  2,  3],\n",
       "       [ 4,  5,  6,  7],\n",
       "       [ 8,  9, 10, 11],\n",
       "       [12, 13, 14, 15]])"
      ]
     },
     "execution_count": 620,
     "metadata": {},
     "output_type": "execute_result"
    }
   ],
   "source": [
    "arr"
   ]
  },
  {
   "cell_type": "code",
   "execution_count": null,
   "metadata": {
    "id": "2y8m-stlL9RW",
    "outputId": "e13ed556-26e3-4cac-d724-15b3d4809d2a"
   },
   "outputs": [
    {
     "name": "stdout",
     "output_type": "stream",
     "text": [
      "[ 6  7  8  9 10 11 12 13 14 15]\n"
     ]
    }
   ],
   "source": [
    "# find the elements greater than 5 and return a flattened array\n",
    "print(arr[arr>5])    # or arr[np.where(arr>5)]"
   ]
  },
  {
   "cell_type": "code",
   "execution_count": null,
   "metadata": {
    "id": "cT6jZ_G5L9RY",
    "outputId": "a597e448-9292-4fd6-884d-835585259f10"
   },
   "outputs": [
    {
     "data": {
      "text/plain": [
       "array([[False, False, False, False],\n",
       "       [False, False,  True,  True],\n",
       "       [ True,  True,  True,  True],\n",
       "       [ True,  True,  True,  True]])"
      ]
     },
     "execution_count": 622,
     "metadata": {},
     "output_type": "execute_result"
    }
   ],
   "source": [
    "arr>5"
   ]
  },
  {
   "cell_type": "code",
   "execution_count": null,
   "metadata": {
    "id": "UJBrH3xoL9Ra",
    "outputId": "a1dc72e7-0616-4142-871f-aeee3557ff7e"
   },
   "outputs": [
    {
     "name": "stdout",
     "output_type": "stream",
     "text": [
      "[['d' 'd' 'd' 'd']\n",
      " ['d' 'd' '5' '5']\n",
      " ['5' '5' '5' '5']\n",
      " ['5' '5' '5' '5']]\n"
     ]
    }
   ],
   "source": [
    "# return values based on conditions \n",
    "# np.where(condition, true_return, false_return)\n",
    "print(np.where(arr>5, 5, 'd'))"
   ]
  },
  {
   "cell_type": "markdown",
   "metadata": {
    "id": "18bORZ3nL9Rb"
   },
   "source": [
    "# 6. Sort an Array"
   ]
  },
  {
   "cell_type": "code",
   "execution_count": 48,
   "metadata": {
    "id": "l0Kekj0ML9Rc"
   },
   "outputs": [],
   "source": [
    "arr = np.random.randint(1,5, (5,5))"
   ]
  },
  {
   "cell_type": "code",
   "execution_count": 49,
   "metadata": {
    "id": "rcO0fhgWL9Rc",
    "outputId": "9145295b-b3ce-485c-f86a-9432f4dc283d"
   },
   "outputs": [
    {
     "data": {
      "text/plain": [
       "array([[3, 1, 3, 2, 3],\n",
       "       [3, 4, 3, 4, 1],\n",
       "       [3, 3, 1, 2, 4],\n",
       "       [3, 1, 2, 2, 3],\n",
       "       [1, 1, 1, 1, 1]])"
      ]
     },
     "execution_count": 49,
     "metadata": {},
     "output_type": "execute_result"
    }
   ],
   "source": [
    "arr"
   ]
  },
  {
   "cell_type": "code",
   "execution_count": null,
   "metadata": {
    "id": "WdCiCJKYL9Rf",
    "outputId": "32730f16-fca2-45e7-df1f-335f017e9ce8"
   },
   "outputs": [
    {
     "name": "stdout",
     "output_type": "stream",
     "text": [
      "[[1 4 4 3 1]\n",
      " [3 2 1 1 4]\n",
      " [1 1 4 1 1]\n",
      " [2 1 1 1 3]\n",
      " [4 3 2 2 1]]\n"
     ]
    }
   ],
   "source": [
    "print(arr)"
   ]
  },
  {
   "cell_type": "markdown",
   "metadata": {
    "id": "qyVupHTVL9Rk"
   },
   "source": [
    "### sort an array along a specified axis"
   ]
  },
  {
   "cell_type": "code",
   "execution_count": null,
   "metadata": {
    "id": "Vhs_W1FQL9Rt",
    "outputId": "47d97733-9b21-40bf-c4da-37718b296770"
   },
   "outputs": [
    {
     "name": "stdout",
     "output_type": "stream",
     "text": [
      "[[1 1 1 1 1]\n",
      " [1 1 1 1 1]\n",
      " [2 2 2 1 1]\n",
      " [3 3 4 2 3]\n",
      " [4 4 4 3 4]]\n"
     ]
    }
   ],
   "source": [
    "# sort along the row and return a copy\n",
    "print(np.sort(arr, axis=0))  "
   ]
  },
  {
   "cell_type": "code",
   "execution_count": null,
   "metadata": {
    "id": "bwF1iWNVL9Rv",
    "outputId": "00ab15f1-e1b1-4a3e-bb3a-aecd192efcb4"
   },
   "outputs": [
    {
     "data": {
      "text/plain": [
       "array([[1, 4, 4, 3, 1],\n",
       "       [3, 2, 1, 1, 4],\n",
       "       [1, 1, 4, 1, 1],\n",
       "       [2, 1, 1, 1, 3],\n",
       "       [4, 3, 2, 2, 1]])"
      ]
     },
     "execution_count": 638,
     "metadata": {},
     "output_type": "execute_result"
    }
   ],
   "source": [
    "arr"
   ]
  },
  {
   "cell_type": "code",
   "execution_count": null,
   "metadata": {
    "id": "pYnE1meEL9Rw",
    "outputId": "e39d1599-6261-4d1a-8972-42d8b4b41fd4"
   },
   "outputs": [
    {
     "name": "stdout",
     "output_type": "stream",
     "text": [
      "[[1 1 1 1 1]\n",
      " [1 1 1 1 1]\n",
      " [2 2 2 1 1]\n",
      " [3 3 4 2 3]\n",
      " [4 4 4 3 4]]\n"
     ]
    }
   ],
   "source": [
    "# sort along the row in place\n",
    "arr.sort(axis=0)\n",
    "print(arr)"
   ]
  },
  {
   "cell_type": "code",
   "execution_count": null,
   "metadata": {
    "id": "MW-FW8IxL9Rx",
    "outputId": "c9a2908a-95bb-4547-cea6-8c78bc8357fa"
   },
   "outputs": [
    {
     "name": "stdout",
     "output_type": "stream",
     "text": [
      "[[1 1 1 1 1]\n",
      " [1 1 1 1 1]\n",
      " [1 1 2 2 2]\n",
      " [2 3 3 3 4]\n",
      " [3 4 4 4 4]]\n"
     ]
    }
   ],
   "source": [
    "# sort along the column and return a copy\n",
    "print(np.sort(arr, axis=1))    "
   ]
  },
  {
   "cell_type": "code",
   "execution_count": null,
   "metadata": {
    "id": "mAT49nqAL9Ry",
    "outputId": "1b63d08e-78ce-415f-b4f4-cb17a6b89405"
   },
   "outputs": [
    {
     "name": "stdout",
     "output_type": "stream",
     "text": [
      "[[1 1 1 1 1]\n",
      " [1 1 1 1 1]\n",
      " [1 1 2 2 2]\n",
      " [2 3 3 3 4]\n",
      " [3 4 4 4 4]]\n"
     ]
    }
   ],
   "source": [
    "# sort along the column in place\n",
    "arr.sort(axis=1)    \n",
    "print(arr)"
   ]
  },
  {
   "cell_type": "markdown",
   "metadata": {
    "id": "0auG9E-iL9Ry"
   },
   "source": [
    "# 7. Manipulate an Array"
   ]
  },
  {
   "cell_type": "markdown",
   "metadata": {
    "id": "tYtC7Z-8L9Rz"
   },
   "source": [
    "### transpose an array"
   ]
  },
  {
   "cell_type": "code",
   "execution_count": null,
   "metadata": {
    "id": "z_f_xGd7L9R1"
   },
   "outputs": [],
   "source": [
    "arr=np.random.rand(24)"
   ]
  },
  {
   "cell_type": "code",
   "execution_count": null,
   "metadata": {
    "id": "KPGaVbDNL9R4",
    "outputId": "8dd7b8cb-c4d9-4685-ab63-b7ff94ef363f"
   },
   "outputs": [
    {
     "data": {
      "text/plain": [
       "array([0.42157384, 0.23173399, 0.00239694, 0.11711431, 0.92736355,\n",
       "       0.75890033, 0.60129952, 0.76822979, 0.46100745, 0.35563435,\n",
       "       0.20469865, 0.91100742, 0.05544488, 0.02454634, 0.37711547,\n",
       "       0.08360954, 0.84103044, 0.29887963, 0.46810377, 0.76176182,\n",
       "       0.47835739, 0.22341177, 0.5085165 , 0.3127548 ])"
      ]
     },
     "execution_count": 137,
     "metadata": {},
     "output_type": "execute_result"
    }
   ],
   "source": [
    "arr"
   ]
  },
  {
   "cell_type": "code",
   "execution_count": null,
   "metadata": {
    "id": "5biiaQN-L9R-"
   },
   "outputs": [],
   "source": [
    "arr1=np.arange(120).reshape(24,5)"
   ]
  },
  {
   "cell_type": "code",
   "execution_count": null,
   "metadata": {
    "id": "NQ_1yo1RL9SB",
    "outputId": "ce93f186-7c1e-49d1-8676-c8fd4ea0bce4"
   },
   "outputs": [
    {
     "data": {
      "text/plain": [
       "array([0.42157384, 0.23173399, 0.00239694, 0.11711431, 0.92736355,\n",
       "       0.75890033, 0.60129952, 0.76822979, 0.46100745, 0.35563435,\n",
       "       0.20469865, 0.91100742, 0.05544488, 0.02454634, 0.37711547,\n",
       "       0.08360954, 0.84103044, 0.29887963, 0.46810377, 0.76176182,\n",
       "       0.47835739, 0.22341177, 0.5085165 , 0.3127548 ])"
      ]
     },
     "execution_count": 139,
     "metadata": {},
     "output_type": "execute_result"
    }
   ],
   "source": [
    "arr"
   ]
  },
  {
   "cell_type": "code",
   "execution_count": 62,
   "metadata": {
    "id": "mjYxw5CvL9SC"
   },
   "outputs": [],
   "source": [
    "import pandas as pd\n",
    "temp=pd.DataFrame(arr1).rename(columns={0:'Age',1:'Salary',2:'Exp',3:'ten',4:'fam_siz'})\n",
    "pd.read_csv\n",
    "temp.to_csv(\"result.csv\")"
   ]
  },
  {
   "cell_type": "code",
   "execution_count": null,
   "metadata": {
    "id": "kiNWFcj3L9SQ",
    "outputId": "1845c299-daed-4772-f602-c750bc15dee6"
   },
   "outputs": [
    {
     "data": {
      "text/plain": [
       "(24, 5)"
      ]
     },
     "execution_count": 141,
     "metadata": {},
     "output_type": "execute_result"
    }
   ],
   "source": [
    "np.array(arr1).shape"
   ]
  },
  {
   "cell_type": "code",
   "execution_count": null,
   "metadata": {
    "id": "Q3aJTAGwL9SR",
    "outputId": "a4bffb88-03ae-446a-800d-f9f930584dd7"
   },
   "outputs": [
    {
     "name": "stdout",
     "output_type": "stream",
     "text": [
      "[0.42157384 0.23173399 0.00239694 0.11711431 0.92736355 0.75890033\n",
      " 0.60129952 0.76822979 0.46100745 0.35563435 0.20469865 0.91100742\n",
      " 0.05544488 0.02454634 0.37711547 0.08360954 0.84103044 0.29887963\n",
      " 0.46810377 0.76176182 0.47835739 0.22341177 0.5085165  0.3127548 ]\n",
      "[0.42157384 0.23173399 0.00239694 0.11711431 0.92736355 0.75890033\n",
      " 0.60129952 0.76822979 0.46100745 0.35563435 0.20469865 0.91100742\n",
      " 0.05544488 0.02454634 0.37711547 0.08360954 0.84103044 0.29887963\n",
      " 0.46810377 0.76176182 0.47835739 0.22341177 0.5085165  0.3127548 ]\n",
      "[0.42157384 0.23173399 0.00239694 0.11711431 0.92736355 0.75890033\n",
      " 0.60129952 0.76822979 0.46100745 0.35563435 0.20469865 0.91100742\n",
      " 0.05544488 0.02454634 0.37711547 0.08360954 0.84103044 0.29887963\n",
      " 0.46810377 0.76176182 0.47835739 0.22341177 0.5085165  0.3127548 ]\n"
     ]
    }
   ],
   "source": [
    "# the following methods return a copy\n",
    "print(arr.T)\n",
    "# or \n",
    "print(np.transpose(arr))\n",
    "# or\n",
    "print(arr.transpose())"
   ]
  },
  {
   "cell_type": "markdown",
   "metadata": {
    "id": "Q7riYb2sL9SS"
   },
   "source": [
    "### append elements to an array"
   ]
  },
  {
   "cell_type": "code",
   "execution_count": null,
   "metadata": {
    "id": "Sun2gbGcL9ST"
   },
   "outputs": [],
   "source": [
    "arr = np.array([1,2,3])"
   ]
  },
  {
   "cell_type": "code",
   "execution_count": null,
   "metadata": {
    "id": "7l7twnMNL9ST",
    "outputId": "23798a18-af41-49b1-8fe2-eaf35ddb58e3"
   },
   "outputs": [
    {
     "name": "stdout",
     "output_type": "stream",
     "text": [
      "[1 2 3 4]\n"
     ]
    }
   ],
   "source": [
    "# append a scalar and return a copy\n",
    "arr1 = np.append(arr, 4)    \n",
    "print(arr1)"
   ]
  },
  {
   "cell_type": "code",
   "execution_count": null,
   "metadata": {
    "id": "tcg6xYb8L9SU",
    "outputId": "fb0b84dd-0b30-43d8-9961-2acbea959164"
   },
   "outputs": [
    {
     "name": "stdout",
     "output_type": "stream",
     "text": [
      "[1 2 3 4 5 6]\n"
     ]
    }
   ],
   "source": [
    "# append an array and return a copy\n",
    "arr2 = np.append(arr, [4,5,6])    \n",
    "print(arr2)"
   ]
  },
  {
   "cell_type": "markdown",
   "metadata": {
    "id": "HR4NBtyWL9SU"
   },
   "source": [
    "### insert elements into an array"
   ]
  },
  {
   "cell_type": "code",
   "execution_count": null,
   "metadata": {
    "id": "0PyJqW13L9SW",
    "outputId": "a55ab402-a8f7-40c0-b30c-d7f362c17f87"
   },
   "outputs": [
    {
     "name": "stdout",
     "output_type": "stream",
     "text": [
      "[100   1   2   3]\n"
     ]
    }
   ],
   "source": [
    "# np.insert(array, position, element)\n",
    "\n",
    "# insert a scalar at a certain position\n",
    "arr3 = np.insert(arr, 0, 100)    \n",
    "print(arr3)"
   ]
  },
  {
   "cell_type": "code",
   "execution_count": null,
   "metadata": {
    "id": "t0jBWat-L9Sb",
    "outputId": "30f62611-d10f-420a-ef6d-084a3440c20f"
   },
   "outputs": [
    {
     "name": "stdout",
     "output_type": "stream",
     "text": [
      "[1 2 1 2 3 3]\n"
     ]
    }
   ],
   "source": [
    "# insert multiple values at a certain position\n",
    "arr3 = np.insert(arr, 2, [1,2,3])    \n",
    "print(arr3)"
   ]
  },
  {
   "cell_type": "markdown",
   "metadata": {
    "id": "b2rrnrqSL9Se"
   },
   "source": [
    "### delete elements from an array"
   ]
  },
  {
   "cell_type": "code",
   "execution_count": null,
   "metadata": {
    "id": "dxBhKrJvL9Sn",
    "outputId": "ed029bce-948e-44b7-8b36-f0aa276d7b8f"
   },
   "outputs": [
    {
     "name": "stdout",
     "output_type": "stream",
     "text": [
      "[2 3]\n"
     ]
    }
   ],
   "source": [
    "# remove the element at position 0\n",
    "arr4 = np.delete(arr, 0)    \n",
    "print(arr4)"
   ]
  },
  {
   "cell_type": "code",
   "execution_count": null,
   "metadata": {
    "id": "DI59TmW0L9Sp",
    "outputId": "48265684-60c5-48b9-a3ea-650e33966819"
   },
   "outputs": [
    {
     "name": "stdout",
     "output_type": "stream",
     "text": [
      "[2]\n"
     ]
    }
   ],
   "source": [
    "# remove the element at multiple positions\n",
    "arr4 = np.delete(arr, [0,2])    \n",
    "print(arr4)"
   ]
  },
  {
   "cell_type": "markdown",
   "metadata": {
    "id": "6zbnI3xuL9Sr"
   },
   "source": [
    "### copy an array"
   ]
  },
  {
   "cell_type": "code",
   "execution_count": null,
   "metadata": {
    "id": "xkalghdRL9Ss"
   },
   "outputs": [],
   "source": [
    "arr = np.array([1,2,3])"
   ]
  },
  {
   "cell_type": "code",
   "execution_count": null,
   "metadata": {
    "id": "6-g7u8RJL9St"
   },
   "outputs": [],
   "source": [
    "# the following methods are all deep copy\n",
    "arr1 = np.copy(arr)\n",
    "# or \n",
    "arr1 = arr.copy()\n",
    "# or \n",
    "arr1 = np.array(arr, copy=True)"
   ]
  },
  {
   "cell_type": "markdown",
   "metadata": {
    "id": "AAJXu1T1L9Su"
   },
   "source": [
    "# 8. Combine & Split an Array"
   ]
  },
  {
   "cell_type": "code",
   "execution_count": null,
   "metadata": {
    "id": "k2ovImmQL9Sv"
   },
   "outputs": [],
   "source": [
    "arr1 = np.array([[1,2,3,4], [1,2,3,4]])\n",
    "arr2 = np.array([[5,6,7,8], [5,6,7,8]])"
   ]
  },
  {
   "cell_type": "code",
   "execution_count": null,
   "metadata": {
    "id": "r2P4DGQzL9Sv",
    "outputId": "14e527a7-fbf3-482a-e2b6-71f0e03aec98"
   },
   "outputs": [
    {
     "data": {
      "text/plain": [
       "(2, 4)"
      ]
     },
     "execution_count": 153,
     "metadata": {},
     "output_type": "execute_result"
    }
   ],
   "source": [
    "arr1.shape"
   ]
  },
  {
   "cell_type": "code",
   "execution_count": null,
   "metadata": {
    "id": "lz5kPgVpL9Sw",
    "outputId": "9c3b4b83-6a67-4c12-dc99-3ba9fb06f46c"
   },
   "outputs": [
    {
     "data": {
      "text/plain": [
       "(2, 4)"
      ]
     },
     "execution_count": 154,
     "metadata": {},
     "output_type": "execute_result"
    }
   ],
   "source": [
    "arr2.shape"
   ]
  },
  {
   "cell_type": "markdown",
   "metadata": {
    "id": "a4rL23zZL9Sw"
   },
   "source": [
    "### ```np.concatenate((a, b), axis=0)```"
   ]
  },
  {
   "cell_type": "code",
   "execution_count": null,
   "metadata": {
    "id": "DuVI4wpYL9Sx",
    "outputId": "d8cf25a2-ad26-4177-cc0d-9a2f6ab6ec0f"
   },
   "outputs": [
    {
     "name": "stdout",
     "output_type": "stream",
     "text": [
      "[[1 2 3 4]\n",
      " [1 2 3 4]\n",
      " [5 6 7 8]\n",
      " [5 6 7 8]]\n"
     ]
    }
   ],
   "source": [
    "# concat along the row\n",
    "cat = np.concatenate((arr1, arr2), axis=0)        \n",
    "print(cat)"
   ]
  },
  {
   "cell_type": "code",
   "execution_count": null,
   "metadata": {
    "id": "LX4u8JmaL9Sy",
    "outputId": "5c845ff1-4878-4f4c-a443-8579aecb0680"
   },
   "outputs": [
    {
     "name": "stdout",
     "output_type": "stream",
     "text": [
      "[[1 2 3 4 5 6 7 8]\n",
      " [1 2 3 4 5 6 7 8]]\n"
     ]
    }
   ],
   "source": [
    "# concat along the column\n",
    "cat = np.concatenate((arr1, arr2), axis=1)    \n",
    "print(cat)"
   ]
  },
  {
   "cell_type": "markdown",
   "metadata": {
    "id": "nj784FlrL9Sy"
   },
   "source": [
    "### ```np.vstack((a, b))``` \n",
    "### ```np.r_[a, b]```"
   ]
  },
  {
   "cell_type": "code",
   "execution_count": null,
   "metadata": {
    "id": "D32aJmLyL9Sz",
    "outputId": "aba1ce8d-b0e1-4332-e6a6-44a0be812a19"
   },
   "outputs": [
    {
     "name": "stdout",
     "output_type": "stream",
     "text": [
      "[[1 2 3 4]\n",
      " [1 2 3 4]\n",
      " [5 6 7 8]\n",
      " [5 6 7 8]]\n"
     ]
    }
   ],
   "source": [
    "# stack arrays vertically\n",
    "cat = np.vstack((arr1, arr2))\n",
    "print(cat)"
   ]
  },
  {
   "cell_type": "code",
   "execution_count": null,
   "metadata": {
    "id": "3y6BU9iBL9Sz",
    "outputId": "f65e9b03-c236-4f6b-a449-91c23749bc92"
   },
   "outputs": [
    {
     "name": "stdout",
     "output_type": "stream",
     "text": [
      "[[1 2 3 4]\n",
      " [1 2 3 4]\n",
      " [5 6 7 8]\n",
      " [5 6 7 8]]\n"
     ]
    }
   ],
   "source": [
    "# stack arrays vertically\n",
    "cat = np.r_[arr1, arr2]\n",
    "print(cat)"
   ]
  },
  {
   "cell_type": "markdown",
   "metadata": {
    "id": "z2rqfMUnL9S0"
   },
   "source": [
    "### ```np.hstack((a, b))```\n",
    "### ```np.c_[a, b]```"
   ]
  },
  {
   "cell_type": "code",
   "execution_count": null,
   "metadata": {
    "id": "O0otNq6YL9S1",
    "outputId": "566e0608-7cd4-4b8d-834e-28278555124d"
   },
   "outputs": [
    {
     "name": "stdout",
     "output_type": "stream",
     "text": [
      "[[1 2 3 4 5 6 7 8]\n",
      " [1 2 3 4 5 6 7 8]]\n"
     ]
    }
   ],
   "source": [
    "# stack arrays horizontally\n",
    "cat = np.hstack((arr1, arr2))\n",
    "print(cat)"
   ]
  },
  {
   "cell_type": "code",
   "execution_count": null,
   "metadata": {
    "id": "hzykvko7L9S2",
    "outputId": "27a7179f-30c5-4518-f35a-9a5be25a51af"
   },
   "outputs": [
    {
     "name": "stdout",
     "output_type": "stream",
     "text": [
      "[[1 2 3 4 5 6 7 8]\n",
      " [1 2 3 4 5 6 7 8]]\n"
     ]
    }
   ],
   "source": [
    "# stack arrays horizontally\n",
    "cat = np.c_[arr1, arr2]\n",
    "print(cat)"
   ]
  },
  {
   "cell_type": "markdown",
   "metadata": {
    "id": "h8Ay2SHxL9S5"
   },
   "source": [
    "### split an array "
   ]
  },
  {
   "cell_type": "code",
   "execution_count": null,
   "metadata": {
    "id": "f-V--WR7L9S6"
   },
   "outputs": [],
   "source": [
    "arr = np.random.rand(4,4)"
   ]
  },
  {
   "cell_type": "code",
   "execution_count": null,
   "metadata": {
    "id": "7ndO0tCGL9S9",
    "outputId": "9f8ae7b8-61b4-4eeb-ce24-7d1480b0c178"
   },
   "outputs": [
    {
     "data": {
      "text/plain": [
       "array([[8.74706367e-01, 8.23387037e-01, 8.81133879e-01, 3.39651185e-01],\n",
       "       [3.26079250e-02, 6.38509718e-01, 1.35416937e-01, 4.63886318e-01],\n",
       "       [8.91338608e-01, 6.96138415e-04, 5.25016035e-01, 9.95740514e-01],\n",
       "       [8.48931654e-01, 5.66249045e-01, 6.20470154e-01, 7.34694386e-01]])"
      ]
     },
     "execution_count": 162,
     "metadata": {},
     "output_type": "execute_result"
    }
   ],
   "source": [
    "arr"
   ]
  },
  {
   "cell_type": "code",
   "execution_count": null,
   "metadata": {
    "id": "_dPBricKL9TA",
    "outputId": "8683e5a9-d188-415a-8663-bc0513feb98d"
   },
   "outputs": [
    {
     "name": "stdout",
     "output_type": "stream",
     "text": [
      "[[0.87470637 0.82338704 0.88113388 0.33965119]\n",
      " [0.03260793 0.63850972 0.13541694 0.46388632]]\n"
     ]
    }
   ],
   "source": [
    "# split the array vertically into n evenly spaced chunks\n",
    "arr1 = np.vsplit(arr, 2)\n",
    "print(arr1[0])  "
   ]
  },
  {
   "cell_type": "code",
   "execution_count": null,
   "metadata": {
    "id": "Le5M2A6HL9TC",
    "outputId": "7137ef9d-861e-46fe-adc0-d994ab9e9ce6",
    "scrolled": true
   },
   "outputs": [
    {
     "name": "stdout",
     "output_type": "stream",
     "text": [
      "[array([[8.74706367e-01, 8.23387037e-01],\n",
      "       [3.26079250e-02, 6.38509718e-01],\n",
      "       [8.91338608e-01, 6.96138415e-04],\n",
      "       [8.48931654e-01, 5.66249045e-01]]), array([[0.88113388, 0.33965119],\n",
      "       [0.13541694, 0.46388632],\n",
      "       [0.52501604, 0.99574051],\n",
      "       [0.62047015, 0.73469439]])]\n"
     ]
    }
   ],
   "source": [
    "# split the array horizontally into n evenly spaced chunks\n",
    "arr2 = np.hsplit(arr, 2)\n",
    "print(arr2)"
   ]
  },
  {
   "cell_type": "markdown",
   "metadata": {
    "id": "t7D8TBn9L9TR"
   },
   "source": [
    "# 9.  Date type using Numpy"
   ]
  },
  {
   "cell_type": "markdown",
   "metadata": {
    "id": "YeRhwz_GL9TS"
   },
   "source": [
    "Numpy implements dates through the np.datetime64 object which supports a precision till nanoseconds. You can create one using a standard YYYY-MM-DD formatted date strings."
   ]
  },
  {
   "cell_type": "code",
   "execution_count": null,
   "metadata": {
    "id": "Hk6_zOvEL9TT",
    "outputId": "830dd328-fb93-4d0e-ddd8-04647f48508f"
   },
   "outputs": [
    {
     "data": {
      "text/plain": [
       "numpy.datetime64('2018-02-04T23:10:10')"
      ]
     },
     "execution_count": 165,
     "metadata": {},
     "output_type": "execute_result"
    }
   ],
   "source": [
    "date64 = np.datetime64('2018-02-04 23:10:10')\n",
    "date64"
   ]
  },
  {
   "cell_type": "code",
   "execution_count": null,
   "metadata": {
    "id": "KTyCkTLUL9TU",
    "outputId": "41e17439-13a7-4ee4-83f7-1b50cc3eaeb0"
   },
   "outputs": [
    {
     "data": {
      "text/plain": [
       "numpy.datetime64('2018-02-04')"
      ]
     },
     "execution_count": 166,
     "metadata": {},
     "output_type": "execute_result"
    }
   ],
   "source": [
    "dt64 = np.datetime64(date64, 'D')\n",
    "dt64"
   ]
  },
  {
   "cell_type": "code",
   "execution_count": null,
   "metadata": {
    "id": "TyoF_WfxL9TV",
    "outputId": "e308435d-380b-4fa8-8023-5b64af9aee1b"
   },
   "outputs": [
    {
     "name": "stdout",
     "output_type": "stream",
     "text": [
      "Add 10 days:  2018-02-14\n",
      "Add 10 minutes:  2018-02-04T00:10\n",
      "Add 10 seconds:  2018-02-04T00:00:10\n",
      "Add 10 nanoseconds:  2018-02-04T00:00:00.000000010\n"
     ]
    }
   ],
   "source": [
    "tenminutes = np.timedelta64(10, 'm')  # 10 minutes\n",
    "tenseconds = np.timedelta64(10, 's')  # 10 seconds\n",
    "tennanoseconds = np.timedelta64(10, 'ns')  # 10 nanoseconds\n",
    "\n",
    "print('Add 10 days: ', dt64 + 10)\n",
    "print('Add 10 minutes: ', dt64 + tenminutes)\n",
    "print('Add 10 seconds: ', dt64 + tenseconds)\n",
    "print('Add 10 nanoseconds: ', dt64 + tennanoseconds)"
   ]
  },
  {
   "cell_type": "markdown",
   "metadata": {
    "id": "QgNIYdoZL9TW"
   },
   "source": [
    "#### How to create a sequence of dates?"
   ]
  },
  {
   "cell_type": "code",
   "execution_count": null,
   "metadata": {
    "id": "DKerlKWtL9TW"
   },
   "outputs": [
    {
     "name": "stdout",
     "output_type": "stream",
     "text": [
      "['2018-02-01' '2018-02-02' '2018-02-03' '2018-02-04' '2018-02-05'\n",
      " '2018-02-06' '2018-02-07' '2018-02-08' '2018-02-09']\n"
     ]
    }
   ],
   "source": [
    "dates = np.arange(np.datetime64('2018-02-01'), np.datetime64('2018-02-10'))\n",
    "print(dates)"
   ]
  },
  {
   "cell_type": "markdown",
   "metadata": {
    "id": "IoETJ0RHL9TX"
   },
   "source": [
    "#### How to convert numpy.datetime64 to datetime.datetime object?"
   ]
  },
  {
   "cell_type": "code",
   "execution_count": null,
   "metadata": {
    "id": "8I-9vzvWL9TZ",
    "outputId": "0667cf6f-c517-4976-f0a8-5f2bd22433da"
   },
   "outputs": [
    {
     "data": {
      "text/plain": [
       "datetime.date(2018, 2, 4)"
      ]
     },
     "execution_count": 169,
     "metadata": {},
     "output_type": "execute_result"
    }
   ],
   "source": [
    "import datetime\n",
    "dt = dt64.tolist()\n",
    "dt"
   ]
  },
  {
   "cell_type": "code",
   "execution_count": null,
   "metadata": {
    "id": "DcGI6su8L9Td",
    "outputId": "91ff4afe-c145-4d2b-f209-89b7e3794a8c"
   },
   "outputs": [
    {
     "name": "stdout",
     "output_type": "stream",
     "text": [
      "Year:  2018\n",
      "Day of month:  4\n",
      "Month of year:  2\n",
      "Day of Week:  6\n"
     ]
    }
   ],
   "source": [
    "print('Year: ', dt.year)  \n",
    "print('Day of month: ', dt.day)\n",
    "print('Month of year: ', dt.month)  \n",
    "print('Day of Week: ', dt.weekday())  # Sunday"
   ]
  },
  {
   "cell_type": "code",
   "execution_count": null,
   "metadata": {},
   "outputs": [],
   "source": []
  }
 ],
 "metadata": {
  "colab": {
   "name": "Numpy Cheatsheet.ipynb",
   "provenance": []
  },
  "kernelspec": {
   "display_name": "Python 3.9.13 ('base')",
   "language": "python",
   "name": "python3"
  },
  "language_info": {
   "codemirror_mode": {
    "name": "ipython",
    "version": 3
   },
   "file_extension": ".py",
   "mimetype": "text/x-python",
   "name": "python",
   "nbconvert_exporter": "python",
   "pygments_lexer": "ipython3",
   "version": "3.9.13"
  },
  "vscode": {
   "interpreter": {
    "hash": "f08154012ddadd8e950e6e9e035c7a7b32c136e7647e9b7c77e02eb723a8bedb"
   }
  }
 },
 "nbformat": 4,
 "nbformat_minor": 1
}
