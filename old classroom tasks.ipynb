{
 "cells": [
  {
   "cell_type": "markdown",
   "id": "246d78b4",
   "metadata": {},
   "source": [
    "2 parametrdən ibarət Operation adlı class yaradın. \n",
    "Operation(parametr1, parametr2)\n",
    "parametr1: Tələbələrin saxlanıldığı faylın adı (Məsələn: \"Student_baza.txt\")\n",
    "parametr2: Üzərində əməliyyat aparılacaq tələbənin adı (Məsələn: \"Student_1\")\n",
    "\n",
    "Bu class 3 metoddan ibarət olacaqdır. \n",
    "1-ci metod çağırıldıqda daxil edilən fayldan daxil edilən tələbəni silir. (Remove)\n",
    "2-ci metod çağırıldıqda daxil edilən fayla daxil edilən tələbəni əlavə edir. (Add)\n",
    "Sonuncu metod isə üzərində əməliyyat aparılan faylı save edir. (Save)\n",
    "Tapşırığı inheritance-dan istifadə edərək yazanlara xüsusi sürpriz olacaqdır )\n"
   ]
  },
  {
   "cell_type": "code",
   "execution_count": 42,
   "id": "528ba250",
   "metadata": {},
   "outputs": [],
   "source": [
    "\n",
    "import os             \n",
    "class Operation(Student):\n",
    "    \n",
    "    def __init__(self,text,student):\n",
    "        self.text=text\n",
    "        self.student=student\n",
    "        self.students={}\n",
    "        \n",
    "    def create_text(self):\n",
    "        n=int(input(\"Students quantity:\"))\n",
    "        for i in range(n):\n",
    "            s = 'Student_' + str(i+1)\n",
    "            name = input('Enter student name : ')\n",
    "            surname = input('Enter student surname : ')\n",
    "            score = int(input('Enter student score : '))\n",
    "            self.students[s] = {'Name':name, 'Surname': surname,'Score': score}\n",
    "            with open(self.text,\"a\") as f:\n",
    "                content = str(self.students)[1:-1].replace(', ', '\\n')\n",
    "                f.write(f'Student_{1}\\n')\n",
    "                f.write(f'Name: {name}\\n')\n",
    "                f.write(f'Surname: {surname}\\n')\n",
    "                f.write(f'Score: {score}\\n')\n",
    "    def remove_from_text(self):\n",
    "        original_file = self.text\n",
    "        temp_file = \"temp.txt\"\n",
    "        string_to_delete = self.student\n",
    "        with open(original_file, \"r\") as inputt:\n",
    "            with open(temp_file, \"w\") as output:\n",
    "                for word in inputt:\n",
    "                    if (self.students)[self.s]==self.student:\n",
    "                        word = word.replace(f'{self.student}\\n', \"\")\n",
    "                        output.write(word)\n",
    "        os.replace('temp.txt',self.text)\n",
    "        \n",
    "    def add_to_text(self,add):\n",
    "        with open(self.text,\"a\") as f:\n",
    "            f.write(f'{add}\\n')\n",
    "    \n"
   ]
  },
  {
   "cell_type": "code",
   "execution_count": 44,
   "id": "51b94384",
   "metadata": {},
   "outputs": [
    {
     "name": "stdout",
     "output_type": "stream",
     "text": [
      "Students quantity:2\n",
      "Enter student name : df\n",
      "Enter student surname : gh\n",
      "Enter student score : 2\n",
      "Enter student name : er\n",
      "Enter student surname : gh\n",
      "Enter student score : 3\n"
     ]
    },
    {
     "ename": "AttributeError",
     "evalue": "'Operation' object has no attribute 's'",
     "output_type": "error",
     "traceback": [
      "\u001b[1;31m---------------------------------------------------------------------------\u001b[0m",
      "\u001b[1;31mAttributeError\u001b[0m                            Traceback (most recent call last)",
      "\u001b[1;32m~\\AppData\\Local\\Temp\\ipykernel_8464\\4177753406.py\u001b[0m in \u001b[0;36m<module>\u001b[1;34m\u001b[0m\n\u001b[0;32m      1\u001b[0m \u001b[0mStudent\u001b[0m\u001b[1;33m(\u001b[0m\u001b[1;33m)\u001b[0m\u001b[1;33m\u001b[0m\u001b[1;33m\u001b[0m\u001b[0m\n\u001b[0;32m      2\u001b[0m \u001b[0mfile\u001b[0m\u001b[1;33m=\u001b[0m\u001b[0mOperation\u001b[0m\u001b[1;33m(\u001b[0m\u001b[1;34m\"Student_base.txt\"\u001b[0m\u001b[1;33m,\u001b[0m\u001b[1;34m\"Student2\"\u001b[0m\u001b[1;33m)\u001b[0m\u001b[1;33m\u001b[0m\u001b[1;33m\u001b[0m\u001b[0m\n\u001b[1;32m----> 3\u001b[1;33m \u001b[0mfile\u001b[0m\u001b[1;33m.\u001b[0m\u001b[0mremove_from_text\u001b[0m\u001b[1;33m(\u001b[0m\u001b[1;33m)\u001b[0m\u001b[1;33m\u001b[0m\u001b[1;33m\u001b[0m\u001b[0m\n\u001b[0m\u001b[0;32m      4\u001b[0m \u001b[1;33m\u001b[0m\u001b[0m\n\u001b[0;32m      5\u001b[0m \u001b[1;33m\u001b[0m\u001b[0m\n",
      "\u001b[1;32m~\\AppData\\Local\\Temp\\ipykernel_8464\\3719692173.py\u001b[0m in \u001b[0;36mremove_from_text\u001b[1;34m(self)\u001b[0m\n\u001b[0;32m     28\u001b[0m             \u001b[1;32mwith\u001b[0m \u001b[0mopen\u001b[0m\u001b[1;33m(\u001b[0m\u001b[0mtemp_file\u001b[0m\u001b[1;33m,\u001b[0m \u001b[1;34m\"w\"\u001b[0m\u001b[1;33m)\u001b[0m \u001b[1;32mas\u001b[0m \u001b[0moutput\u001b[0m\u001b[1;33m:\u001b[0m\u001b[1;33m\u001b[0m\u001b[1;33m\u001b[0m\u001b[0m\n\u001b[0;32m     29\u001b[0m                 \u001b[1;32mfor\u001b[0m \u001b[0mword\u001b[0m \u001b[1;32min\u001b[0m \u001b[0minputt\u001b[0m\u001b[1;33m:\u001b[0m\u001b[1;33m\u001b[0m\u001b[1;33m\u001b[0m\u001b[0m\n\u001b[1;32m---> 30\u001b[1;33m                     \u001b[1;32mif\u001b[0m \u001b[1;33m(\u001b[0m\u001b[0mself\u001b[0m\u001b[1;33m.\u001b[0m\u001b[0mstudents\u001b[0m\u001b[1;33m)\u001b[0m\u001b[1;33m[\u001b[0m\u001b[0mself\u001b[0m\u001b[1;33m.\u001b[0m\u001b[0ms\u001b[0m\u001b[1;33m]\u001b[0m\u001b[1;33m==\u001b[0m\u001b[0mself\u001b[0m\u001b[1;33m.\u001b[0m\u001b[0mstudent\u001b[0m\u001b[1;33m:\u001b[0m\u001b[1;33m\u001b[0m\u001b[1;33m\u001b[0m\u001b[0m\n\u001b[0m\u001b[0;32m     31\u001b[0m                         \u001b[0mword\u001b[0m \u001b[1;33m=\u001b[0m \u001b[0mword\u001b[0m\u001b[1;33m.\u001b[0m\u001b[0mreplace\u001b[0m\u001b[1;33m(\u001b[0m\u001b[1;34mf'{self.student}\\n'\u001b[0m\u001b[1;33m,\u001b[0m \u001b[1;34m\"\"\u001b[0m\u001b[1;33m)\u001b[0m\u001b[1;33m\u001b[0m\u001b[1;33m\u001b[0m\u001b[0m\n\u001b[0;32m     32\u001b[0m                         \u001b[0moutput\u001b[0m\u001b[1;33m.\u001b[0m\u001b[0mwrite\u001b[0m\u001b[1;33m(\u001b[0m\u001b[0mword\u001b[0m\u001b[1;33m)\u001b[0m\u001b[1;33m\u001b[0m\u001b[1;33m\u001b[0m\u001b[0m\n",
      "\u001b[1;31mAttributeError\u001b[0m: 'Operation' object has no attribute 's'"
     ]
    }
   ],
   "source": [
    "\n",
    "Student()\n",
    "file=Operation(\"Student_base.txt\",\"Student2\")\n",
    "file.remove_from_text()\n",
    "\n",
    "\n"
   ]
  },
  {
   "cell_type": "markdown",
   "id": "02e5ae5a",
   "metadata": {},
   "source": [
    "### "
   ]
  },
  {
   "cell_type": "code",
   "execution_count": 3,
   "id": "b866b2c4",
   "metadata": {},
   "outputs": [
    {
     "name": "stdout",
     "output_type": "stream",
     "text": [
      "<_io.TextIOWrapper name='Student_base.txt' mode='r' encoding='cp1252'>\n"
     ]
    }
   ],
   "source": [
    "\n",
    "\n"
   ]
  },
  {
   "cell_type": "code",
   "execution_count": 78,
   "id": "71932285",
   "metadata": {},
   "outputs": [
    {
     "name": "stdout",
     "output_type": "stream",
     "text": [
      "0\n"
     ]
    }
   ],
   "source": [
    "for i in range(1):\n",
    "    print(i)"
   ]
  },
  {
   "cell_type": "code",
   "execution_count": 53,
   "id": "bce971cf",
   "metadata": {},
   "outputs": [
    {
     "data": {
      "text/plain": [
       "5"
      ]
     },
     "execution_count": 53,
     "metadata": {},
     "output_type": "execute_result"
    }
   ],
   "source": [
    "loop()"
   ]
  },
  {
   "cell_type": "code",
   "execution_count": 45,
   "id": "a81f2715",
   "metadata": {},
   "outputs": [
    {
     "data": {
      "text/plain": [
       "['p', 'r', 'o', 'w', 'e', 'r']"
      ]
     },
     "execution_count": 45,
     "metadata": {},
     "output_type": "execute_result"
    }
   ],
   "source": [
    "tr = list('prower')\n",
    "tr\n",
    "# lid=[]\n",
    "# for i in tr:\n",
    "#     i.replace('prowe','')\n",
    "#     lid.append(i)\n",
    "# lid"
   ]
  },
  {
   "cell_type": "code",
   "execution_count": 47,
   "id": "d368ffc6",
   "metadata": {},
   "outputs": [
    {
     "data": {
      "text/plain": [
       "range(0, 6)"
      ]
     },
     "execution_count": 47,
     "metadata": {},
     "output_type": "execute_result"
    }
   ],
   "source": [
    "range(6)"
   ]
  },
  {
   "cell_type": "code",
   "execution_count": 51,
   "id": "4854f8ff",
   "metadata": {},
   "outputs": [
    {
     "name": "stdout",
     "output_type": "stream",
     "text": [
      "1\n",
      "2\n",
      "3\n",
      "4\n",
      "5\n"
     ]
    }
   ],
   "source": [
    "for x in [1,2,3,4,5]:\n",
    "    print(x)"
   ]
  },
  {
   "cell_type": "code",
   "execution_count": null,
   "id": "ebef8b21",
   "metadata": {},
   "outputs": [],
   "source": []
  }
 ],
 "metadata": {
  "kernelspec": {
   "display_name": "Python 3 (ipykernel)",
   "language": "python",
   "name": "python3"
  },
  "language_info": {
   "codemirror_mode": {
    "name": "ipython",
    "version": 3
   },
   "file_extension": ".py",
   "mimetype": "text/x-python",
   "name": "python",
   "nbconvert_exporter": "python",
   "pygments_lexer": "ipython3",
   "version": "3.9.13"
  }
 },
 "nbformat": 4,
 "nbformat_minor": 5
}
