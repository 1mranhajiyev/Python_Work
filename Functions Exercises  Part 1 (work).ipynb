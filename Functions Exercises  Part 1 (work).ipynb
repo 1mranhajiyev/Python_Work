{
 "cells": [
  {
   "cell_type": "markdown",
   "id": "015ad614",
   "metadata": {},
   "source": [
    "## Çalışma 1\n",
    "\n",
    "#### İki ədədin cəmini hesablayan funksiya yazın."
   ]
  },
  {
   "cell_type": "code",
   "execution_count": 1,
   "id": "156746b7",
   "metadata": {},
   "outputs": [
    {
     "name": "stdout",
     "output_type": "stream",
     "text": [
      "7\n"
     ]
    }
   ],
   "source": [
    "num1 = 3\n",
    "num2 = 4\n",
    "\n",
    "# kodunuz\n",
    "\n",
    "print(sum(num1, num2))"
   ]
  },
  {
   "cell_type": "markdown",
   "id": "d7f6eeb7",
   "metadata": {},
   "source": [
    "## Çalışma 2\n",
    "\n",
    "#### Verilən hərfin sözdəki sayını tapan funksiya hazırlayın."
   ]
  },
  {
   "cell_type": "code",
   "execution_count": 3,
   "id": "21ed7d04",
   "metadata": {},
   "outputs": [
    {
     "name": "stdout",
     "output_type": "stream",
     "text": [
      "Number of the letter \"a\" in the word \"banana\" is 3.\n"
     ]
    }
   ],
   "source": [
    "word = 'banana'\n",
    "letter = 'a'\n",
    "\n",
    "# kodunuz\n",
    "\n",
    "print(f'Number of the letter \"{letter}\" in the word \"{word}\" is {letter_count(word, letter)}.')"
   ]
  },
  {
   "cell_type": "markdown",
   "id": "3635edd6",
   "metadata": {},
   "source": [
    "## Çalışma 3\n",
    "\n",
    "#### Ədədi verilən qüvvətə yüksəldən funksiya yazın. Əgər qüvvət funksiyaya ötürülməyibsə, funskiya ədədin kvadratını qaytarsın."
   ]
  },
  {
   "cell_type": "code",
   "execution_count": 8,
   "id": "1bc6a185",
   "metadata": {},
   "outputs": [
    {
     "name": "stdout",
     "output_type": "stream",
     "text": [
      "3 ^ 2 = 9\n",
      "3 ^ 4 = 81\n"
     ]
    }
   ],
   "source": [
    "base = 3\n",
    "\n",
    "# kodunuz\n",
    "\n",
    "print(base, '^', 2, '=', expo(base))\n",
    "print(base, '^', 4, '=', expo(base, 4))"
   ]
  },
  {
   "cell_type": "markdown",
   "id": "df2e165f",
   "metadata": {},
   "source": [
    "## Çalışma 4\n",
    "\n",
    "#### Verilən simvolun stringin içindəki indeksini tapan funksiya yazın. Simvol stringdə yoxdursa funksiya -1 qaytarsın."
   ]
  },
  {
   "cell_type": "code",
   "execution_count": 10,
   "id": "8ba979f6",
   "metadata": {
    "scrolled": true
   },
   "outputs": [
    {
     "name": "stdout",
     "output_type": "stream",
     "text": [
      "3\n",
      "-1\n"
     ]
    }
   ],
   "source": [
    "word = 'pineapple'\n",
    "\n",
    "# kodunuz\n",
    "\n",
    "print(char_index(word,'e'))\n",
    "print(char_index(word,'!'))"
   ]
  },
  {
   "cell_type": "markdown",
   "id": "e9e18f7b",
   "metadata": {},
   "source": [
    "## Çalışma 5\n",
    "\n",
    "#### Verilən cümləni tərsinə qaytaran funksiya yazın."
   ]
  },
  {
   "cell_type": "code",
   "execution_count": 5,
   "id": "8fd8415d",
   "metadata": {
    "scrolled": true
   },
   "outputs": [
    {
     "name": "stdout",
     "output_type": "stream",
     "text": [
      "mine is This\n"
     ]
    }
   ],
   "source": [
    "sentence = 'This is mine'\n",
    "\n",
    "# kodunuz\n",
    "\n",
    "print(revwords(sentence))"
   ]
  },
  {
   "cell_type": "markdown",
   "id": "e79b4b53",
   "metadata": {},
   "source": [
    "## Çalışma 6\n",
    "\n",
    "#### Elə funksiya yazın ki, əgər verilən ədədlərdən ikisi də cüt ədəddirsə kiçik ədədi, ən azı biri tək ədəddirsə böyük ədədi qaytarsın."
   ]
  },
  {
   "cell_type": "code",
   "execution_count": 16,
   "id": "057ab1fc",
   "metadata": {},
   "outputs": [
    {
     "name": "stdout",
     "output_type": "stream",
     "text": [
      "2\n",
      "5\n"
     ]
    }
   ],
   "source": [
    "# kodunuz\n",
    "    \n",
    "print(even(2, 4))\n",
    "print(even(2, 5))"
   ]
  },
  {
   "cell_type": "markdown",
   "id": "ba17b1a5",
   "metadata": {},
   "source": [
    "## Çalışma 7\n",
    "\n",
    "#### Verilən listdə yan-yana 3 rəqəminin olub-olmadığını yoxlayan funksiya yazın."
   ]
  },
  {
   "cell_type": "code",
   "execution_count": 8,
   "id": "373c699d",
   "metadata": {},
   "outputs": [
    {
     "name": "stdout",
     "output_type": "stream",
     "text": [
      "True\n",
      "False\n"
     ]
    }
   ],
   "source": [
    "list1 = [1, 3, 3]\n",
    "list2 = [1, 3, 1, 2]\n",
    "\n",
    "# kodunuz\n",
    "\n",
    "print(check3(list1))\n",
    "print(check3(list2))"
   ]
  },
  {
   "cell_type": "markdown",
   "id": "d24a7fdd",
   "metadata": {},
   "source": [
    "## Çalışma 8\n",
    "\n",
    "#### Verilən listdə 3 və 6 arasında yerləşən ədədlərdən başqa bütün ədədlərin cəmini tapan funksiya yazın."
   ]
  },
  {
   "cell_type": "code",
   "execution_count": 59,
   "id": "93e1174b",
   "metadata": {},
   "outputs": [
    {
     "name": "stdout",
     "output_type": "stream",
     "text": [
      "8\n",
      "3\n",
      "29\n"
     ]
    }
   ],
   "source": [
    "list1 = [1, 2, 5]\n",
    "list2 = [1, 2, 3, 4, 5, 6]\n",
    "list3 = [7, 9, 3, 6, 13]\n",
    "\n",
    "def xsum(liste):\n",
    "    a=0\n",
    "    b=0\n",
    "    if 3 and 6 in liste:\n",
    "        for i in range(len(liste)):\n",
    "            if liste[i]==3:\n",
    "                a=+i\n",
    "            if liste[i]==6:\n",
    "                b=+i\n",
    "        for c in liste[a:b+1]:\n",
    "            liste.remove(c)\n",
    "        return sum(liste)\n",
    "    else: return sum(liste)\n",
    "         \n",
    "print(xsum(list1))\n",
    "print(xsum(list2))\n",
    "print(xsum(list3))"
   ]
  },
  {
   "cell_type": "markdown",
   "id": "97bc04a3",
   "metadata": {},
   "source": [
    "## Çalışma 9\n",
    "\n",
    "#### Verilən 2 listdə ortaq olmayan elementləri göstərən funksiya yazın."
   ]
  },
  {
   "cell_type": "code",
   "execution_count": 57,
   "id": "f273cc51",
   "metadata": {},
   "outputs": [
    {
     "name": "stdout",
     "output_type": "stream",
     "text": [
      "[1, 2, 6, 7]\n"
     ]
    }
   ],
   "source": [
    "list1 = [1, 2, 3, 4, 5]\n",
    "list2 = [3, 4, 5, 6, 7]\n",
    "def not_same(list1,list2):\n",
    "    res_list = []\n",
    "    for i in list1:\n",
    "        if i not in list2:\n",
    "            res_list.append(i)\n",
    "    for i in list2:\n",
    "        if i not in list1:\n",
    "            res_list.append(i)\n",
    "    return res_list\n",
    "print(not_same(list1, list2))"
   ]
  },
  {
   "cell_type": "markdown",
   "id": "8e5f99c3",
   "metadata": {},
   "source": [
    "## Çalışma 10\n",
    "\n",
    "#### Verilən ədədin listdə hansı indeksdə yerləşən ədədlərin cəmi olduğunu göstərən funksiya yazın."
   ]
  },
  {
   "cell_type": "code",
   "execution_count": 20,
   "id": "eb14a7c1",
   "metadata": {},
   "outputs": [
    {
     "name": "stdout",
     "output_type": "stream",
     "text": [
      "(2, 7)\n",
      "(3, 3)\n",
      "(3, 3)\n"
     ]
    }
   ],
   "source": [
    "list1 = [2, 7, 11, 5]\n",
    "list2 = [3, 2, 4]\n",
    "list3 = [3, 3]\n",
    "def target_sum(liste,a):\n",
    "    for i in range(len(liste)):\n",
    "        for num in liste:\n",
    "            if liste[i]+num==a:\n",
    "                return liste[i],num\n",
    "\n",
    "\n",
    "            \n",
    "\n",
    "    \n",
    "\n",
    "print(target_sum(list1, 9))\n",
    "print(target_sum(list2, 6))\n",
    "print(target_sum(list3, 6))"
   ]
  },
  {
   "cell_type": "markdown",
   "id": "4a85c8e5",
   "metadata": {},
   "source": [
    "## Çalışma 11\n",
    "\n",
    "#### Verilən ədədin rəqəmlərinin sayını göstərən funksiya yazın."
   ]
  },
  {
   "cell_type": "code",
   "execution_count": 11,
   "id": "4a76b6e8",
   "metadata": {},
   "outputs": [
    {
     "name": "stdout",
     "output_type": "stream",
     "text": [
      "3\n",
      "2\n",
      "5\n"
     ]
    }
   ],
   "source": [
    "def digits(a):\n",
    "    return len(str(a))\n",
    "\n",
    "print(digits(123))\n",
    "print(digits(29))\n",
    "print(digits(23809))"
   ]
  },
  {
   "cell_type": "code",
   "execution_count": 10,
   "id": "f3dde4b8",
   "metadata": {},
   "outputs": [
    {
     "name": "stdout",
     "output_type": "stream",
     "text": [
      "3\n"
     ]
    }
   ],
   "source": []
  },
  {
   "cell_type": "markdown",
   "id": "c23f29de",
   "metadata": {},
   "source": [
    "## Çalışma 12\n",
    "\n",
    "#### Verilən listdə duplikat rəqəmi qaytaran funksiya yazan.\n",
    "#### Qeyd: Listdə yalnız bir rəqəm təkrarlana bilər."
   ]
  },
  {
   "cell_type": "code",
   "execution_count": 54,
   "id": "38bf96f8",
   "metadata": {},
   "outputs": [
    {
     "name": "stdout",
     "output_type": "stream",
     "text": [
      "{1}\n",
      "{4}\n",
      "{3}\n"
     ]
    }
   ],
   "source": [
    "list1 = [1, 1, 2, 3, 1, 5]\n",
    "list2 = [1, 2, 3, 4, 4, 5]\n",
    "list3 = [1, 2, 3, 4, 3, 6]\n",
    "\n",
    "print(duplicate(list1))\n",
    "print(duplicate(list2))\n",
    "print(duplicate(list3))"
   ]
  },
  {
   "cell_type": "code",
   "execution_count": 53,
   "id": "7acbfaa6",
   "metadata": {},
   "outputs": [],
   "source": [
    "def duplicate(liste):\n",
    "    new_list=[]\n",
    "    duplicate_list=[]\n",
    "    for i in liste:\n",
    "        if i not in new_list:\n",
    "            new_list.append(i)\n",
    "        else: \n",
    "            duplicate_list.append(i)\n",
    "    return set(duplicate_list)"
   ]
  },
  {
   "cell_type": "code",
   "execution_count": null,
   "id": "f07f5623",
   "metadata": {},
   "outputs": [],
   "source": []
  }
 ],
 "metadata": {
  "kernelspec": {
   "display_name": "Python 3 (ipykernel)",
   "language": "python",
   "name": "python3"
  },
  "language_info": {
   "codemirror_mode": {
    "name": "ipython",
    "version": 3
   },
   "file_extension": ".py",
   "mimetype": "text/x-python",
   "name": "python",
   "nbconvert_exporter": "python",
   "pygments_lexer": "ipython3",
   "version": "3.9.12"
  }
 },
 "nbformat": 4,
 "nbformat_minor": 5
}
